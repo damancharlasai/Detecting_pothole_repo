{
 "cells": [
  {
   "cell_type": "markdown",
   "metadata": {
    "id": "-QHpv4AbpEDE"
   },
   "source": [
    "## Install YOLOv8"
   ]
  },
  {
   "cell_type": "code",
   "execution_count": 4,
   "metadata": {
    "colab": {
     "base_uri": "https://localhost:8080/"
    },
    "executionInfo": {
     "elapsed": 6199,
     "status": "ok",
     "timestamp": 1736146623009,
     "user": {
      "displayName": "Tharushi Liyana Arachchi",
      "userId": "18072524777631496934"
     },
     "user_tz": -330
    },
    "id": "tDm2U1fYvD2K",
    "outputId": "6071b10e-0d3d-4bf4-ef3a-33030dafa9e6"
   },
   "outputs": [
    {
     "name": "stdout",
     "output_type": "stream",
     "text": [
      "Requirement already satisfied: ultralytics in /usr/local/lib/python3.10/dist-packages (8.3.58)\n",
      "Requirement already satisfied: numpy>=1.23.0 in /usr/local/lib/python3.10/dist-packages (from ultralytics) (1.26.4)\n",
      "Requirement already satisfied: matplotlib>=3.3.0 in /usr/local/lib/python3.10/dist-packages (from ultralytics) (3.8.0)\n",
      "Requirement already satisfied: opencv-python>=4.6.0 in /usr/local/lib/python3.10/dist-packages (from ultralytics) (4.10.0.84)\n",
      "Requirement already satisfied: pillow>=7.1.2 in /usr/local/lib/python3.10/dist-packages (from ultralytics) (11.0.0)\n",
      "Requirement already satisfied: pyyaml>=5.3.1 in /usr/local/lib/python3.10/dist-packages (from ultralytics) (6.0.2)\n",
      "Requirement already satisfied: requests>=2.23.0 in /usr/local/lib/python3.10/dist-packages (from ultralytics) (2.32.3)\n",
      "Requirement already satisfied: scipy>=1.4.1 in /usr/local/lib/python3.10/dist-packages (from ultralytics) (1.13.1)\n",
      "Requirement already satisfied: torch>=1.8.0 in /usr/local/lib/python3.10/dist-packages (from ultralytics) (2.5.1+cu121)\n",
      "Requirement already satisfied: torchvision>=0.9.0 in /usr/local/lib/python3.10/dist-packages (from ultralytics) (0.20.1+cu121)\n",
      "Requirement already satisfied: tqdm>=4.64.0 in /usr/local/lib/python3.10/dist-packages (from ultralytics) (4.67.1)\n",
      "Requirement already satisfied: psutil in /usr/local/lib/python3.10/dist-packages (from ultralytics) (5.9.5)\n",
      "Requirement already satisfied: py-cpuinfo in /usr/local/lib/python3.10/dist-packages (from ultralytics) (9.0.0)\n",
      "Requirement already satisfied: pandas>=1.1.4 in /usr/local/lib/python3.10/dist-packages (from ultralytics) (2.2.2)\n",
      "Requirement already satisfied: seaborn>=0.11.0 in /usr/local/lib/python3.10/dist-packages (from ultralytics) (0.13.2)\n",
      "Requirement already satisfied: ultralytics-thop>=2.0.0 in /usr/local/lib/python3.10/dist-packages (from ultralytics) (2.0.13)\n",
      "Requirement already satisfied: contourpy>=1.0.1 in /usr/local/lib/python3.10/dist-packages (from matplotlib>=3.3.0->ultralytics) (1.3.1)\n",
      "Requirement already satisfied: cycler>=0.10 in /usr/local/lib/python3.10/dist-packages (from matplotlib>=3.3.0->ultralytics) (0.12.1)\n",
      "Requirement already satisfied: fonttools>=4.22.0 in /usr/local/lib/python3.10/dist-packages (from matplotlib>=3.3.0->ultralytics) (4.55.3)\n",
      "Requirement already satisfied: kiwisolver>=1.0.1 in /usr/local/lib/python3.10/dist-packages (from matplotlib>=3.3.0->ultralytics) (1.4.7)\n",
      "Requirement already satisfied: packaging>=20.0 in /usr/local/lib/python3.10/dist-packages (from matplotlib>=3.3.0->ultralytics) (24.2)\n",
      "Requirement already satisfied: pyparsing>=2.3.1 in /usr/local/lib/python3.10/dist-packages (from matplotlib>=3.3.0->ultralytics) (3.2.0)\n",
      "Requirement already satisfied: python-dateutil>=2.7 in /usr/local/lib/python3.10/dist-packages (from matplotlib>=3.3.0->ultralytics) (2.8.2)\n",
      "Requirement already satisfied: pytz>=2020.1 in /usr/local/lib/python3.10/dist-packages (from pandas>=1.1.4->ultralytics) (2024.2)\n",
      "Requirement already satisfied: tzdata>=2022.7 in /usr/local/lib/python3.10/dist-packages (from pandas>=1.1.4->ultralytics) (2024.2)\n",
      "Requirement already satisfied: charset-normalizer<4,>=2 in /usr/local/lib/python3.10/dist-packages (from requests>=2.23.0->ultralytics) (3.4.0)\n",
      "Requirement already satisfied: idna<4,>=2.5 in /usr/local/lib/python3.10/dist-packages (from requests>=2.23.0->ultralytics) (3.10)\n",
      "Requirement already satisfied: urllib3<3,>=1.21.1 in /usr/local/lib/python3.10/dist-packages (from requests>=2.23.0->ultralytics) (2.2.3)\n",
      "Requirement already satisfied: certifi>=2017.4.17 in /usr/local/lib/python3.10/dist-packages (from requests>=2.23.0->ultralytics) (2024.12.14)\n",
      "Requirement already satisfied: filelock in /usr/local/lib/python3.10/dist-packages (from torch>=1.8.0->ultralytics) (3.16.1)\n",
      "Requirement already satisfied: typing-extensions>=4.8.0 in /usr/local/lib/python3.10/dist-packages (from torch>=1.8.0->ultralytics) (4.12.2)\n",
      "Requirement already satisfied: networkx in /usr/local/lib/python3.10/dist-packages (from torch>=1.8.0->ultralytics) (3.4.2)\n",
      "Requirement already satisfied: jinja2 in /usr/local/lib/python3.10/dist-packages (from torch>=1.8.0->ultralytics) (3.1.4)\n",
      "Requirement already satisfied: fsspec in /usr/local/lib/python3.10/dist-packages (from torch>=1.8.0->ultralytics) (2024.10.0)\n",
      "Requirement already satisfied: sympy==1.13.1 in /usr/local/lib/python3.10/dist-packages (from torch>=1.8.0->ultralytics) (1.13.1)\n",
      "Requirement already satisfied: mpmath<1.4,>=1.1.0 in /usr/local/lib/python3.10/dist-packages (from sympy==1.13.1->torch>=1.8.0->ultralytics) (1.3.0)\n",
      "Requirement already satisfied: six>=1.5 in /usr/local/lib/python3.10/dist-packages (from python-dateutil>=2.7->matplotlib>=3.3.0->ultralytics) (1.17.0)\n",
      "Requirement already satisfied: MarkupSafe>=2.0 in /usr/local/lib/python3.10/dist-packages (from jinja2->torch>=1.8.0->ultralytics) (3.0.2)\n"
     ]
    }
   ],
   "source": [
    "!pip install ultralytics"
   ]
  },
  {
   "cell_type": "markdown",
   "metadata": {
    "id": "_XL53Q-6pNDz"
   },
   "source": [
    "## Mount your Google Drive"
   ]
  },
  {
   "cell_type": "code",
   "execution_count": 5,
   "metadata": {
    "colab": {
     "base_uri": "https://localhost:8080/"
    },
    "executionInfo": {
     "elapsed": 22463,
     "status": "ok",
     "timestamp": 1736146645469,
     "user": {
      "displayName": "Tharushi Liyana Arachchi",
      "userId": "18072524777631496934"
     },
     "user_tz": -330
    },
    "id": "oobjXz65pOG7",
    "outputId": "d29698d4-0b93-480f-e18a-61dbbdaf8eb5"
   },
   "outputs": [
    {
     "name": "stdout",
     "output_type": "stream",
     "text": [
      "Mounted at /content/drive\n"
     ]
    }
   ],
   "source": [
    "from google.colab import drive\n",
    "drive.mount('/content/drive')"
   ]
  },
  {
   "cell_type": "markdown",
   "metadata": {
    "id": "9IMBc9WXpgIb"
   },
   "source": [
    "## Navigate to the location"
   ]
  },
  {
   "cell_type": "code",
   "execution_count": 7,
   "metadata": {
    "colab": {
     "base_uri": "https://localhost:8080/"
    },
    "executionInfo": {
     "elapsed": 2,
     "status": "ok",
     "timestamp": 1736146650239,
     "user": {
      "displayName": "Tharushi Liyana Arachchi",
      "userId": "18072524777631496934"
     },
     "user_tz": -330
    },
    "id": "CrPXNcnmpdGn",
    "outputId": "ff49f07b-b6af-462f-c235-cece561d7a72"
   },
   "outputs": [
    {
     "name": "stdout",
     "output_type": "stream",
     "text": [
      "/content/drive/MyDrive/Colab Notebooks/ComputerVisionProject/Pothole_Dataset\n"
     ]
    }
   ],
   "source": [
    "%cd /content/drive/MyDrive/Colab Notebooks/ComputerVisionProject/Pothole_Dataset"
   ]
  },
  {
   "cell_type": "markdown",
   "metadata": {
    "id": "VKTHzDfBqy_I"
   },
   "source": [
    "## Verify the data.yaml"
   ]
  },
  {
   "cell_type": "code",
   "execution_count": 8,
   "metadata": {
    "colab": {
     "base_uri": "https://localhost:8080/"
    },
    "executionInfo": {
     "elapsed": 14460,
     "status": "ok",
     "timestamp": 1736146667049,
     "user": {
      "displayName": "Tharushi Liyana Arachchi",
      "userId": "18072524777631496934"
     },
     "user_tz": -330
    },
    "id": "i5PBuCe4q34Z",
    "outputId": "a3a6176b-cd36-4dde-cca2-414756fd583b"
   },
   "outputs": [
    {
     "name": "stdout",
     "output_type": "stream",
     "text": [
      "Creating new Ultralytics Settings v0.0.6 file ✅ \n",
      "View Ultralytics Settings with 'yolo settings' or at '/root/.config/Ultralytics/settings.json'\n",
      "Update Settings with 'yolo settings key=value', i.e. 'yolo settings runs_dir=path/to/dir'. For help see https://docs.ultralytics.com/quickstart/#ultralytics-settings.\n",
      "/content/drive/MyDrive/Colab Notebooks/ComputerVisionProject/Pothole_Dataset/data.yaml\n"
     ]
    }
   ],
   "source": [
    "from ultralytics import YOLO\n",
    "\n",
    "model = YOLO('yolov8n.pt')\n",
    "\n",
    "model.data = '/content/drive/MyDrive/Colab Notebooks/ComputerVisionProject/Pothole_Dataset/data.yaml'\n",
    "print(model.data)"
   ]
  },
  {
   "cell_type": "markdown",
   "metadata": {
    "id": "LxjjLI4Rrhrp"
   },
   "source": [
    "## Train the model"
   ]
  },
  {
   "cell_type": "code",
   "execution_count": null,
   "metadata": {
    "colab": {
     "base_uri": "https://localhost:8080/"
    },
    "executionInfo": {
     "elapsed": 773409,
     "status": "ok",
     "timestamp": 1736106951101,
     "user": {
      "displayName": "Tharushi Liyana Arachchi",
      "userId": "18072524777631496934"
     },
     "user_tz": -330
    },
    "id": "Hav8wAf7rDDT",
    "outputId": "0d5ac6c6-7d56-46eb-e1d3-eaba062e9538"
   },
   "outputs": [
    {
     "name": "stdout",
     "output_type": "stream",
     "text": [
      "Ultralytics 8.3.58 🚀 Python-3.10.12 torch-2.5.1+cu121 CUDA:0 (Tesla T4, 15102MiB)\n",
      "\u001b[34m\u001b[1mengine/trainer: \u001b[0mtask=detect, mode=train, model=yolov8n.pt, data=/content/drive/MyDrive/Colab Notebooks/ComputerVisionProject/Pothole_Dataset/data.yaml, epochs=50, time=None, patience=100, batch=16, imgsz=640, save=True, save_period=-1, cache=False, device=None, workers=2, project=None, name=train, exist_ok=False, pretrained=True, optimizer=auto, verbose=True, seed=0, deterministic=True, single_cls=False, rect=False, cos_lr=False, close_mosaic=10, resume=False, amp=True, fraction=1.0, profile=False, freeze=None, multi_scale=False, overlap_mask=True, mask_ratio=4, dropout=0.0, val=True, split=val, save_json=False, save_hybrid=False, conf=None, iou=0.7, max_det=300, half=False, dnn=False, plots=True, source=None, vid_stride=1, stream_buffer=False, visualize=False, augment=False, agnostic_nms=False, classes=None, retina_masks=False, embed=None, show=False, save_frames=False, save_txt=False, save_conf=False, save_crop=False, show_labels=True, show_conf=True, show_boxes=True, line_width=None, format=torchscript, keras=False, optimize=False, int8=False, dynamic=False, simplify=True, opset=None, workspace=None, nms=False, lr0=0.01, lrf=0.01, momentum=0.937, weight_decay=0.0005, warmup_epochs=3.0, warmup_momentum=0.8, warmup_bias_lr=0.1, box=7.5, cls=0.5, dfl=1.5, pose=12.0, kobj=1.0, nbs=64, hsv_h=0.015, hsv_s=0.7, hsv_v=0.4, degrees=0.0, translate=0.1, scale=0.5, shear=0.0, perspective=0.0, flipud=0.0, fliplr=0.5, bgr=0.0, mosaic=1.0, mixup=0.0, copy_paste=0.0, copy_paste_mode=flip, auto_augment=randaugment, erasing=0.4, crop_fraction=1.0, cfg=None, tracker=botsort.yaml, save_dir=runs/detect/train\n",
      "Downloading https://ultralytics.com/assets/Arial.ttf to '/root/.config/Ultralytics/Arial.ttf'...\n"
     ]
    },
    {
     "name": "stderr",
     "output_type": "stream",
     "text": [
      "100%|██████████| 755k/755k [00:00<00:00, 22.0MB/s]\n"
     ]
    },
    {
     "name": "stdout",
     "output_type": "stream",
     "text": [
      "Overriding model.yaml nc=80 with nc=1\n",
      "\n",
      "                   from  n    params  module                                       arguments                     \n",
      "  0                  -1  1       464  ultralytics.nn.modules.conv.Conv             [3, 16, 3, 2]                 \n",
      "  1                  -1  1      4672  ultralytics.nn.modules.conv.Conv             [16, 32, 3, 2]                \n",
      "  2                  -1  1      7360  ultralytics.nn.modules.block.C2f             [32, 32, 1, True]             \n",
      "  3                  -1  1     18560  ultralytics.nn.modules.conv.Conv             [32, 64, 3, 2]                \n",
      "  4                  -1  2     49664  ultralytics.nn.modules.block.C2f             [64, 64, 2, True]             \n",
      "  5                  -1  1     73984  ultralytics.nn.modules.conv.Conv             [64, 128, 3, 2]               \n",
      "  6                  -1  2    197632  ultralytics.nn.modules.block.C2f             [128, 128, 2, True]           \n",
      "  7                  -1  1    295424  ultralytics.nn.modules.conv.Conv             [128, 256, 3, 2]              \n",
      "  8                  -1  1    460288  ultralytics.nn.modules.block.C2f             [256, 256, 1, True]           \n",
      "  9                  -1  1    164608  ultralytics.nn.modules.block.SPPF            [256, 256, 5]                 \n",
      " 10                  -1  1         0  torch.nn.modules.upsampling.Upsample         [None, 2, 'nearest']          \n",
      " 11             [-1, 6]  1         0  ultralytics.nn.modules.conv.Concat           [1]                           \n",
      " 12                  -1  1    148224  ultralytics.nn.modules.block.C2f             [384, 128, 1]                 \n",
      " 13                  -1  1         0  torch.nn.modules.upsampling.Upsample         [None, 2, 'nearest']          \n",
      " 14             [-1, 4]  1         0  ultralytics.nn.modules.conv.Concat           [1]                           \n",
      " 15                  -1  1     37248  ultralytics.nn.modules.block.C2f             [192, 64, 1]                  \n",
      " 16                  -1  1     36992  ultralytics.nn.modules.conv.Conv             [64, 64, 3, 2]                \n",
      " 17            [-1, 12]  1         0  ultralytics.nn.modules.conv.Concat           [1]                           \n",
      " 18                  -1  1    123648  ultralytics.nn.modules.block.C2f             [192, 128, 1]                 \n",
      " 19                  -1  1    147712  ultralytics.nn.modules.conv.Conv             [128, 128, 3, 2]              \n",
      " 20             [-1, 9]  1         0  ultralytics.nn.modules.conv.Concat           [1]                           \n",
      " 21                  -1  1    493056  ultralytics.nn.modules.block.C2f             [384, 256, 1]                 \n",
      " 22        [15, 18, 21]  1    751507  ultralytics.nn.modules.head.Detect           [1, [64, 128, 256]]           \n",
      "Model summary: 225 layers, 3,011,043 parameters, 3,011,027 gradients, 8.2 GFLOPs\n",
      "\n",
      "Transferred 319/355 items from pretrained weights\n",
      "\u001b[34m\u001b[1mTensorBoard: \u001b[0mStart with 'tensorboard --logdir runs/detect/train', view at http://localhost:6006/\n",
      "Freezing layer 'model.22.dfl.conv.weight'\n",
      "\u001b[34m\u001b[1mAMP: \u001b[0mrunning Automatic Mixed Precision (AMP) checks...\n",
      "Downloading https://github.com/ultralytics/assets/releases/download/v8.3.0/yolo11n.pt to 'yolo11n.pt'...\n"
     ]
    },
    {
     "name": "stderr",
     "output_type": "stream",
     "text": [
      "100%|██████████| 5.35M/5.35M [00:00<00:00, 103MB/s]\n"
     ]
    },
    {
     "name": "stdout",
     "output_type": "stream",
     "text": [
      "\u001b[34m\u001b[1mAMP: \u001b[0mchecks passed ✅\n"
     ]
    },
    {
     "name": "stderr",
     "output_type": "stream",
     "text": [
      "\u001b[34m\u001b[1mtrain: \u001b[0mScanning /content/drive/MyDrive/Colab Notebooks/ComputerVisionProject/Pothole_Dataset/train/labels... 347 images, 0 backgrounds, 0 corrupt: 100%|██████████| 347/347 [02:16<00:00,  2.54it/s]\n"
     ]
    },
    {
     "name": "stdout",
     "output_type": "stream",
     "text": [
      "\u001b[34m\u001b[1mtrain: \u001b[0mNew cache created: /content/drive/MyDrive/Colab Notebooks/ComputerVisionProject/Pothole_Dataset/train/labels.cache\n",
      "WARNING ⚠️ Box and segment counts should be equal, but got len(segments) = 1878, len(boxes) = 2177. To resolve this only boxes will be used and all segments will be removed. To avoid this please supply either a detect or segment dataset, not a detect-segment mixed dataset.\n",
      "\u001b[34m\u001b[1malbumentations: \u001b[0mBlur(p=0.01, blur_limit=(3, 7)), MedianBlur(p=0.01, blur_limit=(3, 7)), ToGray(p=0.01, num_output_channels=3, method='weighted_average'), CLAHE(p=0.01, clip_limit=(1.0, 4.0), tile_grid_size=(8, 8))\n"
     ]
    },
    {
     "name": "stderr",
     "output_type": "stream",
     "text": [
      "/usr/local/lib/python3.10/dist-packages/albumentations/__init__.py:24: UserWarning: A new version of Albumentations is available: 1.4.24 (you have 1.4.20). Upgrade using: pip install -U albumentations. To disable automatic update checks, set the environment variable NO_ALBUMENTATIONS_UPDATE to 1.\n",
      "  check_for_updates()\n",
      "\u001b[34m\u001b[1mval: \u001b[0mScanning /content/drive/MyDrive/Colab Notebooks/ComputerVisionProject/Pothole_Dataset/valid/labels... 80 images, 0 backgrounds, 0 corrupt: 100%|██████████| 80/80 [00:59<00:00,  1.35it/s]"
     ]
    },
    {
     "name": "stdout",
     "output_type": "stream",
     "text": [
      "\u001b[34m\u001b[1mval: \u001b[0mNew cache created: /content/drive/MyDrive/Colab Notebooks/ComputerVisionProject/Pothole_Dataset/valid/labels.cache\n",
      "WARNING ⚠️ Box and segment counts should be equal, but got len(segments) = 673, len(boxes) = 777. To resolve this only boxes will be used and all segments will be removed. To avoid this please supply either a detect or segment dataset, not a detect-segment mixed dataset.\n"
     ]
    },
    {
     "name": "stderr",
     "output_type": "stream",
     "text": [
      "\n"
     ]
    },
    {
     "name": "stdout",
     "output_type": "stream",
     "text": [
      "Plotting labels to runs/detect/train/labels.jpg... \n",
      "\u001b[34m\u001b[1moptimizer:\u001b[0m 'optimizer=auto' found, ignoring 'lr0=0.01' and 'momentum=0.937' and determining best 'optimizer', 'lr0' and 'momentum' automatically... \n",
      "\u001b[34m\u001b[1moptimizer:\u001b[0m AdamW(lr=0.002, momentum=0.9) with parameter groups 57 weight(decay=0.0), 64 weight(decay=0.0005), 63 bias(decay=0.0)\n",
      "\u001b[34m\u001b[1mTensorBoard: \u001b[0mmodel graph visualization added ✅\n",
      "Image sizes 640 train, 640 val\n",
      "Using 2 dataloader workers\n",
      "Logging results to \u001b[1mruns/detect/train\u001b[0m\n",
      "Starting training for 50 epochs...\n",
      "\n",
      "      Epoch    GPU_mem   box_loss   cls_loss   dfl_loss  Instances       Size\n"
     ]
    },
    {
     "name": "stderr",
     "output_type": "stream",
     "text": [
      "       1/50      2.45G       2.08      2.775       1.92        114        640: 100%|██████████| 22/22 [00:09<00:00,  2.23it/s]\n",
      "                 Class     Images  Instances      Box(P          R      mAP50  mAP50-95): 100%|██████████| 3/3 [00:02<00:00,  1.08it/s]"
     ]
    },
    {
     "name": "stdout",
     "output_type": "stream",
     "text": [
      "                   all         80        777     0.0176      0.543     0.0331     0.0134\n"
     ]
    },
    {
     "name": "stderr",
     "output_type": "stream",
     "text": [
      "\n"
     ]
    },
    {
     "name": "stdout",
     "output_type": "stream",
     "text": [
      "\n",
      "      Epoch    GPU_mem   box_loss   cls_loss   dfl_loss  Instances       Size\n"
     ]
    },
    {
     "name": "stderr",
     "output_type": "stream",
     "text": [
      "       2/50      2.81G       1.95      2.338      1.815        103        640: 100%|██████████| 22/22 [00:09<00:00,  2.37it/s]\n",
      "                 Class     Images  Instances      Box(P          R      mAP50  mAP50-95): 100%|██████████| 3/3 [00:01<00:00,  2.16it/s]"
     ]
    },
    {
     "name": "stdout",
     "output_type": "stream",
     "text": [
      "                   all         80        777     0.0213       0.35     0.0476     0.0181\n"
     ]
    },
    {
     "name": "stderr",
     "output_type": "stream",
     "text": [
      "\n"
     ]
    },
    {
     "name": "stdout",
     "output_type": "stream",
     "text": [
      "\n",
      "      Epoch    GPU_mem   box_loss   cls_loss   dfl_loss  Instances       Size\n"
     ]
    },
    {
     "name": "stderr",
     "output_type": "stream",
     "text": [
      "       3/50      2.46G      1.887      2.158      1.783        126        640: 100%|██████████| 22/22 [00:08<00:00,  2.55it/s]\n",
      "                 Class     Images  Instances      Box(P          R      mAP50  mAP50-95): 100%|██████████| 3/3 [00:02<00:00,  1.18it/s]"
     ]
    },
    {
     "name": "stdout",
     "output_type": "stream",
     "text": [
      "                   all         80        777      0.155      0.134     0.0712     0.0276\n"
     ]
    },
    {
     "name": "stderr",
     "output_type": "stream",
     "text": [
      "\n"
     ]
    },
    {
     "name": "stdout",
     "output_type": "stream",
     "text": [
      "\n",
      "      Epoch    GPU_mem   box_loss   cls_loss   dfl_loss  Instances       Size\n"
     ]
    },
    {
     "name": "stderr",
     "output_type": "stream",
     "text": [
      "       4/50      2.55G      1.922      2.199      1.829        114        640: 100%|██████████| 22/22 [00:06<00:00,  3.26it/s]\n",
      "                 Class     Images  Instances      Box(P          R      mAP50  mAP50-95): 100%|██████████| 3/3 [00:01<00:00,  2.03it/s]"
     ]
    },
    {
     "name": "stdout",
     "output_type": "stream",
     "text": [
      "                   all         80        777      0.184     0.0914     0.0709     0.0279\n"
     ]
    },
    {
     "name": "stderr",
     "output_type": "stream",
     "text": [
      "\n"
     ]
    },
    {
     "name": "stdout",
     "output_type": "stream",
     "text": [
      "\n",
      "      Epoch    GPU_mem   box_loss   cls_loss   dfl_loss  Instances       Size\n"
     ]
    },
    {
     "name": "stderr",
     "output_type": "stream",
     "text": [
      "       5/50      2.37G      1.924      2.179      1.871        106        640: 100%|██████████| 22/22 [00:10<00:00,  2.06it/s]\n",
      "                 Class     Images  Instances      Box(P          R      mAP50  mAP50-95): 100%|██████████| 3/3 [00:01<00:00,  2.32it/s]"
     ]
    },
    {
     "name": "stdout",
     "output_type": "stream",
     "text": [
      "                   all         80        777      0.174      0.198     0.0835     0.0302\n"
     ]
    },
    {
     "name": "stderr",
     "output_type": "stream",
     "text": [
      "\n"
     ]
    },
    {
     "name": "stdout",
     "output_type": "stream",
     "text": [
      "\n",
      "      Epoch    GPU_mem   box_loss   cls_loss   dfl_loss  Instances       Size\n"
     ]
    },
    {
     "name": "stderr",
     "output_type": "stream",
     "text": [
      "       6/50      2.49G      1.946      2.142      1.856         90        640: 100%|██████████| 22/22 [00:06<00:00,  3.38it/s]\n",
      "                 Class     Images  Instances      Box(P          R      mAP50  mAP50-95): 100%|██████████| 3/3 [00:02<00:00,  1.37it/s]"
     ]
    },
    {
     "name": "stdout",
     "output_type": "stream",
     "text": [
      "                   all         80        777      0.221       0.25      0.123     0.0405\n"
     ]
    },
    {
     "name": "stderr",
     "output_type": "stream",
     "text": [
      "\n"
     ]
    },
    {
     "name": "stdout",
     "output_type": "stream",
     "text": [
      "\n",
      "      Epoch    GPU_mem   box_loss   cls_loss   dfl_loss  Instances       Size\n"
     ]
    },
    {
     "name": "stderr",
     "output_type": "stream",
     "text": [
      "       7/50      2.65G      1.907      2.126      1.832        106        640: 100%|██████████| 22/22 [00:08<00:00,  2.56it/s]\n",
      "                 Class     Images  Instances      Box(P          R      mAP50  mAP50-95): 100%|██████████| 3/3 [00:01<00:00,  2.05it/s]"
     ]
    },
    {
     "name": "stdout",
     "output_type": "stream",
     "text": [
      "                   all         80        777      0.204      0.163      0.114     0.0429\n"
     ]
    },
    {
     "name": "stderr",
     "output_type": "stream",
     "text": [
      "\n"
     ]
    },
    {
     "name": "stdout",
     "output_type": "stream",
     "text": [
      "\n",
      "      Epoch    GPU_mem   box_loss   cls_loss   dfl_loss  Instances       Size\n"
     ]
    },
    {
     "name": "stderr",
     "output_type": "stream",
     "text": [
      "       8/50      2.82G        1.9       2.09      1.819        174        640: 100%|██████████| 22/22 [00:08<00:00,  2.47it/s]\n",
      "                 Class     Images  Instances      Box(P          R      mAP50  mAP50-95): 100%|██████████| 3/3 [00:02<00:00,  1.33it/s]"
     ]
    },
    {
     "name": "stdout",
     "output_type": "stream",
     "text": [
      "                   all         80        777      0.445      0.187      0.179     0.0625\n"
     ]
    },
    {
     "name": "stderr",
     "output_type": "stream",
     "text": [
      "\n"
     ]
    },
    {
     "name": "stdout",
     "output_type": "stream",
     "text": [
      "\n",
      "      Epoch    GPU_mem   box_loss   cls_loss   dfl_loss  Instances       Size\n"
     ]
    },
    {
     "name": "stderr",
     "output_type": "stream",
     "text": [
      "       9/50      2.62G      1.883      2.062       1.83        109        640: 100%|██████████| 22/22 [00:06<00:00,  3.38it/s]\n",
      "                 Class     Images  Instances      Box(P          R      mAP50  mAP50-95): 100%|██████████| 3/3 [00:01<00:00,  2.33it/s]"
     ]
    },
    {
     "name": "stdout",
     "output_type": "stream",
     "text": [
      "                   all         80        777      0.332      0.245      0.197     0.0772\n"
     ]
    },
    {
     "name": "stderr",
     "output_type": "stream",
     "text": [
      "\n"
     ]
    },
    {
     "name": "stdout",
     "output_type": "stream",
     "text": [
      "\n",
      "      Epoch    GPU_mem   box_loss   cls_loss   dfl_loss  Instances       Size\n"
     ]
    },
    {
     "name": "stderr",
     "output_type": "stream",
     "text": [
      "      10/50       2.3G      1.853      2.047      1.789         92        640: 100%|██████████| 22/22 [00:09<00:00,  2.21it/s]\n",
      "                 Class     Images  Instances      Box(P          R      mAP50  mAP50-95): 100%|██████████| 3/3 [00:01<00:00,  1.91it/s]"
     ]
    },
    {
     "name": "stdout",
     "output_type": "stream",
     "text": [
      "                   all         80        777      0.232      0.273      0.147     0.0524\n"
     ]
    },
    {
     "name": "stderr",
     "output_type": "stream",
     "text": [
      "\n"
     ]
    },
    {
     "name": "stdout",
     "output_type": "stream",
     "text": [
      "\n",
      "      Epoch    GPU_mem   box_loss   cls_loss   dfl_loss  Instances       Size\n"
     ]
    },
    {
     "name": "stderr",
     "output_type": "stream",
     "text": [
      "      11/50      2.32G      1.797      2.006      1.782        106        640: 100%|██████████| 22/22 [00:06<00:00,  3.50it/s]\n",
      "                 Class     Images  Instances      Box(P          R      mAP50  mAP50-95): 100%|██████████| 3/3 [00:02<00:00,  1.42it/s]"
     ]
    },
    {
     "name": "stdout",
     "output_type": "stream",
     "text": [
      "                   all         80        777      0.393      0.234      0.211     0.0808\n"
     ]
    },
    {
     "name": "stderr",
     "output_type": "stream",
     "text": [
      "\n"
     ]
    },
    {
     "name": "stdout",
     "output_type": "stream",
     "text": [
      "\n",
      "      Epoch    GPU_mem   box_loss   cls_loss   dfl_loss  Instances       Size\n"
     ]
    },
    {
     "name": "stderr",
     "output_type": "stream",
     "text": [
      "      12/50       2.5G      1.811      1.972      1.747        100        640: 100%|██████████| 22/22 [00:08<00:00,  2.50it/s]\n",
      "                 Class     Images  Instances      Box(P          R      mAP50  mAP50-95): 100%|██████████| 3/3 [00:01<00:00,  2.44it/s]"
     ]
    },
    {
     "name": "stdout",
     "output_type": "stream",
     "text": [
      "                   all         80        777      0.378      0.243      0.232     0.0944\n"
     ]
    },
    {
     "name": "stderr",
     "output_type": "stream",
     "text": [
      "\n"
     ]
    },
    {
     "name": "stdout",
     "output_type": "stream",
     "text": [
      "\n",
      "      Epoch    GPU_mem   box_loss   cls_loss   dfl_loss  Instances       Size\n"
     ]
    },
    {
     "name": "stderr",
     "output_type": "stream",
     "text": [
      "      13/50      2.69G      1.774      1.912      1.747        113        640: 100%|██████████| 22/22 [00:08<00:00,  2.71it/s]\n",
      "                 Class     Images  Instances      Box(P          R      mAP50  mAP50-95): 100%|██████████| 3/3 [00:02<00:00,  1.32it/s]"
     ]
    },
    {
     "name": "stdout",
     "output_type": "stream",
     "text": [
      "                   all         80        777      0.421      0.336      0.303      0.126\n"
     ]
    },
    {
     "name": "stderr",
     "output_type": "stream",
     "text": [
      "\n"
     ]
    },
    {
     "name": "stdout",
     "output_type": "stream",
     "text": [
      "\n",
      "      Epoch    GPU_mem   box_loss   cls_loss   dfl_loss  Instances       Size\n"
     ]
    },
    {
     "name": "stderr",
     "output_type": "stream",
     "text": [
      "      14/50      2.51G      1.767      1.919      1.743         60        640: 100%|██████████| 22/22 [00:06<00:00,  3.26it/s]\n",
      "                 Class     Images  Instances      Box(P          R      mAP50  mAP50-95): 100%|██████████| 3/3 [00:01<00:00,  2.18it/s]"
     ]
    },
    {
     "name": "stdout",
     "output_type": "stream",
     "text": [
      "                   all         80        777      0.451      0.311      0.286      0.117\n"
     ]
    },
    {
     "name": "stderr",
     "output_type": "stream",
     "text": [
      "\n"
     ]
    },
    {
     "name": "stdout",
     "output_type": "stream",
     "text": [
      "\n",
      "      Epoch    GPU_mem   box_loss   cls_loss   dfl_loss  Instances       Size\n"
     ]
    },
    {
     "name": "stderr",
     "output_type": "stream",
     "text": [
      "      15/50      2.63G      1.814      1.897       1.76        112        640: 100%|██████████| 22/22 [00:09<00:00,  2.25it/s]\n",
      "                 Class     Images  Instances      Box(P          R      mAP50  mAP50-95): 100%|██████████| 3/3 [00:01<00:00,  2.06it/s]"
     ]
    },
    {
     "name": "stdout",
     "output_type": "stream",
     "text": [
      "                   all         80        777      0.389      0.278      0.247     0.0965\n"
     ]
    },
    {
     "name": "stderr",
     "output_type": "stream",
     "text": [
      "\n"
     ]
    },
    {
     "name": "stdout",
     "output_type": "stream",
     "text": [
      "\n",
      "      Epoch    GPU_mem   box_loss   cls_loss   dfl_loss  Instances       Size\n"
     ]
    },
    {
     "name": "stderr",
     "output_type": "stream",
     "text": [
      "      16/50      2.51G      1.767      1.896      1.781        134        640: 100%|██████████| 22/22 [00:06<00:00,  3.49it/s]\n",
      "                 Class     Images  Instances      Box(P          R      mAP50  mAP50-95): 100%|██████████| 3/3 [00:01<00:00,  2.07it/s]"
     ]
    },
    {
     "name": "stdout",
     "output_type": "stream",
     "text": [
      "                   all         80        777       0.38      0.279      0.254      0.108\n"
     ]
    },
    {
     "name": "stderr",
     "output_type": "stream",
     "text": [
      "\n"
     ]
    },
    {
     "name": "stdout",
     "output_type": "stream",
     "text": [
      "\n",
      "      Epoch    GPU_mem   box_loss   cls_loss   dfl_loss  Instances       Size\n"
     ]
    },
    {
     "name": "stderr",
     "output_type": "stream",
     "text": [
      "      17/50      2.58G      1.753      1.896      1.732         84        640: 100%|██████████| 22/22 [00:09<00:00,  2.21it/s]\n",
      "                 Class     Images  Instances      Box(P          R      mAP50  mAP50-95): 100%|██████████| 3/3 [00:01<00:00,  2.34it/s]"
     ]
    },
    {
     "name": "stdout",
     "output_type": "stream",
     "text": [
      "                   all         80        777       0.41      0.332      0.314      0.128\n"
     ]
    },
    {
     "name": "stderr",
     "output_type": "stream",
     "text": [
      "\n"
     ]
    },
    {
     "name": "stdout",
     "output_type": "stream",
     "text": [
      "\n",
      "      Epoch    GPU_mem   box_loss   cls_loss   dfl_loss  Instances       Size\n"
     ]
    },
    {
     "name": "stderr",
     "output_type": "stream",
     "text": [
      "      18/50      2.48G      1.813      1.876      1.733        177        640: 100%|██████████| 22/22 [00:06<00:00,  3.41it/s]\n",
      "                 Class     Images  Instances      Box(P          R      mAP50  mAP50-95): 100%|██████████| 3/3 [00:02<00:00,  1.26it/s]"
     ]
    },
    {
     "name": "stdout",
     "output_type": "stream",
     "text": [
      "                   all         80        777      0.454      0.353      0.321      0.133\n"
     ]
    },
    {
     "name": "stderr",
     "output_type": "stream",
     "text": [
      "\n"
     ]
    },
    {
     "name": "stdout",
     "output_type": "stream",
     "text": [
      "\n",
      "      Epoch    GPU_mem   box_loss   cls_loss   dfl_loss  Instances       Size\n"
     ]
    },
    {
     "name": "stderr",
     "output_type": "stream",
     "text": [
      "      19/50       2.4G      1.737      1.901      1.724        167        640: 100%|██████████| 22/22 [00:08<00:00,  2.67it/s]\n",
      "                 Class     Images  Instances      Box(P          R      mAP50  mAP50-95): 100%|██████████| 3/3 [00:01<00:00,  2.50it/s]"
     ]
    },
    {
     "name": "stdout",
     "output_type": "stream",
     "text": [
      "                   all         80        777      0.432      0.333      0.324      0.135\n"
     ]
    },
    {
     "name": "stderr",
     "output_type": "stream",
     "text": [
      "\n"
     ]
    },
    {
     "name": "stdout",
     "output_type": "stream",
     "text": [
      "\n",
      "      Epoch    GPU_mem   box_loss   cls_loss   dfl_loss  Instances       Size\n"
     ]
    },
    {
     "name": "stderr",
     "output_type": "stream",
     "text": [
      "      20/50      2.67G      1.709      1.818       1.72         78        640: 100%|██████████| 22/22 [00:08<00:00,  2.73it/s]\n",
      "                 Class     Images  Instances      Box(P          R      mAP50  mAP50-95): 100%|██████████| 3/3 [00:02<00:00,  1.16it/s]"
     ]
    },
    {
     "name": "stdout",
     "output_type": "stream",
     "text": [
      "                   all         80        777      0.393       0.29      0.266      0.113\n"
     ]
    },
    {
     "name": "stderr",
     "output_type": "stream",
     "text": [
      "\n"
     ]
    },
    {
     "name": "stdout",
     "output_type": "stream",
     "text": [
      "\n",
      "      Epoch    GPU_mem   box_loss   cls_loss   dfl_loss  Instances       Size\n"
     ]
    },
    {
     "name": "stderr",
     "output_type": "stream",
     "text": [
      "      21/50      2.62G      1.718      1.803      1.712        108        640: 100%|██████████| 22/22 [00:06<00:00,  3.48it/s]\n",
      "                 Class     Images  Instances      Box(P          R      mAP50  mAP50-95): 100%|██████████| 3/3 [00:01<00:00,  2.18it/s]"
     ]
    },
    {
     "name": "stdout",
     "output_type": "stream",
     "text": [
      "                   all         80        777      0.395      0.288      0.246     0.0972\n"
     ]
    },
    {
     "name": "stderr",
     "output_type": "stream",
     "text": [
      "\n"
     ]
    },
    {
     "name": "stdout",
     "output_type": "stream",
     "text": [
      "\n",
      "      Epoch    GPU_mem   box_loss   cls_loss   dfl_loss  Instances       Size\n"
     ]
    },
    {
     "name": "stderr",
     "output_type": "stream",
     "text": [
      "      22/50      2.93G      1.702      1.757      1.683        168        640: 100%|██████████| 22/22 [00:09<00:00,  2.25it/s]\n",
      "                 Class     Images  Instances      Box(P          R      mAP50  mAP50-95): 100%|██████████| 3/3 [00:01<00:00,  2.15it/s]"
     ]
    },
    {
     "name": "stdout",
     "output_type": "stream",
     "text": [
      "                   all         80        777      0.411      0.282      0.273       0.11\n"
     ]
    },
    {
     "name": "stderr",
     "output_type": "stream",
     "text": [
      "\n"
     ]
    },
    {
     "name": "stdout",
     "output_type": "stream",
     "text": [
      "\n",
      "      Epoch    GPU_mem   box_loss   cls_loss   dfl_loss  Instances       Size\n"
     ]
    },
    {
     "name": "stderr",
     "output_type": "stream",
     "text": [
      "      23/50       2.3G      1.692      1.754      1.678         75        640: 100%|██████████| 22/22 [00:06<00:00,  3.56it/s]\n",
      "                 Class     Images  Instances      Box(P          R      mAP50  mAP50-95): 100%|██████████| 3/3 [00:01<00:00,  2.26it/s]"
     ]
    },
    {
     "name": "stdout",
     "output_type": "stream",
     "text": [
      "                   all         80        777      0.431      0.292      0.282      0.117\n"
     ]
    },
    {
     "name": "stderr",
     "output_type": "stream",
     "text": [
      "\n"
     ]
    },
    {
     "name": "stdout",
     "output_type": "stream",
     "text": [
      "\n",
      "      Epoch    GPU_mem   box_loss   cls_loss   dfl_loss  Instances       Size\n"
     ]
    },
    {
     "name": "stderr",
     "output_type": "stream",
     "text": [
      "      24/50      2.23G      1.695      1.786      1.706        104        640: 100%|██████████| 22/22 [00:09<00:00,  2.34it/s]\n",
      "                 Class     Images  Instances      Box(P          R      mAP50  mAP50-95): 100%|██████████| 3/3 [00:01<00:00,  2.41it/s]"
     ]
    },
    {
     "name": "stdout",
     "output_type": "stream",
     "text": [
      "                   all         80        777      0.437      0.354      0.313      0.136\n"
     ]
    },
    {
     "name": "stderr",
     "output_type": "stream",
     "text": [
      "\n"
     ]
    },
    {
     "name": "stdout",
     "output_type": "stream",
     "text": [
      "\n",
      "      Epoch    GPU_mem   box_loss   cls_loss   dfl_loss  Instances       Size\n"
     ]
    },
    {
     "name": "stderr",
     "output_type": "stream",
     "text": [
      "      25/50      2.44G      1.658      1.757      1.672        116        640: 100%|██████████| 22/22 [00:07<00:00,  3.00it/s]\n",
      "                 Class     Images  Instances      Box(P          R      mAP50  mAP50-95): 100%|██████████| 3/3 [00:01<00:00,  1.60it/s]"
     ]
    },
    {
     "name": "stdout",
     "output_type": "stream",
     "text": [
      "                   all         80        777      0.411      0.362       0.32      0.141\n"
     ]
    },
    {
     "name": "stderr",
     "output_type": "stream",
     "text": [
      "\n"
     ]
    },
    {
     "name": "stdout",
     "output_type": "stream",
     "text": [
      "\n",
      "      Epoch    GPU_mem   box_loss   cls_loss   dfl_loss  Instances       Size\n"
     ]
    },
    {
     "name": "stderr",
     "output_type": "stream",
     "text": [
      "      26/50      2.51G      1.682      1.654      1.617        178        640: 100%|██████████| 22/22 [00:08<00:00,  2.65it/s]\n",
      "                 Class     Images  Instances      Box(P          R      mAP50  mAP50-95): 100%|██████████| 3/3 [00:01<00:00,  2.43it/s]"
     ]
    },
    {
     "name": "stdout",
     "output_type": "stream",
     "text": [
      "                   all         80        777      0.499      0.326      0.327      0.139\n"
     ]
    },
    {
     "name": "stderr",
     "output_type": "stream",
     "text": [
      "\n"
     ]
    },
    {
     "name": "stdout",
     "output_type": "stream",
     "text": [
      "\n",
      "      Epoch    GPU_mem   box_loss   cls_loss   dfl_loss  Instances       Size\n"
     ]
    },
    {
     "name": "stderr",
     "output_type": "stream",
     "text": [
      "      27/50      2.72G      1.659      1.722      1.676        136        640: 100%|██████████| 22/22 [00:09<00:00,  2.37it/s]\n",
      "                 Class     Images  Instances      Box(P          R      mAP50  mAP50-95): 100%|██████████| 3/3 [00:01<00:00,  1.53it/s]"
     ]
    },
    {
     "name": "stdout",
     "output_type": "stream",
     "text": [
      "                   all         80        777      0.435      0.347      0.321      0.128\n"
     ]
    },
    {
     "name": "stderr",
     "output_type": "stream",
     "text": [
      "\n"
     ]
    },
    {
     "name": "stdout",
     "output_type": "stream",
     "text": [
      "\n",
      "      Epoch    GPU_mem   box_loss   cls_loss   dfl_loss  Instances       Size\n"
     ]
    },
    {
     "name": "stderr",
     "output_type": "stream",
     "text": [
      "      28/50      2.42G      1.622      1.648      1.622         70        640: 100%|██████████| 22/22 [00:06<00:00,  3.47it/s]\n",
      "                 Class     Images  Instances      Box(P          R      mAP50  mAP50-95): 100%|██████████| 3/3 [00:01<00:00,  1.97it/s]"
     ]
    },
    {
     "name": "stdout",
     "output_type": "stream",
     "text": [
      "                   all         80        777      0.483      0.387      0.376       0.16\n"
     ]
    },
    {
     "name": "stderr",
     "output_type": "stream",
     "text": [
      "\n"
     ]
    },
    {
     "name": "stdout",
     "output_type": "stream",
     "text": [
      "\n",
      "      Epoch    GPU_mem   box_loss   cls_loss   dfl_loss  Instances       Size\n"
     ]
    },
    {
     "name": "stderr",
     "output_type": "stream",
     "text": [
      "      29/50      2.67G      1.609      1.691       1.66        116        640: 100%|██████████| 22/22 [00:10<00:00,  2.19it/s]\n",
      "                 Class     Images  Instances      Box(P          R      mAP50  mAP50-95): 100%|██████████| 3/3 [00:01<00:00,  2.19it/s]"
     ]
    },
    {
     "name": "stdout",
     "output_type": "stream",
     "text": [
      "                   all         80        777      0.484      0.351      0.362      0.159\n"
     ]
    },
    {
     "name": "stderr",
     "output_type": "stream",
     "text": [
      "\n"
     ]
    },
    {
     "name": "stdout",
     "output_type": "stream",
     "text": [
      "\n",
      "      Epoch    GPU_mem   box_loss   cls_loss   dfl_loss  Instances       Size\n"
     ]
    },
    {
     "name": "stderr",
     "output_type": "stream",
     "text": [
      "      30/50      2.36G      1.686      1.659      1.642        139        640: 100%|██████████| 22/22 [00:06<00:00,  3.21it/s]\n",
      "                 Class     Images  Instances      Box(P          R      mAP50  mAP50-95): 100%|██████████| 3/3 [00:01<00:00,  1.54it/s]"
     ]
    },
    {
     "name": "stdout",
     "output_type": "stream",
     "text": [
      "                   all         80        777      0.449      0.417      0.374      0.151\n"
     ]
    },
    {
     "name": "stderr",
     "output_type": "stream",
     "text": [
      "\n"
     ]
    },
    {
     "name": "stdout",
     "output_type": "stream",
     "text": [
      "\n",
      "      Epoch    GPU_mem   box_loss   cls_loss   dfl_loss  Instances       Size\n"
     ]
    },
    {
     "name": "stderr",
     "output_type": "stream",
     "text": [
      "      31/50       2.4G       1.59      1.676      1.627        132        640: 100%|██████████| 22/22 [00:08<00:00,  2.49it/s]\n",
      "                 Class     Images  Instances      Box(P          R      mAP50  mAP50-95): 100%|██████████| 3/3 [00:01<00:00,  2.24it/s]"
     ]
    },
    {
     "name": "stdout",
     "output_type": "stream",
     "text": [
      "                   all         80        777      0.407      0.365      0.327      0.154\n"
     ]
    },
    {
     "name": "stderr",
     "output_type": "stream",
     "text": [
      "\n"
     ]
    },
    {
     "name": "stdout",
     "output_type": "stream",
     "text": [
      "\n",
      "      Epoch    GPU_mem   box_loss   cls_loss   dfl_loss  Instances       Size\n"
     ]
    },
    {
     "name": "stderr",
     "output_type": "stream",
     "text": [
      "      32/50      2.36G      1.568       1.59      1.595         69        640: 100%|██████████| 22/22 [00:07<00:00,  2.84it/s]\n",
      "                 Class     Images  Instances      Box(P          R      mAP50  mAP50-95): 100%|██████████| 3/3 [00:02<00:00,  1.36it/s]"
     ]
    },
    {
     "name": "stdout",
     "output_type": "stream",
     "text": [
      "                   all         80        777      0.498      0.376      0.371       0.16\n"
     ]
    },
    {
     "name": "stderr",
     "output_type": "stream",
     "text": [
      "\n"
     ]
    },
    {
     "name": "stdout",
     "output_type": "stream",
     "text": [
      "\n",
      "      Epoch    GPU_mem   box_loss   cls_loss   dfl_loss  Instances       Size\n"
     ]
    },
    {
     "name": "stderr",
     "output_type": "stream",
     "text": [
      "      33/50      2.54G      1.581      1.554      1.602         93        640: 100%|██████████| 22/22 [00:06<00:00,  3.25it/s]\n",
      "                 Class     Images  Instances      Box(P          R      mAP50  mAP50-95): 100%|██████████| 3/3 [00:01<00:00,  2.15it/s]"
     ]
    },
    {
     "name": "stdout",
     "output_type": "stream",
     "text": [
      "                   all         80        777      0.472      0.391      0.385      0.167\n"
     ]
    },
    {
     "name": "stderr",
     "output_type": "stream",
     "text": [
      "\n"
     ]
    },
    {
     "name": "stdout",
     "output_type": "stream",
     "text": [
      "\n",
      "      Epoch    GPU_mem   box_loss   cls_loss   dfl_loss  Instances       Size\n"
     ]
    },
    {
     "name": "stderr",
     "output_type": "stream",
     "text": [
      "      34/50       2.5G      1.538      1.578      1.589        107        640: 100%|██████████| 22/22 [00:09<00:00,  2.28it/s]\n",
      "                 Class     Images  Instances      Box(P          R      mAP50  mAP50-95): 100%|██████████| 3/3 [00:01<00:00,  2.13it/s]\n"
     ]
    },
    {
     "name": "stdout",
     "output_type": "stream",
     "text": [
      "                   all         80        777      0.467      0.372       0.37      0.162\n",
      "\n",
      "      Epoch    GPU_mem   box_loss   cls_loss   dfl_loss  Instances       Size\n"
     ]
    },
    {
     "name": "stderr",
     "output_type": "stream",
     "text": [
      "      35/50      2.72G       1.57      1.563      1.588         84        640: 100%|██████████| 22/22 [00:06<00:00,  3.46it/s]\n",
      "                 Class     Images  Instances      Box(P          R      mAP50  mAP50-95): 100%|██████████| 3/3 [00:01<00:00,  2.43it/s]"
     ]
    },
    {
     "name": "stdout",
     "output_type": "stream",
     "text": [
      "                   all         80        777      0.474      0.385      0.365      0.156\n"
     ]
    },
    {
     "name": "stderr",
     "output_type": "stream",
     "text": [
      "\n"
     ]
    },
    {
     "name": "stdout",
     "output_type": "stream",
     "text": [
      "\n",
      "      Epoch    GPU_mem   box_loss   cls_loss   dfl_loss  Instances       Size\n"
     ]
    },
    {
     "name": "stderr",
     "output_type": "stream",
     "text": [
      "      36/50       2.4G      1.561      1.551      1.581        120        640: 100%|██████████| 22/22 [00:09<00:00,  2.30it/s]\n",
      "                 Class     Images  Instances      Box(P          R      mAP50  mAP50-95): 100%|██████████| 3/3 [00:01<00:00,  2.56it/s]"
     ]
    },
    {
     "name": "stdout",
     "output_type": "stream",
     "text": [
      "                   all         80        777      0.476      0.423      0.387      0.163\n"
     ]
    },
    {
     "name": "stderr",
     "output_type": "stream",
     "text": [
      "\n"
     ]
    },
    {
     "name": "stdout",
     "output_type": "stream",
     "text": [
      "\n",
      "      Epoch    GPU_mem   box_loss   cls_loss   dfl_loss  Instances       Size\n"
     ]
    },
    {
     "name": "stderr",
     "output_type": "stream",
     "text": [
      "      37/50      2.56G       1.56      1.528      1.567         69        640: 100%|██████████| 22/22 [00:07<00:00,  3.03it/s]\n",
      "                 Class     Images  Instances      Box(P          R      mAP50  mAP50-95): 100%|██████████| 3/3 [00:02<00:00,  1.43it/s]"
     ]
    },
    {
     "name": "stdout",
     "output_type": "stream",
     "text": [
      "                   all         80        777      0.473      0.403      0.384      0.167\n"
     ]
    },
    {
     "name": "stderr",
     "output_type": "stream",
     "text": [
      "\n"
     ]
    },
    {
     "name": "stdout",
     "output_type": "stream",
     "text": [
      "\n",
      "      Epoch    GPU_mem   box_loss   cls_loss   dfl_loss  Instances       Size\n"
     ]
    },
    {
     "name": "stderr",
     "output_type": "stream",
     "text": [
      "      38/50      2.39G      1.548      1.504      1.564         90        640: 100%|██████████| 22/22 [00:07<00:00,  2.88it/s]\n",
      "                 Class     Images  Instances      Box(P          R      mAP50  mAP50-95): 100%|██████████| 3/3 [00:01<00:00,  2.15it/s]"
     ]
    },
    {
     "name": "stdout",
     "output_type": "stream",
     "text": [
      "                   all         80        777      0.477      0.372      0.358      0.156\n"
     ]
    },
    {
     "name": "stderr",
     "output_type": "stream",
     "text": [
      "\n"
     ]
    },
    {
     "name": "stdout",
     "output_type": "stream",
     "text": [
      "\n",
      "      Epoch    GPU_mem   box_loss   cls_loss   dfl_loss  Instances       Size\n"
     ]
    },
    {
     "name": "stderr",
     "output_type": "stream",
     "text": [
      "      39/50      2.74G      1.546      1.488      1.577         99        640: 100%|██████████| 22/22 [00:08<00:00,  2.46it/s]\n",
      "                 Class     Images  Instances      Box(P          R      mAP50  mAP50-95): 100%|██████████| 3/3 [00:02<00:00,  1.21it/s]"
     ]
    },
    {
     "name": "stdout",
     "output_type": "stream",
     "text": [
      "                   all         80        777      0.503      0.367      0.366      0.158\n"
     ]
    },
    {
     "name": "stderr",
     "output_type": "stream",
     "text": [
      "\n"
     ]
    },
    {
     "name": "stdout",
     "output_type": "stream",
     "text": [
      "\n",
      "      Epoch    GPU_mem   box_loss   cls_loss   dfl_loss  Instances       Size\n"
     ]
    },
    {
     "name": "stderr",
     "output_type": "stream",
     "text": [
      "      40/50      2.29G       1.52      1.452      1.542         95        640: 100%|██████████| 22/22 [00:06<00:00,  3.46it/s]\n",
      "                 Class     Images  Instances      Box(P          R      mAP50  mAP50-95): 100%|██████████| 3/3 [00:01<00:00,  2.16it/s]"
     ]
    },
    {
     "name": "stdout",
     "output_type": "stream",
     "text": [
      "                   all         80        777      0.446       0.38      0.365      0.158\n"
     ]
    },
    {
     "name": "stderr",
     "output_type": "stream",
     "text": [
      "\n"
     ]
    },
    {
     "name": "stdout",
     "output_type": "stream",
     "text": [
      "Closing dataloader mosaic\n",
      "\u001b[34m\u001b[1malbumentations: \u001b[0mBlur(p=0.01, blur_limit=(3, 7)), MedianBlur(p=0.01, blur_limit=(3, 7)), ToGray(p=0.01, num_output_channels=3, method='weighted_average'), CLAHE(p=0.01, clip_limit=(1.0, 4.0), tile_grid_size=(8, 8))\n",
      "\n",
      "      Epoch    GPU_mem   box_loss   cls_loss   dfl_loss  Instances       Size\n"
     ]
    },
    {
     "name": "stderr",
     "output_type": "stream",
     "text": [
      "      41/50      2.38G      1.571      1.552      1.584        128        640: 100%|██████████| 22/22 [00:12<00:00,  1.77it/s]\n",
      "                 Class     Images  Instances      Box(P          R      mAP50  mAP50-95): 100%|██████████| 3/3 [00:01<00:00,  2.85it/s]"
     ]
    },
    {
     "name": "stdout",
     "output_type": "stream",
     "text": [
      "                   all         80        777      0.343      0.332      0.292      0.136\n"
     ]
    },
    {
     "name": "stderr",
     "output_type": "stream",
     "text": [
      "\n"
     ]
    },
    {
     "name": "stdout",
     "output_type": "stream",
     "text": [
      "\n",
      "      Epoch    GPU_mem   box_loss   cls_loss   dfl_loss  Instances       Size\n"
     ]
    },
    {
     "name": "stderr",
     "output_type": "stream",
     "text": [
      "      42/50      2.23G      1.557      1.463      1.595         64        640: 100%|██████████| 22/22 [00:06<00:00,  3.26it/s]\n",
      "                 Class     Images  Instances      Box(P          R      mAP50  mAP50-95): 100%|██████████| 3/3 [00:01<00:00,  1.85it/s]"
     ]
    },
    {
     "name": "stdout",
     "output_type": "stream",
     "text": [
      "                   all         80        777      0.448      0.377      0.342      0.152\n"
     ]
    },
    {
     "name": "stderr",
     "output_type": "stream",
     "text": [
      "\n"
     ]
    },
    {
     "name": "stdout",
     "output_type": "stream",
     "text": [
      "\n",
      "      Epoch    GPU_mem   box_loss   cls_loss   dfl_loss  Instances       Size\n"
     ]
    },
    {
     "name": "stderr",
     "output_type": "stream",
     "text": [
      "      43/50      2.36G      1.507      1.422      1.543         52        640: 100%|██████████| 22/22 [00:07<00:00,  2.85it/s]\n",
      "                 Class     Images  Instances      Box(P          R      mAP50  mAP50-95): 100%|██████████| 3/3 [00:01<00:00,  2.43it/s]\n"
     ]
    },
    {
     "name": "stdout",
     "output_type": "stream",
     "text": [
      "                   all         80        777      0.502      0.382      0.372      0.165\n",
      "\n",
      "      Epoch    GPU_mem   box_loss   cls_loss   dfl_loss  Instances       Size\n"
     ]
    },
    {
     "name": "stderr",
     "output_type": "stream",
     "text": [
      "      44/50      2.49G      1.497      1.362      1.535         32        640: 100%|██████████| 22/22 [00:07<00:00,  2.95it/s]\n",
      "                 Class     Images  Instances      Box(P          R      mAP50  mAP50-95): 100%|██████████| 3/3 [00:01<00:00,  1.80it/s]"
     ]
    },
    {
     "name": "stdout",
     "output_type": "stream",
     "text": [
      "                   all         80        777      0.528      0.388       0.38      0.173\n"
     ]
    },
    {
     "name": "stderr",
     "output_type": "stream",
     "text": [
      "\n"
     ]
    },
    {
     "name": "stdout",
     "output_type": "stream",
     "text": [
      "\n",
      "      Epoch    GPU_mem   box_loss   cls_loss   dfl_loss  Instances       Size\n"
     ]
    },
    {
     "name": "stderr",
     "output_type": "stream",
     "text": [
      "      45/50      2.41G      1.488      1.369      1.532         37        640: 100%|██████████| 22/22 [00:06<00:00,  3.25it/s]\n",
      "                 Class     Images  Instances      Box(P          R      mAP50  mAP50-95): 100%|██████████| 3/3 [00:01<00:00,  2.48it/s]"
     ]
    },
    {
     "name": "stdout",
     "output_type": "stream",
     "text": [
      "                   all         80        777      0.464      0.385      0.362      0.167\n"
     ]
    },
    {
     "name": "stderr",
     "output_type": "stream",
     "text": [
      "\n"
     ]
    },
    {
     "name": "stdout",
     "output_type": "stream",
     "text": [
      "\n",
      "      Epoch    GPU_mem   box_loss   cls_loss   dfl_loss  Instances       Size\n"
     ]
    },
    {
     "name": "stderr",
     "output_type": "stream",
     "text": [
      "      46/50      2.37G      1.481      1.352      1.529         80        640: 100%|██████████| 22/22 [00:08<00:00,  2.52it/s]\n",
      "                 Class     Images  Instances      Box(P          R      mAP50  mAP50-95): 100%|██████████| 3/3 [00:02<00:00,  1.29it/s]"
     ]
    },
    {
     "name": "stdout",
     "output_type": "stream",
     "text": [
      "                   all         80        777      0.537      0.359      0.382      0.176\n"
     ]
    },
    {
     "name": "stderr",
     "output_type": "stream",
     "text": [
      "\n"
     ]
    },
    {
     "name": "stdout",
     "output_type": "stream",
     "text": [
      "\n",
      "      Epoch    GPU_mem   box_loss   cls_loss   dfl_loss  Instances       Size\n"
     ]
    },
    {
     "name": "stderr",
     "output_type": "stream",
     "text": [
      "      47/50      2.46G      1.463      1.311      1.518        126        640: 100%|██████████| 22/22 [00:06<00:00,  3.49it/s]\n",
      "                 Class     Images  Instances      Box(P          R      mAP50  mAP50-95): 100%|██████████| 3/3 [00:01<00:00,  2.27it/s]"
     ]
    },
    {
     "name": "stdout",
     "output_type": "stream",
     "text": [
      "                   all         80        777       0.53      0.395      0.398      0.178\n"
     ]
    },
    {
     "name": "stderr",
     "output_type": "stream",
     "text": [
      "\n"
     ]
    },
    {
     "name": "stdout",
     "output_type": "stream",
     "text": [
      "\n",
      "      Epoch    GPU_mem   box_loss   cls_loss   dfl_loss  Instances       Size\n"
     ]
    },
    {
     "name": "stderr",
     "output_type": "stream",
     "text": [
      "      48/50      2.43G      1.459      1.285      1.522         63        640: 100%|██████████| 22/22 [00:09<00:00,  2.30it/s]\n",
      "                 Class     Images  Instances      Box(P          R      mAP50  mAP50-95): 100%|██████████| 3/3 [00:01<00:00,  2.49it/s]"
     ]
    },
    {
     "name": "stdout",
     "output_type": "stream",
     "text": [
      "                   all         80        777      0.541      0.384      0.391      0.173\n"
     ]
    },
    {
     "name": "stderr",
     "output_type": "stream",
     "text": [
      "\n"
     ]
    },
    {
     "name": "stdout",
     "output_type": "stream",
     "text": [
      "\n",
      "      Epoch    GPU_mem   box_loss   cls_loss   dfl_loss  Instances       Size\n"
     ]
    },
    {
     "name": "stderr",
     "output_type": "stream",
     "text": [
      "      49/50      2.45G      1.459      1.261      1.522         70        640: 100%|██████████| 22/22 [00:05<00:00,  3.67it/s]\n",
      "                 Class     Images  Instances      Box(P          R      mAP50  mAP50-95): 100%|██████████| 3/3 [00:01<00:00,  2.30it/s]"
     ]
    },
    {
     "name": "stdout",
     "output_type": "stream",
     "text": [
      "                   all         80        777      0.521        0.4      0.399      0.176\n"
     ]
    },
    {
     "name": "stderr",
     "output_type": "stream",
     "text": [
      "\n"
     ]
    },
    {
     "name": "stdout",
     "output_type": "stream",
     "text": [
      "\n",
      "      Epoch    GPU_mem   box_loss   cls_loss   dfl_loss  Instances       Size\n"
     ]
    },
    {
     "name": "stderr",
     "output_type": "stream",
     "text": [
      "      50/50      2.44G      1.441      1.294      1.505         42        640: 100%|██████████| 22/22 [00:09<00:00,  2.25it/s]\n",
      "                 Class     Images  Instances      Box(P          R      mAP50  mAP50-95): 100%|██████████| 3/3 [00:01<00:00,  2.28it/s]"
     ]
    },
    {
     "name": "stdout",
     "output_type": "stream",
     "text": [
      "                   all         80        777      0.516      0.408      0.398      0.178\n"
     ]
    },
    {
     "name": "stderr",
     "output_type": "stream",
     "text": [
      "\n"
     ]
    },
    {
     "name": "stdout",
     "output_type": "stream",
     "text": [
      "\n",
      "50 epochs completed in 0.152 hours.\n",
      "Optimizer stripped from runs/detect/train/weights/last.pt, 6.2MB\n",
      "Optimizer stripped from runs/detect/train/weights/best.pt, 6.2MB\n",
      "\n",
      "Validating runs/detect/train/weights/best.pt...\n",
      "Ultralytics 8.3.58 🚀 Python-3.10.12 torch-2.5.1+cu121 CUDA:0 (Tesla T4, 15102MiB)\n",
      "Model summary (fused): 168 layers, 3,005,843 parameters, 0 gradients, 8.1 GFLOPs\n"
     ]
    },
    {
     "name": "stderr",
     "output_type": "stream",
     "text": [
      "                 Class     Images  Instances      Box(P          R      mAP50  mAP50-95): 100%|██████████| 3/3 [00:01<00:00,  1.71it/s]\n"
     ]
    },
    {
     "name": "stdout",
     "output_type": "stream",
     "text": [
      "                   all         80        777      0.515      0.408      0.398      0.178\n",
      "Speed: 0.3ms preprocess, 2.4ms inference, 0.0ms loss, 4.2ms postprocess per image\n",
      "Results saved to \u001b[1mruns/detect/train\u001b[0m\n"
     ]
    },
    {
     "data": {
      "text/plain": [
       "ultralytics.utils.metrics.DetMetrics object with attributes:\n",
       "\n",
       "ap_class_index: array([0])\n",
       "box: ultralytics.utils.metrics.Metric object\n",
       "confusion_matrix: <ultralytics.utils.metrics.ConfusionMatrix object at 0x7cd7dc5a5240>\n",
       "curves: ['Precision-Recall(B)', 'F1-Confidence(B)', 'Precision-Confidence(B)', 'Recall-Confidence(B)']\n",
       "curves_results: [[array([          0,    0.001001,    0.002002,    0.003003,    0.004004,    0.005005,    0.006006,    0.007007,    0.008008,    0.009009,     0.01001,    0.011011,    0.012012,    0.013013,    0.014014,    0.015015,    0.016016,    0.017017,    0.018018,    0.019019,     0.02002,    0.021021,    0.022022,    0.023023,\n",
       "          0.024024,    0.025025,    0.026026,    0.027027,    0.028028,    0.029029,     0.03003,    0.031031,    0.032032,    0.033033,    0.034034,    0.035035,    0.036036,    0.037037,    0.038038,    0.039039,     0.04004,    0.041041,    0.042042,    0.043043,    0.044044,    0.045045,    0.046046,    0.047047,\n",
       "          0.048048,    0.049049,     0.05005,    0.051051,    0.052052,    0.053053,    0.054054,    0.055055,    0.056056,    0.057057,    0.058058,    0.059059,     0.06006,    0.061061,    0.062062,    0.063063,    0.064064,    0.065065,    0.066066,    0.067067,    0.068068,    0.069069,     0.07007,    0.071071,\n",
       "          0.072072,    0.073073,    0.074074,    0.075075,    0.076076,    0.077077,    0.078078,    0.079079,     0.08008,    0.081081,    0.082082,    0.083083,    0.084084,    0.085085,    0.086086,    0.087087,    0.088088,    0.089089,     0.09009,    0.091091,    0.092092,    0.093093,    0.094094,    0.095095,\n",
       "          0.096096,    0.097097,    0.098098,    0.099099,      0.1001,      0.1011,      0.1021,      0.1031,      0.1041,     0.10511,     0.10611,     0.10711,     0.10811,     0.10911,     0.11011,     0.11111,     0.11211,     0.11311,     0.11411,     0.11512,     0.11612,     0.11712,     0.11812,     0.11912,\n",
       "           0.12012,     0.12112,     0.12212,     0.12312,     0.12412,     0.12513,     0.12613,     0.12713,     0.12813,     0.12913,     0.13013,     0.13113,     0.13213,     0.13313,     0.13413,     0.13514,     0.13614,     0.13714,     0.13814,     0.13914,     0.14014,     0.14114,     0.14214,     0.14314,\n",
       "           0.14414,     0.14515,     0.14615,     0.14715,     0.14815,     0.14915,     0.15015,     0.15115,     0.15215,     0.15315,     0.15415,     0.15516,     0.15616,     0.15716,     0.15816,     0.15916,     0.16016,     0.16116,     0.16216,     0.16316,     0.16416,     0.16517,     0.16617,     0.16717,\n",
       "           0.16817,     0.16917,     0.17017,     0.17117,     0.17217,     0.17317,     0.17417,     0.17518,     0.17618,     0.17718,     0.17818,     0.17918,     0.18018,     0.18118,     0.18218,     0.18318,     0.18418,     0.18519,     0.18619,     0.18719,     0.18819,     0.18919,     0.19019,     0.19119,\n",
       "           0.19219,     0.19319,     0.19419,      0.1952,      0.1962,      0.1972,      0.1982,      0.1992,      0.2002,      0.2012,      0.2022,      0.2032,      0.2042,     0.20521,     0.20621,     0.20721,     0.20821,     0.20921,     0.21021,     0.21121,     0.21221,     0.21321,     0.21421,     0.21522,\n",
       "           0.21622,     0.21722,     0.21822,     0.21922,     0.22022,     0.22122,     0.22222,     0.22322,     0.22422,     0.22523,     0.22623,     0.22723,     0.22823,     0.22923,     0.23023,     0.23123,     0.23223,     0.23323,     0.23423,     0.23524,     0.23624,     0.23724,     0.23824,     0.23924,\n",
       "           0.24024,     0.24124,     0.24224,     0.24324,     0.24424,     0.24525,     0.24625,     0.24725,     0.24825,     0.24925,     0.25025,     0.25125,     0.25225,     0.25325,     0.25425,     0.25526,     0.25626,     0.25726,     0.25826,     0.25926,     0.26026,     0.26126,     0.26226,     0.26326,\n",
       "           0.26426,     0.26527,     0.26627,     0.26727,     0.26827,     0.26927,     0.27027,     0.27127,     0.27227,     0.27327,     0.27427,     0.27528,     0.27628,     0.27728,     0.27828,     0.27928,     0.28028,     0.28128,     0.28228,     0.28328,     0.28428,     0.28529,     0.28629,     0.28729,\n",
       "           0.28829,     0.28929,     0.29029,     0.29129,     0.29229,     0.29329,     0.29429,      0.2953,      0.2963,      0.2973,      0.2983,      0.2993,      0.3003,      0.3013,      0.3023,      0.3033,      0.3043,     0.30531,     0.30631,     0.30731,     0.30831,     0.30931,     0.31031,     0.31131,\n",
       "           0.31231,     0.31331,     0.31431,     0.31532,     0.31632,     0.31732,     0.31832,     0.31932,     0.32032,     0.32132,     0.32232,     0.32332,     0.32432,     0.32533,     0.32633,     0.32733,     0.32833,     0.32933,     0.33033,     0.33133,     0.33233,     0.33333,     0.33433,     0.33534,\n",
       "           0.33634,     0.33734,     0.33834,     0.33934,     0.34034,     0.34134,     0.34234,     0.34334,     0.34434,     0.34535,     0.34635,     0.34735,     0.34835,     0.34935,     0.35035,     0.35135,     0.35235,     0.35335,     0.35435,     0.35536,     0.35636,     0.35736,     0.35836,     0.35936,\n",
       "           0.36036,     0.36136,     0.36236,     0.36336,     0.36436,     0.36537,     0.36637,     0.36737,     0.36837,     0.36937,     0.37037,     0.37137,     0.37237,     0.37337,     0.37437,     0.37538,     0.37638,     0.37738,     0.37838,     0.37938,     0.38038,     0.38138,     0.38238,     0.38338,\n",
       "           0.38438,     0.38539,     0.38639,     0.38739,     0.38839,     0.38939,     0.39039,     0.39139,     0.39239,     0.39339,     0.39439,      0.3954,      0.3964,      0.3974,      0.3984,      0.3994,      0.4004,      0.4014,      0.4024,      0.4034,      0.4044,     0.40541,     0.40641,     0.40741,\n",
       "           0.40841,     0.40941,     0.41041,     0.41141,     0.41241,     0.41341,     0.41441,     0.41542,     0.41642,     0.41742,     0.41842,     0.41942,     0.42042,     0.42142,     0.42242,     0.42342,     0.42442,     0.42543,     0.42643,     0.42743,     0.42843,     0.42943,     0.43043,     0.43143,\n",
       "           0.43243,     0.43343,     0.43443,     0.43544,     0.43644,     0.43744,     0.43844,     0.43944,     0.44044,     0.44144,     0.44244,     0.44344,     0.44444,     0.44545,     0.44645,     0.44745,     0.44845,     0.44945,     0.45045,     0.45145,     0.45245,     0.45345,     0.45445,     0.45546,\n",
       "           0.45646,     0.45746,     0.45846,     0.45946,     0.46046,     0.46146,     0.46246,     0.46346,     0.46446,     0.46547,     0.46647,     0.46747,     0.46847,     0.46947,     0.47047,     0.47147,     0.47247,     0.47347,     0.47447,     0.47548,     0.47648,     0.47748,     0.47848,     0.47948,\n",
       "           0.48048,     0.48148,     0.48248,     0.48348,     0.48448,     0.48549,     0.48649,     0.48749,     0.48849,     0.48949,     0.49049,     0.49149,     0.49249,     0.49349,     0.49449,      0.4955,      0.4965,      0.4975,      0.4985,      0.4995,      0.5005,      0.5015,      0.5025,      0.5035,\n",
       "            0.5045,     0.50551,     0.50651,     0.50751,     0.50851,     0.50951,     0.51051,     0.51151,     0.51251,     0.51351,     0.51451,     0.51552,     0.51652,     0.51752,     0.51852,     0.51952,     0.52052,     0.52152,     0.52252,     0.52352,     0.52452,     0.52553,     0.52653,     0.52753,\n",
       "           0.52853,     0.52953,     0.53053,     0.53153,     0.53253,     0.53353,     0.53453,     0.53554,     0.53654,     0.53754,     0.53854,     0.53954,     0.54054,     0.54154,     0.54254,     0.54354,     0.54454,     0.54555,     0.54655,     0.54755,     0.54855,     0.54955,     0.55055,     0.55155,\n",
       "           0.55255,     0.55355,     0.55455,     0.55556,     0.55656,     0.55756,     0.55856,     0.55956,     0.56056,     0.56156,     0.56256,     0.56356,     0.56456,     0.56557,     0.56657,     0.56757,     0.56857,     0.56957,     0.57057,     0.57157,     0.57257,     0.57357,     0.57457,     0.57558,\n",
       "           0.57658,     0.57758,     0.57858,     0.57958,     0.58058,     0.58158,     0.58258,     0.58358,     0.58458,     0.58559,     0.58659,     0.58759,     0.58859,     0.58959,     0.59059,     0.59159,     0.59259,     0.59359,     0.59459,      0.5956,      0.5966,      0.5976,      0.5986,      0.5996,\n",
       "            0.6006,      0.6016,      0.6026,      0.6036,      0.6046,     0.60561,     0.60661,     0.60761,     0.60861,     0.60961,     0.61061,     0.61161,     0.61261,     0.61361,     0.61461,     0.61562,     0.61662,     0.61762,     0.61862,     0.61962,     0.62062,     0.62162,     0.62262,     0.62362,\n",
       "           0.62462,     0.62563,     0.62663,     0.62763,     0.62863,     0.62963,     0.63063,     0.63163,     0.63263,     0.63363,     0.63463,     0.63564,     0.63664,     0.63764,     0.63864,     0.63964,     0.64064,     0.64164,     0.64264,     0.64364,     0.64464,     0.64565,     0.64665,     0.64765,\n",
       "           0.64865,     0.64965,     0.65065,     0.65165,     0.65265,     0.65365,     0.65465,     0.65566,     0.65666,     0.65766,     0.65866,     0.65966,     0.66066,     0.66166,     0.66266,     0.66366,     0.66466,     0.66567,     0.66667,     0.66767,     0.66867,     0.66967,     0.67067,     0.67167,\n",
       "           0.67267,     0.67367,     0.67467,     0.67568,     0.67668,     0.67768,     0.67868,     0.67968,     0.68068,     0.68168,     0.68268,     0.68368,     0.68468,     0.68569,     0.68669,     0.68769,     0.68869,     0.68969,     0.69069,     0.69169,     0.69269,     0.69369,     0.69469,      0.6957,\n",
       "            0.6967,      0.6977,      0.6987,      0.6997,      0.7007,      0.7017,      0.7027,      0.7037,      0.7047,     0.70571,     0.70671,     0.70771,     0.70871,     0.70971,     0.71071,     0.71171,     0.71271,     0.71371,     0.71471,     0.71572,     0.71672,     0.71772,     0.71872,     0.71972,\n",
       "           0.72072,     0.72172,     0.72272,     0.72372,     0.72472,     0.72573,     0.72673,     0.72773,     0.72873,     0.72973,     0.73073,     0.73173,     0.73273,     0.73373,     0.73473,     0.73574,     0.73674,     0.73774,     0.73874,     0.73974,     0.74074,     0.74174,     0.74274,     0.74374,\n",
       "           0.74474,     0.74575,     0.74675,     0.74775,     0.74875,     0.74975,     0.75075,     0.75175,     0.75275,     0.75375,     0.75475,     0.75576,     0.75676,     0.75776,     0.75876,     0.75976,     0.76076,     0.76176,     0.76276,     0.76376,     0.76476,     0.76577,     0.76677,     0.76777,\n",
       "           0.76877,     0.76977,     0.77077,     0.77177,     0.77277,     0.77377,     0.77477,     0.77578,     0.77678,     0.77778,     0.77878,     0.77978,     0.78078,     0.78178,     0.78278,     0.78378,     0.78478,     0.78579,     0.78679,     0.78779,     0.78879,     0.78979,     0.79079,     0.79179,\n",
       "           0.79279,     0.79379,     0.79479,      0.7958,      0.7968,      0.7978,      0.7988,      0.7998,      0.8008,      0.8018,      0.8028,      0.8038,      0.8048,     0.80581,     0.80681,     0.80781,     0.80881,     0.80981,     0.81081,     0.81181,     0.81281,     0.81381,     0.81481,     0.81582,\n",
       "           0.81682,     0.81782,     0.81882,     0.81982,     0.82082,     0.82182,     0.82282,     0.82382,     0.82482,     0.82583,     0.82683,     0.82783,     0.82883,     0.82983,     0.83083,     0.83183,     0.83283,     0.83383,     0.83483,     0.83584,     0.83684,     0.83784,     0.83884,     0.83984,\n",
       "           0.84084,     0.84184,     0.84284,     0.84384,     0.84484,     0.84585,     0.84685,     0.84785,     0.84885,     0.84985,     0.85085,     0.85185,     0.85285,     0.85385,     0.85485,     0.85586,     0.85686,     0.85786,     0.85886,     0.85986,     0.86086,     0.86186,     0.86286,     0.86386,\n",
       "           0.86486,     0.86587,     0.86687,     0.86787,     0.86887,     0.86987,     0.87087,     0.87187,     0.87287,     0.87387,     0.87487,     0.87588,     0.87688,     0.87788,     0.87888,     0.87988,     0.88088,     0.88188,     0.88288,     0.88388,     0.88488,     0.88589,     0.88689,     0.88789,\n",
       "           0.88889,     0.88989,     0.89089,     0.89189,     0.89289,     0.89389,     0.89489,      0.8959,      0.8969,      0.8979,      0.8989,      0.8999,      0.9009,      0.9019,      0.9029,      0.9039,      0.9049,     0.90591,     0.90691,     0.90791,     0.90891,     0.90991,     0.91091,     0.91191,\n",
       "           0.91291,     0.91391,     0.91491,     0.91592,     0.91692,     0.91792,     0.91892,     0.91992,     0.92092,     0.92192,     0.92292,     0.92392,     0.92492,     0.92593,     0.92693,     0.92793,     0.92893,     0.92993,     0.93093,     0.93193,     0.93293,     0.93393,     0.93493,     0.93594,\n",
       "           0.93694,     0.93794,     0.93894,     0.93994,     0.94094,     0.94194,     0.94294,     0.94394,     0.94494,     0.94595,     0.94695,     0.94795,     0.94895,     0.94995,     0.95095,     0.95195,     0.95295,     0.95395,     0.95495,     0.95596,     0.95696,     0.95796,     0.95896,     0.95996,\n",
       "           0.96096,     0.96196,     0.96296,     0.96396,     0.96496,     0.96597,     0.96697,     0.96797,     0.96897,     0.96997,     0.97097,     0.97197,     0.97297,     0.97397,     0.97497,     0.97598,     0.97698,     0.97798,     0.97898,     0.97998,     0.98098,     0.98198,     0.98298,     0.98398,\n",
       "           0.98498,     0.98599,     0.98699,     0.98799,     0.98899,     0.98999,     0.99099,     0.99199,     0.99299,     0.99399,     0.99499,       0.996,       0.997,       0.998,       0.999,           1]), array([[          1,           1,           1,           1,           1,           1,           1,           1,           1,           1,           1,           1,           1,           1,           1,           1,           1,           1,           1,           1,           1,           1,           1,\n",
       "                  1,           1,           1,           1,           1,           1,           1,           1,           1,           1,           1,           1,           1,           1,           1,           1,           1,           1,           1,           1,           1,           1,           1,\n",
       "                  1,     0.97959,     0.97959,     0.97959,     0.97959,     0.97959,     0.97959,     0.97959,     0.97959,     0.97959,     0.97959,     0.97959,     0.97959,     0.97959,     0.97959,     0.97959,     0.96154,     0.96154,     0.96154,     0.95714,     0.95714,     0.95714,     0.95714,\n",
       "            0.95714,     0.95714,     0.95714,     0.95714,     0.95714,     0.95714,     0.95714,     0.95714,     0.95714,     0.95714,     0.95714,     0.95714,     0.95714,     0.95714,     0.95714,     0.95714,     0.95714,     0.95714,     0.93151,     0.89873,     0.89873,     0.89873,     0.89873,\n",
       "            0.89024,     0.89024,     0.88372,     0.88372,     0.88372,     0.88372,       0.875,     0.86916,     0.86916,     0.86916,     0.86916,     0.86916,     0.86916,     0.86916,     0.86916,     0.86916,     0.86916,     0.86916,     0.86916,     0.86916,     0.86916,     0.86916,     0.86916,\n",
       "            0.86916,     0.86916,     0.86916,     0.86916,     0.86916,     0.86239,     0.84071,     0.84071,     0.83478,     0.82906,       0.824,       0.824,       0.824,       0.824,       0.824,       0.824,       0.824,       0.824,     0.82031,     0.82031,     0.80916,     0.80916,     0.80451,\n",
       "            0.80147,     0.80147,     0.80147,     0.79856,     0.79856,     0.79433,     0.79195,     0.79195,     0.79195,     0.79195,     0.79195,     0.79195,     0.79195,     0.79195,     0.78289,     0.78065,     0.78065,     0.78065,     0.77358,     0.77358,     0.77358,     0.77301,     0.77301,\n",
       "            0.77301,     0.76506,     0.76506,     0.75581,     0.75581,     0.75581,     0.75581,     0.75568,     0.75568,     0.75568,     0.74863,     0.74863,     0.74863,     0.74863,     0.74863,     0.74863,     0.74194,     0.74093,     0.74093,     0.74093,     0.74093,     0.74093,     0.74093,\n",
       "            0.73171,     0.73171,     0.73171,     0.73171,     0.73171,     0.73171,     0.73171,     0.73171,     0.73171,     0.72947,     0.72947,     0.72558,     0.72558,     0.72558,     0.72558,     0.72558,     0.72558,     0.72477,     0.72477,     0.72477,     0.71622,     0.71429,     0.71366,\n",
       "            0.71366,     0.71366,     0.71179,     0.71121,     0.71121,     0.71121,     0.70943,     0.70943,     0.70943,     0.70943,     0.70943,     0.70943,     0.70943,     0.70943,     0.70943,     0.70943,     0.70943,     0.70943,     0.70943,     0.70943,     0.70943,     0.70943,     0.70943,\n",
       "            0.70943,     0.70943,     0.70943,     0.70943,     0.70943,     0.70943,     0.70943,     0.70943,     0.70943,     0.70943,     0.70943,     0.70943,      0.7048,      0.7048,      0.7048,      0.7048,     0.70438,     0.70438,     0.70438,     0.70397,     0.70397,     0.68836,     0.68836,\n",
       "            0.68836,     0.68836,     0.68836,     0.68836,     0.68836,     0.68836,     0.68707,     0.68687,     0.68687,     0.68687,     0.68562,     0.68439,     0.68092,     0.68092,     0.68078,     0.68078,     0.67961,     0.67732,     0.67732,     0.67732,     0.67192,     0.67081,     0.67081,\n",
       "            0.67081,     0.67081,     0.66769,     0.66463,     0.66463,     0.65487,     0.65487,     0.65487,     0.65487,     0.65487,      0.6513,      0.6513,      0.6513,      0.6513,      0.6513,     0.64773,     0.64773,     0.64773,      0.6456,      0.6456,      0.6456,      0.6456,      0.6456,\n",
       "             0.6456,      0.6456,      0.6456,      0.6456,     0.64247,     0.64247,     0.64247,     0.64247,     0.64247,     0.64021,     0.64021,     0.64021,     0.64021,     0.63281,     0.62821,     0.62821,     0.62657,     0.62657,     0.62657,     0.62657,     0.62657,     0.62657,     0.62657,\n",
       "            0.62624,     0.62624,     0.62624,     0.62624,     0.61594,     0.61594,     0.61429,     0.61429,     0.61429,     0.61429,     0.60373,     0.59091,     0.59091,     0.58929,     0.58929,     0.58929,     0.58929,     0.58929,      0.5872,      0.5872,     0.58606,     0.58606,     0.58606,\n",
       "            0.58606,     0.58568,     0.58568,     0.58495,     0.58495,     0.58085,     0.58051,     0.58051,     0.57292,     0.57143,     0.57143,     0.57143,     0.57143,     0.57143,     0.57143,     0.57114,     0.57114,      0.5703,      0.5703,      0.5703,      0.5703,      0.5703,      0.5703,\n",
       "             0.5703,      0.5703,      0.5703,     0.57002,     0.56641,     0.56615,     0.56615,     0.55939,     0.55682,     0.55682,     0.55556,     0.55556,     0.55535,     0.55307,     0.54982,     0.54982,     0.54845,     0.54845,     0.54827,     0.53546,     0.53546,     0.53534,     0.53484,\n",
       "            0.53484,     0.53484,     0.53484,     0.53484,     0.52921,     0.52911,     0.52911,     0.52891,     0.52891,     0.52782,     0.52782,     0.52782,     0.52773,     0.52318,     0.52318,     0.52318,     0.51967,     0.50476,     0.49922,     0.49922,     0.49922,     0.49462,     0.49462,\n",
       "            0.48792,     0.48792,     0.48503,     0.48363,      0.4823,      0.4823,      0.4823,     0.47959,     0.47959,     0.47896,     0.47896,     0.47421,     0.46893,     0.46835,     0.46835,     0.46779,     0.46537,     0.46537,     0.46228,     0.46228,     0.45553,     0.45503,     0.45033,\n",
       "            0.45033,     0.44401,     0.44358,     0.44273,     0.44273,     0.44273,     0.44133,     0.44133,     0.44106,     0.44106,     0.44106,     0.43955,     0.43695,     0.43602,     0.43602,     0.43049,     0.43049,     0.42805,     0.42805,     0.42464,     0.42299,     0.42299,     0.42299,\n",
       "            0.41822,     0.41696,     0.41336,     0.41336,     0.41336,     0.41336,     0.41336,     0.41336,     0.41336,     0.41336,     0.41077,     0.40241,     0.40175,     0.40175,         0.4,         0.4,         0.4,         0.4,         0.4,     0.39936,     0.39577,     0.39413,     0.39413,\n",
       "            0.39413,     0.37179,     0.37059,     0.37059,     0.35487,     0.35415,      0.3518,     0.35014,     0.35014,     0.33715,     0.33362,     0.33304,      0.3277,      0.3277,      0.3277,      0.3277,     0.32607,     0.32607,     0.32392,     0.32155,     0.31948,     0.31873,     0.31873,\n",
       "            0.31723,     0.31524,     0.31383,     0.31383,     0.31383,     0.31343,     0.31343,     0.31201,     0.31201,     0.31042,     0.31042,     0.30976,     0.30976,      0.3056,     0.30269,     0.30231,     0.30104,     0.30104,     0.29565,     0.29433,     0.29433,     0.29433,      0.2919,\n",
       "            0.29137,     0.29003,      0.2887,      0.2887,      0.2886,     0.28493,     0.28252,     0.28252,     0.27904,     0.27225,     0.27126,     0.27126,     0.27126,     0.26692,     0.26388,     0.26385,     0.26385,     0.26235,     0.26215,     0.26132,     0.25491,     0.25491,     0.25058,\n",
       "            0.24899,     0.24899,     0.24899,     0.24843,     0.24843,     0.24843,       0.248,       0.248,     0.24773,     0.24606,      0.2458,      0.2458,      0.2458,     0.24526,     0.24324,     0.24221,     0.24221,     0.24221,     0.24144,     0.23721,     0.23721,     0.23449,     0.22935,\n",
       "            0.22908,     0.22908,     0.22908,     0.22843,     0.22663,     0.21658,     0.21658,     0.21298,     0.21182,     0.21182,     0.21004,     0.21004,     0.20839,     0.20809,     0.20788,     0.20788,     0.20609,     0.20504,     0.20504,     0.20504,     0.20504,     0.20504,     0.20458,\n",
       "            0.20252,     0.20252,     0.20129,     0.20051,     0.20026,     0.20026,     0.19983,     0.19715,     0.19658,     0.19579,     0.19579,     0.19579,     0.19388,     0.19256,     0.19164,     0.19164,     0.19059,     0.18873,     0.18787,     0.18787,     0.18493,     0.18439,     0.17969,\n",
       "            0.17886,     0.17886,     0.17877,     0.17476,     0.16793,     0.16793,     0.16387,     0.16333,     0.16312,     0.16312,     0.16312,     0.15739,     0.15691,      0.1564,      0.1564,      0.1564,     0.15558,     0.15558,     0.15558,     0.15558,      0.1514,     0.15101,     0.15098,\n",
       "            0.15098,     0.15098,     0.15087,     0.14797,     0.14667,     0.14667,     0.14465,     0.14334,     0.14286,     0.14286,     0.14119,      0.1405,     0.14027,     0.14027,     0.13943,     0.13753,      0.1362,     0.13603,     0.13603,     0.13306,     0.13299,     0.13299,     0.12994,\n",
       "            0.12994,      0.1278,      0.1256,     0.12402,     0.12402,     0.12291,     0.12009,     0.12009,     0.12009,     0.12009,     0.11915,     0.11892,     0.11737,     0.11737,     0.11684,     0.11663,     0.11394,     0.11345,     0.11345,      0.1134,     0.11311,     0.11157,     0.11157,\n",
       "            0.11111,     0.11111,     0.11061,     0.10938,     0.10938,      0.1079,     0.10449,     0.10442,     0.10442,     0.10409,     0.10409,      0.1037,     0.10265,     0.10265,     0.10146,     0.10083,     0.10059,     0.10059,    0.099946,    0.093444,    0.093444,     0.09336,     0.09336,\n",
       "           0.092315,    0.091704,    0.090144,    0.090144,    0.090073,    0.085987,    0.085732,     0.08337,     0.08337,    0.083247,    0.082733,    0.082504,    0.082504,    0.082278,    0.081135,    0.080965,    0.078856,    0.078856,    0.078559,    0.077425,     0.07735,     0.07735,    0.077068,\n",
       "           0.076954,    0.075151,     0.07296,     0.07296,    0.071455,    0.070754,    0.070308,    0.070308,    0.069541,     0.06899,    0.068986,    0.068454,    0.068454,    0.068259,    0.066206,    0.065627,    0.065627,    0.064516,    0.063892,    0.063892,    0.063395,    0.063395,    0.061625,\n",
       "           0.060815,    0.060193,    0.060193,    0.057578,    0.054721,    0.054335,    0.054335,    0.054335,    0.053832,    0.053336,    0.050625,    0.050625,    0.047461,    0.047289,     0.04634,    0.044395,    0.044395,    0.044395,    0.042696,    0.041888,    0.041888,    0.037203,    0.032776,\n",
       "           0.032626,    0.032476,    0.032325,    0.032175,    0.032025,    0.031874,    0.031724,    0.031574,    0.031423,    0.031273,    0.031123,    0.030972,    0.030822,    0.030672,    0.030521,    0.030371,     0.03022,     0.03007,     0.02992,    0.029769,    0.029619,    0.029469,    0.029318,\n",
       "           0.029168,    0.029018,    0.028867,    0.028717,    0.028567,    0.028416,    0.028266,    0.028116,    0.027965,    0.027815,    0.027664,    0.027514,    0.027364,    0.027213,    0.027063,    0.026913,    0.026762,    0.026612,    0.026462,    0.026311,    0.026161,    0.026011,     0.02586,\n",
       "            0.02571,     0.02556,    0.025409,    0.025259,    0.025109,    0.024958,    0.024808,    0.024657,    0.024507,    0.024357,    0.024206,    0.024056,    0.023906,    0.023755,    0.023605,    0.023455,    0.023304,    0.023154,    0.023004,    0.022853,    0.022703,    0.022553,    0.022402,\n",
       "           0.022252,    0.022102,    0.021951,    0.021801,     0.02165,      0.0215,     0.02135,    0.021199,    0.021049,    0.020899,    0.020748,    0.020598,    0.020448,    0.020297,    0.020147,    0.019997,    0.019846,    0.019696,    0.019546,    0.019395,    0.019245,    0.019095,    0.018944,\n",
       "           0.018794,    0.018643,    0.018493,    0.018343,    0.018192,    0.018042,    0.017892,    0.017741,    0.017591,    0.017441,     0.01729,     0.01714,     0.01699,    0.016839,    0.016689,    0.016539,    0.016388,    0.016238,    0.016088,    0.015937,    0.015787,    0.015636,    0.015486,\n",
       "           0.015336,    0.015185,    0.015035,    0.014885,    0.014734,    0.014584,    0.014434,    0.014283,    0.014133,    0.013983,    0.013832,    0.013682,    0.013532,    0.013381,    0.013231,     0.01308,     0.01293,     0.01278,    0.012629,    0.012479,    0.012329,    0.012178,    0.012028,\n",
       "           0.011878,    0.011727,    0.011577,    0.011427,    0.011276,    0.011126,    0.010976,    0.010825,    0.010675,    0.010525,    0.010374,    0.010224,    0.010073,   0.0099231,   0.0097728,   0.0096224,   0.0094721,   0.0093217,   0.0091714,    0.009021,   0.0088707,   0.0087203,     0.00857,\n",
       "          0.0084196,   0.0082693,   0.0081189,   0.0079686,   0.0078182,   0.0076679,   0.0075175,   0.0073672,   0.0072168,   0.0070665,   0.0069161,   0.0067658,   0.0066154,   0.0064651,   0.0063147,   0.0061644,    0.006014,   0.0058637,   0.0057133,    0.005563,   0.0054126,   0.0052623,   0.0051119,\n",
       "          0.0049616,   0.0048112,   0.0046609,   0.0045105,   0.0043602,   0.0042098,   0.0040595,   0.0039091,   0.0037588,   0.0036084,   0.0034581,   0.0033077,   0.0031574,    0.003007,   0.0028567,   0.0027063,    0.002556,   0.0024056,   0.0022553,   0.0021049,   0.0019546,   0.0018042,   0.0016539,\n",
       "          0.0015035,   0.0013532,   0.0012028,   0.0010525,   0.0009021,  0.00075175,   0.0006014,  0.00045105,   0.0003007,  0.00015035,           0]]), 'Recall', 'Precision'], [array([          0,    0.001001,    0.002002,    0.003003,    0.004004,    0.005005,    0.006006,    0.007007,    0.008008,    0.009009,     0.01001,    0.011011,    0.012012,    0.013013,    0.014014,    0.015015,    0.016016,    0.017017,    0.018018,    0.019019,     0.02002,    0.021021,    0.022022,    0.023023,\n",
       "          0.024024,    0.025025,    0.026026,    0.027027,    0.028028,    0.029029,     0.03003,    0.031031,    0.032032,    0.033033,    0.034034,    0.035035,    0.036036,    0.037037,    0.038038,    0.039039,     0.04004,    0.041041,    0.042042,    0.043043,    0.044044,    0.045045,    0.046046,    0.047047,\n",
       "          0.048048,    0.049049,     0.05005,    0.051051,    0.052052,    0.053053,    0.054054,    0.055055,    0.056056,    0.057057,    0.058058,    0.059059,     0.06006,    0.061061,    0.062062,    0.063063,    0.064064,    0.065065,    0.066066,    0.067067,    0.068068,    0.069069,     0.07007,    0.071071,\n",
       "          0.072072,    0.073073,    0.074074,    0.075075,    0.076076,    0.077077,    0.078078,    0.079079,     0.08008,    0.081081,    0.082082,    0.083083,    0.084084,    0.085085,    0.086086,    0.087087,    0.088088,    0.089089,     0.09009,    0.091091,    0.092092,    0.093093,    0.094094,    0.095095,\n",
       "          0.096096,    0.097097,    0.098098,    0.099099,      0.1001,      0.1011,      0.1021,      0.1031,      0.1041,     0.10511,     0.10611,     0.10711,     0.10811,     0.10911,     0.11011,     0.11111,     0.11211,     0.11311,     0.11411,     0.11512,     0.11612,     0.11712,     0.11812,     0.11912,\n",
       "           0.12012,     0.12112,     0.12212,     0.12312,     0.12412,     0.12513,     0.12613,     0.12713,     0.12813,     0.12913,     0.13013,     0.13113,     0.13213,     0.13313,     0.13413,     0.13514,     0.13614,     0.13714,     0.13814,     0.13914,     0.14014,     0.14114,     0.14214,     0.14314,\n",
       "           0.14414,     0.14515,     0.14615,     0.14715,     0.14815,     0.14915,     0.15015,     0.15115,     0.15215,     0.15315,     0.15415,     0.15516,     0.15616,     0.15716,     0.15816,     0.15916,     0.16016,     0.16116,     0.16216,     0.16316,     0.16416,     0.16517,     0.16617,     0.16717,\n",
       "           0.16817,     0.16917,     0.17017,     0.17117,     0.17217,     0.17317,     0.17417,     0.17518,     0.17618,     0.17718,     0.17818,     0.17918,     0.18018,     0.18118,     0.18218,     0.18318,     0.18418,     0.18519,     0.18619,     0.18719,     0.18819,     0.18919,     0.19019,     0.19119,\n",
       "           0.19219,     0.19319,     0.19419,      0.1952,      0.1962,      0.1972,      0.1982,      0.1992,      0.2002,      0.2012,      0.2022,      0.2032,      0.2042,     0.20521,     0.20621,     0.20721,     0.20821,     0.20921,     0.21021,     0.21121,     0.21221,     0.21321,     0.21421,     0.21522,\n",
       "           0.21622,     0.21722,     0.21822,     0.21922,     0.22022,     0.22122,     0.22222,     0.22322,     0.22422,     0.22523,     0.22623,     0.22723,     0.22823,     0.22923,     0.23023,     0.23123,     0.23223,     0.23323,     0.23423,     0.23524,     0.23624,     0.23724,     0.23824,     0.23924,\n",
       "           0.24024,     0.24124,     0.24224,     0.24324,     0.24424,     0.24525,     0.24625,     0.24725,     0.24825,     0.24925,     0.25025,     0.25125,     0.25225,     0.25325,     0.25425,     0.25526,     0.25626,     0.25726,     0.25826,     0.25926,     0.26026,     0.26126,     0.26226,     0.26326,\n",
       "           0.26426,     0.26527,     0.26627,     0.26727,     0.26827,     0.26927,     0.27027,     0.27127,     0.27227,     0.27327,     0.27427,     0.27528,     0.27628,     0.27728,     0.27828,     0.27928,     0.28028,     0.28128,     0.28228,     0.28328,     0.28428,     0.28529,     0.28629,     0.28729,\n",
       "           0.28829,     0.28929,     0.29029,     0.29129,     0.29229,     0.29329,     0.29429,      0.2953,      0.2963,      0.2973,      0.2983,      0.2993,      0.3003,      0.3013,      0.3023,      0.3033,      0.3043,     0.30531,     0.30631,     0.30731,     0.30831,     0.30931,     0.31031,     0.31131,\n",
       "           0.31231,     0.31331,     0.31431,     0.31532,     0.31632,     0.31732,     0.31832,     0.31932,     0.32032,     0.32132,     0.32232,     0.32332,     0.32432,     0.32533,     0.32633,     0.32733,     0.32833,     0.32933,     0.33033,     0.33133,     0.33233,     0.33333,     0.33433,     0.33534,\n",
       "           0.33634,     0.33734,     0.33834,     0.33934,     0.34034,     0.34134,     0.34234,     0.34334,     0.34434,     0.34535,     0.34635,     0.34735,     0.34835,     0.34935,     0.35035,     0.35135,     0.35235,     0.35335,     0.35435,     0.35536,     0.35636,     0.35736,     0.35836,     0.35936,\n",
       "           0.36036,     0.36136,     0.36236,     0.36336,     0.36436,     0.36537,     0.36637,     0.36737,     0.36837,     0.36937,     0.37037,     0.37137,     0.37237,     0.37337,     0.37437,     0.37538,     0.37638,     0.37738,     0.37838,     0.37938,     0.38038,     0.38138,     0.38238,     0.38338,\n",
       "           0.38438,     0.38539,     0.38639,     0.38739,     0.38839,     0.38939,     0.39039,     0.39139,     0.39239,     0.39339,     0.39439,      0.3954,      0.3964,      0.3974,      0.3984,      0.3994,      0.4004,      0.4014,      0.4024,      0.4034,      0.4044,     0.40541,     0.40641,     0.40741,\n",
       "           0.40841,     0.40941,     0.41041,     0.41141,     0.41241,     0.41341,     0.41441,     0.41542,     0.41642,     0.41742,     0.41842,     0.41942,     0.42042,     0.42142,     0.42242,     0.42342,     0.42442,     0.42543,     0.42643,     0.42743,     0.42843,     0.42943,     0.43043,     0.43143,\n",
       "           0.43243,     0.43343,     0.43443,     0.43544,     0.43644,     0.43744,     0.43844,     0.43944,     0.44044,     0.44144,     0.44244,     0.44344,     0.44444,     0.44545,     0.44645,     0.44745,     0.44845,     0.44945,     0.45045,     0.45145,     0.45245,     0.45345,     0.45445,     0.45546,\n",
       "           0.45646,     0.45746,     0.45846,     0.45946,     0.46046,     0.46146,     0.46246,     0.46346,     0.46446,     0.46547,     0.46647,     0.46747,     0.46847,     0.46947,     0.47047,     0.47147,     0.47247,     0.47347,     0.47447,     0.47548,     0.47648,     0.47748,     0.47848,     0.47948,\n",
       "           0.48048,     0.48148,     0.48248,     0.48348,     0.48448,     0.48549,     0.48649,     0.48749,     0.48849,     0.48949,     0.49049,     0.49149,     0.49249,     0.49349,     0.49449,      0.4955,      0.4965,      0.4975,      0.4985,      0.4995,      0.5005,      0.5015,      0.5025,      0.5035,\n",
       "            0.5045,     0.50551,     0.50651,     0.50751,     0.50851,     0.50951,     0.51051,     0.51151,     0.51251,     0.51351,     0.51451,     0.51552,     0.51652,     0.51752,     0.51852,     0.51952,     0.52052,     0.52152,     0.52252,     0.52352,     0.52452,     0.52553,     0.52653,     0.52753,\n",
       "           0.52853,     0.52953,     0.53053,     0.53153,     0.53253,     0.53353,     0.53453,     0.53554,     0.53654,     0.53754,     0.53854,     0.53954,     0.54054,     0.54154,     0.54254,     0.54354,     0.54454,     0.54555,     0.54655,     0.54755,     0.54855,     0.54955,     0.55055,     0.55155,\n",
       "           0.55255,     0.55355,     0.55455,     0.55556,     0.55656,     0.55756,     0.55856,     0.55956,     0.56056,     0.56156,     0.56256,     0.56356,     0.56456,     0.56557,     0.56657,     0.56757,     0.56857,     0.56957,     0.57057,     0.57157,     0.57257,     0.57357,     0.57457,     0.57558,\n",
       "           0.57658,     0.57758,     0.57858,     0.57958,     0.58058,     0.58158,     0.58258,     0.58358,     0.58458,     0.58559,     0.58659,     0.58759,     0.58859,     0.58959,     0.59059,     0.59159,     0.59259,     0.59359,     0.59459,      0.5956,      0.5966,      0.5976,      0.5986,      0.5996,\n",
       "            0.6006,      0.6016,      0.6026,      0.6036,      0.6046,     0.60561,     0.60661,     0.60761,     0.60861,     0.60961,     0.61061,     0.61161,     0.61261,     0.61361,     0.61461,     0.61562,     0.61662,     0.61762,     0.61862,     0.61962,     0.62062,     0.62162,     0.62262,     0.62362,\n",
       "           0.62462,     0.62563,     0.62663,     0.62763,     0.62863,     0.62963,     0.63063,     0.63163,     0.63263,     0.63363,     0.63463,     0.63564,     0.63664,     0.63764,     0.63864,     0.63964,     0.64064,     0.64164,     0.64264,     0.64364,     0.64464,     0.64565,     0.64665,     0.64765,\n",
       "           0.64865,     0.64965,     0.65065,     0.65165,     0.65265,     0.65365,     0.65465,     0.65566,     0.65666,     0.65766,     0.65866,     0.65966,     0.66066,     0.66166,     0.66266,     0.66366,     0.66466,     0.66567,     0.66667,     0.66767,     0.66867,     0.66967,     0.67067,     0.67167,\n",
       "           0.67267,     0.67367,     0.67467,     0.67568,     0.67668,     0.67768,     0.67868,     0.67968,     0.68068,     0.68168,     0.68268,     0.68368,     0.68468,     0.68569,     0.68669,     0.68769,     0.68869,     0.68969,     0.69069,     0.69169,     0.69269,     0.69369,     0.69469,      0.6957,\n",
       "            0.6967,      0.6977,      0.6987,      0.6997,      0.7007,      0.7017,      0.7027,      0.7037,      0.7047,     0.70571,     0.70671,     0.70771,     0.70871,     0.70971,     0.71071,     0.71171,     0.71271,     0.71371,     0.71471,     0.71572,     0.71672,     0.71772,     0.71872,     0.71972,\n",
       "           0.72072,     0.72172,     0.72272,     0.72372,     0.72472,     0.72573,     0.72673,     0.72773,     0.72873,     0.72973,     0.73073,     0.73173,     0.73273,     0.73373,     0.73473,     0.73574,     0.73674,     0.73774,     0.73874,     0.73974,     0.74074,     0.74174,     0.74274,     0.74374,\n",
       "           0.74474,     0.74575,     0.74675,     0.74775,     0.74875,     0.74975,     0.75075,     0.75175,     0.75275,     0.75375,     0.75475,     0.75576,     0.75676,     0.75776,     0.75876,     0.75976,     0.76076,     0.76176,     0.76276,     0.76376,     0.76476,     0.76577,     0.76677,     0.76777,\n",
       "           0.76877,     0.76977,     0.77077,     0.77177,     0.77277,     0.77377,     0.77477,     0.77578,     0.77678,     0.77778,     0.77878,     0.77978,     0.78078,     0.78178,     0.78278,     0.78378,     0.78478,     0.78579,     0.78679,     0.78779,     0.78879,     0.78979,     0.79079,     0.79179,\n",
       "           0.79279,     0.79379,     0.79479,      0.7958,      0.7968,      0.7978,      0.7988,      0.7998,      0.8008,      0.8018,      0.8028,      0.8038,      0.8048,     0.80581,     0.80681,     0.80781,     0.80881,     0.80981,     0.81081,     0.81181,     0.81281,     0.81381,     0.81481,     0.81582,\n",
       "           0.81682,     0.81782,     0.81882,     0.81982,     0.82082,     0.82182,     0.82282,     0.82382,     0.82482,     0.82583,     0.82683,     0.82783,     0.82883,     0.82983,     0.83083,     0.83183,     0.83283,     0.83383,     0.83483,     0.83584,     0.83684,     0.83784,     0.83884,     0.83984,\n",
       "           0.84084,     0.84184,     0.84284,     0.84384,     0.84484,     0.84585,     0.84685,     0.84785,     0.84885,     0.84985,     0.85085,     0.85185,     0.85285,     0.85385,     0.85485,     0.85586,     0.85686,     0.85786,     0.85886,     0.85986,     0.86086,     0.86186,     0.86286,     0.86386,\n",
       "           0.86486,     0.86587,     0.86687,     0.86787,     0.86887,     0.86987,     0.87087,     0.87187,     0.87287,     0.87387,     0.87487,     0.87588,     0.87688,     0.87788,     0.87888,     0.87988,     0.88088,     0.88188,     0.88288,     0.88388,     0.88488,     0.88589,     0.88689,     0.88789,\n",
       "           0.88889,     0.88989,     0.89089,     0.89189,     0.89289,     0.89389,     0.89489,      0.8959,      0.8969,      0.8979,      0.8989,      0.8999,      0.9009,      0.9019,      0.9029,      0.9039,      0.9049,     0.90591,     0.90691,     0.90791,     0.90891,     0.90991,     0.91091,     0.91191,\n",
       "           0.91291,     0.91391,     0.91491,     0.91592,     0.91692,     0.91792,     0.91892,     0.91992,     0.92092,     0.92192,     0.92292,     0.92392,     0.92492,     0.92593,     0.92693,     0.92793,     0.92893,     0.92993,     0.93093,     0.93193,     0.93293,     0.93393,     0.93493,     0.93594,\n",
       "           0.93694,     0.93794,     0.93894,     0.93994,     0.94094,     0.94194,     0.94294,     0.94394,     0.94494,     0.94595,     0.94695,     0.94795,     0.94895,     0.94995,     0.95095,     0.95195,     0.95295,     0.95395,     0.95495,     0.95596,     0.95696,     0.95796,     0.95896,     0.95996,\n",
       "           0.96096,     0.96196,     0.96296,     0.96396,     0.96496,     0.96597,     0.96697,     0.96797,     0.96897,     0.96997,     0.97097,     0.97197,     0.97297,     0.97397,     0.97497,     0.97598,     0.97698,     0.97798,     0.97898,     0.97998,     0.98098,     0.98198,     0.98298,     0.98398,\n",
       "           0.98498,     0.98599,     0.98699,     0.98799,     0.98899,     0.98999,     0.99099,     0.99199,     0.99299,     0.99399,     0.99499,       0.996,       0.997,       0.998,       0.999,           1]), array([[   0.063071,    0.063071,    0.095741,     0.12126,     0.14133,     0.15839,      0.1755,     0.18834,      0.1994,      0.2096,     0.22066,     0.22983,     0.23687,     0.24424,     0.25147,     0.25921,     0.26571,     0.27483,     0.28121,     0.28735,     0.29167,     0.29747,     0.30169,\n",
       "            0.30579,     0.31042,      0.3132,     0.31979,      0.3252,     0.32778,     0.33252,       0.338,     0.34043,     0.34288,     0.34346,     0.34678,     0.35151,     0.35438,     0.35684,     0.36108,     0.36188,     0.36548,     0.36925,     0.37008,     0.37371,     0.37578,     0.37756,\n",
       "            0.37951,     0.38175,     0.38268,     0.38548,     0.38748,     0.38771,     0.38847,     0.38884,     0.39096,     0.39285,     0.39494,     0.39505,     0.39779,     0.40015,      0.4025,     0.40539,     0.40808,     0.40887,     0.41049,     0.41278,     0.41692,     0.41975,     0.42079,\n",
       "            0.42231,      0.4239,     0.42489,     0.42685,     0.42987,     0.43253,     0.43296,     0.43369,     0.43573,      0.4346,     0.43376,     0.43406,     0.43429,     0.43621,     0.43829,     0.43867,     0.43931,     0.43727,     0.43666,     0.43687,     0.43673,     0.43833,     0.43833,\n",
       "            0.44024,     0.43974,     0.44042,     0.44048,     0.44161,     0.44197,      0.4437,     0.44358,     0.44427,     0.44278,     0.44173,     0.44106,     0.44096,     0.44061,     0.44294,      0.4433,     0.44405,     0.44485,     0.44401,     0.44497,     0.44565,     0.44658,     0.44698,\n",
       "            0.44766,     0.44677,      0.4474,     0.44725,       0.447,     0.44739,     0.44848,     0.44989,     0.44884,      0.4485,     0.44946,     0.44831,     0.44759,     0.44866,     0.44815,     0.44927,     0.44968,     0.45048,     0.45054,      0.4495,     0.45063,     0.45128,     0.44948,\n",
       "            0.44972,     0.45034,     0.45155,     0.45213,     0.45346,     0.45445,     0.45512,     0.45579,     0.45679,     0.45701,     0.45543,      0.4562,     0.45744,     0.45644,     0.45527,     0.45346,      0.4525,     0.45284,     0.45315,     0.45359,     0.45411,     0.45343,     0.45129,\n",
       "            0.45077,     0.45028,      0.4502,     0.45088,     0.45213,     0.45333,     0.45384,     0.45298,     0.45251,     0.45174,     0.45139,     0.45103,     0.45108,     0.45109,      0.4513,     0.45184,     0.45204,     0.45144,     0.45167,     0.44996,     0.44838,     0.44931,     0.44849,\n",
       "            0.44872,     0.44968,     0.45027,     0.44879,     0.44936,     0.44993,     0.44419,     0.44352,     0.44267,     0.44222,     0.44193,     0.43878,     0.43769,     0.43675,     0.43735,     0.43752,     0.43701,     0.43807,     0.43758,     0.43671,     0.43725,     0.43755,     0.43575,\n",
       "            0.43497,     0.43513,     0.43492,     0.43304,     0.43265,     0.43227,     0.43188,     0.43197,     0.43132,     0.43082,     0.43035,     0.43008,     0.43095,      0.4278,     0.42642,     0.42682,     0.42708,     0.42688,     0.42646,     0.42754,     0.42853,      0.4287,      0.4289,\n",
       "            0.42916,     0.42934,     0.42951,     0.42905,     0.42926,     0.42977,     0.43097,     0.42755,     0.42808,     0.42662,     0.42564,     0.42618,     0.42738,     0.42763,     0.42838,     0.42532,     0.42491,     0.42515,     0.42155,     0.42041,     0.41916,     0.41959,     0.41983,\n",
       "            0.41848,     0.41786,     0.41724,     0.41763,     0.41776,     0.41788,     0.41848,     0.41736,     0.41797,     0.41818,      0.4184,     0.41865,     0.41877,     0.41887,     0.41897,     0.41739,     0.41664,     0.41541,     0.41567,     0.41584,     0.41528,     0.41471,     0.41301,\n",
       "             0.4119,     0.41109,     0.41101,     0.41167,     0.41012,      0.4093,     0.40768,     0.40672,     0.40264,     0.40294,     0.40326,     0.40363,     0.40384,     0.40252,      0.4007,     0.39875,      0.3969,      0.3971,     0.39767,      0.3973,     0.39494,     0.39395,     0.39276,\n",
       "            0.39397,     0.39432,     0.39453,      0.3934,     0.39335,     0.39283,      0.3927,     0.39085,     0.38888,     0.38882,     0.38897,     0.38865,     0.38853,     0.38831,     0.38735,     0.38664,     0.38543,     0.38542,      0.3842,     0.38269,     0.38156,     0.38196,     0.37972,\n",
       "            0.37725,     0.37621,     0.37589,     0.37442,     0.37352,      0.3706,     0.36856,     0.36876,     0.36788,     0.36768,     0.36807,     0.36871,     0.36887,     0.36903,     0.36919,     0.36992,     0.36934,     0.36876,     0.36698,     0.36712,     0.36725,     0.36653,     0.36555,\n",
       "            0.36438,     0.36347,     0.36099,     0.36007,     0.36006,      0.3605,     0.35764,     0.35574,     0.35412,     0.35362,     0.35312,     0.35189,      0.3506,     0.34882,     0.34757,     0.34597,     0.34603,     0.34609,     0.34616,     0.34622,     0.34628,     0.34289,     0.34259,\n",
       "            0.34228,     0.34198,     0.34168,     0.33938,     0.33609,     0.33501,     0.33513,     0.33525,     0.33542,     0.33561,     0.33484,       0.334,     0.33233,     0.33108,     0.33125,     0.33121,     0.33076,     0.33031,     0.32986,     0.32645,     0.32667,      0.3268,     0.32688,\n",
       "            0.32697,     0.32537,     0.32492,     0.32446,     0.32401,      0.3238,     0.32396,     0.32329,     0.32254,     0.32222,     0.32124,     0.32058,     0.32001,     0.31944,      0.3195,     0.31967,     0.31801,      0.3167,     0.31734,     0.31715,     0.31429,     0.31432,     0.31369,\n",
       "            0.31306,     0.31093,     0.31064,     0.31035,     0.31006,     0.30976,     0.30947,     0.30806,     0.30784,     0.30796,     0.30737,     0.30678,     0.30634,     0.30522,     0.30538,     0.30536,     0.30477,     0.30418,      0.3015,     0.30041,      0.3005,     0.30019,     0.29988,\n",
       "            0.29957,     0.29926,     0.29895,     0.29755,     0.29576,     0.29551,     0.29566,     0.29418,     0.29428,     0.29432,     0.29437,     0.29441,     0.29445,      0.2945,     0.29481,     0.29391,     0.29303,     0.29237,     0.29172,     0.28949,     0.28858,     0.28788,     0.28742,\n",
       "            0.28697,     0.28651,     0.28639,     0.28654,     0.28491,     0.28507,     0.28519,     0.28529,     0.28539,     0.28476,     0.28384,     0.27863,     0.27886,      0.2789,     0.27895,     0.27899,     0.27903,     0.27907,     0.27912,     0.27733,     0.27685,     0.27639,     0.27592,\n",
       "            0.27545,     0.27483,     0.27421,     0.27209,     0.27172,     0.27134,     0.27097,      0.2706,     0.27006,     0.26913,      0.2686,     0.26917,     0.26864,     0.26757,     0.26772,     0.26766,     0.26671,     0.26529,      0.2634,     0.26258,     0.26265,     0.26272,      0.2628,\n",
       "            0.26159,     0.25914,      0.2592,     0.25925,     0.25931,     0.25937,     0.25928,      0.2588,     0.25832,     0.25784,     0.25617,     0.25437,     0.25445,     0.25452,     0.25459,     0.25482,     0.25386,     0.25289,     0.25192,     0.24906,     0.24808,     0.24731,     0.24745,\n",
       "            0.24542,     0.24445,     0.24382,     0.24211,     0.24218,     0.24225,     0.24232,     0.24216,     0.24167,     0.24118,     0.24068,     0.23994,     0.23896,     0.23866,     0.23764,     0.23507,     0.23496,     0.23463,      0.2343,     0.23396,     0.23363,      0.2333,     0.23343,\n",
       "            0.23295,     0.23229,     0.23162,     0.23176,     0.23181,     0.23184,     0.23187,      0.2319,     0.23192,     0.23195,     0.23198,     0.23201,     0.23203,     0.23079,     0.22815,     0.22817,      0.2282,     0.22822,     0.22825,     0.22828,      0.2283,     0.22833,     0.22835,\n",
       "            0.22838,     0.22551,      0.2245,     0.22419,     0.22392,     0.22365,     0.22338,     0.22311,     0.22284,     0.22257,     0.21986,     0.21884,     0.21855,     0.21861,     0.21867,     0.21874,     0.21823,     0.21755,     0.21687,     0.21681,     0.21686,     0.21692,     0.21697,\n",
       "            0.21677,     0.21626,     0.21575,     0.21524,     0.21504,      0.2151,     0.21516,     0.21523,     0.21436,     0.21152,     0.21173,     0.21181,     0.21189,     0.21199,     0.21211,     0.21199,      0.2114,     0.21081,     0.21022,      0.2085,     0.20602,     0.20567,     0.20533,\n",
       "            0.20498,     0.20463,     0.20413,      0.2018,     0.20001,     0.19966,     0.19931,     0.19896,     0.19861,     0.19826,      0.1971,     0.19596,     0.19543,     0.19491,     0.19438,     0.19391,     0.19352,     0.19314,     0.19275,     0.19237,     0.19192,     0.18979,     0.18748,\n",
       "            0.18552,      0.1851,     0.18467,     0.18424,     0.18382,     0.18267,     0.18162,     0.18165,     0.18168,     0.18172,     0.18175,     0.18178,     0.18182,     0.18103,     0.18017,     0.17976,     0.17983,      0.1799,     0.17783,      0.1779,     0.17797,     0.17784,     0.17639,\n",
       "            0.17597,     0.17604,     0.17611,     0.17567,     0.17505,     0.17443,     0.17044,     0.16994,     0.16688,     0.16578,     0.16577,     0.16585,     0.16483,     0.16343,      0.1628,     0.16217,     0.15945,     0.15958,     0.15985,      0.1599,     0.15996,     0.15787,     0.15811,\n",
       "            0.15737,     0.15625,     0.15558,     0.15502,     0.15446,      0.1539,     0.15327,     0.15263,     0.15199,     0.15123,     0.15033,      0.1494,      0.1479,     0.14701,     0.14656,      0.1461,     0.14565,      0.1452,     0.14348,     0.14049,     0.14027,     0.14005,     0.13984,\n",
       "            0.13962,      0.1394,     0.13919,     0.13897,     0.13875,     0.13854,     0.13589,     0.13523,     0.13458,     0.13143,     0.12916,     0.12859,     0.12801,     0.12744,     0.12472,      0.1243,     0.12388,     0.12345,     0.12303,     0.12202,     0.12049,     0.12053,     0.12057,\n",
       "            0.12061,     0.12046,     0.12007,     0.11968,      0.1193,     0.11891,     0.11852,     0.11813,     0.11774,     0.11736,     0.11697,     0.11658,     0.11619,     0.11509,      0.1138,     0.11328,     0.11276,     0.11224,     0.11172,     0.11152,     0.11138,     0.11123,     0.11108,\n",
       "            0.11093,     0.11079,     0.11064,     0.11049,     0.11035,      0.1102,     0.11005,     0.10991,     0.10976,     0.10961,     0.10946,     0.10905,     0.10787,     0.10632,     0.10462,     0.10422,     0.10383,     0.10343,     0.10304,     0.10264,     0.10187,     0.10068,    0.098858,\n",
       "           0.097634,    0.097336,    0.097038,    0.096739,    0.096441,    0.096143,    0.095844,    0.095546,    0.095215,    0.094873,    0.094532,     0.09419,    0.093848,    0.093506,    0.093164,    0.092585,    0.091986,    0.091386,    0.090774,    0.089573,    0.088454,    0.088487,    0.088519,\n",
       "            0.08855,    0.088036,    0.087231,    0.086427,    0.085937,    0.085565,    0.085193,    0.084821,    0.084448,    0.084076,    0.082912,    0.080983,    0.079768,    0.078961,    0.078636,    0.078312,    0.077987,    0.077662,    0.077337,    0.077012,    0.076502,    0.074873,    0.071704,\n",
       "           0.071327,    0.070949,    0.070572,    0.070194,    0.069816,    0.069486,    0.069252,    0.069018,    0.068784,    0.068549,    0.068315,     0.06808,    0.067846,    0.067611,    0.067377,     0.06701,    0.065366,    0.063978,    0.062741,    0.059687,    0.058445,    0.057301,    0.056471,\n",
       "            0.05564,    0.054286,    0.049906,    0.049069,    0.048232,    0.047443,    0.046725,    0.046005,    0.045285,    0.044026,    0.042745,    0.041059,    0.039763,    0.038749,    0.037758,    0.036911,    0.036063,    0.035031,    0.033332,    0.030988,    0.029091,    0.027785,    0.027357,\n",
       "           0.026929,    0.026501,    0.026073,    0.025644,    0.023042,    0.022064,    0.021204,    0.020353,    0.019706,    0.019059,    0.018412,    0.017818,    0.017545,    0.017272,    0.016999,    0.016726,    0.016453,     0.01618,    0.015907,    0.015633,     0.01536,    0.014676,    0.013932,\n",
       "           0.013189,    0.012548,    0.012026,    0.011505,    0.010983,    0.010461,    0.010172,    0.010051,   0.0099295,    0.009808,   0.0096865,   0.0095649,   0.0094434,   0.0093218,   0.0092002,   0.0090786,    0.008957,   0.0088354,   0.0087137,   0.0085921,   0.0084704,   0.0083487,    0.008227,\n",
       "          0.0081053,   0.0079836,   0.0078618,   0.0077401,   0.0073386,   0.0067564,   0.0061738,    0.005591,   0.0050531,    0.004678,   0.0043028,   0.0039274,   0.0035519,   0.0031763,   0.0028005,           0,           0,           0,           0,           0,           0,           0,           0,\n",
       "                  0,           0,           0,           0,           0,           0,           0,           0,           0,           0,           0,           0,           0,           0,           0,           0,           0,           0,           0,           0,           0,           0,           0,\n",
       "                  0,           0,           0,           0,           0,           0,           0,           0,           0,           0,           0,           0,           0,           0,           0,           0,           0,           0,           0,           0,           0,           0,           0,\n",
       "                  0,           0,           0,           0,           0,           0,           0,           0,           0,           0,           0]]), 'Confidence', 'F1'], [array([          0,    0.001001,    0.002002,    0.003003,    0.004004,    0.005005,    0.006006,    0.007007,    0.008008,    0.009009,     0.01001,    0.011011,    0.012012,    0.013013,    0.014014,    0.015015,    0.016016,    0.017017,    0.018018,    0.019019,     0.02002,    0.021021,    0.022022,    0.023023,\n",
       "          0.024024,    0.025025,    0.026026,    0.027027,    0.028028,    0.029029,     0.03003,    0.031031,    0.032032,    0.033033,    0.034034,    0.035035,    0.036036,    0.037037,    0.038038,    0.039039,     0.04004,    0.041041,    0.042042,    0.043043,    0.044044,    0.045045,    0.046046,    0.047047,\n",
       "          0.048048,    0.049049,     0.05005,    0.051051,    0.052052,    0.053053,    0.054054,    0.055055,    0.056056,    0.057057,    0.058058,    0.059059,     0.06006,    0.061061,    0.062062,    0.063063,    0.064064,    0.065065,    0.066066,    0.067067,    0.068068,    0.069069,     0.07007,    0.071071,\n",
       "          0.072072,    0.073073,    0.074074,    0.075075,    0.076076,    0.077077,    0.078078,    0.079079,     0.08008,    0.081081,    0.082082,    0.083083,    0.084084,    0.085085,    0.086086,    0.087087,    0.088088,    0.089089,     0.09009,    0.091091,    0.092092,    0.093093,    0.094094,    0.095095,\n",
       "          0.096096,    0.097097,    0.098098,    0.099099,      0.1001,      0.1011,      0.1021,      0.1031,      0.1041,     0.10511,     0.10611,     0.10711,     0.10811,     0.10911,     0.11011,     0.11111,     0.11211,     0.11311,     0.11411,     0.11512,     0.11612,     0.11712,     0.11812,     0.11912,\n",
       "           0.12012,     0.12112,     0.12212,     0.12312,     0.12412,     0.12513,     0.12613,     0.12713,     0.12813,     0.12913,     0.13013,     0.13113,     0.13213,     0.13313,     0.13413,     0.13514,     0.13614,     0.13714,     0.13814,     0.13914,     0.14014,     0.14114,     0.14214,     0.14314,\n",
       "           0.14414,     0.14515,     0.14615,     0.14715,     0.14815,     0.14915,     0.15015,     0.15115,     0.15215,     0.15315,     0.15415,     0.15516,     0.15616,     0.15716,     0.15816,     0.15916,     0.16016,     0.16116,     0.16216,     0.16316,     0.16416,     0.16517,     0.16617,     0.16717,\n",
       "           0.16817,     0.16917,     0.17017,     0.17117,     0.17217,     0.17317,     0.17417,     0.17518,     0.17618,     0.17718,     0.17818,     0.17918,     0.18018,     0.18118,     0.18218,     0.18318,     0.18418,     0.18519,     0.18619,     0.18719,     0.18819,     0.18919,     0.19019,     0.19119,\n",
       "           0.19219,     0.19319,     0.19419,      0.1952,      0.1962,      0.1972,      0.1982,      0.1992,      0.2002,      0.2012,      0.2022,      0.2032,      0.2042,     0.20521,     0.20621,     0.20721,     0.20821,     0.20921,     0.21021,     0.21121,     0.21221,     0.21321,     0.21421,     0.21522,\n",
       "           0.21622,     0.21722,     0.21822,     0.21922,     0.22022,     0.22122,     0.22222,     0.22322,     0.22422,     0.22523,     0.22623,     0.22723,     0.22823,     0.22923,     0.23023,     0.23123,     0.23223,     0.23323,     0.23423,     0.23524,     0.23624,     0.23724,     0.23824,     0.23924,\n",
       "           0.24024,     0.24124,     0.24224,     0.24324,     0.24424,     0.24525,     0.24625,     0.24725,     0.24825,     0.24925,     0.25025,     0.25125,     0.25225,     0.25325,     0.25425,     0.25526,     0.25626,     0.25726,     0.25826,     0.25926,     0.26026,     0.26126,     0.26226,     0.26326,\n",
       "           0.26426,     0.26527,     0.26627,     0.26727,     0.26827,     0.26927,     0.27027,     0.27127,     0.27227,     0.27327,     0.27427,     0.27528,     0.27628,     0.27728,     0.27828,     0.27928,     0.28028,     0.28128,     0.28228,     0.28328,     0.28428,     0.28529,     0.28629,     0.28729,\n",
       "           0.28829,     0.28929,     0.29029,     0.29129,     0.29229,     0.29329,     0.29429,      0.2953,      0.2963,      0.2973,      0.2983,      0.2993,      0.3003,      0.3013,      0.3023,      0.3033,      0.3043,     0.30531,     0.30631,     0.30731,     0.30831,     0.30931,     0.31031,     0.31131,\n",
       "           0.31231,     0.31331,     0.31431,     0.31532,     0.31632,     0.31732,     0.31832,     0.31932,     0.32032,     0.32132,     0.32232,     0.32332,     0.32432,     0.32533,     0.32633,     0.32733,     0.32833,     0.32933,     0.33033,     0.33133,     0.33233,     0.33333,     0.33433,     0.33534,\n",
       "           0.33634,     0.33734,     0.33834,     0.33934,     0.34034,     0.34134,     0.34234,     0.34334,     0.34434,     0.34535,     0.34635,     0.34735,     0.34835,     0.34935,     0.35035,     0.35135,     0.35235,     0.35335,     0.35435,     0.35536,     0.35636,     0.35736,     0.35836,     0.35936,\n",
       "           0.36036,     0.36136,     0.36236,     0.36336,     0.36436,     0.36537,     0.36637,     0.36737,     0.36837,     0.36937,     0.37037,     0.37137,     0.37237,     0.37337,     0.37437,     0.37538,     0.37638,     0.37738,     0.37838,     0.37938,     0.38038,     0.38138,     0.38238,     0.38338,\n",
       "           0.38438,     0.38539,     0.38639,     0.38739,     0.38839,     0.38939,     0.39039,     0.39139,     0.39239,     0.39339,     0.39439,      0.3954,      0.3964,      0.3974,      0.3984,      0.3994,      0.4004,      0.4014,      0.4024,      0.4034,      0.4044,     0.40541,     0.40641,     0.40741,\n",
       "           0.40841,     0.40941,     0.41041,     0.41141,     0.41241,     0.41341,     0.41441,     0.41542,     0.41642,     0.41742,     0.41842,     0.41942,     0.42042,     0.42142,     0.42242,     0.42342,     0.42442,     0.42543,     0.42643,     0.42743,     0.42843,     0.42943,     0.43043,     0.43143,\n",
       "           0.43243,     0.43343,     0.43443,     0.43544,     0.43644,     0.43744,     0.43844,     0.43944,     0.44044,     0.44144,     0.44244,     0.44344,     0.44444,     0.44545,     0.44645,     0.44745,     0.44845,     0.44945,     0.45045,     0.45145,     0.45245,     0.45345,     0.45445,     0.45546,\n",
       "           0.45646,     0.45746,     0.45846,     0.45946,     0.46046,     0.46146,     0.46246,     0.46346,     0.46446,     0.46547,     0.46647,     0.46747,     0.46847,     0.46947,     0.47047,     0.47147,     0.47247,     0.47347,     0.47447,     0.47548,     0.47648,     0.47748,     0.47848,     0.47948,\n",
       "           0.48048,     0.48148,     0.48248,     0.48348,     0.48448,     0.48549,     0.48649,     0.48749,     0.48849,     0.48949,     0.49049,     0.49149,     0.49249,     0.49349,     0.49449,      0.4955,      0.4965,      0.4975,      0.4985,      0.4995,      0.5005,      0.5015,      0.5025,      0.5035,\n",
       "            0.5045,     0.50551,     0.50651,     0.50751,     0.50851,     0.50951,     0.51051,     0.51151,     0.51251,     0.51351,     0.51451,     0.51552,     0.51652,     0.51752,     0.51852,     0.51952,     0.52052,     0.52152,     0.52252,     0.52352,     0.52452,     0.52553,     0.52653,     0.52753,\n",
       "           0.52853,     0.52953,     0.53053,     0.53153,     0.53253,     0.53353,     0.53453,     0.53554,     0.53654,     0.53754,     0.53854,     0.53954,     0.54054,     0.54154,     0.54254,     0.54354,     0.54454,     0.54555,     0.54655,     0.54755,     0.54855,     0.54955,     0.55055,     0.55155,\n",
       "           0.55255,     0.55355,     0.55455,     0.55556,     0.55656,     0.55756,     0.55856,     0.55956,     0.56056,     0.56156,     0.56256,     0.56356,     0.56456,     0.56557,     0.56657,     0.56757,     0.56857,     0.56957,     0.57057,     0.57157,     0.57257,     0.57357,     0.57457,     0.57558,\n",
       "           0.57658,     0.57758,     0.57858,     0.57958,     0.58058,     0.58158,     0.58258,     0.58358,     0.58458,     0.58559,     0.58659,     0.58759,     0.58859,     0.58959,     0.59059,     0.59159,     0.59259,     0.59359,     0.59459,      0.5956,      0.5966,      0.5976,      0.5986,      0.5996,\n",
       "            0.6006,      0.6016,      0.6026,      0.6036,      0.6046,     0.60561,     0.60661,     0.60761,     0.60861,     0.60961,     0.61061,     0.61161,     0.61261,     0.61361,     0.61461,     0.61562,     0.61662,     0.61762,     0.61862,     0.61962,     0.62062,     0.62162,     0.62262,     0.62362,\n",
       "           0.62462,     0.62563,     0.62663,     0.62763,     0.62863,     0.62963,     0.63063,     0.63163,     0.63263,     0.63363,     0.63463,     0.63564,     0.63664,     0.63764,     0.63864,     0.63964,     0.64064,     0.64164,     0.64264,     0.64364,     0.64464,     0.64565,     0.64665,     0.64765,\n",
       "           0.64865,     0.64965,     0.65065,     0.65165,     0.65265,     0.65365,     0.65465,     0.65566,     0.65666,     0.65766,     0.65866,     0.65966,     0.66066,     0.66166,     0.66266,     0.66366,     0.66466,     0.66567,     0.66667,     0.66767,     0.66867,     0.66967,     0.67067,     0.67167,\n",
       "           0.67267,     0.67367,     0.67467,     0.67568,     0.67668,     0.67768,     0.67868,     0.67968,     0.68068,     0.68168,     0.68268,     0.68368,     0.68468,     0.68569,     0.68669,     0.68769,     0.68869,     0.68969,     0.69069,     0.69169,     0.69269,     0.69369,     0.69469,      0.6957,\n",
       "            0.6967,      0.6977,      0.6987,      0.6997,      0.7007,      0.7017,      0.7027,      0.7037,      0.7047,     0.70571,     0.70671,     0.70771,     0.70871,     0.70971,     0.71071,     0.71171,     0.71271,     0.71371,     0.71471,     0.71572,     0.71672,     0.71772,     0.71872,     0.71972,\n",
       "           0.72072,     0.72172,     0.72272,     0.72372,     0.72472,     0.72573,     0.72673,     0.72773,     0.72873,     0.72973,     0.73073,     0.73173,     0.73273,     0.73373,     0.73473,     0.73574,     0.73674,     0.73774,     0.73874,     0.73974,     0.74074,     0.74174,     0.74274,     0.74374,\n",
       "           0.74474,     0.74575,     0.74675,     0.74775,     0.74875,     0.74975,     0.75075,     0.75175,     0.75275,     0.75375,     0.75475,     0.75576,     0.75676,     0.75776,     0.75876,     0.75976,     0.76076,     0.76176,     0.76276,     0.76376,     0.76476,     0.76577,     0.76677,     0.76777,\n",
       "           0.76877,     0.76977,     0.77077,     0.77177,     0.77277,     0.77377,     0.77477,     0.77578,     0.77678,     0.77778,     0.77878,     0.77978,     0.78078,     0.78178,     0.78278,     0.78378,     0.78478,     0.78579,     0.78679,     0.78779,     0.78879,     0.78979,     0.79079,     0.79179,\n",
       "           0.79279,     0.79379,     0.79479,      0.7958,      0.7968,      0.7978,      0.7988,      0.7998,      0.8008,      0.8018,      0.8028,      0.8038,      0.8048,     0.80581,     0.80681,     0.80781,     0.80881,     0.80981,     0.81081,     0.81181,     0.81281,     0.81381,     0.81481,     0.81582,\n",
       "           0.81682,     0.81782,     0.81882,     0.81982,     0.82082,     0.82182,     0.82282,     0.82382,     0.82482,     0.82583,     0.82683,     0.82783,     0.82883,     0.82983,     0.83083,     0.83183,     0.83283,     0.83383,     0.83483,     0.83584,     0.83684,     0.83784,     0.83884,     0.83984,\n",
       "           0.84084,     0.84184,     0.84284,     0.84384,     0.84484,     0.84585,     0.84685,     0.84785,     0.84885,     0.84985,     0.85085,     0.85185,     0.85285,     0.85385,     0.85485,     0.85586,     0.85686,     0.85786,     0.85886,     0.85986,     0.86086,     0.86186,     0.86286,     0.86386,\n",
       "           0.86486,     0.86587,     0.86687,     0.86787,     0.86887,     0.86987,     0.87087,     0.87187,     0.87287,     0.87387,     0.87487,     0.87588,     0.87688,     0.87788,     0.87888,     0.87988,     0.88088,     0.88188,     0.88288,     0.88388,     0.88488,     0.88589,     0.88689,     0.88789,\n",
       "           0.88889,     0.88989,     0.89089,     0.89189,     0.89289,     0.89389,     0.89489,      0.8959,      0.8969,      0.8979,      0.8989,      0.8999,      0.9009,      0.9019,      0.9029,      0.9039,      0.9049,     0.90591,     0.90691,     0.90791,     0.90891,     0.90991,     0.91091,     0.91191,\n",
       "           0.91291,     0.91391,     0.91491,     0.91592,     0.91692,     0.91792,     0.91892,     0.91992,     0.92092,     0.92192,     0.92292,     0.92392,     0.92492,     0.92593,     0.92693,     0.92793,     0.92893,     0.92993,     0.93093,     0.93193,     0.93293,     0.93393,     0.93493,     0.93594,\n",
       "           0.93694,     0.93794,     0.93894,     0.93994,     0.94094,     0.94194,     0.94294,     0.94394,     0.94494,     0.94595,     0.94695,     0.94795,     0.94895,     0.94995,     0.95095,     0.95195,     0.95295,     0.95395,     0.95495,     0.95596,     0.95696,     0.95796,     0.95896,     0.95996,\n",
       "           0.96096,     0.96196,     0.96296,     0.96396,     0.96496,     0.96597,     0.96697,     0.96797,     0.96897,     0.96997,     0.97097,     0.97197,     0.97297,     0.97397,     0.97497,     0.97598,     0.97698,     0.97798,     0.97898,     0.97998,     0.98098,     0.98198,     0.98298,     0.98398,\n",
       "           0.98498,     0.98599,     0.98699,     0.98799,     0.98899,     0.98999,     0.99099,     0.99199,     0.99299,     0.99399,     0.99499,       0.996,       0.997,       0.998,       0.999,           1]), array([[   0.032862,    0.032862,    0.051045,    0.065951,    0.078212,    0.089012,     0.10017,     0.10893,     0.11677,     0.12422,     0.13221,     0.13919,     0.14483,     0.15079,     0.15681,     0.16322,     0.16869,     0.17621,     0.18181,     0.18722,      0.1914,      0.1971,     0.20153,\n",
       "            0.20629,     0.21118,     0.21429,     0.22069,     0.22587,     0.22924,     0.23427,     0.23997,     0.24313,     0.24686,     0.24873,     0.25304,      0.2584,     0.26209,     0.26571,     0.27075,     0.27264,     0.27675,     0.28145,     0.28277,      0.2874,       0.291,     0.29394,\n",
       "            0.29754,     0.30064,     0.30275,     0.30672,     0.30949,     0.31095,     0.31336,     0.31532,      0.3193,     0.32272,     0.32663,     0.32847,     0.33344,     0.33696,     0.34073,     0.34489,      0.3488,     0.35127,     0.35434,     0.35847,     0.36476,     0.36911,     0.37147,\n",
       "            0.37462,     0.37713,     0.37871,     0.38183,     0.38669,     0.39102,     0.39341,     0.39549,     0.39889,     0.39987,     0.40009,     0.40153,     0.40286,     0.40618,      0.4098,     0.41145,     0.41256,     0.41197,     0.41291,     0.41328,     0.41405,     0.41695,       0.418,\n",
       "            0.42257,     0.42384,     0.42623,     0.42747,     0.43015,     0.43261,       0.436,     0.43692,     0.43948,     0.44029,     0.44073,     0.44198,     0.44307,     0.44368,     0.44844,     0.45054,     0.45208,     0.45374,      0.4548,     0.45681,     0.45826,     0.46022,     0.46253,\n",
       "              0.464,     0.46506,     0.46643,     0.46811,     0.46863,     0.47104,     0.47507,     0.47825,     0.47916,     0.48004,     0.48228,     0.48299,     0.48478,     0.48729,     0.48785,     0.49054,     0.49151,     0.49341,     0.49431,     0.49475,     0.49748,     0.49918,     0.49846,\n",
       "            0.49905,     0.50057,     0.50357,     0.50699,     0.51035,     0.51287,     0.51457,     0.51629,     0.51887,     0.52154,     0.52166,      0.5237,     0.52753,     0.52748,     0.52665,     0.52745,     0.52941,     0.53033,     0.53118,     0.53238,     0.53383,      0.5341,     0.53311,\n",
       "            0.53406,     0.53509,     0.53732,     0.53927,     0.54285,     0.54634,     0.54816,     0.54755,     0.54798,     0.54743,     0.54718,     0.54693,     0.54752,     0.55021,      0.5508,     0.55243,     0.55303,     0.55393,     0.55518,     0.55493,     0.55526,     0.55855,     0.55887,\n",
       "             0.5596,      0.5626,     0.56444,     0.56565,     0.56748,     0.56931,     0.56669,     0.56696,     0.56649,     0.56897,     0.57047,     0.57044,     0.57021,     0.57017,     0.57222,     0.57283,     0.57444,     0.57812,     0.57989,     0.58035,     0.58226,     0.58332,      0.5841,\n",
       "            0.58496,     0.58554,      0.5858,     0.58549,     0.58521,     0.58494,     0.58466,     0.58681,     0.58634,     0.58598,     0.58564,     0.58579,     0.58903,     0.58698,     0.58705,     0.58914,     0.59013,     0.59062,      0.5918,     0.59597,     0.59982,     0.60049,     0.60129,\n",
       "            0.60233,     0.60301,     0.60368,     0.60611,     0.60694,     0.60899,     0.61421,      0.6132,     0.61539,     0.61482,     0.61439,     0.61663,     0.62168,     0.62273,     0.62594,     0.62405,     0.62542,     0.62649,     0.62403,     0.62455,     0.62501,      0.6269,       0.628,\n",
       "            0.62721,     0.62678,     0.62634,      0.6284,     0.62895,     0.62951,     0.63224,     0.63241,      0.6352,     0.63618,     0.63721,     0.63836,     0.63892,     0.63938,     0.63984,     0.63906,     0.63988,     0.63962,     0.64082,     0.64235,     0.64196,     0.64156,     0.64037,\n",
       "            0.64108,      0.6405,     0.64115,     0.64438,     0.64434,     0.64377,     0.64262,     0.64194,     0.64133,     0.64281,     0.64445,     0.64635,     0.64742,     0.64675,     0.65028,     0.64889,     0.64973,     0.65084,     0.65388,     0.65448,     0.65448,     0.65378,     0.65449,\n",
       "            0.66123,      0.6632,     0.66438,     0.66381,     0.66496,     0.66932,     0.67054,     0.66924,     0.66785,     0.66852,     0.66938,      0.6714,     0.67454,     0.67684,     0.67617,     0.67899,     0.67869,     0.68065,     0.67979,     0.67873,     0.68039,      0.6829,     0.68579,\n",
       "            0.68502,     0.68636,     0.68824,      0.6872,     0.68657,     0.68449,     0.68389,     0.68529,     0.68468,     0.68731,     0.69005,     0.69459,     0.69572,     0.69685,     0.69799,      0.7039,      0.7035,      0.7031,     0.70229,     0.70325,      0.7042,     0.70386,     0.70318,\n",
       "            0.70471,     0.70407,     0.70233,     0.70168,     0.70342,     0.70679,     0.70719,     0.70584,     0.70469,     0.70433,     0.70397,     0.70309,     0.70464,     0.70573,     0.70747,     0.70635,     0.70688,      0.7074,     0.70793,     0.70845,     0.70898,     0.70669,     0.70647,\n",
       "            0.70625,     0.70602,      0.7058,     0.70411,     0.70166,     0.70117,     0.70225,     0.70332,      0.7048,      0.7065,     0.70603,      0.7054,     0.70415,     0.70631,     0.70783,     0.70875,     0.70841,     0.70808,     0.70774,      0.7055,     0.70757,     0.70875,     0.70959,\n",
       "            0.71042,     0.70994,     0.70959,     0.70925,      0.7089,     0.70933,     0.71092,     0.71121,     0.71204,     0.71329,     0.71255,     0.71204,     0.71161,     0.71117,     0.71252,     0.71414,     0.71598,     0.71562,     0.72224,     0.72444,     0.72318,     0.72544,     0.72496,\n",
       "            0.72448,     0.72287,     0.72264,     0.72242,      0.7222,     0.72197,     0.72175,     0.72066,     0.72197,     0.72377,     0.72332,     0.72287,     0.72305,     0.72849,     0.73031,      0.7316,     0.73115,     0.73071,     0.72865,     0.72894,     0.73126,     0.73102,     0.73078,\n",
       "            0.73054,      0.7303,     0.73006,     0.72897,     0.72757,     0.72877,     0.73066,     0.72978,     0.73381,     0.73437,     0.73492,     0.73547,     0.73603,     0.73658,     0.74091,     0.74022,     0.73954,     0.73903,     0.73852,     0.74046,     0.73975,      0.7392,     0.73884,\n",
       "            0.73849,     0.73813,     0.73908,     0.74112,     0.74177,     0.74383,     0.74546,     0.74685,     0.74824,     0.74813,     0.74742,     0.74332,     0.75191,     0.75253,     0.75316,     0.75378,     0.75441,     0.75503,     0.75566,      0.7543,     0.75393,     0.75357,      0.7532,\n",
       "            0.75283,     0.75234,     0.75186,     0.75434,     0.75404,     0.75375,     0.75345,     0.75315,     0.75273,     0.75198,     0.75299,     0.76214,     0.76451,      0.7646,     0.76698,     0.77268,     0.77196,     0.77088,     0.76941,     0.76943,     0.77067,     0.77191,     0.77315,\n",
       "            0.77264,     0.77138,     0.77239,     0.77341,     0.77442,     0.77543,     0.78036,     0.77999,     0.77963,     0.77926,     0.78245,     0.78268,     0.78401,     0.78535,     0.78674,     0.79192,      0.7912,     0.79048,     0.78975,     0.78757,     0.78682,     0.78672,     0.78952,\n",
       "            0.79003,     0.78928,     0.79035,      0.7933,     0.79477,     0.79623,     0.79769,     0.79841,     0.79804,     0.79766,     0.79729,     0.79672,     0.79596,     0.79892,     0.80061,     0.80219,     0.80435,      0.8041,     0.80385,     0.80359,     0.80334,     0.80309,     0.80787,\n",
       "            0.80876,     0.80826,     0.80776,     0.81326,     0.81457,     0.81525,     0.81594,     0.81662,     0.81731,       0.818,     0.81868,     0.81937,     0.82005,     0.81941,     0.81789,     0.81856,     0.81924,     0.81991,     0.82058,     0.82125,     0.82192,     0.82259,     0.82326,\n",
       "            0.82393,     0.82192,     0.82118,     0.82095,     0.82075,     0.82055,     0.82035,     0.82015,     0.81995,     0.81975,      0.8177,     0.81692,     0.81785,     0.81961,     0.82137,     0.82313,     0.82314,     0.82262,     0.82211,     0.82338,     0.82498,     0.82659,     0.82819,\n",
       "            0.82889,     0.82851,     0.82813,     0.82776,      0.8286,     0.83045,     0.83229,     0.83414,     0.83414,     0.84072,      0.8474,     0.85003,     0.85266,     0.85568,      0.8597,     0.86226,     0.86189,     0.86152,     0.86114,       0.868,     0.86646,     0.86624,     0.86602,\n",
       "             0.8658,     0.86558,     0.86527,     0.86377,      0.8626,     0.86237,     0.86214,      0.8619,     0.86167,     0.86144,     0.86066,     0.85989,     0.85953,     0.85916,      0.8588,     0.85848,     0.85821,     0.85794,     0.85767,      0.8574,     0.85708,     0.85557,     0.85389,\n",
       "            0.85244,     0.85212,      0.8518,     0.85147,     0.85115,     0.85027,     0.84984,      0.8513,     0.85275,     0.85421,     0.85566,     0.85712,     0.85858,     0.85811,     0.85747,      0.8587,     0.86196,     0.86521,     0.86539,     0.86875,     0.87211,     0.87486,     0.87388,\n",
       "            0.87591,     0.87938,     0.88285,     0.88342,     0.88302,     0.88262,     0.87997,     0.88882,     0.88827,     0.88756,     0.89173,     0.89634,      0.8981,     0.89724,     0.89685,     0.89646,     0.89547,     0.90362,     0.92123,     0.92491,      0.9286,      0.9334,     0.95019,\n",
       "             0.9569,     0.95659,     0.95639,     0.95623,     0.95606,      0.9559,     0.95571,     0.95552,     0.95532,     0.95509,     0.95481,     0.95453,     0.95405,     0.95376,     0.95361,     0.95347,     0.95332,     0.95317,     0.95259,     0.95156,     0.95148,      0.9514,     0.95132,\n",
       "            0.95125,     0.95117,     0.95109,     0.95101,     0.95094,     0.95086,     0.94988,     0.94963,     0.94938,     0.94815,     0.94723,     0.94699,     0.94675,     0.94651,     0.94533,     0.94514,     0.94495,     0.94476,     0.94457,     0.94411,     0.94495,      0.9496,     0.95425,\n",
       "             0.9589,     0.96148,     0.96135,     0.96123,      0.9611,     0.96097,     0.96084,     0.96071,     0.96057,     0.96044,      0.9603,     0.96017,     0.96004,     0.97938,     0.97914,     0.97904,     0.97894,     0.97884,     0.97874,      0.9787,     0.97867,     0.97864,     0.97861,\n",
       "            0.97858,     0.97855,     0.97852,     0.97849,     0.97846,     0.97843,      0.9784,     0.97837,     0.97834,     0.97831,     0.97828,      0.9782,     0.97795,     0.97762,     0.97724,     0.97715,     0.97706,     0.97697,     0.97688,     0.97679,     0.97661,     0.97632,     0.97587,\n",
       "            0.97557,     0.97549,     0.97541,     0.97533,     0.97525,     0.97518,      0.9751,     0.97502,     0.97493,     0.97484,     0.97474,     0.97465,     0.97455,     0.97446,     0.97437,      0.9742,     0.97403,     0.97385,     0.97368,     0.97331,     0.97351,     0.98143,     0.98934,\n",
       "            0.99726,           1,           1,           1,           1,           1,           1,           1,           1,           1,           1,           1,           1,           1,           1,           1,           1,           1,           1,           1,           1,           1,           1,\n",
       "                  1,           1,           1,           1,           1,           1,           1,           1,           1,           1,           1,           1,           1,           1,           1,           1,           1,           1,           1,           1,           1,           1,           1,\n",
       "                  1,           1,           1,           1,           1,           1,           1,           1,           1,           1,           1,           1,           1,           1,           1,           1,           1,           1,           1,           1,           1,           1,           1,\n",
       "                  1,           1,           1,           1,           1,           1,           1,           1,           1,           1,           1,           1,           1,           1,           1,           1,           1,           1,           1,           1,           1,           1,           1,\n",
       "                  1,           1,           1,           1,           1,           1,           1,           1,           1,           1,           1,           1,           1,           1,           1,           1,           1,           1,           1,           1,           1,           1,           1,\n",
       "                  1,           1,           1,           1,           1,           1,           1,           1,           1,           1,           1,           1,           1,           1,           1,           1,           1,           1,           1,           1,           1,           1,           1,\n",
       "                  1,           1,           1,           1,           1,           1,           1,           1,           1,           1,           1,           1,           1,           1,           1,           1,           1,           1,           1,           1,           1,           1,           1,\n",
       "                  1,           1,           1,           1,           1,           1,           1,           1,           1,           1,           1,           1,           1,           1,           1,           1,           1,           1,           1,           1,           1,           1,           1,\n",
       "                  1,           1,           1,           1,           1,           1,           1,           1,           1,           1,           1]]), 'Confidence', 'Precision'], [array([          0,    0.001001,    0.002002,    0.003003,    0.004004,    0.005005,    0.006006,    0.007007,    0.008008,    0.009009,     0.01001,    0.011011,    0.012012,    0.013013,    0.014014,    0.015015,    0.016016,    0.017017,    0.018018,    0.019019,     0.02002,    0.021021,    0.022022,    0.023023,\n",
       "          0.024024,    0.025025,    0.026026,    0.027027,    0.028028,    0.029029,     0.03003,    0.031031,    0.032032,    0.033033,    0.034034,    0.035035,    0.036036,    0.037037,    0.038038,    0.039039,     0.04004,    0.041041,    0.042042,    0.043043,    0.044044,    0.045045,    0.046046,    0.047047,\n",
       "          0.048048,    0.049049,     0.05005,    0.051051,    0.052052,    0.053053,    0.054054,    0.055055,    0.056056,    0.057057,    0.058058,    0.059059,     0.06006,    0.061061,    0.062062,    0.063063,    0.064064,    0.065065,    0.066066,    0.067067,    0.068068,    0.069069,     0.07007,    0.071071,\n",
       "          0.072072,    0.073073,    0.074074,    0.075075,    0.076076,    0.077077,    0.078078,    0.079079,     0.08008,    0.081081,    0.082082,    0.083083,    0.084084,    0.085085,    0.086086,    0.087087,    0.088088,    0.089089,     0.09009,    0.091091,    0.092092,    0.093093,    0.094094,    0.095095,\n",
       "          0.096096,    0.097097,    0.098098,    0.099099,      0.1001,      0.1011,      0.1021,      0.1031,      0.1041,     0.10511,     0.10611,     0.10711,     0.10811,     0.10911,     0.11011,     0.11111,     0.11211,     0.11311,     0.11411,     0.11512,     0.11612,     0.11712,     0.11812,     0.11912,\n",
       "           0.12012,     0.12112,     0.12212,     0.12312,     0.12412,     0.12513,     0.12613,     0.12713,     0.12813,     0.12913,     0.13013,     0.13113,     0.13213,     0.13313,     0.13413,     0.13514,     0.13614,     0.13714,     0.13814,     0.13914,     0.14014,     0.14114,     0.14214,     0.14314,\n",
       "           0.14414,     0.14515,     0.14615,     0.14715,     0.14815,     0.14915,     0.15015,     0.15115,     0.15215,     0.15315,     0.15415,     0.15516,     0.15616,     0.15716,     0.15816,     0.15916,     0.16016,     0.16116,     0.16216,     0.16316,     0.16416,     0.16517,     0.16617,     0.16717,\n",
       "           0.16817,     0.16917,     0.17017,     0.17117,     0.17217,     0.17317,     0.17417,     0.17518,     0.17618,     0.17718,     0.17818,     0.17918,     0.18018,     0.18118,     0.18218,     0.18318,     0.18418,     0.18519,     0.18619,     0.18719,     0.18819,     0.18919,     0.19019,     0.19119,\n",
       "           0.19219,     0.19319,     0.19419,      0.1952,      0.1962,      0.1972,      0.1982,      0.1992,      0.2002,      0.2012,      0.2022,      0.2032,      0.2042,     0.20521,     0.20621,     0.20721,     0.20821,     0.20921,     0.21021,     0.21121,     0.21221,     0.21321,     0.21421,     0.21522,\n",
       "           0.21622,     0.21722,     0.21822,     0.21922,     0.22022,     0.22122,     0.22222,     0.22322,     0.22422,     0.22523,     0.22623,     0.22723,     0.22823,     0.22923,     0.23023,     0.23123,     0.23223,     0.23323,     0.23423,     0.23524,     0.23624,     0.23724,     0.23824,     0.23924,\n",
       "           0.24024,     0.24124,     0.24224,     0.24324,     0.24424,     0.24525,     0.24625,     0.24725,     0.24825,     0.24925,     0.25025,     0.25125,     0.25225,     0.25325,     0.25425,     0.25526,     0.25626,     0.25726,     0.25826,     0.25926,     0.26026,     0.26126,     0.26226,     0.26326,\n",
       "           0.26426,     0.26527,     0.26627,     0.26727,     0.26827,     0.26927,     0.27027,     0.27127,     0.27227,     0.27327,     0.27427,     0.27528,     0.27628,     0.27728,     0.27828,     0.27928,     0.28028,     0.28128,     0.28228,     0.28328,     0.28428,     0.28529,     0.28629,     0.28729,\n",
       "           0.28829,     0.28929,     0.29029,     0.29129,     0.29229,     0.29329,     0.29429,      0.2953,      0.2963,      0.2973,      0.2983,      0.2993,      0.3003,      0.3013,      0.3023,      0.3033,      0.3043,     0.30531,     0.30631,     0.30731,     0.30831,     0.30931,     0.31031,     0.31131,\n",
       "           0.31231,     0.31331,     0.31431,     0.31532,     0.31632,     0.31732,     0.31832,     0.31932,     0.32032,     0.32132,     0.32232,     0.32332,     0.32432,     0.32533,     0.32633,     0.32733,     0.32833,     0.32933,     0.33033,     0.33133,     0.33233,     0.33333,     0.33433,     0.33534,\n",
       "           0.33634,     0.33734,     0.33834,     0.33934,     0.34034,     0.34134,     0.34234,     0.34334,     0.34434,     0.34535,     0.34635,     0.34735,     0.34835,     0.34935,     0.35035,     0.35135,     0.35235,     0.35335,     0.35435,     0.35536,     0.35636,     0.35736,     0.35836,     0.35936,\n",
       "           0.36036,     0.36136,     0.36236,     0.36336,     0.36436,     0.36537,     0.36637,     0.36737,     0.36837,     0.36937,     0.37037,     0.37137,     0.37237,     0.37337,     0.37437,     0.37538,     0.37638,     0.37738,     0.37838,     0.37938,     0.38038,     0.38138,     0.38238,     0.38338,\n",
       "           0.38438,     0.38539,     0.38639,     0.38739,     0.38839,     0.38939,     0.39039,     0.39139,     0.39239,     0.39339,     0.39439,      0.3954,      0.3964,      0.3974,      0.3984,      0.3994,      0.4004,      0.4014,      0.4024,      0.4034,      0.4044,     0.40541,     0.40641,     0.40741,\n",
       "           0.40841,     0.40941,     0.41041,     0.41141,     0.41241,     0.41341,     0.41441,     0.41542,     0.41642,     0.41742,     0.41842,     0.41942,     0.42042,     0.42142,     0.42242,     0.42342,     0.42442,     0.42543,     0.42643,     0.42743,     0.42843,     0.42943,     0.43043,     0.43143,\n",
       "           0.43243,     0.43343,     0.43443,     0.43544,     0.43644,     0.43744,     0.43844,     0.43944,     0.44044,     0.44144,     0.44244,     0.44344,     0.44444,     0.44545,     0.44645,     0.44745,     0.44845,     0.44945,     0.45045,     0.45145,     0.45245,     0.45345,     0.45445,     0.45546,\n",
       "           0.45646,     0.45746,     0.45846,     0.45946,     0.46046,     0.46146,     0.46246,     0.46346,     0.46446,     0.46547,     0.46647,     0.46747,     0.46847,     0.46947,     0.47047,     0.47147,     0.47247,     0.47347,     0.47447,     0.47548,     0.47648,     0.47748,     0.47848,     0.47948,\n",
       "           0.48048,     0.48148,     0.48248,     0.48348,     0.48448,     0.48549,     0.48649,     0.48749,     0.48849,     0.48949,     0.49049,     0.49149,     0.49249,     0.49349,     0.49449,      0.4955,      0.4965,      0.4975,      0.4985,      0.4995,      0.5005,      0.5015,      0.5025,      0.5035,\n",
       "            0.5045,     0.50551,     0.50651,     0.50751,     0.50851,     0.50951,     0.51051,     0.51151,     0.51251,     0.51351,     0.51451,     0.51552,     0.51652,     0.51752,     0.51852,     0.51952,     0.52052,     0.52152,     0.52252,     0.52352,     0.52452,     0.52553,     0.52653,     0.52753,\n",
       "           0.52853,     0.52953,     0.53053,     0.53153,     0.53253,     0.53353,     0.53453,     0.53554,     0.53654,     0.53754,     0.53854,     0.53954,     0.54054,     0.54154,     0.54254,     0.54354,     0.54454,     0.54555,     0.54655,     0.54755,     0.54855,     0.54955,     0.55055,     0.55155,\n",
       "           0.55255,     0.55355,     0.55455,     0.55556,     0.55656,     0.55756,     0.55856,     0.55956,     0.56056,     0.56156,     0.56256,     0.56356,     0.56456,     0.56557,     0.56657,     0.56757,     0.56857,     0.56957,     0.57057,     0.57157,     0.57257,     0.57357,     0.57457,     0.57558,\n",
       "           0.57658,     0.57758,     0.57858,     0.57958,     0.58058,     0.58158,     0.58258,     0.58358,     0.58458,     0.58559,     0.58659,     0.58759,     0.58859,     0.58959,     0.59059,     0.59159,     0.59259,     0.59359,     0.59459,      0.5956,      0.5966,      0.5976,      0.5986,      0.5996,\n",
       "            0.6006,      0.6016,      0.6026,      0.6036,      0.6046,     0.60561,     0.60661,     0.60761,     0.60861,     0.60961,     0.61061,     0.61161,     0.61261,     0.61361,     0.61461,     0.61562,     0.61662,     0.61762,     0.61862,     0.61962,     0.62062,     0.62162,     0.62262,     0.62362,\n",
       "           0.62462,     0.62563,     0.62663,     0.62763,     0.62863,     0.62963,     0.63063,     0.63163,     0.63263,     0.63363,     0.63463,     0.63564,     0.63664,     0.63764,     0.63864,     0.63964,     0.64064,     0.64164,     0.64264,     0.64364,     0.64464,     0.64565,     0.64665,     0.64765,\n",
       "           0.64865,     0.64965,     0.65065,     0.65165,     0.65265,     0.65365,     0.65465,     0.65566,     0.65666,     0.65766,     0.65866,     0.65966,     0.66066,     0.66166,     0.66266,     0.66366,     0.66466,     0.66567,     0.66667,     0.66767,     0.66867,     0.66967,     0.67067,     0.67167,\n",
       "           0.67267,     0.67367,     0.67467,     0.67568,     0.67668,     0.67768,     0.67868,     0.67968,     0.68068,     0.68168,     0.68268,     0.68368,     0.68468,     0.68569,     0.68669,     0.68769,     0.68869,     0.68969,     0.69069,     0.69169,     0.69269,     0.69369,     0.69469,      0.6957,\n",
       "            0.6967,      0.6977,      0.6987,      0.6997,      0.7007,      0.7017,      0.7027,      0.7037,      0.7047,     0.70571,     0.70671,     0.70771,     0.70871,     0.70971,     0.71071,     0.71171,     0.71271,     0.71371,     0.71471,     0.71572,     0.71672,     0.71772,     0.71872,     0.71972,\n",
       "           0.72072,     0.72172,     0.72272,     0.72372,     0.72472,     0.72573,     0.72673,     0.72773,     0.72873,     0.72973,     0.73073,     0.73173,     0.73273,     0.73373,     0.73473,     0.73574,     0.73674,     0.73774,     0.73874,     0.73974,     0.74074,     0.74174,     0.74274,     0.74374,\n",
       "           0.74474,     0.74575,     0.74675,     0.74775,     0.74875,     0.74975,     0.75075,     0.75175,     0.75275,     0.75375,     0.75475,     0.75576,     0.75676,     0.75776,     0.75876,     0.75976,     0.76076,     0.76176,     0.76276,     0.76376,     0.76476,     0.76577,     0.76677,     0.76777,\n",
       "           0.76877,     0.76977,     0.77077,     0.77177,     0.77277,     0.77377,     0.77477,     0.77578,     0.77678,     0.77778,     0.77878,     0.77978,     0.78078,     0.78178,     0.78278,     0.78378,     0.78478,     0.78579,     0.78679,     0.78779,     0.78879,     0.78979,     0.79079,     0.79179,\n",
       "           0.79279,     0.79379,     0.79479,      0.7958,      0.7968,      0.7978,      0.7988,      0.7998,      0.8008,      0.8018,      0.8028,      0.8038,      0.8048,     0.80581,     0.80681,     0.80781,     0.80881,     0.80981,     0.81081,     0.81181,     0.81281,     0.81381,     0.81481,     0.81582,\n",
       "           0.81682,     0.81782,     0.81882,     0.81982,     0.82082,     0.82182,     0.82282,     0.82382,     0.82482,     0.82583,     0.82683,     0.82783,     0.82883,     0.82983,     0.83083,     0.83183,     0.83283,     0.83383,     0.83483,     0.83584,     0.83684,     0.83784,     0.83884,     0.83984,\n",
       "           0.84084,     0.84184,     0.84284,     0.84384,     0.84484,     0.84585,     0.84685,     0.84785,     0.84885,     0.84985,     0.85085,     0.85185,     0.85285,     0.85385,     0.85485,     0.85586,     0.85686,     0.85786,     0.85886,     0.85986,     0.86086,     0.86186,     0.86286,     0.86386,\n",
       "           0.86486,     0.86587,     0.86687,     0.86787,     0.86887,     0.86987,     0.87087,     0.87187,     0.87287,     0.87387,     0.87487,     0.87588,     0.87688,     0.87788,     0.87888,     0.87988,     0.88088,     0.88188,     0.88288,     0.88388,     0.88488,     0.88589,     0.88689,     0.88789,\n",
       "           0.88889,     0.88989,     0.89089,     0.89189,     0.89289,     0.89389,     0.89489,      0.8959,      0.8969,      0.8979,      0.8989,      0.8999,      0.9009,      0.9019,      0.9029,      0.9039,      0.9049,     0.90591,     0.90691,     0.90791,     0.90891,     0.90991,     0.91091,     0.91191,\n",
       "           0.91291,     0.91391,     0.91491,     0.91592,     0.91692,     0.91792,     0.91892,     0.91992,     0.92092,     0.92192,     0.92292,     0.92392,     0.92492,     0.92593,     0.92693,     0.92793,     0.92893,     0.92993,     0.93093,     0.93193,     0.93293,     0.93393,     0.93493,     0.93594,\n",
       "           0.93694,     0.93794,     0.93894,     0.93994,     0.94094,     0.94194,     0.94294,     0.94394,     0.94494,     0.94595,     0.94695,     0.94795,     0.94895,     0.94995,     0.95095,     0.95195,     0.95295,     0.95395,     0.95495,     0.95596,     0.95696,     0.95796,     0.95896,     0.95996,\n",
       "           0.96096,     0.96196,     0.96296,     0.96396,     0.96496,     0.96597,     0.96697,     0.96797,     0.96897,     0.96997,     0.97097,     0.97197,     0.97297,     0.97397,     0.97497,     0.97598,     0.97698,     0.97798,     0.97898,     0.97998,     0.98098,     0.98198,     0.98298,     0.98398,\n",
       "           0.98498,     0.98599,     0.98699,     0.98799,     0.98899,     0.98999,     0.99099,     0.99199,     0.99299,     0.99399,     0.99499,       0.996,       0.997,       0.998,       0.999,           1]), array([[    0.78121,     0.78121,     0.76963,     0.75161,      0.7323,     0.71815,     0.70785,     0.69498,     0.68211,     0.67053,     0.66667,     0.65894,     0.64994,     0.64221,     0.63449,     0.62934,     0.62548,      0.6242,     0.62033,     0.61776,     0.61261,     0.60618,     0.59974,\n",
       "            0.59073,     0.58559,     0.58172,     0.58044,     0.58044,     0.57493,     0.57272,     0.57143,     0.56757,     0.56113,      0.5547,     0.55084,     0.54955,     0.54698,     0.54311,     0.54183,     0.53797,     0.53797,     0.53668,     0.53539,     0.53411,     0.53024,     0.52767,\n",
       "            0.52381,     0.52281,     0.51995,     0.51866,     0.51801,      0.5148,     0.51094,     0.50708,     0.50409,     0.50193,     0.49936,      0.4955,     0.49292,     0.49251,     0.49163,     0.49163,     0.49163,     0.48906,     0.48777,     0.48649,     0.48649,     0.48649,      0.4852,\n",
       "            0.48391,     0.48391,     0.48391,     0.48391,     0.48391,     0.48391,     0.48134,     0.48005,     0.48005,     0.47593,     0.47362,     0.47233,     0.47104,     0.47104,     0.47104,     0.46976,     0.46976,     0.46589,     0.46332,     0.46332,     0.46203,     0.46202,     0.46075,\n",
       "            0.45946,     0.45689,      0.4556,     0.45431,     0.45369,     0.45174,     0.45169,     0.45045,     0.44916,      0.4453,     0.44273,     0.44015,     0.43887,     0.43758,     0.43758,     0.43629,     0.43629,     0.43629,     0.43372,     0.43372,     0.43372,     0.43372,     0.43243,\n",
       "            0.43243,     0.42986,     0.42986,     0.42816,     0.42728,       0.426,     0.42471,     0.42471,     0.42214,     0.42085,     0.42082,     0.41828,      0.4157,      0.4157,     0.41441,     0.41441,     0.41441,     0.41441,     0.41389,     0.41184,     0.41184,     0.41177,     0.40927,\n",
       "            0.40927,     0.40927,     0.40927,     0.40798,     0.40798,     0.40798,     0.40798,     0.40798,     0.40798,     0.40669,     0.40412,     0.40412,     0.40379,     0.40227,     0.40093,     0.39768,     0.39511,     0.39511,     0.39511,     0.39511,     0.39511,     0.39393,     0.39125,\n",
       "            0.38996,     0.38867,     0.38739,     0.38739,     0.38739,     0.38739,     0.38722,     0.38626,     0.38537,     0.38453,     0.38413,     0.38374,     0.38353,     0.38224,     0.38224,     0.38224,     0.38224,     0.38095,     0.38069,     0.37838,       0.376,      0.3758,     0.37452,\n",
       "            0.37452,     0.37452,     0.37452,     0.37194,     0.37194,     0.37194,     0.36524,     0.36422,     0.36326,     0.36165,     0.36066,      0.3565,     0.35515,     0.35393,     0.35393,     0.35393,     0.35264,     0.35264,     0.35135,     0.35006,     0.35006,     0.35006,     0.34749,\n",
       "             0.3462,      0.3462,     0.34584,     0.34358,     0.34319,      0.3428,     0.34241,     0.34179,     0.34113,     0.34063,     0.34015,     0.33977,     0.33977,     0.33654,     0.33481,     0.33462,     0.33462,     0.33422,     0.33333,     0.33333,     0.33333,     0.33333,     0.33333,\n",
       "            0.33333,     0.33333,     0.33333,     0.33205,     0.33205,     0.33205,     0.33194,     0.32819,     0.32819,     0.32663,     0.32561,     0.32561,     0.32561,     0.32561,     0.32561,     0.32259,     0.32175,     0.32175,     0.31828,     0.31685,     0.31532,     0.31532,     0.31532,\n",
       "            0.31398,      0.3134,     0.31281,     0.31274,     0.31274,     0.31274,     0.31274,     0.31145,     0.31145,     0.31145,     0.31145,     0.31145,     0.31145,     0.31145,     0.31145,      0.3099,     0.30888,     0.30759,     0.30759,     0.30744,     0.30691,     0.30638,     0.30479,\n",
       "            0.30343,     0.30268,     0.30245,     0.30245,     0.30079,     0.30003,     0.29854,     0.29766,     0.29344,     0.29344,     0.29344,     0.29344,     0.29344,     0.29218,     0.28956,      0.2878,     0.28571,     0.28571,     0.28571,     0.28522,     0.28279,     0.28191,     0.28057,\n",
       "            0.28057,     0.28057,     0.28057,     0.27953,     0.27928,     0.27799,     0.27765,     0.27603,      0.2743,     0.27413,     0.27413,     0.27348,     0.27284,     0.27225,     0.27142,     0.27027,     0.26913,     0.26882,     0.26777,     0.26646,     0.26512,     0.26512,     0.26255,\n",
       "             0.2603,     0.25912,     0.25855,      0.2573,     0.25655,     0.25408,     0.25225,     0.25225,     0.25151,     0.25097,     0.25097,     0.25097,     0.25097,     0.25097,     0.25097,     0.25088,      0.2504,     0.24992,     0.24839,     0.24839,     0.24839,     0.24778,     0.24696,\n",
       "            0.24572,     0.24497,     0.24292,     0.24217,     0.24196,     0.24196,     0.23934,     0.23779,     0.23648,     0.23607,     0.23567,     0.23467,     0.23335,     0.23166,     0.23037,     0.22909,     0.22909,     0.22909,     0.22909,     0.22909,     0.22909,     0.22636,     0.22612,\n",
       "            0.22588,     0.22564,      0.2254,     0.22357,     0.22097,     0.22008,     0.22008,     0.22008,     0.22008,     0.22008,     0.21946,      0.2188,     0.21749,     0.21622,     0.21622,      0.2161,     0.21575,      0.2154,     0.21505,     0.21236,     0.21236,     0.21236,     0.21236,\n",
       "            0.21236,     0.21105,      0.2107,     0.21034,     0.20999,     0.20978,     0.20978,     0.20919,     0.20849,     0.20812,     0.20737,     0.20686,     0.20642,     0.20598,     0.20592,     0.20592,     0.20439,     0.20335,     0.20335,     0.20301,     0.20077,     0.20063,     0.20015,\n",
       "            0.19967,     0.19806,     0.19784,     0.19762,      0.1974,     0.19718,     0.19696,      0.1959,     0.19562,     0.19559,     0.19515,     0.19471,     0.19434,     0.19305,     0.19305,     0.19295,     0.19251,     0.19207,     0.19008,     0.18919,     0.18911,     0.18888,     0.18865,\n",
       "            0.18842,     0.18819,     0.18796,     0.18692,      0.1856,     0.18533,     0.18533,     0.18422,     0.18404,     0.18404,     0.18404,     0.18404,     0.18404,     0.18404,     0.18402,     0.18336,     0.18271,     0.18223,     0.18175,     0.17992,     0.17926,     0.17874,     0.17841,\n",
       "            0.17809,     0.17776,     0.17761,     0.17761,     0.17632,     0.17632,     0.17632,     0.17632,     0.17632,     0.17585,     0.17519,     0.17145,     0.17117,     0.17117,     0.17117,     0.17117,     0.17117,     0.17117,     0.17117,      0.1699,     0.16956,     0.16923,      0.1689,\n",
       "            0.16856,     0.16812,     0.16768,     0.16598,     0.16572,     0.16545,     0.16519,     0.16493,     0.16455,     0.16389,     0.16345,     0.16345,     0.16295,     0.16216,     0.16216,     0.16186,      0.1612,     0.16022,      0.1589,      0.1583,      0.1583,      0.1583,      0.1583,\n",
       "            0.15745,     0.15573,     0.15573,     0.15573,     0.15573,     0.15573,     0.15547,     0.15514,     0.15481,     0.15448,     0.15315,     0.15187,     0.15187,     0.15187,     0.15187,     0.15184,     0.15118,     0.15052,     0.14986,     0.14792,     0.14726,     0.14672,     0.14672,\n",
       "            0.14528,     0.14462,     0.14414,     0.14286,     0.14286,     0.14286,     0.14286,     0.14272,     0.14239,     0.14206,     0.14173,     0.14124,     0.14058,     0.14028,     0.13953,     0.13771,     0.13757,     0.13735,     0.13713,     0.13691,     0.13669,     0.13647,     0.13642,\n",
       "            0.13607,     0.13563,     0.13519,     0.13514,     0.13514,     0.13514,     0.13514,     0.13514,     0.13514,     0.13514,     0.13514,     0.13514,     0.13514,     0.13431,     0.13256,     0.13256,     0.13256,     0.13256,     0.13256,     0.13256,     0.13256,     0.13256,     0.13256,\n",
       "            0.13256,     0.13069,     0.13003,     0.12982,     0.12965,     0.12947,     0.12929,     0.12912,     0.12894,     0.12877,       0.127,     0.12634,     0.12613,     0.12613,     0.12613,     0.12613,     0.12579,     0.12535,     0.12491,     0.12484,     0.12484,     0.12484,     0.12484,\n",
       "            0.12469,     0.12436,     0.12403,      0.1237,     0.12355,     0.12355,     0.12355,     0.12355,     0.12298,     0.12098,     0.12098,     0.12098,     0.12098,     0.12098,     0.12098,     0.12085,     0.12048,      0.1201,     0.11972,     0.11848,     0.11691,     0.11669,     0.11647,\n",
       "            0.11625,     0.11603,     0.11571,     0.11425,     0.11312,      0.1129,     0.11268,     0.11246,     0.11224,     0.11202,     0.11129,     0.11058,     0.11025,     0.10992,     0.10959,      0.1093,     0.10906,     0.10882,     0.10858,     0.10834,     0.10806,     0.10674,      0.1053,\n",
       "            0.10409,     0.10382,     0.10356,      0.1033,     0.10303,     0.10232,     0.10167,     0.10167,     0.10167,     0.10167,     0.10167,     0.10167,     0.10167,     0.10119,     0.10066,     0.10039,     0.10039,     0.10039,    0.099099,    0.099099,    0.099099,    0.098978,    0.098098,\n",
       "           0.097812,    0.097812,    0.097812,     0.09753,    0.097153,    0.096776,    0.094358,    0.093951,     0.09209,    0.091431,    0.091377,    0.091377,    0.090744,      0.0899,    0.089523,    0.089146,    0.087516,    0.087516,    0.087516,    0.087516,    0.087516,    0.086229,    0.086229,\n",
       "           0.085735,    0.085076,    0.084679,    0.084349,     0.08402,     0.08369,    0.083318,    0.082941,    0.082564,    0.082115,    0.081587,    0.081045,    0.080165,    0.079642,    0.079378,    0.079114,     0.07885,    0.078586,    0.077583,    0.075842,    0.075716,    0.075591,    0.075465,\n",
       "           0.075339,    0.075214,    0.075088,    0.074963,    0.074837,    0.074711,    0.073178,    0.072801,    0.072424,     0.07061,    0.069307,    0.068977,    0.068648,    0.068318,    0.066762,    0.066522,    0.066282,    0.066042,    0.065802,    0.065227,     0.06435,     0.06435,     0.06435,\n",
       "            0.06435,    0.064255,    0.064035,    0.063815,    0.063595,    0.063375,    0.063156,    0.062936,    0.062716,    0.062496,    0.062276,    0.062056,    0.061836,    0.061138,    0.060412,    0.060119,    0.059826,    0.059533,     0.05924,     0.05913,    0.059048,    0.058965,    0.058883,\n",
       "             0.0588,    0.058718,    0.058635,    0.058553,    0.058471,    0.058388,    0.058306,    0.058223,    0.058141,    0.058058,    0.057976,    0.057742,    0.057082,    0.056217,    0.055267,    0.055047,    0.054827,    0.054608,    0.054388,    0.054168,    0.053736,    0.053076,    0.052066,\n",
       "           0.051388,    0.051224,    0.051059,    0.050894,    0.050729,    0.050564,    0.050399,    0.050234,    0.050052,    0.049863,    0.049675,    0.049486,    0.049298,    0.049109,    0.048921,    0.048602,    0.048272,    0.047942,    0.047606,    0.046947,    0.046332,    0.046332,    0.046332,\n",
       "           0.046332,    0.046045,    0.045605,    0.045165,    0.044897,    0.044695,    0.044492,    0.044289,    0.044086,    0.043883,    0.043249,    0.042201,    0.041541,    0.041103,    0.040927,    0.040752,    0.040576,      0.0404,    0.040224,    0.040048,    0.039772,    0.038893,    0.037185,\n",
       "           0.036982,    0.036779,    0.036576,    0.036373,    0.036171,    0.035994,    0.035868,    0.035742,    0.035617,    0.035491,    0.035365,     0.03524,    0.035114,    0.034989,    0.034863,    0.034667,    0.033787,    0.033046,    0.032387,    0.030762,    0.030102,    0.029495,    0.029056,\n",
       "           0.028616,      0.0279,    0.025591,    0.025152,    0.024712,    0.024298,    0.023921,    0.023544,    0.023167,    0.022509,    0.021839,     0.02096,    0.020285,    0.019757,    0.019242,    0.018802,    0.018363,    0.017828,    0.016948,    0.015738,     0.01476,    0.014088,    0.013868,\n",
       "           0.013648,    0.013428,    0.013209,    0.012989,    0.011655,    0.011155,    0.010716,    0.010281,   0.0099511,   0.0096213,   0.0092915,   0.0089891,   0.0088502,   0.0087113,   0.0085725,   0.0084336,   0.0082948,   0.0081559,    0.008017,   0.0078782,   0.0077393,    0.007392,   0.0070151,\n",
       "          0.0066382,   0.0063134,   0.0060496,   0.0057857,   0.0055219,    0.005258,   0.0051122,   0.0050509,   0.0049895,   0.0049282,   0.0048668,   0.0048054,   0.0047441,   0.0046827,   0.0046214,     0.00456,   0.0044986,   0.0044373,   0.0043759,   0.0043146,   0.0042532,   0.0041919,   0.0041305,\n",
       "          0.0040691,   0.0040078,   0.0039464,   0.0038851,   0.0036828,   0.0033896,   0.0030965,   0.0028033,    0.002533,   0.0023445,    0.002156,   0.0019676,   0.0017791,   0.0015907,   0.0014022,           0,           0,           0,           0,           0,           0,           0,           0,\n",
       "                  0,           0,           0,           0,           0,           0,           0,           0,           0,           0,           0,           0,           0,           0,           0,           0,           0,           0,           0,           0,           0,           0,           0,\n",
       "                  0,           0,           0,           0,           0,           0,           0,           0,           0,           0,           0,           0,           0,           0,           0,           0,           0,           0,           0,           0,           0,           0,           0,\n",
       "                  0,           0,           0,           0,           0,           0,           0,           0,           0,           0,           0]]), 'Confidence', 'Recall']]\n",
       "fitness: 0.20016790646342564\n",
       "keys: ['metrics/precision(B)', 'metrics/recall(B)', 'metrics/mAP50(B)', 'metrics/mAP50-95(B)']\n",
       "maps: array([    0.17815])\n",
       "names: {0: 'Pothole'}\n",
       "plot: True\n",
       "results_dict: {'metrics/precision(B)': 0.5145746981747792, 'metrics/recall(B)': 0.40797940797940796, 'metrics/mAP50(B)': 0.3983032802411307, 'metrics/mAP50-95(B)': 0.17815286493256952, 'fitness': 0.20016790646342564}\n",
       "save_dir: PosixPath('runs/detect/train')\n",
       "speed: {'preprocess': 0.3343343734741211, 'inference': 2.358570694923401, 'loss': 0.0006109476089477539, 'postprocess': 4.219180345535278}\n",
       "task: 'detect'"
      ]
     },
     "execution_count": 5,
     "metadata": {},
     "output_type": "execute_result"
    }
   ],
   "source": [
    "model.train(\n",
    "    data='/content/drive/MyDrive/Colab Notebooks/ComputerVisionProject/Pothole_Dataset/data.yaml',\n",
    "    epochs=50,                # Number of training epochs\n",
    "    imgsz=640,                # Image size (e.g., 640x640)\n",
    "    batch=16,                 # Batch size\n",
    "    workers=2                 # Number of workers\n",
    ")"
   ]
  },
  {
   "cell_type": "markdown",
   "metadata": {
    "id": "b1UbN5pbrnDg"
   },
   "source": [
    "## Test the model"
   ]
  },
  {
   "cell_type": "code",
   "execution_count": null,
   "metadata": {
    "colab": {
     "base_uri": "https://localhost:8080/"
    },
    "executionInfo": {
     "elapsed": 8863,
     "status": "ok",
     "timestamp": 1736106959936,
     "user": {
      "displayName": "Tharushi Liyana Arachchi",
      "userId": "18072524777631496934"
     },
     "user_tz": -330
    },
    "id": "yWAyh2AbrtN9",
    "outputId": "bddd624f-ca44-4a96-d3bb-73256b8633d5"
   },
   "outputs": [
    {
     "name": "stdout",
     "output_type": "stream",
     "text": [
      "\n",
      "image 1/181 /content/drive/MyDrive/Colab Notebooks/ComputerVisionProject/Pothole_Dataset/test/images/438_jpg.rf.a285aa02fc3f286de8b11b8704967079.jpg: 640x640 1 Pothole, 9.5ms\n",
      "image 2/181 /content/drive/MyDrive/Colab Notebooks/ComputerVisionProject/Pothole_Dataset/test/images/444_jpg.rf.0efbfcdab7d6220563701538ce327dae.jpg: 640x640 23 Potholes, 29.1ms\n",
      "image 3/181 /content/drive/MyDrive/Colab Notebooks/ComputerVisionProject/Pothole_Dataset/test/images/447_jpg.rf.d8ff97fede18d6ad54595876348bff81.jpg: 640x640 14 Potholes, 43.9ms\n",
      "image 4/181 /content/drive/MyDrive/Colab Notebooks/ComputerVisionProject/Pothole_Dataset/test/images/455_jpg.rf.c20af0d25997939d58a071d014231f67.jpg: 640x640 1 Pothole, 41.6ms\n",
      "image 5/181 /content/drive/MyDrive/Colab Notebooks/ComputerVisionProject/Pothole_Dataset/test/images/458_jpg.rf.d3385df94d4fb6f09d08e16db8fc3336.jpg: 640x640 1 Pothole, 12.4ms\n",
      "image 6/181 /content/drive/MyDrive/Colab Notebooks/ComputerVisionProject/Pothole_Dataset/test/images/45_jpg.rf.ba4ab9a84559b122a2e44d8950e3cfcb.jpg: 640x640 2 Potholes, 12.8ms\n",
      "image 7/181 /content/drive/MyDrive/Colab Notebooks/ComputerVisionProject/Pothole_Dataset/test/images/460_jpg.rf.5341534b4b6c1c1079aeb269470006bb.jpg: 640x640 1 Pothole, 13.3ms\n",
      "image 8/181 /content/drive/MyDrive/Colab Notebooks/ComputerVisionProject/Pothole_Dataset/test/images/462_jpg.rf.3db95745b4bfa08c07341d7585b39010.jpg: 640x640 5 Potholes, 12.7ms\n",
      "image 9/181 /content/drive/MyDrive/Colab Notebooks/ComputerVisionProject/Pothole_Dataset/test/images/464_jpg.rf.60e0bf39ade21c67d7c817fa11a4fc6f.jpg: 640x640 1 Pothole, 12.6ms\n",
      "image 10/181 /content/drive/MyDrive/Colab Notebooks/ComputerVisionProject/Pothole_Dataset/test/images/466_jpg.rf.8d84771180557d4e8b3b5ec788005ee9.jpg: 640x640 1 Pothole, 11.3ms\n",
      "image 11/181 /content/drive/MyDrive/Colab Notebooks/ComputerVisionProject/Pothole_Dataset/test/images/467_jpg.rf.bd95c73a26b70dca158066e0d2e91474.jpg: 640x640 1 Pothole, 10.5ms\n",
      "image 12/181 /content/drive/MyDrive/Colab Notebooks/ComputerVisionProject/Pothole_Dataset/test/images/468_jpg.rf.009a905d97cc1152335812d1e381c2e5.jpg: 640x640 2 Potholes, 20.7ms\n",
      "image 13/181 /content/drive/MyDrive/Colab Notebooks/ComputerVisionProject/Pothole_Dataset/test/images/469_jpg.rf.ba08f4ac49481630b0528eeae1c82d2e.jpg: 640x640 2 Potholes, 16.2ms\n",
      "image 14/181 /content/drive/MyDrive/Colab Notebooks/ComputerVisionProject/Pothole_Dataset/test/images/46_jpg.rf.618dbdd4b01013bd4faabda59fac7953.jpg: 640x640 12 Potholes, 13.0ms\n",
      "image 15/181 /content/drive/MyDrive/Colab Notebooks/ComputerVisionProject/Pothole_Dataset/test/images/470_jpg.rf.764ccdf10006c62492c0eb08d71a5cf0.jpg: 640x640 3 Potholes, 7.4ms\n",
      "image 16/181 /content/drive/MyDrive/Colab Notebooks/ComputerVisionProject/Pothole_Dataset/test/images/471_jpg.rf.3e2ed4b2cb2cb8ec3f12fe4419a4fcbd.jpg: 640x640 1 Pothole, 7.4ms\n",
      "image 17/181 /content/drive/MyDrive/Colab Notebooks/ComputerVisionProject/Pothole_Dataset/test/images/472_jpg.rf.33c7966d180d0fd7c6f2a9dea2cdaa44.jpg: 640x640 8 Potholes, 10.7ms\n",
      "image 18/181 /content/drive/MyDrive/Colab Notebooks/ComputerVisionProject/Pothole_Dataset/test/images/473_jpg.rf.7581ea5bd281f09ce8fd59b4827d7f0c.jpg: 640x640 1 Pothole, 8.1ms\n",
      "image 19/181 /content/drive/MyDrive/Colab Notebooks/ComputerVisionProject/Pothole_Dataset/test/images/474_jpg.rf.422d7a2a8c48bc930f116f0a439de6ba.jpg: 640x640 4 Potholes, 7.4ms\n",
      "image 20/181 /content/drive/MyDrive/Colab Notebooks/ComputerVisionProject/Pothole_Dataset/test/images/475_jpg.rf.43477f4e993621ee4aa6e2a6d059a8f6.jpg: 640x640 4 Potholes, 7.4ms\n",
      "image 21/181 /content/drive/MyDrive/Colab Notebooks/ComputerVisionProject/Pothole_Dataset/test/images/477_jpg.rf.e808d23492161ba4f021c988d4aeadce.jpg: 640x640 9 Potholes, 7.4ms\n",
      "image 22/181 /content/drive/MyDrive/Colab Notebooks/ComputerVisionProject/Pothole_Dataset/test/images/478_jpg.rf.9a4f4b16ee4443797e476f40bad1d810.jpg: 640x640 2 Potholes, 8.0ms\n",
      "image 23/181 /content/drive/MyDrive/Colab Notebooks/ComputerVisionProject/Pothole_Dataset/test/images/479_jpg.rf.5207576c20250b1488d8ba9653c2e6ec.jpg: 640x640 7 Potholes, 7.5ms\n",
      "image 24/181 /content/drive/MyDrive/Colab Notebooks/ComputerVisionProject/Pothole_Dataset/test/images/47_jpg.rf.f8cf4beefbf062c46b1ad0dff690d19c.jpg: 640x640 4 Potholes, 7.4ms\n",
      "image 25/181 /content/drive/MyDrive/Colab Notebooks/ComputerVisionProject/Pothole_Dataset/test/images/480_jpg.rf.50f2e06b4a49cfea8e3ee8a9d1c43091.jpg: 640x640 15 Potholes, 9.9ms\n",
      "image 26/181 /content/drive/MyDrive/Colab Notebooks/ComputerVisionProject/Pothole_Dataset/test/images/481_jpg.rf.eb102c1b5d29a8eecb29609fc10b4ab9.jpg: 640x640 5 Potholes, 9.3ms\n",
      "image 27/181 /content/drive/MyDrive/Colab Notebooks/ComputerVisionProject/Pothole_Dataset/test/images/483_jpg.rf.fc657b1b9af3b2fe5ff661401377e04b.jpg: 640x640 3 Potholes, 10.2ms\n",
      "image 28/181 /content/drive/MyDrive/Colab Notebooks/ComputerVisionProject/Pothole_Dataset/test/images/484_jpg.rf.d655d992b5dce5e9f556f9ea49bceafe.jpg: 640x640 1 Pothole, 11.1ms\n",
      "image 29/181 /content/drive/MyDrive/Colab Notebooks/ComputerVisionProject/Pothole_Dataset/test/images/486_jpg.rf.59c47192c12b50b251be80af35ad8eac.jpg: 640x640 6 Potholes, 9.9ms\n",
      "image 30/181 /content/drive/MyDrive/Colab Notebooks/ComputerVisionProject/Pothole_Dataset/test/images/487_jpg.rf.9ac11f0bd81eaaae27ad643be2b68d55.jpg: 640x640 1 Pothole, 9.3ms\n",
      "image 31/181 /content/drive/MyDrive/Colab Notebooks/ComputerVisionProject/Pothole_Dataset/test/images/489_jpg.rf.b65cea7084eeba11f4451910d90c6f23.jpg: 640x640 3 Potholes, 9.7ms\n",
      "image 32/181 /content/drive/MyDrive/Colab Notebooks/ComputerVisionProject/Pothole_Dataset/test/images/490_jpg.rf.5dd8d8ba503690c8ffba819d895b420c.jpg: 640x640 5 Potholes, 10.4ms\n",
      "image 33/181 /content/drive/MyDrive/Colab Notebooks/ComputerVisionProject/Pothole_Dataset/test/images/492_jpg.rf.c17c53b13123f1533499a9934736405a.jpg: 640x640 2 Potholes, 9.6ms\n",
      "image 34/181 /content/drive/MyDrive/Colab Notebooks/ComputerVisionProject/Pothole_Dataset/test/images/496_jpg.rf.3eb22a11be28ecba088c72c608f85aaa.jpg: 640x640 2 Potholes, 10.2ms\n",
      "image 35/181 /content/drive/MyDrive/Colab Notebooks/ComputerVisionProject/Pothole_Dataset/test/images/498_jpg.rf.bfe5ad3e93170377c52de36176d281df.jpg: 640x640 3 Potholes, 10.4ms\n",
      "image 36/181 /content/drive/MyDrive/Colab Notebooks/ComputerVisionProject/Pothole_Dataset/test/images/499_jpg.rf.b1fba3e452340a787229c6e8d8d71164.jpg: 640x640 3 Potholes, 7.5ms\n",
      "image 37/181 /content/drive/MyDrive/Colab Notebooks/ComputerVisionProject/Pothole_Dataset/test/images/49_jpg.rf.60156920abdceb2cd636aadc158f254b.jpg: 640x640 4 Potholes, 7.4ms\n",
      "image 38/181 /content/drive/MyDrive/Colab Notebooks/ComputerVisionProject/Pothole_Dataset/test/images/500_jpg.rf.7b0ccc1b269c43f6c51eb0480a3cd17b.jpg: 640x640 1 Pothole, 7.4ms\n",
      "image 39/181 /content/drive/MyDrive/Colab Notebooks/ComputerVisionProject/Pothole_Dataset/test/images/501_jpg.rf.f34a27b5adac2fbd26335f3b9d028381.jpg: 640x640 1 Pothole, 7.4ms\n",
      "image 40/181 /content/drive/MyDrive/Colab Notebooks/ComputerVisionProject/Pothole_Dataset/test/images/502_jpg.rf.026f4a78fb4bff62c482fb999084748f.jpg: 640x640 3 Potholes, 7.4ms\n",
      "image 41/181 /content/drive/MyDrive/Colab Notebooks/ComputerVisionProject/Pothole_Dataset/test/images/503_jpg.rf.21fa8ace68f5d6c535e68db35be5dd40.jpg: 640x640 10 Potholes, 7.4ms\n",
      "image 42/181 /content/drive/MyDrive/Colab Notebooks/ComputerVisionProject/Pothole_Dataset/test/images/504_jpg.rf.af59c7f58ecbf49a28afb3a31403f2b8.jpg: 640x640 17 Potholes, 11.7ms\n",
      "image 43/181 /content/drive/MyDrive/Colab Notebooks/ComputerVisionProject/Pothole_Dataset/test/images/505_jpg.rf.8428605031e4d74a34ec9dbb0a0ff5e7.jpg: 640x640 2 Potholes, 7.4ms\n",
      "image 44/181 /content/drive/MyDrive/Colab Notebooks/ComputerVisionProject/Pothole_Dataset/test/images/507_jpg.rf.856b588650ea7c8c8c79a362fe9d76c5.jpg: 640x640 1 Pothole, 18.6ms\n",
      "image 45/181 /content/drive/MyDrive/Colab Notebooks/ComputerVisionProject/Pothole_Dataset/test/images/508_jpg.rf.2103e9dda988cb2f24a0dfc35b833b43.jpg: 640x640 2 Potholes, 7.9ms\n",
      "image 46/181 /content/drive/MyDrive/Colab Notebooks/ComputerVisionProject/Pothole_Dataset/test/images/509_jpg.rf.eb7c7cb04bfff0823daaacbbb09762f0.jpg: 640x640 1 Pothole, 7.4ms\n",
      "image 47/181 /content/drive/MyDrive/Colab Notebooks/ComputerVisionProject/Pothole_Dataset/test/images/50_jpg.rf.2bee7cc1a0e34c5f92de1bc0b8ea7b97.jpg: 640x640 1 Pothole, 7.4ms\n",
      "image 48/181 /content/drive/MyDrive/Colab Notebooks/ComputerVisionProject/Pothole_Dataset/test/images/511_jpg.rf.58baae23d4cea4099059c977dfbb386c.jpg: 640x640 4 Potholes, 7.4ms\n",
      "image 49/181 /content/drive/MyDrive/Colab Notebooks/ComputerVisionProject/Pothole_Dataset/test/images/512_jpg.rf.f93efe66b60824061a50aaee835493d5.jpg: 640x640 5 Potholes, 7.4ms\n",
      "image 50/181 /content/drive/MyDrive/Colab Notebooks/ComputerVisionProject/Pothole_Dataset/test/images/513_jpg.rf.70ed7e0ae82000e7250960a666bcbd28.jpg: 640x640 1 Pothole, 7.4ms\n",
      "image 51/181 /content/drive/MyDrive/Colab Notebooks/ComputerVisionProject/Pothole_Dataset/test/images/514_jpg.rf.ed9e8b9c658ec1f7e2a3ee330033a026.jpg: 640x640 1 Pothole, 8.9ms\n",
      "image 52/181 /content/drive/MyDrive/Colab Notebooks/ComputerVisionProject/Pothole_Dataset/test/images/515_jpg.rf.bac9fb308069597132b294d4f1d3e95b.jpg: 640x640 1 Pothole, 8.6ms\n",
      "image 53/181 /content/drive/MyDrive/Colab Notebooks/ComputerVisionProject/Pothole_Dataset/test/images/516_jpg.rf.fcc553feda174e688cdbb8c89c7b3788.jpg: 640x640 1 Pothole, 9.5ms\n",
      "image 54/181 /content/drive/MyDrive/Colab Notebooks/ComputerVisionProject/Pothole_Dataset/test/images/517_jpg.rf.bcf0a92e2a81d05a14658011e3f4bef3.jpg: 640x640 2 Potholes, 8.7ms\n",
      "image 55/181 /content/drive/MyDrive/Colab Notebooks/ComputerVisionProject/Pothole_Dataset/test/images/518_jpg.rf.445e996e5606d8a30aefc56469c06c8b.jpg: 640x640 2 Potholes, 7.4ms\n",
      "image 56/181 /content/drive/MyDrive/Colab Notebooks/ComputerVisionProject/Pothole_Dataset/test/images/519_jpg.rf.890ce9c32b8f020acd4708110c96caa0.jpg: 640x640 2 Potholes, 7.4ms\n",
      "image 57/181 /content/drive/MyDrive/Colab Notebooks/ComputerVisionProject/Pothole_Dataset/test/images/521_jpg.rf.a74fba8444509c50cbc7b9d9dd9b1745.jpg: 640x640 2 Potholes, 7.4ms\n",
      "image 58/181 /content/drive/MyDrive/Colab Notebooks/ComputerVisionProject/Pothole_Dataset/test/images/522_jpg.rf.0361dcd37df25864e1c4adb5150120bb.jpg: 640x640 10 Potholes, 7.4ms\n",
      "image 59/181 /content/drive/MyDrive/Colab Notebooks/ComputerVisionProject/Pothole_Dataset/test/images/523_jpg.rf.6ee8a020b4bcc82392b3885672c8bd55.jpg: 640x640 2 Potholes, 7.4ms\n",
      "image 60/181 /content/drive/MyDrive/Colab Notebooks/ComputerVisionProject/Pothole_Dataset/test/images/525_jpg.rf.fb379351f5e2a62157cef1e3ba236c7b.jpg: 640x640 1 Pothole, 7.4ms\n",
      "image 61/181 /content/drive/MyDrive/Colab Notebooks/ComputerVisionProject/Pothole_Dataset/test/images/527_jpg.rf.20f631b6532f532be47dfac7553441ca.jpg: 640x640 2 Potholes, 7.5ms\n",
      "image 62/181 /content/drive/MyDrive/Colab Notebooks/ComputerVisionProject/Pothole_Dataset/test/images/528_jpg.rf.3f28699216063719a36eda96183e69fc.jpg: 640x640 3 Potholes, 7.4ms\n",
      "image 63/181 /content/drive/MyDrive/Colab Notebooks/ComputerVisionProject/Pothole_Dataset/test/images/529_jpg.rf.841be1cc1395e8208c38152253269698.jpg: 640x640 16 Potholes, 7.4ms\n",
      "image 64/181 /content/drive/MyDrive/Colab Notebooks/ComputerVisionProject/Pothole_Dataset/test/images/52_jpg.rf.79ed1c94e36b9a7b0670fa03455349fb.jpg: 640x640 2 Potholes, 7.7ms\n",
      "image 65/181 /content/drive/MyDrive/Colab Notebooks/ComputerVisionProject/Pothole_Dataset/test/images/530_jpg.rf.f01e769a1943226767a65ddf54357ae2.jpg: 640x640 2 Potholes, 7.4ms\n",
      "image 66/181 /content/drive/MyDrive/Colab Notebooks/ComputerVisionProject/Pothole_Dataset/test/images/531_jpg.rf.e7bc1acbb44e837883ea028a44c008ed.jpg: 640x640 5 Potholes, 7.4ms\n",
      "image 67/181 /content/drive/MyDrive/Colab Notebooks/ComputerVisionProject/Pothole_Dataset/test/images/533_jpg.rf.7371fc896cc7bf170fd57e6a2f084117.jpg: 640x640 1 Pothole, 7.5ms\n",
      "image 68/181 /content/drive/MyDrive/Colab Notebooks/ComputerVisionProject/Pothole_Dataset/test/images/534_jpg.rf.747eaf2225e9d042d6e719dd473d7243.jpg: 640x640 1 Pothole, 11.6ms\n",
      "image 69/181 /content/drive/MyDrive/Colab Notebooks/ComputerVisionProject/Pothole_Dataset/test/images/536_jpg.rf.f769cd3da01771c832ba836a0adc8c9d.jpg: 640x640 2 Potholes, 7.4ms\n",
      "image 70/181 /content/drive/MyDrive/Colab Notebooks/ComputerVisionProject/Pothole_Dataset/test/images/537_jpg.rf.cb289664b6b457afa40f550134e3e620.jpg: 640x640 4 Potholes, 7.4ms\n",
      "image 71/181 /content/drive/MyDrive/Colab Notebooks/ComputerVisionProject/Pothole_Dataset/test/images/538_jpg.rf.bc6a8935db468231b63a7051d6feedb7.jpg: 640x640 1 Pothole, 7.4ms\n",
      "image 72/181 /content/drive/MyDrive/Colab Notebooks/ComputerVisionProject/Pothole_Dataset/test/images/539_jpg.rf.cdb3cbc5ef01a467ff5f66c6d07c4514.jpg: 640x640 2 Potholes, 7.4ms\n",
      "image 73/181 /content/drive/MyDrive/Colab Notebooks/ComputerVisionProject/Pothole_Dataset/test/images/540_jpg.rf.b7bf952c4e77ed9c7a854d0284049e1c.jpg: 640x640 2 Potholes, 8.0ms\n",
      "image 74/181 /content/drive/MyDrive/Colab Notebooks/ComputerVisionProject/Pothole_Dataset/test/images/541_jpg.rf.8dca250758d0aed10ca2eb19d8b7acdc.jpg: 640x640 1 Pothole, 7.4ms\n",
      "image 75/181 /content/drive/MyDrive/Colab Notebooks/ComputerVisionProject/Pothole_Dataset/test/images/542_jpg.rf.b2acaf2f355ba91dfa87c45ab82e26ed.jpg: 640x640 1 Pothole, 7.4ms\n",
      "image 76/181 /content/drive/MyDrive/Colab Notebooks/ComputerVisionProject/Pothole_Dataset/test/images/543_jpg.rf.d8d30a7a21d5c10f4aa3db9a561bee84.jpg: 640x640 1 Pothole, 7.4ms\n",
      "image 77/181 /content/drive/MyDrive/Colab Notebooks/ComputerVisionProject/Pothole_Dataset/test/images/545_jpg.rf.f83e986f2d6bbed53f39c676f4cb2223.jpg: 640x640 4 Potholes, 12.4ms\n",
      "image 78/181 /content/drive/MyDrive/Colab Notebooks/ComputerVisionProject/Pothole_Dataset/test/images/546_jpg.rf.9d0c84a219810712c44db1ea7d122f4c.jpg: 640x640 3 Potholes, 7.4ms\n",
      "image 79/181 /content/drive/MyDrive/Colab Notebooks/ComputerVisionProject/Pothole_Dataset/test/images/547_jpg.rf.86ac822a58d6f1880450457a9e622f5d.jpg: 640x640 4 Potholes, 7.4ms\n",
      "image 80/181 /content/drive/MyDrive/Colab Notebooks/ComputerVisionProject/Pothole_Dataset/test/images/548_jpg.rf.83e7506fdf8223619851b9cda4517b6b.jpg: 640x640 5 Potholes, 7.4ms\n",
      "image 81/181 /content/drive/MyDrive/Colab Notebooks/ComputerVisionProject/Pothole_Dataset/test/images/549_jpg.rf.3e5e98195bff727566a0f1c9d873616a.jpg: 640x640 1 Pothole, 8.2ms\n",
      "image 82/181 /content/drive/MyDrive/Colab Notebooks/ComputerVisionProject/Pothole_Dataset/test/images/550_jpg.rf.4a0923e093a7261a8790e6a9448e3c02.jpg: 640x640 3 Potholes, 10.1ms\n",
      "image 83/181 /content/drive/MyDrive/Colab Notebooks/ComputerVisionProject/Pothole_Dataset/test/images/551_jpg.rf.d3a2b218ab77e5d818d418b93af77919.jpg: 640x640 4 Potholes, 9.5ms\n",
      "image 84/181 /content/drive/MyDrive/Colab Notebooks/ComputerVisionProject/Pothole_Dataset/test/images/552_jpg.rf.497f6be22856653965d17f69b5961984.jpg: 640x640 1 Pothole, 10.8ms\n",
      "image 85/181 /content/drive/MyDrive/Colab Notebooks/ComputerVisionProject/Pothole_Dataset/test/images/553_jpg.rf.c66ffa5a1ec5bf8ac4917e6587a12f62.jpg: 640x640 3 Potholes, 9.8ms\n",
      "image 86/181 /content/drive/MyDrive/Colab Notebooks/ComputerVisionProject/Pothole_Dataset/test/images/554_jpg.rf.dab5648341a9786c7d3e5425aed551dc.jpg: 640x640 1 Pothole, 8.8ms\n",
      "image 87/181 /content/drive/MyDrive/Colab Notebooks/ComputerVisionProject/Pothole_Dataset/test/images/555_jpg.rf.1b4221350df0b8266102c376640866f0.jpg: 640x640 2 Potholes, 8.7ms\n",
      "image 88/181 /content/drive/MyDrive/Colab Notebooks/ComputerVisionProject/Pothole_Dataset/test/images/556_jpg.rf.f8b840f61c52a3be0b6b2bfcb0c57023.jpg: 640x640 1 Pothole, 7.4ms\n",
      "image 89/181 /content/drive/MyDrive/Colab Notebooks/ComputerVisionProject/Pothole_Dataset/test/images/557_jpg.rf.a5a27824252bae6723f7fb965b582c1f.jpg: 640x640 4 Potholes, 7.4ms\n",
      "image 90/181 /content/drive/MyDrive/Colab Notebooks/ComputerVisionProject/Pothole_Dataset/test/images/558_jpg.rf.449753758a7595ab9eba2deb688e72f8.jpg: 640x640 3 Potholes, 7.4ms\n",
      "image 91/181 /content/drive/MyDrive/Colab Notebooks/ComputerVisionProject/Pothole_Dataset/test/images/559_jpg.rf.85d87dae3b797f84aa20127a9098a211.jpg: 640x640 1 Pothole, 7.4ms\n",
      "image 92/181 /content/drive/MyDrive/Colab Notebooks/ComputerVisionProject/Pothole_Dataset/test/images/560_jpg.rf.c16e5f6b507181188947cefc2605d17f.jpg: 640x640 4 Potholes, 7.4ms\n",
      "image 93/181 /content/drive/MyDrive/Colab Notebooks/ComputerVisionProject/Pothole_Dataset/test/images/561_jpg.rf.d39634e0341a92ea161c747857973c08.jpg: 640x640 5 Potholes, 7.4ms\n",
      "image 94/181 /content/drive/MyDrive/Colab Notebooks/ComputerVisionProject/Pothole_Dataset/test/images/562_jpg.rf.48a61c9f303c0ec9319389df70f630f3.jpg: 640x640 1 Pothole, 7.4ms\n",
      "image 95/181 /content/drive/MyDrive/Colab Notebooks/ComputerVisionProject/Pothole_Dataset/test/images/563_jpg.rf.597abaffbc389a32abe52405a282214d.jpg: 640x640 2 Potholes, 7.4ms\n",
      "image 96/181 /content/drive/MyDrive/Colab Notebooks/ComputerVisionProject/Pothole_Dataset/test/images/564_jpg.rf.5873cf68a3d50e5aa284f60a12ff46e1.jpg: 640x640 5 Potholes, 7.4ms\n",
      "image 97/181 /content/drive/MyDrive/Colab Notebooks/ComputerVisionProject/Pothole_Dataset/test/images/565_jpg.rf.c135b53b3c2afa6e714fdceff6024908.jpg: 640x640 2 Potholes, 7.4ms\n",
      "image 98/181 /content/drive/MyDrive/Colab Notebooks/ComputerVisionProject/Pothole_Dataset/test/images/566_jpg.rf.25c8276c8b00365fe3c75f58cd389a16.jpg: 640x640 2 Potholes, 7.4ms\n",
      "image 99/181 /content/drive/MyDrive/Colab Notebooks/ComputerVisionProject/Pothole_Dataset/test/images/568_jpg.rf.3da180e8c0db8a8ba83e0457b0cbc4aa.jpg: 640x640 3 Potholes, 7.4ms\n",
      "image 100/181 /content/drive/MyDrive/Colab Notebooks/ComputerVisionProject/Pothole_Dataset/test/images/56_jpg.rf.b9e9bfc45f8a092fcb0ba37749dc0f65.jpg: 640x640 1 Pothole, 7.5ms\n",
      "image 101/181 /content/drive/MyDrive/Colab Notebooks/ComputerVisionProject/Pothole_Dataset/test/images/570_jpg.rf.4d31d1c197d153387973e42bb897f402.jpg: 640x640 3 Potholes, 7.4ms\n",
      "image 102/181 /content/drive/MyDrive/Colab Notebooks/ComputerVisionProject/Pothole_Dataset/test/images/572_jpg.rf.85bc13dd5eebf80f6d4f4ad6b4022d6e.jpg: 640x640 30 Potholes, 7.4ms\n",
      "image 103/181 /content/drive/MyDrive/Colab Notebooks/ComputerVisionProject/Pothole_Dataset/test/images/573_jpg.rf.3e2a00a6c1980b6061d856c07ccfdd87.jpg: 640x640 1 Pothole, 7.4ms\n",
      "image 104/181 /content/drive/MyDrive/Colab Notebooks/ComputerVisionProject/Pothole_Dataset/test/images/575_jpg.rf.628e71b567ccdd1233465d60f92175a4.jpg: 640x640 2 Potholes, 7.4ms\n",
      "image 105/181 /content/drive/MyDrive/Colab Notebooks/ComputerVisionProject/Pothole_Dataset/test/images/576_jpg.rf.7cab3c2455f210ffdc9445c4a156b5b1.jpg: 640x640 1 Pothole, 7.4ms\n",
      "image 106/181 /content/drive/MyDrive/Colab Notebooks/ComputerVisionProject/Pothole_Dataset/test/images/577_jpg.rf.11435e1143571236e14b9c2289f5517b.jpg: 640x640 3 Potholes, 7.4ms\n",
      "image 107/181 /content/drive/MyDrive/Colab Notebooks/ComputerVisionProject/Pothole_Dataset/test/images/578_jpg.rf.7b96dd9c27479e3b6768525b765d41ca.jpg: 640x640 1 Pothole, 7.4ms\n",
      "image 108/181 /content/drive/MyDrive/Colab Notebooks/ComputerVisionProject/Pothole_Dataset/test/images/579_jpg.rf.493778d780156c4155c5b0366a4d0127.jpg: 640x640 2 Potholes, 7.9ms\n",
      "image 109/181 /content/drive/MyDrive/Colab Notebooks/ComputerVisionProject/Pothole_Dataset/test/images/57_jpg.rf.8b5253b04ad0a1ee3999fafb8344e2d0.jpg: 640x640 2 Potholes, 8.3ms\n",
      "image 110/181 /content/drive/MyDrive/Colab Notebooks/ComputerVisionProject/Pothole_Dataset/test/images/580_jpg.rf.3d1d9706e14c409e2edc0e8eba0ea3d0.jpg: 640x640 5 Potholes, 7.5ms\n",
      "image 111/181 /content/drive/MyDrive/Colab Notebooks/ComputerVisionProject/Pothole_Dataset/test/images/581_jpg.rf.c9447b0a4a1f5bb0d9a1a0d85a65a3bf.jpg: 640x640 1 Pothole, 7.4ms\n",
      "image 112/181 /content/drive/MyDrive/Colab Notebooks/ComputerVisionProject/Pothole_Dataset/test/images/583_jpg.rf.816eb0bc20efcc2117b58e923ced40df.jpg: 640x640 35 Potholes, 9.1ms\n",
      "image 113/181 /content/drive/MyDrive/Colab Notebooks/ComputerVisionProject/Pothole_Dataset/test/images/584_jpg.rf.8064fc67e1dbf3f443f3b37e9771dc11.jpg: 640x640 2 Potholes, 9.6ms\n",
      "image 114/181 /content/drive/MyDrive/Colab Notebooks/ComputerVisionProject/Pothole_Dataset/test/images/585_jpg.rf.53d9921aba02d74ef6d3ba810a0acc26.jpg: 640x640 1 Pothole, 9.8ms\n",
      "image 115/181 /content/drive/MyDrive/Colab Notebooks/ComputerVisionProject/Pothole_Dataset/test/images/586_jpg.rf.caa28529ad197498f49751aa1d68e00e.jpg: 640x640 2 Potholes, 10.0ms\n",
      "image 116/181 /content/drive/MyDrive/Colab Notebooks/ComputerVisionProject/Pothole_Dataset/test/images/587_jpg.rf.abda766b44f0142a1c7e19f061ba3afe.jpg: 640x640 1 Pothole, 9.2ms\n",
      "image 117/181 /content/drive/MyDrive/Colab Notebooks/ComputerVisionProject/Pothole_Dataset/test/images/588_jpg.rf.4087083cef8d8b0081ae364cad419326.jpg: 640x640 1 Pothole, 7.4ms\n",
      "image 118/181 /content/drive/MyDrive/Colab Notebooks/ComputerVisionProject/Pothole_Dataset/test/images/58_jpg.rf.b0d70ca4c91e9dc5d85b84c03ff0d7a5.jpg: 640x640 2 Potholes, 7.4ms\n",
      "image 119/181 /content/drive/MyDrive/Colab Notebooks/ComputerVisionProject/Pothole_Dataset/test/images/590_jpg.rf.2ad29a7ef622f0eab45498bd8d0050f7.jpg: 640x640 4 Potholes, 7.4ms\n",
      "image 120/181 /content/drive/MyDrive/Colab Notebooks/ComputerVisionProject/Pothole_Dataset/test/images/591_jpg.rf.6f3bbafcc67a08d97f9c32fcd15e4492.jpg: 640x640 11 Potholes, 7.4ms\n",
      "image 121/181 /content/drive/MyDrive/Colab Notebooks/ComputerVisionProject/Pothole_Dataset/test/images/593_jpg.rf.0e94926ce5d6124a1d1f1b0e39d3127f.jpg: 640x640 14 Potholes, 10.8ms\n",
      "image 122/181 /content/drive/MyDrive/Colab Notebooks/ComputerVisionProject/Pothole_Dataset/test/images/595_jpg.rf.cee50d7d1b967183965fd33ca54e1207.jpg: 640x640 1 Pothole, 7.4ms\n",
      "image 123/181 /content/drive/MyDrive/Colab Notebooks/ComputerVisionProject/Pothole_Dataset/test/images/596_jpg.rf.520361f1a6ced757ff76da9e92a3465f.jpg: 640x640 1 Pothole, 7.4ms\n",
      "image 124/181 /content/drive/MyDrive/Colab Notebooks/ComputerVisionProject/Pothole_Dataset/test/images/597_jpg.rf.870e21010ed102fe7356800632e41088.jpg: 640x640 1 Pothole, 7.4ms\n",
      "image 125/181 /content/drive/MyDrive/Colab Notebooks/ComputerVisionProject/Pothole_Dataset/test/images/598_jpg.rf.9dec43fb7cdce896a02e01dcfbc0193a.jpg: 640x640 16 Potholes, 7.7ms\n",
      "image 126/181 /content/drive/MyDrive/Colab Notebooks/ComputerVisionProject/Pothole_Dataset/test/images/599_jpg.rf.1824103c09c42ab22b2a3e4fb4e4a4e7.jpg: 640x640 4 Potholes, 7.4ms\n",
      "image 127/181 /content/drive/MyDrive/Colab Notebooks/ComputerVisionProject/Pothole_Dataset/test/images/59_jpg.rf.ccafbe3505775c595ba92d48d77a8a3d.jpg: 640x640 2 Potholes, 7.4ms\n",
      "image 128/181 /content/drive/MyDrive/Colab Notebooks/ComputerVisionProject/Pothole_Dataset/test/images/5_jpg.rf.16280eb149075d831677b2b8436cb70b.jpg: 640x640 3 Potholes, 7.4ms\n",
      "image 129/181 /content/drive/MyDrive/Colab Notebooks/ComputerVisionProject/Pothole_Dataset/test/images/600_jpg.rf.7b7c93ca3166a05202758cdb27880964.jpg: 640x640 2 Potholes, 7.5ms\n",
      "image 130/181 /content/drive/MyDrive/Colab Notebooks/ComputerVisionProject/Pothole_Dataset/test/images/602_jpg.rf.a701d044c06d4057cca334fba3c482df.jpg: 640x640 8 Potholes, 7.4ms\n",
      "image 131/181 /content/drive/MyDrive/Colab Notebooks/ComputerVisionProject/Pothole_Dataset/test/images/603_jpg.rf.abd54a29a584a278ac6edb0acf0a696c.jpg: 640x640 3 Potholes, 7.4ms\n",
      "image 132/181 /content/drive/MyDrive/Colab Notebooks/ComputerVisionProject/Pothole_Dataset/test/images/604_jpg.rf.3b5dbad6721d249e60b52f68ccf40cca.jpg: 640x640 10 Potholes, 9.4ms\n",
      "image 133/181 /content/drive/MyDrive/Colab Notebooks/ComputerVisionProject/Pothole_Dataset/test/images/605_jpg.rf.7f5e5b9cc309a90417fbf055e225504f.jpg: 640x640 17 Potholes, 7.5ms\n",
      "image 134/181 /content/drive/MyDrive/Colab Notebooks/ComputerVisionProject/Pothole_Dataset/test/images/606_jpg.rf.3db4d133831628065c6c99f8abadfba2.jpg: 640x640 1 Pothole, 7.4ms\n",
      "image 135/181 /content/drive/MyDrive/Colab Notebooks/ComputerVisionProject/Pothole_Dataset/test/images/607_jpg.rf.f541fa2059f99c50d355e6d92a7e8076.jpg: 640x640 6 Potholes, 7.4ms\n",
      "image 136/181 /content/drive/MyDrive/Colab Notebooks/ComputerVisionProject/Pothole_Dataset/test/images/608_jpg.rf.1be75438de1280e5cbd7057a9fd914e7.jpg: 640x640 1 Pothole, 7.4ms\n",
      "image 137/181 /content/drive/MyDrive/Colab Notebooks/ComputerVisionProject/Pothole_Dataset/test/images/609_jpg.rf.2bcde0b796c4369a836dcf4546fbd97d.jpg: 640x640 2 Potholes, 7.4ms\n",
      "image 138/181 /content/drive/MyDrive/Colab Notebooks/ComputerVisionProject/Pothole_Dataset/test/images/610_jpg.rf.b426796c76f0612ab82cab782458e8cf.jpg: 640x640 (no detections), 8.9ms\n",
      "image 139/181 /content/drive/MyDrive/Colab Notebooks/ComputerVisionProject/Pothole_Dataset/test/images/611_jpg.rf.74a26bb45103c7fadfcf52719a2bee1a.jpg: 640x640 5 Potholes, 7.4ms\n",
      "image 140/181 /content/drive/MyDrive/Colab Notebooks/ComputerVisionProject/Pothole_Dataset/test/images/613_jpg.rf.4f4b7a3fa63879cd1577852e83027aaa.jpg: 640x640 3 Potholes, 7.4ms\n",
      "image 141/181 /content/drive/MyDrive/Colab Notebooks/ComputerVisionProject/Pothole_Dataset/test/images/614_jpg.rf.b6ccbf3eeb6fbd72dcd453eddd13c68f.jpg: 640x640 2 Potholes, 7.4ms\n",
      "image 142/181 /content/drive/MyDrive/Colab Notebooks/ComputerVisionProject/Pothole_Dataset/test/images/615_jpg.rf.8e3b86b47845f67567711be60b5426d4.jpg: 640x640 1 Pothole, 10.6ms\n",
      "image 143/181 /content/drive/MyDrive/Colab Notebooks/ComputerVisionProject/Pothole_Dataset/test/images/616_jpg.rf.e3847bf982374a86eded1c3f147e2662.jpg: 640x640 1 Pothole, 9.1ms\n",
      "image 144/181 /content/drive/MyDrive/Colab Notebooks/ComputerVisionProject/Pothole_Dataset/test/images/617_jpg.rf.799d3afe50c7458f29034a09324dda45.jpg: 640x640 3 Potholes, 8.7ms\n",
      "image 145/181 /content/drive/MyDrive/Colab Notebooks/ComputerVisionProject/Pothole_Dataset/test/images/619_jpg.rf.3c0c8f1c58903d1efc1f10be544172a1.jpg: 640x640 3 Potholes, 18.2ms\n",
      "image 146/181 /content/drive/MyDrive/Colab Notebooks/ComputerVisionProject/Pothole_Dataset/test/images/61_jpg.rf.2cca05797572f7194bd7e2fbf697f0c7.jpg: 640x640 2 Potholes, 9.3ms\n",
      "image 147/181 /content/drive/MyDrive/Colab Notebooks/ComputerVisionProject/Pothole_Dataset/test/images/620_jpg.rf.a9da99a933337cf6e3c71f2562a6ec5e.jpg: 640x640 9 Potholes, 8.4ms\n",
      "image 148/181 /content/drive/MyDrive/Colab Notebooks/ComputerVisionProject/Pothole_Dataset/test/images/62_jpg.rf.7ab24a49968d79250be554a7df644d9d.jpg: 640x640 3 Potholes, 7.5ms\n",
      "image 149/181 /content/drive/MyDrive/Colab Notebooks/ComputerVisionProject/Pothole_Dataset/test/images/63_jpg.rf.03a48cb0ea3e995b9dbc5594d1d4fb92.jpg: 640x640 3 Potholes, 7.4ms\n",
      "image 150/181 /content/drive/MyDrive/Colab Notebooks/ComputerVisionProject/Pothole_Dataset/test/images/64_jpg.rf.abb284025e017df4e51760ced6ec5ed7.jpg: 640x640 1 Pothole, 16.2ms\n",
      "image 151/181 /content/drive/MyDrive/Colab Notebooks/ComputerVisionProject/Pothole_Dataset/test/images/66_jpg.rf.338457278b7dc6504417899588db2ee3.jpg: 640x640 1 Pothole, 7.5ms\n",
      "image 152/181 /content/drive/MyDrive/Colab Notebooks/ComputerVisionProject/Pothole_Dataset/test/images/67_jpg.rf.0336aaed9f581c0ce351def20b5606ad.jpg: 640x640 (no detections), 7.4ms\n",
      "image 153/181 /content/drive/MyDrive/Colab Notebooks/ComputerVisionProject/Pothole_Dataset/test/images/69_jpg.rf.4f290fa4671e9bee2eb6a2d0d8901455.jpg: 640x640 12 Potholes, 7.4ms\n",
      "image 154/181 /content/drive/MyDrive/Colab Notebooks/ComputerVisionProject/Pothole_Dataset/test/images/6_jpg.rf.c0db56ef58ae951cdbf228537d84ba4d.jpg: 640x640 1 Pothole, 7.4ms\n",
      "image 155/181 /content/drive/MyDrive/Colab Notebooks/ComputerVisionProject/Pothole_Dataset/test/images/70_jpg.rf.7880d26484944e3aa691447b94f888de.jpg: 640x640 5 Potholes, 7.4ms\n",
      "image 156/181 /content/drive/MyDrive/Colab Notebooks/ComputerVisionProject/Pothole_Dataset/test/images/72_jpg.rf.72e33e86dd3cfe961460aefd7f9d3dcd.jpg: 640x640 1 Pothole, 7.4ms\n",
      "image 157/181 /content/drive/MyDrive/Colab Notebooks/ComputerVisionProject/Pothole_Dataset/test/images/73_jpg.rf.de89f49b861c7eccdadd0a41e95857c9.jpg: 640x640 2 Potholes, 7.4ms\n",
      "image 158/181 /content/drive/MyDrive/Colab Notebooks/ComputerVisionProject/Pothole_Dataset/test/images/74_jpg.rf.d0f3db8dd2dbc6e60c4015b327a5bc29.jpg: 640x640 5 Potholes, 7.4ms\n",
      "image 159/181 /content/drive/MyDrive/Colab Notebooks/ComputerVisionProject/Pothole_Dataset/test/images/75_jpg.rf.4c847b0e03418728e1b39d5eb71b2a9f.jpg: 640x640 1 Pothole, 7.4ms\n",
      "image 160/181 /content/drive/MyDrive/Colab Notebooks/ComputerVisionProject/Pothole_Dataset/test/images/77_jpg.rf.d8047ff797efa59a310d0818199964cd.jpg: 640x640 2 Potholes, 7.4ms\n",
      "image 161/181 /content/drive/MyDrive/Colab Notebooks/ComputerVisionProject/Pothole_Dataset/test/images/79_jpg.rf.5c693f74955f261c65c0ff1c38d40833.jpg: 640x640 15 Potholes, 7.4ms\n",
      "image 162/181 /content/drive/MyDrive/Colab Notebooks/ComputerVisionProject/Pothole_Dataset/test/images/7_jpg.rf.7296232cb211f4e175d75ad2115a9af4.jpg: 640x640 1 Pothole, 7.4ms\n",
      "image 163/181 /content/drive/MyDrive/Colab Notebooks/ComputerVisionProject/Pothole_Dataset/test/images/81_jpg.rf.c62fd66d2687fb3ff15e0f43e09f2ed9.jpg: 640x640 8 Potholes, 9.4ms\n",
      "image 164/181 /content/drive/MyDrive/Colab Notebooks/ComputerVisionProject/Pothole_Dataset/test/images/82_jpg.rf.aea3f17a62d4a3988abc1674c7963fa4.jpg: 640x640 5 Potholes, 7.4ms\n",
      "image 165/181 /content/drive/MyDrive/Colab Notebooks/ComputerVisionProject/Pothole_Dataset/test/images/83_jpg.rf.1909d5dffa60efd5d590a0abc705fafb.jpg: 640x640 3 Potholes, 7.4ms\n",
      "image 166/181 /content/drive/MyDrive/Colab Notebooks/ComputerVisionProject/Pothole_Dataset/test/images/86_jpg.rf.3087659de2ae19c81dac9587a4353e5c.jpg: 640x640 1 Pothole, 9.0ms\n",
      "image 167/181 /content/drive/MyDrive/Colab Notebooks/ComputerVisionProject/Pothole_Dataset/test/images/87_jpg.rf.5f6263a7c24c4b86f594eb7594bd8ddb.jpg: 640x640 2 Potholes, 8.7ms\n",
      "image 168/181 /content/drive/MyDrive/Colab Notebooks/ComputerVisionProject/Pothole_Dataset/test/images/88_jpg.rf.1f65b97d0038ee61b15a32eceedb4c76.jpg: 640x640 2 Potholes, 9.0ms\n",
      "image 169/181 /content/drive/MyDrive/Colab Notebooks/ComputerVisionProject/Pothole_Dataset/test/images/89_jpg.rf.c094387fb85f0f66a6f821a9972dce95.jpg: 640x640 1 Pothole, 9.1ms\n",
      "image 170/181 /content/drive/MyDrive/Colab Notebooks/ComputerVisionProject/Pothole_Dataset/test/images/8_jpg.rf.6f3d7db3e1e03eea8431d981bdbe8701.jpg: 640x640 5 Potholes, 7.4ms\n",
      "image 171/181 /content/drive/MyDrive/Colab Notebooks/ComputerVisionProject/Pothole_Dataset/test/images/90_jpg.rf.f8ebe454479b648393e4fa983aca7cf8.jpg: 640x640 1 Pothole, 7.4ms\n",
      "image 172/181 /content/drive/MyDrive/Colab Notebooks/ComputerVisionProject/Pothole_Dataset/test/images/91_jpg.rf.66e76105a495ca5a4b4475af771820de.jpg: 640x640 2 Potholes, 10.3ms\n",
      "image 173/181 /content/drive/MyDrive/Colab Notebooks/ComputerVisionProject/Pothole_Dataset/test/images/92_jpg.rf.f8716e7554743df0f18018b71694701e.jpg: 640x640 (no detections), 7.4ms\n",
      "image 174/181 /content/drive/MyDrive/Colab Notebooks/ComputerVisionProject/Pothole_Dataset/test/images/93_jpg.rf.0ee53066177050bb6f658702b67d7837.jpg: 640x640 2 Potholes, 7.4ms\n",
      "image 175/181 /content/drive/MyDrive/Colab Notebooks/ComputerVisionProject/Pothole_Dataset/test/images/94_jpg.rf.b95f376fa0508e352a592260db72b41f.jpg: 640x640 2 Potholes, 7.4ms\n",
      "image 176/181 /content/drive/MyDrive/Colab Notebooks/ComputerVisionProject/Pothole_Dataset/test/images/95_jpg.rf.87e89d4097e262f50bbdf8221b8792bf.jpg: 640x640 3 Potholes, 7.9ms\n",
      "image 177/181 /content/drive/MyDrive/Colab Notebooks/ComputerVisionProject/Pothole_Dataset/test/images/96_jpg.rf.87b6ee8ce0e69afe1d93993a0a709f0d.jpg: 640x640 1 Pothole, 7.5ms\n",
      "image 178/181 /content/drive/MyDrive/Colab Notebooks/ComputerVisionProject/Pothole_Dataset/test/images/97_jpg.rf.0a8726d187c469cd2e86ccdfd0248cf3.jpg: 640x640 15 Potholes, 7.4ms\n",
      "image 179/181 /content/drive/MyDrive/Colab Notebooks/ComputerVisionProject/Pothole_Dataset/test/images/98_jpg.rf.38869de02c3d4080a47ce3ab9c221179.jpg: 640x640 1 Pothole, 7.4ms\n",
      "image 180/181 /content/drive/MyDrive/Colab Notebooks/ComputerVisionProject/Pothole_Dataset/test/images/99_jpg.rf.6ad4a8abe14ca6e5d6c58be6f01558e2.jpg: 640x640 1 Pothole, 7.4ms\n",
      "image 181/181 /content/drive/MyDrive/Colab Notebooks/ComputerVisionProject/Pothole_Dataset/test/images/9_jpg.rf.e50a5ee2994f019f67f224c5bae2a62a.jpg: 640x640 6 Potholes, 7.4ms\n",
      "Speed: 2.4ms preprocess, 9.0ms inference, 1.5ms postprocess per image at shape (1, 3, 640, 640)\n",
      "Results saved to \u001b[1mruns/detect/train2\u001b[0m\n"
     ]
    }
   ],
   "source": [
    "results = model.predict(source='/content/drive/MyDrive/Colab Notebooks/ComputerVisionProject/Pothole_Dataset/test/images', save=True)"
   ]
  },
  {
   "cell_type": "markdown",
   "metadata": {
    "id": "lQYYQQkv1T07"
   },
   "source": [
    "## Evaluate Model Performance"
   ]
  },
  {
   "cell_type": "code",
   "execution_count": null,
   "metadata": {
    "colab": {
     "base_uri": "https://localhost:8080/"
    },
    "executionInfo": {
     "elapsed": 8821,
     "status": "ok",
     "timestamp": 1736106968749,
     "user": {
      "displayName": "Tharushi Liyana Arachchi",
      "userId": "18072524777631496934"
     },
     "user_tz": -330
    },
    "id": "FZB5pxsY1XfF",
    "outputId": "cf5617f5-9884-4da3-82ef-7ad7ddc0d8d9"
   },
   "outputs": [
    {
     "name": "stdout",
     "output_type": "stream",
     "text": [
      "Ultralytics 8.3.58 🚀 Python-3.10.12 torch-2.5.1+cu121 CUDA:0 (Tesla T4, 15102MiB)\n"
     ]
    },
    {
     "name": "stderr",
     "output_type": "stream",
     "text": [
      "\u001b[34m\u001b[1mval: \u001b[0mScanning /content/drive/MyDrive/Colab Notebooks/ComputerVisionProject/Pothole_Dataset/valid/labels.cache... 80 images, 0 backgrounds, 0 corrupt: 100%|██████████| 80/80 [00:00<?, ?it/s]"
     ]
    },
    {
     "name": "stdout",
     "output_type": "stream",
     "text": [
      "WARNING ⚠️ Box and segment counts should be equal, but got len(segments) = 673, len(boxes) = 777. To resolve this only boxes will be used and all segments will be removed. To avoid this please supply either a detect or segment dataset, not a detect-segment mixed dataset.\n"
     ]
    },
    {
     "name": "stderr",
     "output_type": "stream",
     "text": [
      "\n",
      "                 Class     Images  Instances      Box(P          R      mAP50  mAP50-95): 100%|██████████| 5/5 [00:03<00:00,  1.44it/s]\n"
     ]
    },
    {
     "name": "stdout",
     "output_type": "stream",
     "text": [
      "                   all         80        777      0.513      0.407      0.397      0.178\n",
      "Speed: 1.1ms preprocess, 6.8ms inference, 0.0ms loss, 6.9ms postprocess per image\n",
      "Results saved to \u001b[1mruns/detect/train3\u001b[0m\n",
      "ultralytics.utils.metrics.DetMetrics object with attributes:\n",
      "\n",
      "ap_class_index: array([0])\n",
      "box: ultralytics.utils.metrics.Metric object\n",
      "confusion_matrix: <ultralytics.utils.metrics.ConfusionMatrix object at 0x7cd7dd7a67a0>\n",
      "curves: ['Precision-Recall(B)', 'F1-Confidence(B)', 'Precision-Confidence(B)', 'Recall-Confidence(B)']\n",
      "curves_results: [[array([          0,    0.001001,    0.002002,    0.003003,    0.004004,    0.005005,    0.006006,    0.007007,    0.008008,    0.009009,     0.01001,    0.011011,    0.012012,    0.013013,    0.014014,    0.015015,    0.016016,    0.017017,    0.018018,    0.019019,     0.02002,    0.021021,    0.022022,    0.023023,\n",
      "          0.024024,    0.025025,    0.026026,    0.027027,    0.028028,    0.029029,     0.03003,    0.031031,    0.032032,    0.033033,    0.034034,    0.035035,    0.036036,    0.037037,    0.038038,    0.039039,     0.04004,    0.041041,    0.042042,    0.043043,    0.044044,    0.045045,    0.046046,    0.047047,\n",
      "          0.048048,    0.049049,     0.05005,    0.051051,    0.052052,    0.053053,    0.054054,    0.055055,    0.056056,    0.057057,    0.058058,    0.059059,     0.06006,    0.061061,    0.062062,    0.063063,    0.064064,    0.065065,    0.066066,    0.067067,    0.068068,    0.069069,     0.07007,    0.071071,\n",
      "          0.072072,    0.073073,    0.074074,    0.075075,    0.076076,    0.077077,    0.078078,    0.079079,     0.08008,    0.081081,    0.082082,    0.083083,    0.084084,    0.085085,    0.086086,    0.087087,    0.088088,    0.089089,     0.09009,    0.091091,    0.092092,    0.093093,    0.094094,    0.095095,\n",
      "          0.096096,    0.097097,    0.098098,    0.099099,      0.1001,      0.1011,      0.1021,      0.1031,      0.1041,     0.10511,     0.10611,     0.10711,     0.10811,     0.10911,     0.11011,     0.11111,     0.11211,     0.11311,     0.11411,     0.11512,     0.11612,     0.11712,     0.11812,     0.11912,\n",
      "           0.12012,     0.12112,     0.12212,     0.12312,     0.12412,     0.12513,     0.12613,     0.12713,     0.12813,     0.12913,     0.13013,     0.13113,     0.13213,     0.13313,     0.13413,     0.13514,     0.13614,     0.13714,     0.13814,     0.13914,     0.14014,     0.14114,     0.14214,     0.14314,\n",
      "           0.14414,     0.14515,     0.14615,     0.14715,     0.14815,     0.14915,     0.15015,     0.15115,     0.15215,     0.15315,     0.15415,     0.15516,     0.15616,     0.15716,     0.15816,     0.15916,     0.16016,     0.16116,     0.16216,     0.16316,     0.16416,     0.16517,     0.16617,     0.16717,\n",
      "           0.16817,     0.16917,     0.17017,     0.17117,     0.17217,     0.17317,     0.17417,     0.17518,     0.17618,     0.17718,     0.17818,     0.17918,     0.18018,     0.18118,     0.18218,     0.18318,     0.18418,     0.18519,     0.18619,     0.18719,     0.18819,     0.18919,     0.19019,     0.19119,\n",
      "           0.19219,     0.19319,     0.19419,      0.1952,      0.1962,      0.1972,      0.1982,      0.1992,      0.2002,      0.2012,      0.2022,      0.2032,      0.2042,     0.20521,     0.20621,     0.20721,     0.20821,     0.20921,     0.21021,     0.21121,     0.21221,     0.21321,     0.21421,     0.21522,\n",
      "           0.21622,     0.21722,     0.21822,     0.21922,     0.22022,     0.22122,     0.22222,     0.22322,     0.22422,     0.22523,     0.22623,     0.22723,     0.22823,     0.22923,     0.23023,     0.23123,     0.23223,     0.23323,     0.23423,     0.23524,     0.23624,     0.23724,     0.23824,     0.23924,\n",
      "           0.24024,     0.24124,     0.24224,     0.24324,     0.24424,     0.24525,     0.24625,     0.24725,     0.24825,     0.24925,     0.25025,     0.25125,     0.25225,     0.25325,     0.25425,     0.25526,     0.25626,     0.25726,     0.25826,     0.25926,     0.26026,     0.26126,     0.26226,     0.26326,\n",
      "           0.26426,     0.26527,     0.26627,     0.26727,     0.26827,     0.26927,     0.27027,     0.27127,     0.27227,     0.27327,     0.27427,     0.27528,     0.27628,     0.27728,     0.27828,     0.27928,     0.28028,     0.28128,     0.28228,     0.28328,     0.28428,     0.28529,     0.28629,     0.28729,\n",
      "           0.28829,     0.28929,     0.29029,     0.29129,     0.29229,     0.29329,     0.29429,      0.2953,      0.2963,      0.2973,      0.2983,      0.2993,      0.3003,      0.3013,      0.3023,      0.3033,      0.3043,     0.30531,     0.30631,     0.30731,     0.30831,     0.30931,     0.31031,     0.31131,\n",
      "           0.31231,     0.31331,     0.31431,     0.31532,     0.31632,     0.31732,     0.31832,     0.31932,     0.32032,     0.32132,     0.32232,     0.32332,     0.32432,     0.32533,     0.32633,     0.32733,     0.32833,     0.32933,     0.33033,     0.33133,     0.33233,     0.33333,     0.33433,     0.33534,\n",
      "           0.33634,     0.33734,     0.33834,     0.33934,     0.34034,     0.34134,     0.34234,     0.34334,     0.34434,     0.34535,     0.34635,     0.34735,     0.34835,     0.34935,     0.35035,     0.35135,     0.35235,     0.35335,     0.35435,     0.35536,     0.35636,     0.35736,     0.35836,     0.35936,\n",
      "           0.36036,     0.36136,     0.36236,     0.36336,     0.36436,     0.36537,     0.36637,     0.36737,     0.36837,     0.36937,     0.37037,     0.37137,     0.37237,     0.37337,     0.37437,     0.37538,     0.37638,     0.37738,     0.37838,     0.37938,     0.38038,     0.38138,     0.38238,     0.38338,\n",
      "           0.38438,     0.38539,     0.38639,     0.38739,     0.38839,     0.38939,     0.39039,     0.39139,     0.39239,     0.39339,     0.39439,      0.3954,      0.3964,      0.3974,      0.3984,      0.3994,      0.4004,      0.4014,      0.4024,      0.4034,      0.4044,     0.40541,     0.40641,     0.40741,\n",
      "           0.40841,     0.40941,     0.41041,     0.41141,     0.41241,     0.41341,     0.41441,     0.41542,     0.41642,     0.41742,     0.41842,     0.41942,     0.42042,     0.42142,     0.42242,     0.42342,     0.42442,     0.42543,     0.42643,     0.42743,     0.42843,     0.42943,     0.43043,     0.43143,\n",
      "           0.43243,     0.43343,     0.43443,     0.43544,     0.43644,     0.43744,     0.43844,     0.43944,     0.44044,     0.44144,     0.44244,     0.44344,     0.44444,     0.44545,     0.44645,     0.44745,     0.44845,     0.44945,     0.45045,     0.45145,     0.45245,     0.45345,     0.45445,     0.45546,\n",
      "           0.45646,     0.45746,     0.45846,     0.45946,     0.46046,     0.46146,     0.46246,     0.46346,     0.46446,     0.46547,     0.46647,     0.46747,     0.46847,     0.46947,     0.47047,     0.47147,     0.47247,     0.47347,     0.47447,     0.47548,     0.47648,     0.47748,     0.47848,     0.47948,\n",
      "           0.48048,     0.48148,     0.48248,     0.48348,     0.48448,     0.48549,     0.48649,     0.48749,     0.48849,     0.48949,     0.49049,     0.49149,     0.49249,     0.49349,     0.49449,      0.4955,      0.4965,      0.4975,      0.4985,      0.4995,      0.5005,      0.5015,      0.5025,      0.5035,\n",
      "            0.5045,     0.50551,     0.50651,     0.50751,     0.50851,     0.50951,     0.51051,     0.51151,     0.51251,     0.51351,     0.51451,     0.51552,     0.51652,     0.51752,     0.51852,     0.51952,     0.52052,     0.52152,     0.52252,     0.52352,     0.52452,     0.52553,     0.52653,     0.52753,\n",
      "           0.52853,     0.52953,     0.53053,     0.53153,     0.53253,     0.53353,     0.53453,     0.53554,     0.53654,     0.53754,     0.53854,     0.53954,     0.54054,     0.54154,     0.54254,     0.54354,     0.54454,     0.54555,     0.54655,     0.54755,     0.54855,     0.54955,     0.55055,     0.55155,\n",
      "           0.55255,     0.55355,     0.55455,     0.55556,     0.55656,     0.55756,     0.55856,     0.55956,     0.56056,     0.56156,     0.56256,     0.56356,     0.56456,     0.56557,     0.56657,     0.56757,     0.56857,     0.56957,     0.57057,     0.57157,     0.57257,     0.57357,     0.57457,     0.57558,\n",
      "           0.57658,     0.57758,     0.57858,     0.57958,     0.58058,     0.58158,     0.58258,     0.58358,     0.58458,     0.58559,     0.58659,     0.58759,     0.58859,     0.58959,     0.59059,     0.59159,     0.59259,     0.59359,     0.59459,      0.5956,      0.5966,      0.5976,      0.5986,      0.5996,\n",
      "            0.6006,      0.6016,      0.6026,      0.6036,      0.6046,     0.60561,     0.60661,     0.60761,     0.60861,     0.60961,     0.61061,     0.61161,     0.61261,     0.61361,     0.61461,     0.61562,     0.61662,     0.61762,     0.61862,     0.61962,     0.62062,     0.62162,     0.62262,     0.62362,\n",
      "           0.62462,     0.62563,     0.62663,     0.62763,     0.62863,     0.62963,     0.63063,     0.63163,     0.63263,     0.63363,     0.63463,     0.63564,     0.63664,     0.63764,     0.63864,     0.63964,     0.64064,     0.64164,     0.64264,     0.64364,     0.64464,     0.64565,     0.64665,     0.64765,\n",
      "           0.64865,     0.64965,     0.65065,     0.65165,     0.65265,     0.65365,     0.65465,     0.65566,     0.65666,     0.65766,     0.65866,     0.65966,     0.66066,     0.66166,     0.66266,     0.66366,     0.66466,     0.66567,     0.66667,     0.66767,     0.66867,     0.66967,     0.67067,     0.67167,\n",
      "           0.67267,     0.67367,     0.67467,     0.67568,     0.67668,     0.67768,     0.67868,     0.67968,     0.68068,     0.68168,     0.68268,     0.68368,     0.68468,     0.68569,     0.68669,     0.68769,     0.68869,     0.68969,     0.69069,     0.69169,     0.69269,     0.69369,     0.69469,      0.6957,\n",
      "            0.6967,      0.6977,      0.6987,      0.6997,      0.7007,      0.7017,      0.7027,      0.7037,      0.7047,     0.70571,     0.70671,     0.70771,     0.70871,     0.70971,     0.71071,     0.71171,     0.71271,     0.71371,     0.71471,     0.71572,     0.71672,     0.71772,     0.71872,     0.71972,\n",
      "           0.72072,     0.72172,     0.72272,     0.72372,     0.72472,     0.72573,     0.72673,     0.72773,     0.72873,     0.72973,     0.73073,     0.73173,     0.73273,     0.73373,     0.73473,     0.73574,     0.73674,     0.73774,     0.73874,     0.73974,     0.74074,     0.74174,     0.74274,     0.74374,\n",
      "           0.74474,     0.74575,     0.74675,     0.74775,     0.74875,     0.74975,     0.75075,     0.75175,     0.75275,     0.75375,     0.75475,     0.75576,     0.75676,     0.75776,     0.75876,     0.75976,     0.76076,     0.76176,     0.76276,     0.76376,     0.76476,     0.76577,     0.76677,     0.76777,\n",
      "           0.76877,     0.76977,     0.77077,     0.77177,     0.77277,     0.77377,     0.77477,     0.77578,     0.77678,     0.77778,     0.77878,     0.77978,     0.78078,     0.78178,     0.78278,     0.78378,     0.78478,     0.78579,     0.78679,     0.78779,     0.78879,     0.78979,     0.79079,     0.79179,\n",
      "           0.79279,     0.79379,     0.79479,      0.7958,      0.7968,      0.7978,      0.7988,      0.7998,      0.8008,      0.8018,      0.8028,      0.8038,      0.8048,     0.80581,     0.80681,     0.80781,     0.80881,     0.80981,     0.81081,     0.81181,     0.81281,     0.81381,     0.81481,     0.81582,\n",
      "           0.81682,     0.81782,     0.81882,     0.81982,     0.82082,     0.82182,     0.82282,     0.82382,     0.82482,     0.82583,     0.82683,     0.82783,     0.82883,     0.82983,     0.83083,     0.83183,     0.83283,     0.83383,     0.83483,     0.83584,     0.83684,     0.83784,     0.83884,     0.83984,\n",
      "           0.84084,     0.84184,     0.84284,     0.84384,     0.84484,     0.84585,     0.84685,     0.84785,     0.84885,     0.84985,     0.85085,     0.85185,     0.85285,     0.85385,     0.85485,     0.85586,     0.85686,     0.85786,     0.85886,     0.85986,     0.86086,     0.86186,     0.86286,     0.86386,\n",
      "           0.86486,     0.86587,     0.86687,     0.86787,     0.86887,     0.86987,     0.87087,     0.87187,     0.87287,     0.87387,     0.87487,     0.87588,     0.87688,     0.87788,     0.87888,     0.87988,     0.88088,     0.88188,     0.88288,     0.88388,     0.88488,     0.88589,     0.88689,     0.88789,\n",
      "           0.88889,     0.88989,     0.89089,     0.89189,     0.89289,     0.89389,     0.89489,      0.8959,      0.8969,      0.8979,      0.8989,      0.8999,      0.9009,      0.9019,      0.9029,      0.9039,      0.9049,     0.90591,     0.90691,     0.90791,     0.90891,     0.90991,     0.91091,     0.91191,\n",
      "           0.91291,     0.91391,     0.91491,     0.91592,     0.91692,     0.91792,     0.91892,     0.91992,     0.92092,     0.92192,     0.92292,     0.92392,     0.92492,     0.92593,     0.92693,     0.92793,     0.92893,     0.92993,     0.93093,     0.93193,     0.93293,     0.93393,     0.93493,     0.93594,\n",
      "           0.93694,     0.93794,     0.93894,     0.93994,     0.94094,     0.94194,     0.94294,     0.94394,     0.94494,     0.94595,     0.94695,     0.94795,     0.94895,     0.94995,     0.95095,     0.95195,     0.95295,     0.95395,     0.95495,     0.95596,     0.95696,     0.95796,     0.95896,     0.95996,\n",
      "           0.96096,     0.96196,     0.96296,     0.96396,     0.96496,     0.96597,     0.96697,     0.96797,     0.96897,     0.96997,     0.97097,     0.97197,     0.97297,     0.97397,     0.97497,     0.97598,     0.97698,     0.97798,     0.97898,     0.97998,     0.98098,     0.98198,     0.98298,     0.98398,\n",
      "           0.98498,     0.98599,     0.98699,     0.98799,     0.98899,     0.98999,     0.99099,     0.99199,     0.99299,     0.99399,     0.99499,       0.996,       0.997,       0.998,       0.999,           1]), array([[          1,           1,           1,           1,           1,           1,           1,           1,           1,           1,           1,           1,           1,           1,           1,           1,           1,           1,           1,           1,           1,           1,           1,\n",
      "                  1,           1,           1,           1,           1,           1,           1,           1,           1,           1,           1,           1,           1,           1,           1,           1,           1,           1,           1,           1,           1,           1,           1,\n",
      "                  1,     0.97959,     0.97959,     0.97959,     0.97959,     0.97959,     0.97959,     0.97959,     0.97959,     0.97959,     0.97959,     0.97959,     0.97959,     0.97959,     0.97959,     0.97959,     0.96154,     0.96154,     0.96154,     0.95714,     0.95714,     0.95714,     0.95714,\n",
      "            0.95714,     0.95714,     0.95714,     0.95714,     0.95714,     0.95714,     0.95714,     0.95714,     0.95714,     0.95714,     0.95714,     0.95714,     0.95714,     0.95714,     0.95714,     0.95714,     0.95714,     0.95714,     0.94444,     0.90789,     0.89873,     0.89873,     0.89873,\n",
      "            0.89024,     0.89024,     0.88372,     0.88372,     0.88372,     0.88372,      0.8764,      0.8764,      0.8764,     0.86667,     0.86667,     0.86667,     0.86667,     0.86667,     0.86667,     0.86667,     0.86667,     0.86667,     0.86667,     0.86667,     0.86667,     0.86667,     0.86667,\n",
      "            0.86667,     0.86667,     0.86239,     0.86239,     0.86239,     0.86239,     0.84071,     0.84071,     0.83478,     0.82906,      0.8254,      0.8254,      0.8254,      0.8254,      0.8254,      0.8254,      0.8254,      0.8254,      0.8254,     0.82031,     0.80303,     0.80303,         0.8,\n",
      "                0.8,         0.8,         0.8,         0.8,         0.8,         0.8,     0.79167,     0.79167,     0.79167,     0.79054,     0.79054,     0.79054,     0.79054,     0.78667,     0.78431,     0.78431,     0.78431,     0.78065,     0.77707,     0.77358,     0.77358,      0.7716,      0.7716,\n",
      "            0.76829,     0.76048,     0.76048,      0.7574,     0.75568,     0.75568,     0.75568,     0.75568,     0.75568,     0.75568,     0.74863,     0.74863,     0.74863,     0.74863,     0.74863,     0.74863,     0.74194,     0.73958,     0.73958,     0.73958,     0.73958,     0.73958,     0.73711,\n",
      "            0.73171,     0.73171,     0.73171,     0.73171,     0.73171,     0.73171,     0.73171,     0.73171,     0.73171,     0.72947,     0.72947,     0.72811,     0.72811,     0.72811,     0.72811,     0.72811,     0.72811,     0.72811,     0.72811,     0.72811,     0.72273,     0.72072,     0.71366,\n",
      "            0.71366,     0.71366,     0.71179,     0.71121,     0.71121,     0.71121,     0.71008,     0.71008,     0.71008,     0.71008,     0.71008,     0.70916,     0.70916,     0.70916,     0.70916,     0.70916,     0.70916,     0.70916,     0.70916,     0.70916,     0.70916,     0.70916,     0.70751,\n",
      "            0.70751,     0.70703,     0.70703,     0.70677,     0.70677,     0.70677,     0.70677,     0.70677,     0.70677,     0.70677,     0.70677,     0.70677,     0.70438,     0.70438,     0.70438,     0.70438,     0.70438,     0.70438,     0.70438,     0.70397,     0.70397,     0.68858,     0.68858,\n",
      "            0.68858,     0.68858,     0.68858,     0.68562,     0.68562,     0.68562,     0.68562,     0.68562,     0.68562,     0.68562,     0.68562,     0.68212,     0.68078,     0.68078,     0.68078,     0.68078,     0.67961,     0.67846,     0.67846,     0.67732,     0.67192,     0.67081,     0.67081,\n",
      "            0.67081,     0.67081,     0.66871,     0.66871,     0.66871,     0.65766,     0.65672,     0.65487,     0.65487,     0.65487,     0.65217,     0.65217,     0.65217,     0.65217,     0.65043,     0.65043,     0.64773,     0.64773,      0.6456,      0.6456,      0.6456,      0.6456,      0.6456,\n",
      "             0.6456,      0.6456,      0.6456,      0.6456,     0.64247,     0.64247,     0.64247,     0.64247,     0.64247,     0.64191,     0.64191,     0.64191,     0.64191,     0.63281,     0.62821,     0.62821,     0.62624,     0.62624,     0.62624,     0.62624,     0.62624,     0.62624,     0.62624,\n",
      "            0.62624,     0.62624,     0.62624,     0.62624,     0.61687,     0.61687,     0.61687,     0.61687,     0.61337,     0.61137,     0.60656,     0.58957,     0.58957,     0.58705,     0.58705,     0.58705,     0.58705,     0.58628,     0.58628,     0.58621,     0.58621,     0.58621,     0.58621,\n",
      "            0.58621,     0.58621,     0.58621,     0.58621,     0.58621,     0.57806,     0.57806,     0.57806,     0.56823,     0.56823,     0.56823,     0.56823,     0.56823,     0.56823,      0.5668,     0.56607,     0.56607,     0.56607,     0.56607,     0.56607,     0.56607,     0.56607,     0.56607,\n",
      "            0.56607,     0.56582,     0.56582,     0.56335,     0.56202,     0.55854,     0.55854,     0.55682,     0.55682,     0.55682,     0.55347,     0.55347,     0.55327,     0.54696,     0.54662,     0.54662,     0.54662,     0.54545,      0.5375,      0.5331,      0.5331,      0.5331,      0.5331,\n",
      "             0.5331,      0.5331,      0.5331,     0.52931,      0.5283,     0.52821,     0.52821,     0.52542,     0.52534,     0.52525,     0.52525,     0.52429,     0.52073,      0.5198,     0.51718,     0.51718,     0.51294,     0.50799,     0.49922,     0.49922,     0.49922,     0.49614,     0.49387,\n",
      "            0.48718,     0.48718,     0.48653,     0.48653,     0.48301,     0.48301,     0.48301,     0.48094,     0.47889,     0.47414,     0.47414,     0.46751,     0.46695,     0.46573,     0.46573,     0.46453,     0.46399,     0.46281,     0.45479,     0.45479,     0.45308,     0.44901,     0.44401,\n",
      "            0.44401,     0.44401,     0.44301,     0.44258,     0.43924,     0.43924,     0.43924,     0.43924,     0.43924,     0.43924,     0.43884,     0.43625,     0.43587,      0.4328,      0.4328,     0.42927,     0.42788,     0.42702,     0.42702,     0.42099,     0.42099,     0.42099,     0.42099,\n",
      "            0.41725,     0.41264,     0.41196,     0.41196,     0.41196,     0.41196,     0.41196,     0.41196,     0.41196,     0.41196,     0.40176,     0.40066,     0.39806,     0.39806,     0.39806,     0.39742,     0.39722,     0.39701,     0.39701,     0.39388,     0.39244,     0.39144,     0.39144,\n",
      "            0.37033,     0.37033,     0.35627,     0.35627,     0.35223,     0.35055,     0.34795,     0.33686,     0.33686,     0.33479,     0.33362,     0.32935,     0.32935,     0.32935,     0.32603,     0.32578,     0.32363,     0.32363,     0.32075,     0.32075,      0.3187,     0.31643,     0.31643,\n",
      "            0.31445,     0.31275,      0.3126,      0.3126,      0.3126,     0.31216,     0.31196,     0.30984,     0.30984,     0.30941,     0.30899,     0.30438,     0.30438,     0.30308,     0.30089,     0.29919,     0.29557,     0.29557,     0.29522,     0.29467,      0.2919,      0.2919,      0.2919,\n",
      "            0.29167,     0.29167,     0.28931,     0.28931,      0.2892,      0.2867,     0.28348,     0.28348,     0.27941,     0.27179,     0.27179,     0.27179,     0.27179,     0.26726,     0.26372,     0.26368,     0.26368,     0.26283,     0.26007,     0.25296,     0.25117,     0.25117,     0.24898,\n",
      "            0.24855,       0.248,       0.248,       0.248,       0.248,     0.24743,     0.24731,     0.24731,     0.24731,     0.24731,     0.24538,     0.24538,     0.24484,     0.24444,     0.24405,     0.24153,     0.24153,     0.24037,     0.23756,      0.2325,      0.2325,     0.22966,     0.22841,\n",
      "            0.22753,     0.22739,     0.22739,     0.22739,     0.21683,     0.21381,     0.21381,     0.21198,     0.21185,     0.20977,     0.20831,     0.20831,     0.20677,     0.20677,     0.20587,     0.20587,     0.20587,     0.20587,     0.20587,     0.20587,     0.20587,     0.20432,     0.20306,\n",
      "            0.20094,     0.20094,     0.20094,     0.20094,     0.20094,     0.20094,     0.19865,     0.19865,     0.19659,     0.19659,     0.19659,      0.1919,     0.19161,     0.19065,     0.19065,     0.19065,     0.18953,     0.18696,     0.18547,     0.18547,     0.18507,     0.18005,     0.17915,\n",
      "            0.17814,     0.17814,     0.17484,     0.16707,     0.16576,     0.16576,      0.1652,     0.16338,     0.16333,     0.16329,     0.16329,     0.15761,     0.15761,     0.15722,     0.15722,     0.15694,     0.15588,     0.15502,     0.15502,     0.15502,     0.15502,     0.15235,     0.15168,\n",
      "            0.15168,     0.15117,     0.15117,     0.15117,     0.15093,     0.15093,     0.14882,     0.14502,     0.14326,     0.14326,     0.14093,     0.14093,     0.14093,     0.14093,     0.14012,     0.13764,      0.1374,     0.13711,     0.13711,     0.13399,     0.13308,     0.13296,     0.13066,\n",
      "            0.13066,     0.12951,     0.12594,       0.125,       0.125,     0.12268,     0.12063,     0.12031,     0.12031,     0.12031,     0.11964,     0.11924,     0.11782,     0.11782,     0.11717,     0.11717,     0.11644,     0.11421,     0.11421,     0.11287,     0.11211,     0.11167,     0.11167,\n",
      "            0.11102,     0.11043,      0.1094,     0.10867,     0.10867,     0.10432,     0.10423,     0.10423,     0.10423,     0.10423,     0.10423,      0.1023,      0.1009,      0.1009,     0.10068,     0.10026,     0.10011,     0.10011,     0.09358,    0.093396,    0.093396,    0.091965,    0.091965,\n",
      "           0.091193,    0.089997,     0.08922,     0.08922,    0.085886,    0.085828,     0.08289,     0.08289,     0.08289,    0.082008,    0.081951,    0.081941,    0.081941,      0.0814,    0.080799,    0.078532,    0.078464,    0.078464,    0.077478,     0.07683,     0.07683,     0.07683,     0.07646,\n",
      "              0.075,    0.072787,    0.071857,    0.071857,    0.070347,    0.070246,    0.068863,    0.068863,    0.068863,    0.068429,    0.068305,    0.067919,    0.067919,    0.065891,    0.065699,    0.064906,    0.064906,    0.063666,    0.063666,    0.063314,    0.062157,    0.062157,    0.061715,\n",
      "           0.060997,    0.059943,    0.059943,    0.057278,     0.05444,    0.054417,    0.053981,    0.053981,    0.053504,    0.050596,    0.047341,    0.047341,    0.047341,    0.046553,     0.04419,    0.044127,    0.044127,    0.042365,    0.041128,    0.037265,    0.037265,     0.03264,    0.032491,\n",
      "           0.032342,    0.032193,    0.032043,    0.031894,    0.031745,    0.031596,    0.031447,    0.031298,    0.031149,       0.031,    0.030851,    0.030702,    0.030553,    0.030404,    0.030255,    0.030106,    0.029957,    0.029808,    0.029659,     0.02951,    0.029361,    0.029212,    0.029063,\n",
      "           0.028914,    0.028765,    0.028616,    0.028467,    0.028317,    0.028168,    0.028019,     0.02787,    0.027721,    0.027572,    0.027423,    0.027274,    0.027125,    0.026976,    0.026827,    0.026678,    0.026529,     0.02638,    0.026231,    0.026082,    0.025933,    0.025784,    0.025635,\n",
      "           0.025486,    0.025337,    0.025188,    0.025039,     0.02489,    0.024741,    0.024592,    0.024442,    0.024293,    0.024144,    0.023995,    0.023846,    0.023697,    0.023548,    0.023399,     0.02325,    0.023101,    0.022952,    0.022803,    0.022654,    0.022505,    0.022356,    0.022207,\n",
      "           0.022058,    0.021909,     0.02176,    0.021611,    0.021462,    0.021313,    0.021164,    0.021015,    0.020866,    0.020716,    0.020567,    0.020418,    0.020269,     0.02012,    0.019971,    0.019822,    0.019673,    0.019524,    0.019375,    0.019226,    0.019077,    0.018928,    0.018779,\n",
      "            0.01863,    0.018481,    0.018332,    0.018183,    0.018034,    0.017885,    0.017736,    0.017587,    0.017438,    0.017289,     0.01714,     0.01699,    0.016841,    0.016692,    0.016543,    0.016394,    0.016245,    0.016096,    0.015947,    0.015798,    0.015649,      0.0155,    0.015351,\n",
      "           0.015202,    0.015053,    0.014904,    0.014755,    0.014606,    0.014457,    0.014308,    0.014159,     0.01401,    0.013861,    0.013712,    0.013563,    0.013414,    0.013265,    0.013115,    0.012966,    0.012817,    0.012668,    0.012519,     0.01237,    0.012221,    0.012072,    0.011923,\n",
      "           0.011774,    0.011625,    0.011476,    0.011327,    0.011178,    0.011029,     0.01088,    0.010731,    0.010582,    0.010433,    0.010284,    0.010135,   0.0099856,   0.0098366,   0.0096876,   0.0095385,   0.0093895,   0.0092404,   0.0090914,   0.0089424,   0.0087933,   0.0086443,   0.0084952,\n",
      "          0.0083462,   0.0081972,   0.0080481,   0.0078991,   0.0077501,    0.007601,    0.007452,   0.0073029,   0.0071539,   0.0070049,   0.0068558,   0.0067068,   0.0065577,   0.0064087,   0.0062597,   0.0061106,   0.0059616,   0.0058125,   0.0056635,   0.0055145,   0.0053654,   0.0052164,   0.0050673,\n",
      "          0.0049183,   0.0047693,   0.0046202,   0.0044712,   0.0043221,   0.0041731,   0.0040241,    0.003875,    0.003726,   0.0035769,   0.0034279,   0.0032789,   0.0031298,   0.0029808,   0.0028317,   0.0026827,   0.0025337,   0.0023846,   0.0022356,   0.0020866,   0.0019375,   0.0017885,   0.0016394,\n",
      "          0.0014904,   0.0013414,   0.0011923,   0.0010433,  0.00089424,   0.0007452,  0.00059616,  0.00044712,  0.00029808,  0.00014904,           0]]), 'Recall', 'Precision'], [array([          0,    0.001001,    0.002002,    0.003003,    0.004004,    0.005005,    0.006006,    0.007007,    0.008008,    0.009009,     0.01001,    0.011011,    0.012012,    0.013013,    0.014014,    0.015015,    0.016016,    0.017017,    0.018018,    0.019019,     0.02002,    0.021021,    0.022022,    0.023023,\n",
      "          0.024024,    0.025025,    0.026026,    0.027027,    0.028028,    0.029029,     0.03003,    0.031031,    0.032032,    0.033033,    0.034034,    0.035035,    0.036036,    0.037037,    0.038038,    0.039039,     0.04004,    0.041041,    0.042042,    0.043043,    0.044044,    0.045045,    0.046046,    0.047047,\n",
      "          0.048048,    0.049049,     0.05005,    0.051051,    0.052052,    0.053053,    0.054054,    0.055055,    0.056056,    0.057057,    0.058058,    0.059059,     0.06006,    0.061061,    0.062062,    0.063063,    0.064064,    0.065065,    0.066066,    0.067067,    0.068068,    0.069069,     0.07007,    0.071071,\n",
      "          0.072072,    0.073073,    0.074074,    0.075075,    0.076076,    0.077077,    0.078078,    0.079079,     0.08008,    0.081081,    0.082082,    0.083083,    0.084084,    0.085085,    0.086086,    0.087087,    0.088088,    0.089089,     0.09009,    0.091091,    0.092092,    0.093093,    0.094094,    0.095095,\n",
      "          0.096096,    0.097097,    0.098098,    0.099099,      0.1001,      0.1011,      0.1021,      0.1031,      0.1041,     0.10511,     0.10611,     0.10711,     0.10811,     0.10911,     0.11011,     0.11111,     0.11211,     0.11311,     0.11411,     0.11512,     0.11612,     0.11712,     0.11812,     0.11912,\n",
      "           0.12012,     0.12112,     0.12212,     0.12312,     0.12412,     0.12513,     0.12613,     0.12713,     0.12813,     0.12913,     0.13013,     0.13113,     0.13213,     0.13313,     0.13413,     0.13514,     0.13614,     0.13714,     0.13814,     0.13914,     0.14014,     0.14114,     0.14214,     0.14314,\n",
      "           0.14414,     0.14515,     0.14615,     0.14715,     0.14815,     0.14915,     0.15015,     0.15115,     0.15215,     0.15315,     0.15415,     0.15516,     0.15616,     0.15716,     0.15816,     0.15916,     0.16016,     0.16116,     0.16216,     0.16316,     0.16416,     0.16517,     0.16617,     0.16717,\n",
      "           0.16817,     0.16917,     0.17017,     0.17117,     0.17217,     0.17317,     0.17417,     0.17518,     0.17618,     0.17718,     0.17818,     0.17918,     0.18018,     0.18118,     0.18218,     0.18318,     0.18418,     0.18519,     0.18619,     0.18719,     0.18819,     0.18919,     0.19019,     0.19119,\n",
      "           0.19219,     0.19319,     0.19419,      0.1952,      0.1962,      0.1972,      0.1982,      0.1992,      0.2002,      0.2012,      0.2022,      0.2032,      0.2042,     0.20521,     0.20621,     0.20721,     0.20821,     0.20921,     0.21021,     0.21121,     0.21221,     0.21321,     0.21421,     0.21522,\n",
      "           0.21622,     0.21722,     0.21822,     0.21922,     0.22022,     0.22122,     0.22222,     0.22322,     0.22422,     0.22523,     0.22623,     0.22723,     0.22823,     0.22923,     0.23023,     0.23123,     0.23223,     0.23323,     0.23423,     0.23524,     0.23624,     0.23724,     0.23824,     0.23924,\n",
      "           0.24024,     0.24124,     0.24224,     0.24324,     0.24424,     0.24525,     0.24625,     0.24725,     0.24825,     0.24925,     0.25025,     0.25125,     0.25225,     0.25325,     0.25425,     0.25526,     0.25626,     0.25726,     0.25826,     0.25926,     0.26026,     0.26126,     0.26226,     0.26326,\n",
      "           0.26426,     0.26527,     0.26627,     0.26727,     0.26827,     0.26927,     0.27027,     0.27127,     0.27227,     0.27327,     0.27427,     0.27528,     0.27628,     0.27728,     0.27828,     0.27928,     0.28028,     0.28128,     0.28228,     0.28328,     0.28428,     0.28529,     0.28629,     0.28729,\n",
      "           0.28829,     0.28929,     0.29029,     0.29129,     0.29229,     0.29329,     0.29429,      0.2953,      0.2963,      0.2973,      0.2983,      0.2993,      0.3003,      0.3013,      0.3023,      0.3033,      0.3043,     0.30531,     0.30631,     0.30731,     0.30831,     0.30931,     0.31031,     0.31131,\n",
      "           0.31231,     0.31331,     0.31431,     0.31532,     0.31632,     0.31732,     0.31832,     0.31932,     0.32032,     0.32132,     0.32232,     0.32332,     0.32432,     0.32533,     0.32633,     0.32733,     0.32833,     0.32933,     0.33033,     0.33133,     0.33233,     0.33333,     0.33433,     0.33534,\n",
      "           0.33634,     0.33734,     0.33834,     0.33934,     0.34034,     0.34134,     0.34234,     0.34334,     0.34434,     0.34535,     0.34635,     0.34735,     0.34835,     0.34935,     0.35035,     0.35135,     0.35235,     0.35335,     0.35435,     0.35536,     0.35636,     0.35736,     0.35836,     0.35936,\n",
      "           0.36036,     0.36136,     0.36236,     0.36336,     0.36436,     0.36537,     0.36637,     0.36737,     0.36837,     0.36937,     0.37037,     0.37137,     0.37237,     0.37337,     0.37437,     0.37538,     0.37638,     0.37738,     0.37838,     0.37938,     0.38038,     0.38138,     0.38238,     0.38338,\n",
      "           0.38438,     0.38539,     0.38639,     0.38739,     0.38839,     0.38939,     0.39039,     0.39139,     0.39239,     0.39339,     0.39439,      0.3954,      0.3964,      0.3974,      0.3984,      0.3994,      0.4004,      0.4014,      0.4024,      0.4034,      0.4044,     0.40541,     0.40641,     0.40741,\n",
      "           0.40841,     0.40941,     0.41041,     0.41141,     0.41241,     0.41341,     0.41441,     0.41542,     0.41642,     0.41742,     0.41842,     0.41942,     0.42042,     0.42142,     0.42242,     0.42342,     0.42442,     0.42543,     0.42643,     0.42743,     0.42843,     0.42943,     0.43043,     0.43143,\n",
      "           0.43243,     0.43343,     0.43443,     0.43544,     0.43644,     0.43744,     0.43844,     0.43944,     0.44044,     0.44144,     0.44244,     0.44344,     0.44444,     0.44545,     0.44645,     0.44745,     0.44845,     0.44945,     0.45045,     0.45145,     0.45245,     0.45345,     0.45445,     0.45546,\n",
      "           0.45646,     0.45746,     0.45846,     0.45946,     0.46046,     0.46146,     0.46246,     0.46346,     0.46446,     0.46547,     0.46647,     0.46747,     0.46847,     0.46947,     0.47047,     0.47147,     0.47247,     0.47347,     0.47447,     0.47548,     0.47648,     0.47748,     0.47848,     0.47948,\n",
      "           0.48048,     0.48148,     0.48248,     0.48348,     0.48448,     0.48549,     0.48649,     0.48749,     0.48849,     0.48949,     0.49049,     0.49149,     0.49249,     0.49349,     0.49449,      0.4955,      0.4965,      0.4975,      0.4985,      0.4995,      0.5005,      0.5015,      0.5025,      0.5035,\n",
      "            0.5045,     0.50551,     0.50651,     0.50751,     0.50851,     0.50951,     0.51051,     0.51151,     0.51251,     0.51351,     0.51451,     0.51552,     0.51652,     0.51752,     0.51852,     0.51952,     0.52052,     0.52152,     0.52252,     0.52352,     0.52452,     0.52553,     0.52653,     0.52753,\n",
      "           0.52853,     0.52953,     0.53053,     0.53153,     0.53253,     0.53353,     0.53453,     0.53554,     0.53654,     0.53754,     0.53854,     0.53954,     0.54054,     0.54154,     0.54254,     0.54354,     0.54454,     0.54555,     0.54655,     0.54755,     0.54855,     0.54955,     0.55055,     0.55155,\n",
      "           0.55255,     0.55355,     0.55455,     0.55556,     0.55656,     0.55756,     0.55856,     0.55956,     0.56056,     0.56156,     0.56256,     0.56356,     0.56456,     0.56557,     0.56657,     0.56757,     0.56857,     0.56957,     0.57057,     0.57157,     0.57257,     0.57357,     0.57457,     0.57558,\n",
      "           0.57658,     0.57758,     0.57858,     0.57958,     0.58058,     0.58158,     0.58258,     0.58358,     0.58458,     0.58559,     0.58659,     0.58759,     0.58859,     0.58959,     0.59059,     0.59159,     0.59259,     0.59359,     0.59459,      0.5956,      0.5966,      0.5976,      0.5986,      0.5996,\n",
      "            0.6006,      0.6016,      0.6026,      0.6036,      0.6046,     0.60561,     0.60661,     0.60761,     0.60861,     0.60961,     0.61061,     0.61161,     0.61261,     0.61361,     0.61461,     0.61562,     0.61662,     0.61762,     0.61862,     0.61962,     0.62062,     0.62162,     0.62262,     0.62362,\n",
      "           0.62462,     0.62563,     0.62663,     0.62763,     0.62863,     0.62963,     0.63063,     0.63163,     0.63263,     0.63363,     0.63463,     0.63564,     0.63664,     0.63764,     0.63864,     0.63964,     0.64064,     0.64164,     0.64264,     0.64364,     0.64464,     0.64565,     0.64665,     0.64765,\n",
      "           0.64865,     0.64965,     0.65065,     0.65165,     0.65265,     0.65365,     0.65465,     0.65566,     0.65666,     0.65766,     0.65866,     0.65966,     0.66066,     0.66166,     0.66266,     0.66366,     0.66466,     0.66567,     0.66667,     0.66767,     0.66867,     0.66967,     0.67067,     0.67167,\n",
      "           0.67267,     0.67367,     0.67467,     0.67568,     0.67668,     0.67768,     0.67868,     0.67968,     0.68068,     0.68168,     0.68268,     0.68368,     0.68468,     0.68569,     0.68669,     0.68769,     0.68869,     0.68969,     0.69069,     0.69169,     0.69269,     0.69369,     0.69469,      0.6957,\n",
      "            0.6967,      0.6977,      0.6987,      0.6997,      0.7007,      0.7017,      0.7027,      0.7037,      0.7047,     0.70571,     0.70671,     0.70771,     0.70871,     0.70971,     0.71071,     0.71171,     0.71271,     0.71371,     0.71471,     0.71572,     0.71672,     0.71772,     0.71872,     0.71972,\n",
      "           0.72072,     0.72172,     0.72272,     0.72372,     0.72472,     0.72573,     0.72673,     0.72773,     0.72873,     0.72973,     0.73073,     0.73173,     0.73273,     0.73373,     0.73473,     0.73574,     0.73674,     0.73774,     0.73874,     0.73974,     0.74074,     0.74174,     0.74274,     0.74374,\n",
      "           0.74474,     0.74575,     0.74675,     0.74775,     0.74875,     0.74975,     0.75075,     0.75175,     0.75275,     0.75375,     0.75475,     0.75576,     0.75676,     0.75776,     0.75876,     0.75976,     0.76076,     0.76176,     0.76276,     0.76376,     0.76476,     0.76577,     0.76677,     0.76777,\n",
      "           0.76877,     0.76977,     0.77077,     0.77177,     0.77277,     0.77377,     0.77477,     0.77578,     0.77678,     0.77778,     0.77878,     0.77978,     0.78078,     0.78178,     0.78278,     0.78378,     0.78478,     0.78579,     0.78679,     0.78779,     0.78879,     0.78979,     0.79079,     0.79179,\n",
      "           0.79279,     0.79379,     0.79479,      0.7958,      0.7968,      0.7978,      0.7988,      0.7998,      0.8008,      0.8018,      0.8028,      0.8038,      0.8048,     0.80581,     0.80681,     0.80781,     0.80881,     0.80981,     0.81081,     0.81181,     0.81281,     0.81381,     0.81481,     0.81582,\n",
      "           0.81682,     0.81782,     0.81882,     0.81982,     0.82082,     0.82182,     0.82282,     0.82382,     0.82482,     0.82583,     0.82683,     0.82783,     0.82883,     0.82983,     0.83083,     0.83183,     0.83283,     0.83383,     0.83483,     0.83584,     0.83684,     0.83784,     0.83884,     0.83984,\n",
      "           0.84084,     0.84184,     0.84284,     0.84384,     0.84484,     0.84585,     0.84685,     0.84785,     0.84885,     0.84985,     0.85085,     0.85185,     0.85285,     0.85385,     0.85485,     0.85586,     0.85686,     0.85786,     0.85886,     0.85986,     0.86086,     0.86186,     0.86286,     0.86386,\n",
      "           0.86486,     0.86587,     0.86687,     0.86787,     0.86887,     0.86987,     0.87087,     0.87187,     0.87287,     0.87387,     0.87487,     0.87588,     0.87688,     0.87788,     0.87888,     0.87988,     0.88088,     0.88188,     0.88288,     0.88388,     0.88488,     0.88589,     0.88689,     0.88789,\n",
      "           0.88889,     0.88989,     0.89089,     0.89189,     0.89289,     0.89389,     0.89489,      0.8959,      0.8969,      0.8979,      0.8989,      0.8999,      0.9009,      0.9019,      0.9029,      0.9039,      0.9049,     0.90591,     0.90691,     0.90791,     0.90891,     0.90991,     0.91091,     0.91191,\n",
      "           0.91291,     0.91391,     0.91491,     0.91592,     0.91692,     0.91792,     0.91892,     0.91992,     0.92092,     0.92192,     0.92292,     0.92392,     0.92492,     0.92593,     0.92693,     0.92793,     0.92893,     0.92993,     0.93093,     0.93193,     0.93293,     0.93393,     0.93493,     0.93594,\n",
      "           0.93694,     0.93794,     0.93894,     0.93994,     0.94094,     0.94194,     0.94294,     0.94394,     0.94494,     0.94595,     0.94695,     0.94795,     0.94895,     0.94995,     0.95095,     0.95195,     0.95295,     0.95395,     0.95495,     0.95596,     0.95696,     0.95796,     0.95896,     0.95996,\n",
      "           0.96096,     0.96196,     0.96296,     0.96396,     0.96496,     0.96597,     0.96697,     0.96797,     0.96897,     0.96997,     0.97097,     0.97197,     0.97297,     0.97397,     0.97497,     0.97598,     0.97698,     0.97798,     0.97898,     0.97998,     0.98098,     0.98198,     0.98298,     0.98398,\n",
      "           0.98498,     0.98599,     0.98699,     0.98799,     0.98899,     0.98999,     0.99099,     0.99199,     0.99299,     0.99399,     0.99499,       0.996,       0.997,       0.998,       0.999,           1]), array([[   0.062892,    0.062931,    0.095564,     0.12099,     0.14099,     0.15772,     0.17531,     0.18845,     0.19975,     0.21067,     0.22124,     0.23047,     0.23787,     0.24537,     0.25185,     0.25913,     0.26626,     0.27521,     0.28123,     0.28672,     0.29128,     0.29779,     0.30188,\n",
      "            0.30545,     0.31002,     0.31263,     0.31904,     0.32485,     0.32756,     0.33145,     0.33733,     0.34074,     0.34344,     0.34252,     0.34597,     0.35021,      0.3542,     0.35691,     0.36081,     0.36189,     0.36547,     0.36878,     0.37071,     0.37374,     0.37652,     0.37754,\n",
      "            0.37906,     0.38108,     0.38225,     0.38453,     0.38669,     0.38711,     0.38719,     0.38823,     0.39025,     0.39227,     0.39408,     0.39537,     0.39792,     0.39932,     0.40214,     0.40558,     0.40656,     0.40828,      0.4094,     0.41189,     0.41614,     0.41882,     0.41879,\n",
      "            0.42083,     0.42267,      0.4232,     0.42513,     0.42888,     0.43118,     0.43176,     0.43244,     0.43349,     0.43241,     0.43221,     0.43299,     0.43346,     0.43557,     0.43769,     0.43864,     0.43767,     0.43451,     0.43574,     0.43523,     0.43595,     0.43709,     0.43747,\n",
      "            0.43706,     0.43862,     0.43992,     0.43998,      0.4399,     0.44184,     0.44215,     0.44245,     0.44244,     0.44022,     0.44107,     0.44102,     0.44106,     0.44102,      0.4424,     0.44247,     0.44329,     0.44359,      0.4435,     0.44421,     0.44485,       0.446,     0.44615,\n",
      "            0.44618,      0.4457,     0.44622,     0.44571,     0.44492,     0.44652,     0.44793,     0.44895,     0.44892,     0.44951,     0.44959,     0.44853,     0.44772,     0.44821,     0.44795,     0.44857,     0.44966,     0.45047,     0.44969,     0.45026,     0.45083,     0.45052,     0.45011,\n",
      "            0.44963,     0.45046,     0.45143,     0.45279,     0.45327,     0.45413,      0.4537,     0.45422,     0.45525,     0.45541,     0.45484,     0.45511,     0.45502,     0.45416,     0.45324,     0.45371,     0.45223,     0.45142,     0.45159,     0.45181,     0.45222,     0.45287,     0.44989,\n",
      "            0.44798,     0.44892,     0.44918,     0.44964,     0.45064,     0.45116,     0.45204,     0.45119,     0.45162,     0.45071,      0.4501,     0.44961,     0.44959,     0.44967,     0.44992,     0.45011,     0.45097,      0.4506,     0.45018,      0.4499,     0.44917,     0.44774,     0.44828,\n",
      "            0.44744,     0.44786,     0.44742,     0.44689,      0.4476,      0.4469,     0.44231,     0.44152,     0.44114,     0.43979,     0.44018,     0.43673,     0.43548,     0.43531,     0.43555,     0.43619,     0.43708,     0.43731,     0.43581,     0.43614,     0.43681,     0.43716,     0.43813,\n",
      "            0.43542,     0.43487,     0.43516,     0.43357,     0.43147,     0.43164,     0.43181,     0.43099,     0.43116,     0.43102,     0.43057,     0.43013,     0.42904,     0.42705,      0.4258,     0.42616,     0.42676,      0.4257,     0.42617,     0.42743,     0.42809,     0.42863,     0.42883,\n",
      "            0.42917,     0.42942,     0.42976,     0.42901,     0.42924,     0.42984,     0.42928,     0.42903,     0.42873,     0.42745,     0.42566,     0.42591,     0.42742,     0.42809,       0.427,      0.4259,     0.42303,     0.42224,     0.42164,      0.4214,     0.42037,     0.41933,     0.41974,\n",
      "            0.41902,     0.41803,     0.41728,     0.41754,     0.41792,     0.41811,     0.41826,     0.41734,     0.41804,     0.41836,     0.41847,     0.41857,     0.41867,     0.41914,      0.4193,     0.41786,     0.41545,     0.41548,     0.41568,     0.41591,     0.41489,     0.41346,     0.41174,\n",
      "            0.41079,     0.41069,       0.411,     0.41133,     0.41182,     0.40866,     0.40768,     0.40648,     0.40534,     0.40291,     0.40306,     0.40323,     0.40347,     0.40296,     0.40173,     0.40065,     0.39782,      0.3969,     0.39718,     0.39769,      0.3954,     0.39547,     0.39335,\n",
      "             0.3941,     0.39436,     0.39455,     0.39493,     0.39311,     0.39262,     0.39298,     0.39107,     0.38964,     0.38874,     0.38892,     0.38927,     0.38838,     0.38771,     0.38697,     0.38661,     0.38542,     0.38436,      0.3835,     0.38283,     0.38145,     0.38125,      0.3793,\n",
      "            0.37659,      0.3753,     0.37359,     0.37237,     0.37262,     0.37014,     0.36913,     0.36822,     0.36738,     0.36777,     0.36811,     0.36866,     0.36877,     0.36888,     0.36902,     0.36931,     0.36935,     0.36819,     0.36759,     0.36698,     0.36703,     0.36627,     0.36262,\n",
      "             0.3629,     0.36203,     0.36106,     0.36025,      0.3599,      0.3601,     0.35815,     0.35619,     0.35429,     0.35327,     0.35112,      0.3504,     0.34985,     0.34803,     0.34705,     0.34617,     0.34602,     0.34608,     0.34615,     0.34622,     0.34628,     0.34381,     0.34277,\n",
      "            0.34236,     0.34196,     0.34155,     0.34078,     0.33992,     0.33828,     0.33656,     0.33613,     0.33571,     0.33527,     0.33371,     0.33392,      0.3328,     0.33292,     0.33211,      0.3311,     0.32999,      0.3288,     0.32766,     0.32665,     0.32652,     0.32667,     0.32682,\n",
      "            0.32696,     0.32651,     0.32524,     0.32481,     0.32438,     0.32395,     0.32381,     0.32397,     0.32336,     0.32262,     0.32098,      0.3205,     0.32002,     0.31953,     0.31947,     0.31963,     0.31998,     0.31872,     0.31738,      0.3177,     0.31787,     0.31591,     0.31529,\n",
      "            0.31466,     0.31212,     0.31103,     0.31054,     0.31006,     0.30957,     0.30891,     0.30816,     0.30776,     0.30793,     0.30736,      0.3063,     0.30642,     0.30655,     0.30642,     0.30539,     0.30361,     0.30246,     0.30125,      0.3004,     0.30046,     0.30013,     0.29979,\n",
      "            0.29946,     0.29912,     0.29802,     0.29648,     0.29556,     0.29555,     0.29528,     0.29395,     0.29425,     0.29431,     0.29436,     0.29441,     0.29447,     0.29452,     0.29279,     0.29293,     0.29308,     0.29235,     0.29156,     0.28969,     0.28846,     0.28604,     0.28613,\n",
      "            0.28621,     0.28629,     0.28642,     0.28657,     0.28491,     0.28509,     0.28518,     0.28525,     0.28533,      0.2854,     0.28339,     0.28056,     0.27831,     0.27885,      0.2789,     0.27895,     0.27901,     0.27906,     0.27911,      0.2773,     0.27685,      0.2764,     0.27595,\n",
      "            0.27549,     0.27474,     0.27399,     0.27197,       0.272,     0.27163,     0.27125,     0.27088,     0.27051,     0.27045,     0.27013,     0.26883,     0.26723,     0.26762,     0.26747,     0.26658,     0.26606,     0.26511,      0.2632,     0.26258,     0.26265,     0.26272,     0.26278,\n",
      "            0.26189,     0.26102,     0.26044,     0.25985,     0.25939,     0.25945,     0.25951,     0.25957,     0.25963,     0.25789,     0.25634,     0.25436,     0.25443,     0.25449,     0.25455,     0.25273,     0.25285,     0.25296,     0.25203,     0.25075,     0.24818,     0.24751,     0.24661,\n",
      "            0.24543,     0.24378,     0.24393,     0.24409,     0.24426,      0.2432,     0.24222,     0.24172,     0.24122,     0.24072,     0.23998,     0.23895,     0.23709,      0.2367,     0.23684,     0.23298,     0.23303,     0.23307,      0.2331,     0.23314,     0.23318,     0.23263,     0.23133,\n",
      "            0.23139,     0.23144,      0.2315,      0.2318,     0.23183,     0.23186,     0.23188,     0.23191,     0.23194,     0.23197,       0.232,     0.23203,     0.23147,     0.23014,     0.23016,     0.22996,     0.22976,     0.22956,     0.22936,     0.22917,     0.22897,     0.22877,     0.22857,\n",
      "            0.22799,     0.22569,     0.22477,     0.22425,     0.22394,     0.22363,     0.22333,     0.22302,     0.22272,     0.22218,     0.22065,     0.21946,     0.21852,     0.21858,     0.21865,     0.21872,     0.21841,     0.21774,     0.21707,     0.21678,     0.21682,     0.21686,      0.2169,\n",
      "            0.21694,     0.21698,     0.21677,     0.21597,     0.21518,     0.21512,     0.21519,     0.21452,     0.21386,      0.2133,     0.21154,     0.21185,       0.212,     0.21209,     0.21217,     0.21183,     0.21139,     0.21094,      0.2105,      0.2071,     0.20606,     0.20567,     0.20528,\n",
      "            0.20489,      0.2045,     0.20214,     0.20097,      0.2001,     0.19975,     0.19939,     0.19904,     0.19869,     0.19834,     0.19667,     0.19581,     0.19542,     0.19502,     0.19463,     0.19424,      0.1937,     0.19304,     0.19239,     0.19171,     0.19101,     0.19031,     0.18932,\n",
      "            0.18797,     0.18559,     0.18508,     0.18456,     0.18405,     0.18181,     0.18164,     0.18166,     0.18169,     0.18172,     0.18175,     0.18178,      0.1818,     0.18112,     0.17976,     0.17979,     0.17985,     0.17992,     0.17999,     0.17938,     0.17878,     0.17817,     0.17648,\n",
      "            0.17596,     0.17602,     0.17607,     0.17612,     0.17546,     0.17459,      0.1715,        0.17,     0.16747,     0.16609,     0.16577,     0.16588,      0.1648,     0.16366,     0.16268,      0.1617,      0.1617,     0.16069,     0.15978,     0.15992,     0.16005,     0.15976,     0.15807,\n",
      "            0.15815,     0.15743,     0.15581,     0.15521,     0.15461,     0.15401,     0.15336,      0.1527,     0.15204,      0.1512,     0.15012,     0.14893,     0.14755,     0.14697,      0.1466,     0.14623,     0.14586,     0.14548,     0.14511,     0.14128,     0.14044,     0.14022,     0.13999,\n",
      "            0.13976,     0.13954,     0.13931,     0.13908,     0.13885,     0.13863,     0.13826,     0.13671,     0.13451,     0.13189,     0.12991,     0.12888,      0.1281,     0.12732,     0.12491,     0.12439,     0.12387,     0.12335,     0.12283,     0.12154,     0.12049,     0.12054,     0.12058,\n",
      "            0.12063,     0.12028,     0.11994,      0.1196,     0.11925,     0.11891,     0.11857,     0.11821,     0.11783,     0.11746,     0.11708,     0.11671,     0.11633,     0.11611,     0.11482,     0.11376,      0.1132,     0.11264,     0.11208,     0.11161,     0.11146,      0.1113,     0.11115,\n",
      "            0.11099,     0.11083,     0.11068,     0.11052,     0.11036,     0.11021,     0.11005,     0.10989,     0.10974,     0.10958,     0.10942,     0.10892,     0.10814,     0.10737,     0.10475,     0.10433,     0.10391,     0.10349,     0.10307,     0.10265,     0.10194,     0.10092,    0.098429,\n",
      "           0.097541,    0.097261,     0.09698,      0.0967,    0.096419,    0.096139,    0.095858,    0.095577,    0.095265,    0.094933,    0.094602,     0.09427,    0.093939,    0.093607,    0.093275,    0.092709,    0.091976,    0.091243,    0.090324,    0.089117,    0.088465,    0.088493,    0.088521,\n",
      "           0.088549,    0.088119,    0.087343,    0.086566,    0.086002,    0.085622,    0.085242,    0.084862,    0.084481,    0.084101,    0.082976,    0.080957,    0.079733,    0.078936,    0.078583,     0.07823,    0.077877,    0.077523,    0.077169,    0.076816,    0.075844,    0.074682,    0.071812,\n",
      "           0.071424,    0.071036,    0.070648,    0.070259,    0.069871,    0.069516,    0.069283,     0.06905,    0.068817,    0.068584,    0.068351,    0.068118,    0.067885,    0.067651,    0.067418,    0.067185,     0.06611,    0.064952,    0.062792,     0.05972,     0.05851,    0.057328,    0.056295,\n",
      "           0.055261,    0.053486,    0.049752,    0.048958,    0.048164,    0.047392,    0.046646,      0.0459,     0.04509,    0.043982,    0.042872,    0.041266,     0.03985,    0.038709,    0.037692,    0.037011,    0.036329,    0.035647,    0.033198,    0.031089,    0.029031,    0.027719,    0.027292,\n",
      "           0.026864,    0.026437,     0.02601,    0.025582,    0.024271,    0.022512,    0.021097,    0.020104,    0.019543,    0.018981,    0.018419,    0.017857,    0.017587,    0.017318,    0.017048,    0.016779,    0.016509,    0.016239,     0.01597,      0.0157,     0.01543,    0.014851,    0.014079,\n",
      "           0.013306,    0.012611,    0.012074,    0.011537,    0.010999,    0.010461,    0.010171,     0.01005,   0.0099283,   0.0098069,   0.0096855,    0.009564,   0.0094426,   0.0093211,   0.0091997,   0.0090782,   0.0089567,   0.0088352,   0.0087136,   0.0085921,   0.0084705,    0.008349,   0.0082274,\n",
      "          0.0081058,   0.0079842,   0.0078625,   0.0077409,   0.0073499,   0.0067798,   0.0062094,   0.0056386,   0.0050884,   0.0046937,    0.004299,    0.003904,   0.0035089,   0.0031137,   0.0027183,           0,           0,           0,           0,           0,           0,           0,           0,\n",
      "                  0,           0,           0,           0,           0,           0,           0,           0,           0,           0,           0,           0,           0,           0,           0,           0,           0,           0,           0,           0,           0,           0,           0,\n",
      "                  0,           0,           0,           0,           0,           0,           0,           0,           0,           0,           0,           0,           0,           0,           0,           0,           0,           0,           0,           0,           0,           0,           0,\n",
      "                  0,           0,           0,           0,           0,           0,           0,           0,           0,           0,           0]]), 'Confidence', 'F1'], [array([          0,    0.001001,    0.002002,    0.003003,    0.004004,    0.005005,    0.006006,    0.007007,    0.008008,    0.009009,     0.01001,    0.011011,    0.012012,    0.013013,    0.014014,    0.015015,    0.016016,    0.017017,    0.018018,    0.019019,     0.02002,    0.021021,    0.022022,    0.023023,\n",
      "          0.024024,    0.025025,    0.026026,    0.027027,    0.028028,    0.029029,     0.03003,    0.031031,    0.032032,    0.033033,    0.034034,    0.035035,    0.036036,    0.037037,    0.038038,    0.039039,     0.04004,    0.041041,    0.042042,    0.043043,    0.044044,    0.045045,    0.046046,    0.047047,\n",
      "          0.048048,    0.049049,     0.05005,    0.051051,    0.052052,    0.053053,    0.054054,    0.055055,    0.056056,    0.057057,    0.058058,    0.059059,     0.06006,    0.061061,    0.062062,    0.063063,    0.064064,    0.065065,    0.066066,    0.067067,    0.068068,    0.069069,     0.07007,    0.071071,\n",
      "          0.072072,    0.073073,    0.074074,    0.075075,    0.076076,    0.077077,    0.078078,    0.079079,     0.08008,    0.081081,    0.082082,    0.083083,    0.084084,    0.085085,    0.086086,    0.087087,    0.088088,    0.089089,     0.09009,    0.091091,    0.092092,    0.093093,    0.094094,    0.095095,\n",
      "          0.096096,    0.097097,    0.098098,    0.099099,      0.1001,      0.1011,      0.1021,      0.1031,      0.1041,     0.10511,     0.10611,     0.10711,     0.10811,     0.10911,     0.11011,     0.11111,     0.11211,     0.11311,     0.11411,     0.11512,     0.11612,     0.11712,     0.11812,     0.11912,\n",
      "           0.12012,     0.12112,     0.12212,     0.12312,     0.12412,     0.12513,     0.12613,     0.12713,     0.12813,     0.12913,     0.13013,     0.13113,     0.13213,     0.13313,     0.13413,     0.13514,     0.13614,     0.13714,     0.13814,     0.13914,     0.14014,     0.14114,     0.14214,     0.14314,\n",
      "           0.14414,     0.14515,     0.14615,     0.14715,     0.14815,     0.14915,     0.15015,     0.15115,     0.15215,     0.15315,     0.15415,     0.15516,     0.15616,     0.15716,     0.15816,     0.15916,     0.16016,     0.16116,     0.16216,     0.16316,     0.16416,     0.16517,     0.16617,     0.16717,\n",
      "           0.16817,     0.16917,     0.17017,     0.17117,     0.17217,     0.17317,     0.17417,     0.17518,     0.17618,     0.17718,     0.17818,     0.17918,     0.18018,     0.18118,     0.18218,     0.18318,     0.18418,     0.18519,     0.18619,     0.18719,     0.18819,     0.18919,     0.19019,     0.19119,\n",
      "           0.19219,     0.19319,     0.19419,      0.1952,      0.1962,      0.1972,      0.1982,      0.1992,      0.2002,      0.2012,      0.2022,      0.2032,      0.2042,     0.20521,     0.20621,     0.20721,     0.20821,     0.20921,     0.21021,     0.21121,     0.21221,     0.21321,     0.21421,     0.21522,\n",
      "           0.21622,     0.21722,     0.21822,     0.21922,     0.22022,     0.22122,     0.22222,     0.22322,     0.22422,     0.22523,     0.22623,     0.22723,     0.22823,     0.22923,     0.23023,     0.23123,     0.23223,     0.23323,     0.23423,     0.23524,     0.23624,     0.23724,     0.23824,     0.23924,\n",
      "           0.24024,     0.24124,     0.24224,     0.24324,     0.24424,     0.24525,     0.24625,     0.24725,     0.24825,     0.24925,     0.25025,     0.25125,     0.25225,     0.25325,     0.25425,     0.25526,     0.25626,     0.25726,     0.25826,     0.25926,     0.26026,     0.26126,     0.26226,     0.26326,\n",
      "           0.26426,     0.26527,     0.26627,     0.26727,     0.26827,     0.26927,     0.27027,     0.27127,     0.27227,     0.27327,     0.27427,     0.27528,     0.27628,     0.27728,     0.27828,     0.27928,     0.28028,     0.28128,     0.28228,     0.28328,     0.28428,     0.28529,     0.28629,     0.28729,\n",
      "           0.28829,     0.28929,     0.29029,     0.29129,     0.29229,     0.29329,     0.29429,      0.2953,      0.2963,      0.2973,      0.2983,      0.2993,      0.3003,      0.3013,      0.3023,      0.3033,      0.3043,     0.30531,     0.30631,     0.30731,     0.30831,     0.30931,     0.31031,     0.31131,\n",
      "           0.31231,     0.31331,     0.31431,     0.31532,     0.31632,     0.31732,     0.31832,     0.31932,     0.32032,     0.32132,     0.32232,     0.32332,     0.32432,     0.32533,     0.32633,     0.32733,     0.32833,     0.32933,     0.33033,     0.33133,     0.33233,     0.33333,     0.33433,     0.33534,\n",
      "           0.33634,     0.33734,     0.33834,     0.33934,     0.34034,     0.34134,     0.34234,     0.34334,     0.34434,     0.34535,     0.34635,     0.34735,     0.34835,     0.34935,     0.35035,     0.35135,     0.35235,     0.35335,     0.35435,     0.35536,     0.35636,     0.35736,     0.35836,     0.35936,\n",
      "           0.36036,     0.36136,     0.36236,     0.36336,     0.36436,     0.36537,     0.36637,     0.36737,     0.36837,     0.36937,     0.37037,     0.37137,     0.37237,     0.37337,     0.37437,     0.37538,     0.37638,     0.37738,     0.37838,     0.37938,     0.38038,     0.38138,     0.38238,     0.38338,\n",
      "           0.38438,     0.38539,     0.38639,     0.38739,     0.38839,     0.38939,     0.39039,     0.39139,     0.39239,     0.39339,     0.39439,      0.3954,      0.3964,      0.3974,      0.3984,      0.3994,      0.4004,      0.4014,      0.4024,      0.4034,      0.4044,     0.40541,     0.40641,     0.40741,\n",
      "           0.40841,     0.40941,     0.41041,     0.41141,     0.41241,     0.41341,     0.41441,     0.41542,     0.41642,     0.41742,     0.41842,     0.41942,     0.42042,     0.42142,     0.42242,     0.42342,     0.42442,     0.42543,     0.42643,     0.42743,     0.42843,     0.42943,     0.43043,     0.43143,\n",
      "           0.43243,     0.43343,     0.43443,     0.43544,     0.43644,     0.43744,     0.43844,     0.43944,     0.44044,     0.44144,     0.44244,     0.44344,     0.44444,     0.44545,     0.44645,     0.44745,     0.44845,     0.44945,     0.45045,     0.45145,     0.45245,     0.45345,     0.45445,     0.45546,\n",
      "           0.45646,     0.45746,     0.45846,     0.45946,     0.46046,     0.46146,     0.46246,     0.46346,     0.46446,     0.46547,     0.46647,     0.46747,     0.46847,     0.46947,     0.47047,     0.47147,     0.47247,     0.47347,     0.47447,     0.47548,     0.47648,     0.47748,     0.47848,     0.47948,\n",
      "           0.48048,     0.48148,     0.48248,     0.48348,     0.48448,     0.48549,     0.48649,     0.48749,     0.48849,     0.48949,     0.49049,     0.49149,     0.49249,     0.49349,     0.49449,      0.4955,      0.4965,      0.4975,      0.4985,      0.4995,      0.5005,      0.5015,      0.5025,      0.5035,\n",
      "            0.5045,     0.50551,     0.50651,     0.50751,     0.50851,     0.50951,     0.51051,     0.51151,     0.51251,     0.51351,     0.51451,     0.51552,     0.51652,     0.51752,     0.51852,     0.51952,     0.52052,     0.52152,     0.52252,     0.52352,     0.52452,     0.52553,     0.52653,     0.52753,\n",
      "           0.52853,     0.52953,     0.53053,     0.53153,     0.53253,     0.53353,     0.53453,     0.53554,     0.53654,     0.53754,     0.53854,     0.53954,     0.54054,     0.54154,     0.54254,     0.54354,     0.54454,     0.54555,     0.54655,     0.54755,     0.54855,     0.54955,     0.55055,     0.55155,\n",
      "           0.55255,     0.55355,     0.55455,     0.55556,     0.55656,     0.55756,     0.55856,     0.55956,     0.56056,     0.56156,     0.56256,     0.56356,     0.56456,     0.56557,     0.56657,     0.56757,     0.56857,     0.56957,     0.57057,     0.57157,     0.57257,     0.57357,     0.57457,     0.57558,\n",
      "           0.57658,     0.57758,     0.57858,     0.57958,     0.58058,     0.58158,     0.58258,     0.58358,     0.58458,     0.58559,     0.58659,     0.58759,     0.58859,     0.58959,     0.59059,     0.59159,     0.59259,     0.59359,     0.59459,      0.5956,      0.5966,      0.5976,      0.5986,      0.5996,\n",
      "            0.6006,      0.6016,      0.6026,      0.6036,      0.6046,     0.60561,     0.60661,     0.60761,     0.60861,     0.60961,     0.61061,     0.61161,     0.61261,     0.61361,     0.61461,     0.61562,     0.61662,     0.61762,     0.61862,     0.61962,     0.62062,     0.62162,     0.62262,     0.62362,\n",
      "           0.62462,     0.62563,     0.62663,     0.62763,     0.62863,     0.62963,     0.63063,     0.63163,     0.63263,     0.63363,     0.63463,     0.63564,     0.63664,     0.63764,     0.63864,     0.63964,     0.64064,     0.64164,     0.64264,     0.64364,     0.64464,     0.64565,     0.64665,     0.64765,\n",
      "           0.64865,     0.64965,     0.65065,     0.65165,     0.65265,     0.65365,     0.65465,     0.65566,     0.65666,     0.65766,     0.65866,     0.65966,     0.66066,     0.66166,     0.66266,     0.66366,     0.66466,     0.66567,     0.66667,     0.66767,     0.66867,     0.66967,     0.67067,     0.67167,\n",
      "           0.67267,     0.67367,     0.67467,     0.67568,     0.67668,     0.67768,     0.67868,     0.67968,     0.68068,     0.68168,     0.68268,     0.68368,     0.68468,     0.68569,     0.68669,     0.68769,     0.68869,     0.68969,     0.69069,     0.69169,     0.69269,     0.69369,     0.69469,      0.6957,\n",
      "            0.6967,      0.6977,      0.6987,      0.6997,      0.7007,      0.7017,      0.7027,      0.7037,      0.7047,     0.70571,     0.70671,     0.70771,     0.70871,     0.70971,     0.71071,     0.71171,     0.71271,     0.71371,     0.71471,     0.71572,     0.71672,     0.71772,     0.71872,     0.71972,\n",
      "           0.72072,     0.72172,     0.72272,     0.72372,     0.72472,     0.72573,     0.72673,     0.72773,     0.72873,     0.72973,     0.73073,     0.73173,     0.73273,     0.73373,     0.73473,     0.73574,     0.73674,     0.73774,     0.73874,     0.73974,     0.74074,     0.74174,     0.74274,     0.74374,\n",
      "           0.74474,     0.74575,     0.74675,     0.74775,     0.74875,     0.74975,     0.75075,     0.75175,     0.75275,     0.75375,     0.75475,     0.75576,     0.75676,     0.75776,     0.75876,     0.75976,     0.76076,     0.76176,     0.76276,     0.76376,     0.76476,     0.76577,     0.76677,     0.76777,\n",
      "           0.76877,     0.76977,     0.77077,     0.77177,     0.77277,     0.77377,     0.77477,     0.77578,     0.77678,     0.77778,     0.77878,     0.77978,     0.78078,     0.78178,     0.78278,     0.78378,     0.78478,     0.78579,     0.78679,     0.78779,     0.78879,     0.78979,     0.79079,     0.79179,\n",
      "           0.79279,     0.79379,     0.79479,      0.7958,      0.7968,      0.7978,      0.7988,      0.7998,      0.8008,      0.8018,      0.8028,      0.8038,      0.8048,     0.80581,     0.80681,     0.80781,     0.80881,     0.80981,     0.81081,     0.81181,     0.81281,     0.81381,     0.81481,     0.81582,\n",
      "           0.81682,     0.81782,     0.81882,     0.81982,     0.82082,     0.82182,     0.82282,     0.82382,     0.82482,     0.82583,     0.82683,     0.82783,     0.82883,     0.82983,     0.83083,     0.83183,     0.83283,     0.83383,     0.83483,     0.83584,     0.83684,     0.83784,     0.83884,     0.83984,\n",
      "           0.84084,     0.84184,     0.84284,     0.84384,     0.84484,     0.84585,     0.84685,     0.84785,     0.84885,     0.84985,     0.85085,     0.85185,     0.85285,     0.85385,     0.85485,     0.85586,     0.85686,     0.85786,     0.85886,     0.85986,     0.86086,     0.86186,     0.86286,     0.86386,\n",
      "           0.86486,     0.86587,     0.86687,     0.86787,     0.86887,     0.86987,     0.87087,     0.87187,     0.87287,     0.87387,     0.87487,     0.87588,     0.87688,     0.87788,     0.87888,     0.87988,     0.88088,     0.88188,     0.88288,     0.88388,     0.88488,     0.88589,     0.88689,     0.88789,\n",
      "           0.88889,     0.88989,     0.89089,     0.89189,     0.89289,     0.89389,     0.89489,      0.8959,      0.8969,      0.8979,      0.8989,      0.8999,      0.9009,      0.9019,      0.9029,      0.9039,      0.9049,     0.90591,     0.90691,     0.90791,     0.90891,     0.90991,     0.91091,     0.91191,\n",
      "           0.91291,     0.91391,     0.91491,     0.91592,     0.91692,     0.91792,     0.91892,     0.91992,     0.92092,     0.92192,     0.92292,     0.92392,     0.92492,     0.92593,     0.92693,     0.92793,     0.92893,     0.92993,     0.93093,     0.93193,     0.93293,     0.93393,     0.93493,     0.93594,\n",
      "           0.93694,     0.93794,     0.93894,     0.93994,     0.94094,     0.94194,     0.94294,     0.94394,     0.94494,     0.94595,     0.94695,     0.94795,     0.94895,     0.94995,     0.95095,     0.95195,     0.95295,     0.95395,     0.95495,     0.95596,     0.95696,     0.95796,     0.95896,     0.95996,\n",
      "           0.96096,     0.96196,     0.96296,     0.96396,     0.96496,     0.96597,     0.96697,     0.96797,     0.96897,     0.96997,     0.97097,     0.97197,     0.97297,     0.97397,     0.97497,     0.97598,     0.97698,     0.97798,     0.97898,     0.97998,     0.98098,     0.98198,     0.98298,     0.98398,\n",
      "           0.98498,     0.98599,     0.98699,     0.98799,     0.98899,     0.98999,     0.99099,     0.99199,     0.99299,     0.99399,     0.99499,       0.996,       0.997,       0.998,       0.999,           1]), array([[   0.032767,    0.032788,    0.050951,    0.065809,    0.078017,    0.088606,     0.10005,     0.10903,       0.117,     0.12492,     0.13263,     0.13966,     0.14551,     0.15159,      0.1571,     0.16324,     0.16922,     0.17663,     0.18194,     0.18692,     0.19131,     0.19737,     0.20185,\n",
      "            0.20613,     0.21099,     0.21393,     0.22016,     0.22573,     0.22917,     0.23342,     0.23952,     0.24345,     0.24719,     0.24801,     0.25245,     0.25727,      0.2619,     0.26579,     0.27046,     0.27265,     0.27674,      0.2809,      0.2835,     0.28744,      0.2915,     0.29431,\n",
      "             0.2974,     0.30032,     0.30265,     0.30596,     0.30871,     0.31064,      0.3127,     0.31501,     0.31819,     0.32246,     0.32602,     0.32947,     0.33362,     0.33653,     0.34083,     0.34579,      0.3476,     0.35106,      0.3534,     0.35782,     0.36428,     0.36841,     0.36987,\n",
      "            0.37306,     0.37596,      0.3768,     0.37988,     0.38591,     0.38964,     0.39229,     0.39429,     0.39692,     0.39781,     0.39836,     0.40062,     0.40237,     0.40602,     0.40972,     0.41139,     0.41133,     0.41009,     0.41227,     0.41214,     0.41368,     0.41574,     0.41749,\n",
      "            0.41998,     0.42287,     0.42642,     0.42737,     0.42868,     0.43238,     0.43414,     0.43594,     0.43837,     0.43769,     0.44071,      0.4426,     0.44375,     0.44584,     0.44868,      0.4502,      0.4519,     0.45252,     0.45443,     0.45666,     0.45799,     0.46044,     0.46224,\n",
      "             0.4638,     0.46425,     0.46537,     0.46657,     0.46715,     0.47069,     0.47545,     0.47776,     0.47932,     0.48236,     0.48287,     0.48349,     0.48502,     0.48624,      0.4874,     0.48886,     0.49146,     0.49341,     0.49336,     0.49572,     0.49798,     0.49863,     0.49889,\n",
      "            0.49882,     0.50087,     0.50327,     0.50761,     0.50986,     0.51206,     0.51299,     0.51432,     0.51699,     0.51948,     0.52011,     0.52299,     0.52493,     0.52485,     0.52521,     0.52818,     0.52866,     0.52856,     0.52923,     0.52983,     0.53096,     0.53273,     0.53159,\n",
      "            0.53104,     0.53369,     0.53673,      0.5382,     0.54109,      0.5426,     0.54515,     0.54524,     0.54649,     0.54594,     0.54551,     0.54516,     0.54575,     0.54864,     0.54939,     0.54994,     0.55252,     0.55283,     0.55333,     0.55477,     0.55582,     0.55654,     0.55847,\n",
      "            0.55848,      0.5598,     0.56132,     0.56261,     0.56486,      0.5651,     0.56303,     0.56302,     0.56451,     0.56415,      0.5665,     0.56584,     0.56677,     0.56861,     0.56943,     0.57164,     0.57469,      0.5755,     0.57646,     0.57834,     0.58071,     0.58194,     0.58538,\n",
      "            0.58412,     0.58461,     0.58562,     0.58484,     0.58335,     0.58397,     0.58459,     0.58534,     0.58597,     0.58612,      0.5858,     0.58548,     0.58574,     0.58537,     0.58527,     0.58665,     0.58894,     0.58887,     0.59069,     0.59553,      0.5981,     0.60024,     0.60103,\n",
      "            0.60235,     0.60332,     0.60467,     0.60595,     0.60688,      0.6093,     0.61137,     0.61481,     0.61631,     0.61541,     0.61444,     0.61549,     0.62184,     0.62469,     0.62523,     0.62487,     0.62375,     0.62451,     0.62409,     0.62486,     0.62531,     0.62573,     0.62811,\n",
      "             0.6276,      0.6269,     0.62678,     0.62796,     0.62968,     0.63053,     0.63257,     0.63229,     0.63553,     0.63704,      0.6375,     0.63797,     0.63844,     0.64063,      0.6414,     0.64083,     0.63915,     0.63991,     0.64086,     0.64199,     0.64169,     0.64069,     0.63948,\n",
      "            0.63881,     0.63961,      0.6411,      0.6427,     0.64513,     0.64331,     0.64262,     0.64238,     0.64405,      0.6427,     0.64346,      0.6443,     0.64552,     0.64918,     0.64939,     0.64998,     0.64986,     0.64974,     0.65127,     0.65475,     0.65313,     0.65657,     0.65778,\n",
      "              0.662,     0.66347,      0.6645,     0.66846,     0.66719,     0.66812,      0.6702,     0.66939,     0.66839,     0.66775,     0.66906,     0.67119,     0.67362,     0.67748,     0.67783,     0.67879,     0.67961,     0.67991,      0.6793,     0.67883,     0.67786,     0.68171,      0.6844,\n",
      "            0.68292,     0.68364,     0.68242,     0.68194,     0.68357,     0.68629,     0.68557,     0.68492,     0.68432,     0.68794,     0.69038,     0.69423,     0.69501,     0.69579,     0.69678,     0.69884,     0.70351,      0.7027,     0.70228,     0.70186,     0.70421,     0.70368,     0.70132,\n",
      "            0.70339,     0.70306,     0.70238,     0.70181,     0.70218,      0.7037,     0.70511,     0.70372,     0.70481,     0.70408,     0.70254,     0.70201,     0.70225,      0.7053,     0.70713,     0.70649,     0.70678,     0.70733,     0.70788,     0.70843,     0.70898,     0.70736,      0.7066,\n",
      "             0.7063,     0.70601,     0.70571,     0.70514,     0.70451,     0.70592,     0.70464,     0.70433,     0.70401,     0.70368,     0.70293,     0.70482,      0.7045,     0.70936,     0.70942,     0.70867,     0.70783,     0.70694,     0.70608,     0.70531,     0.70619,     0.70759,     0.70895,\n",
      "            0.71028,      0.7108,     0.70984,     0.70951,     0.70918,     0.70886,     0.70946,     0.71096,     0.71126,     0.71359,     0.71235,     0.71198,     0.71161,     0.71124,     0.71215,     0.71375,     0.72046,     0.72026,      0.7226,     0.72591,     0.72774,     0.72663,     0.72616,\n",
      "            0.72569,     0.72377,     0.72294,     0.72257,      0.7222,     0.72183,     0.72132,     0.72074,     0.72109,     0.72297,     0.72331,      0.7226,       0.724,     0.72541,     0.72909,     0.73048,     0.73027,     0.72938,     0.72845,     0.72885,     0.73123,     0.73097,     0.73071,\n",
      "            0.73045,     0.73019,     0.72934,     0.72813,     0.72741,     0.72927,     0.73064,     0.72961,     0.73353,      0.7342,     0.73486,     0.73553,     0.73619,     0.73685,     0.73576,     0.73761,     0.73947,     0.73901,      0.7384,     0.73695,     0.73598,     0.73448,     0.73557,\n",
      "            0.73666,     0.73775,     0.73951,     0.74142,     0.74177,     0.74409,     0.74537,     0.74637,     0.74738,     0.74839,     0.74707,     0.74485,     0.74404,     0.75172,     0.75249,     0.75326,     0.75403,      0.7548,     0.75557,     0.75428,     0.75393,     0.75358,     0.75322,\n",
      "            0.75287,     0.75228,     0.75168,     0.75154,     0.75427,     0.75397,     0.75367,     0.75338,     0.75308,     0.75482,     0.75702,      0.7567,     0.75904,     0.76535,     0.76804,     0.76735,     0.76854,     0.77074,     0.76926,     0.76946,     0.77063,      0.7718,     0.77297,\n",
      "            0.77287,      0.7769,     0.77645,     0.77601,     0.77584,     0.77693,     0.77802,     0.77911,      0.7802,     0.78418,     0.78301,     0.78247,     0.78363,      0.7848,     0.78596,     0.78577,     0.78805,     0.79033,     0.78983,     0.78886,      0.7869,      0.7907,     0.79094,\n",
      "            0.79003,     0.78944,      0.7926,     0.79601,     0.79971,      0.7992,     0.79846,     0.79808,      0.7977,     0.79732,     0.79675,     0.79596,     0.79452,     0.79668,     0.79991,     0.79741,     0.79835,     0.79929,     0.80023,     0.80117,     0.80211,     0.80257,      0.8028,\n",
      "            0.80415,      0.8055,     0.80685,     0.81421,     0.81492,     0.81563,     0.81635,     0.81706,     0.81777,     0.81848,     0.81919,     0.81991,      0.8199,     0.81894,     0.82526,     0.82512,     0.82498,     0.82484,      0.8247,     0.82456,     0.82442,     0.82428,     0.82413,\n",
      "            0.82372,     0.82205,     0.82137,     0.82099,     0.82076,     0.82054,     0.82031,     0.82008,     0.81986,     0.81945,      0.8183,     0.81739,     0.81699,     0.81886,     0.82074,     0.82261,     0.82327,     0.82277,     0.82227,     0.82263,     0.82376,     0.82489,     0.82602,\n",
      "            0.82714,     0.82827,     0.82888,      0.8283,     0.82772,      0.8309,     0.83474,     0.83426,     0.83378,     0.83495,     0.84135,     0.85114,     0.85606,     0.85896,     0.86185,     0.86216,     0.86188,      0.8616,     0.86132,     0.85913,     0.86648,     0.86624,     0.86599,\n",
      "            0.86575,      0.8655,     0.86399,     0.86323,     0.86266,     0.86243,     0.86219,     0.86196,     0.86172,     0.86149,     0.86037,     0.85978,     0.85951,     0.85924,     0.85897,      0.8587,     0.85833,     0.85787,     0.85741,     0.85694,     0.85644,     0.85594,     0.85523,\n",
      "            0.85425,     0.85249,      0.8521,     0.85171,     0.85133,     0.84962,     0.85066,      0.8519,     0.85314,     0.85437,     0.85561,     0.85685,     0.85809,     0.85818,     0.85717,     0.86003,     0.86301,     0.86599,      0.8763,      0.8759,      0.8755,     0.87509,     0.87394,\n",
      "            0.87542,     0.87799,     0.88055,     0.88311,     0.88329,     0.88272,     0.88069,     0.87968,     0.88865,     0.88776,       0.892,     0.89831,     0.89808,     0.89738,     0.89678,     0.89617,     0.90306,     0.90727,     0.91707,     0.92593,     0.93471,     0.94429,     0.94701,\n",
      "            0.95314,     0.95692,     0.95646,     0.95628,     0.95611,     0.95593,     0.95574,     0.95554,     0.95534,     0.95508,     0.95475,     0.95438,     0.95394,     0.95375,     0.95363,     0.95351,     0.95338,     0.95326,     0.95314,     0.95184,     0.95154,     0.95146,     0.95138,\n",
      "             0.9513,     0.95122,     0.95114,     0.95105,     0.95097,     0.95089,     0.95076,     0.95019,     0.94936,     0.94834,     0.94753,     0.94711,     0.94678,     0.94646,     0.94542,     0.94518,     0.94495,     0.94472,     0.94449,     0.94389,     0.94492,     0.95046,     0.95599,\n",
      "            0.96152,     0.96142,     0.96131,      0.9612,     0.96108,     0.96097,     0.96085,     0.96073,      0.9606,     0.96047,     0.96035,     0.96022,     0.96009,     0.97957,     0.97933,     0.97913,     0.97902,     0.97892,     0.97881,     0.97872,     0.97868,     0.97865,     0.97862,\n",
      "            0.97859,     0.97856,     0.97853,      0.9785,     0.97846,     0.97843,      0.9784,     0.97837,     0.97834,     0.97831,     0.97827,     0.97817,     0.97801,     0.97784,     0.97727,     0.97718,     0.97708,     0.97698,     0.97689,     0.97679,     0.97663,     0.97638,     0.97577,\n",
      "            0.97554,     0.97547,      0.9754,     0.97532,     0.97525,     0.97517,      0.9751,     0.97503,     0.97494,     0.97485,     0.97476,     0.97467,     0.97458,     0.97449,      0.9744,     0.97424,     0.97402,     0.97381,     0.97354,     0.97317,      0.9761,     0.98307,     0.99003,\n",
      "              0.997,           1,           1,           1,           1,           1,           1,           1,           1,           1,           1,           1,           1,           1,           1,           1,           1,           1,           1,           1,           1,           1,           1,\n",
      "                  1,           1,           1,           1,           1,           1,           1,           1,           1,           1,           1,           1,           1,           1,           1,           1,           1,           1,           1,           1,           1,           1,           1,\n",
      "                  1,           1,           1,           1,           1,           1,           1,           1,           1,           1,           1,           1,           1,           1,           1,           1,           1,           1,           1,           1,           1,           1,           1,\n",
      "                  1,           1,           1,           1,           1,           1,           1,           1,           1,           1,           1,           1,           1,           1,           1,           1,           1,           1,           1,           1,           1,           1,           1,\n",
      "                  1,           1,           1,           1,           1,           1,           1,           1,           1,           1,           1,           1,           1,           1,           1,           1,           1,           1,           1,           1,           1,           1,           1,\n",
      "                  1,           1,           1,           1,           1,           1,           1,           1,           1,           1,           1,           1,           1,           1,           1,           1,           1,           1,           1,           1,           1,           1,           1,\n",
      "                  1,           1,           1,           1,           1,           1,           1,           1,           1,           1,           1,           1,           1,           1,           1,           1,           1,           1,           1,           1,           1,           1,           1,\n",
      "                  1,           1,           1,           1,           1,           1,           1,           1,           1,           1,           1,           1,           1,           1,           1,           1,           1,           1,           1,           1,           1,           1,           1,\n",
      "                  1,           1,           1,           1,           1,           1,           1,           1,           1,           1,           1]]), 'Confidence', 'Precision'], [array([          0,    0.001001,    0.002002,    0.003003,    0.004004,    0.005005,    0.006006,    0.007007,    0.008008,    0.009009,     0.01001,    0.011011,    0.012012,    0.013013,    0.014014,    0.015015,    0.016016,    0.017017,    0.018018,    0.019019,     0.02002,    0.021021,    0.022022,    0.023023,\n",
      "          0.024024,    0.025025,    0.026026,    0.027027,    0.028028,    0.029029,     0.03003,    0.031031,    0.032032,    0.033033,    0.034034,    0.035035,    0.036036,    0.037037,    0.038038,    0.039039,     0.04004,    0.041041,    0.042042,    0.043043,    0.044044,    0.045045,    0.046046,    0.047047,\n",
      "          0.048048,    0.049049,     0.05005,    0.051051,    0.052052,    0.053053,    0.054054,    0.055055,    0.056056,    0.057057,    0.058058,    0.059059,     0.06006,    0.061061,    0.062062,    0.063063,    0.064064,    0.065065,    0.066066,    0.067067,    0.068068,    0.069069,     0.07007,    0.071071,\n",
      "          0.072072,    0.073073,    0.074074,    0.075075,    0.076076,    0.077077,    0.078078,    0.079079,     0.08008,    0.081081,    0.082082,    0.083083,    0.084084,    0.085085,    0.086086,    0.087087,    0.088088,    0.089089,     0.09009,    0.091091,    0.092092,    0.093093,    0.094094,    0.095095,\n",
      "          0.096096,    0.097097,    0.098098,    0.099099,      0.1001,      0.1011,      0.1021,      0.1031,      0.1041,     0.10511,     0.10611,     0.10711,     0.10811,     0.10911,     0.11011,     0.11111,     0.11211,     0.11311,     0.11411,     0.11512,     0.11612,     0.11712,     0.11812,     0.11912,\n",
      "           0.12012,     0.12112,     0.12212,     0.12312,     0.12412,     0.12513,     0.12613,     0.12713,     0.12813,     0.12913,     0.13013,     0.13113,     0.13213,     0.13313,     0.13413,     0.13514,     0.13614,     0.13714,     0.13814,     0.13914,     0.14014,     0.14114,     0.14214,     0.14314,\n",
      "           0.14414,     0.14515,     0.14615,     0.14715,     0.14815,     0.14915,     0.15015,     0.15115,     0.15215,     0.15315,     0.15415,     0.15516,     0.15616,     0.15716,     0.15816,     0.15916,     0.16016,     0.16116,     0.16216,     0.16316,     0.16416,     0.16517,     0.16617,     0.16717,\n",
      "           0.16817,     0.16917,     0.17017,     0.17117,     0.17217,     0.17317,     0.17417,     0.17518,     0.17618,     0.17718,     0.17818,     0.17918,     0.18018,     0.18118,     0.18218,     0.18318,     0.18418,     0.18519,     0.18619,     0.18719,     0.18819,     0.18919,     0.19019,     0.19119,\n",
      "           0.19219,     0.19319,     0.19419,      0.1952,      0.1962,      0.1972,      0.1982,      0.1992,      0.2002,      0.2012,      0.2022,      0.2032,      0.2042,     0.20521,     0.20621,     0.20721,     0.20821,     0.20921,     0.21021,     0.21121,     0.21221,     0.21321,     0.21421,     0.21522,\n",
      "           0.21622,     0.21722,     0.21822,     0.21922,     0.22022,     0.22122,     0.22222,     0.22322,     0.22422,     0.22523,     0.22623,     0.22723,     0.22823,     0.22923,     0.23023,     0.23123,     0.23223,     0.23323,     0.23423,     0.23524,     0.23624,     0.23724,     0.23824,     0.23924,\n",
      "           0.24024,     0.24124,     0.24224,     0.24324,     0.24424,     0.24525,     0.24625,     0.24725,     0.24825,     0.24925,     0.25025,     0.25125,     0.25225,     0.25325,     0.25425,     0.25526,     0.25626,     0.25726,     0.25826,     0.25926,     0.26026,     0.26126,     0.26226,     0.26326,\n",
      "           0.26426,     0.26527,     0.26627,     0.26727,     0.26827,     0.26927,     0.27027,     0.27127,     0.27227,     0.27327,     0.27427,     0.27528,     0.27628,     0.27728,     0.27828,     0.27928,     0.28028,     0.28128,     0.28228,     0.28328,     0.28428,     0.28529,     0.28629,     0.28729,\n",
      "           0.28829,     0.28929,     0.29029,     0.29129,     0.29229,     0.29329,     0.29429,      0.2953,      0.2963,      0.2973,      0.2983,      0.2993,      0.3003,      0.3013,      0.3023,      0.3033,      0.3043,     0.30531,     0.30631,     0.30731,     0.30831,     0.30931,     0.31031,     0.31131,\n",
      "           0.31231,     0.31331,     0.31431,     0.31532,     0.31632,     0.31732,     0.31832,     0.31932,     0.32032,     0.32132,     0.32232,     0.32332,     0.32432,     0.32533,     0.32633,     0.32733,     0.32833,     0.32933,     0.33033,     0.33133,     0.33233,     0.33333,     0.33433,     0.33534,\n",
      "           0.33634,     0.33734,     0.33834,     0.33934,     0.34034,     0.34134,     0.34234,     0.34334,     0.34434,     0.34535,     0.34635,     0.34735,     0.34835,     0.34935,     0.35035,     0.35135,     0.35235,     0.35335,     0.35435,     0.35536,     0.35636,     0.35736,     0.35836,     0.35936,\n",
      "           0.36036,     0.36136,     0.36236,     0.36336,     0.36436,     0.36537,     0.36637,     0.36737,     0.36837,     0.36937,     0.37037,     0.37137,     0.37237,     0.37337,     0.37437,     0.37538,     0.37638,     0.37738,     0.37838,     0.37938,     0.38038,     0.38138,     0.38238,     0.38338,\n",
      "           0.38438,     0.38539,     0.38639,     0.38739,     0.38839,     0.38939,     0.39039,     0.39139,     0.39239,     0.39339,     0.39439,      0.3954,      0.3964,      0.3974,      0.3984,      0.3994,      0.4004,      0.4014,      0.4024,      0.4034,      0.4044,     0.40541,     0.40641,     0.40741,\n",
      "           0.40841,     0.40941,     0.41041,     0.41141,     0.41241,     0.41341,     0.41441,     0.41542,     0.41642,     0.41742,     0.41842,     0.41942,     0.42042,     0.42142,     0.42242,     0.42342,     0.42442,     0.42543,     0.42643,     0.42743,     0.42843,     0.42943,     0.43043,     0.43143,\n",
      "           0.43243,     0.43343,     0.43443,     0.43544,     0.43644,     0.43744,     0.43844,     0.43944,     0.44044,     0.44144,     0.44244,     0.44344,     0.44444,     0.44545,     0.44645,     0.44745,     0.44845,     0.44945,     0.45045,     0.45145,     0.45245,     0.45345,     0.45445,     0.45546,\n",
      "           0.45646,     0.45746,     0.45846,     0.45946,     0.46046,     0.46146,     0.46246,     0.46346,     0.46446,     0.46547,     0.46647,     0.46747,     0.46847,     0.46947,     0.47047,     0.47147,     0.47247,     0.47347,     0.47447,     0.47548,     0.47648,     0.47748,     0.47848,     0.47948,\n",
      "           0.48048,     0.48148,     0.48248,     0.48348,     0.48448,     0.48549,     0.48649,     0.48749,     0.48849,     0.48949,     0.49049,     0.49149,     0.49249,     0.49349,     0.49449,      0.4955,      0.4965,      0.4975,      0.4985,      0.4995,      0.5005,      0.5015,      0.5025,      0.5035,\n",
      "            0.5045,     0.50551,     0.50651,     0.50751,     0.50851,     0.50951,     0.51051,     0.51151,     0.51251,     0.51351,     0.51451,     0.51552,     0.51652,     0.51752,     0.51852,     0.51952,     0.52052,     0.52152,     0.52252,     0.52352,     0.52452,     0.52553,     0.52653,     0.52753,\n",
      "           0.52853,     0.52953,     0.53053,     0.53153,     0.53253,     0.53353,     0.53453,     0.53554,     0.53654,     0.53754,     0.53854,     0.53954,     0.54054,     0.54154,     0.54254,     0.54354,     0.54454,     0.54555,     0.54655,     0.54755,     0.54855,     0.54955,     0.55055,     0.55155,\n",
      "           0.55255,     0.55355,     0.55455,     0.55556,     0.55656,     0.55756,     0.55856,     0.55956,     0.56056,     0.56156,     0.56256,     0.56356,     0.56456,     0.56557,     0.56657,     0.56757,     0.56857,     0.56957,     0.57057,     0.57157,     0.57257,     0.57357,     0.57457,     0.57558,\n",
      "           0.57658,     0.57758,     0.57858,     0.57958,     0.58058,     0.58158,     0.58258,     0.58358,     0.58458,     0.58559,     0.58659,     0.58759,     0.58859,     0.58959,     0.59059,     0.59159,     0.59259,     0.59359,     0.59459,      0.5956,      0.5966,      0.5976,      0.5986,      0.5996,\n",
      "            0.6006,      0.6016,      0.6026,      0.6036,      0.6046,     0.60561,     0.60661,     0.60761,     0.60861,     0.60961,     0.61061,     0.61161,     0.61261,     0.61361,     0.61461,     0.61562,     0.61662,     0.61762,     0.61862,     0.61962,     0.62062,     0.62162,     0.62262,     0.62362,\n",
      "           0.62462,     0.62563,     0.62663,     0.62763,     0.62863,     0.62963,     0.63063,     0.63163,     0.63263,     0.63363,     0.63463,     0.63564,     0.63664,     0.63764,     0.63864,     0.63964,     0.64064,     0.64164,     0.64264,     0.64364,     0.64464,     0.64565,     0.64665,     0.64765,\n",
      "           0.64865,     0.64965,     0.65065,     0.65165,     0.65265,     0.65365,     0.65465,     0.65566,     0.65666,     0.65766,     0.65866,     0.65966,     0.66066,     0.66166,     0.66266,     0.66366,     0.66466,     0.66567,     0.66667,     0.66767,     0.66867,     0.66967,     0.67067,     0.67167,\n",
      "           0.67267,     0.67367,     0.67467,     0.67568,     0.67668,     0.67768,     0.67868,     0.67968,     0.68068,     0.68168,     0.68268,     0.68368,     0.68468,     0.68569,     0.68669,     0.68769,     0.68869,     0.68969,     0.69069,     0.69169,     0.69269,     0.69369,     0.69469,      0.6957,\n",
      "            0.6967,      0.6977,      0.6987,      0.6997,      0.7007,      0.7017,      0.7027,      0.7037,      0.7047,     0.70571,     0.70671,     0.70771,     0.70871,     0.70971,     0.71071,     0.71171,     0.71271,     0.71371,     0.71471,     0.71572,     0.71672,     0.71772,     0.71872,     0.71972,\n",
      "           0.72072,     0.72172,     0.72272,     0.72372,     0.72472,     0.72573,     0.72673,     0.72773,     0.72873,     0.72973,     0.73073,     0.73173,     0.73273,     0.73373,     0.73473,     0.73574,     0.73674,     0.73774,     0.73874,     0.73974,     0.74074,     0.74174,     0.74274,     0.74374,\n",
      "           0.74474,     0.74575,     0.74675,     0.74775,     0.74875,     0.74975,     0.75075,     0.75175,     0.75275,     0.75375,     0.75475,     0.75576,     0.75676,     0.75776,     0.75876,     0.75976,     0.76076,     0.76176,     0.76276,     0.76376,     0.76476,     0.76577,     0.76677,     0.76777,\n",
      "           0.76877,     0.76977,     0.77077,     0.77177,     0.77277,     0.77377,     0.77477,     0.77578,     0.77678,     0.77778,     0.77878,     0.77978,     0.78078,     0.78178,     0.78278,     0.78378,     0.78478,     0.78579,     0.78679,     0.78779,     0.78879,     0.78979,     0.79079,     0.79179,\n",
      "           0.79279,     0.79379,     0.79479,      0.7958,      0.7968,      0.7978,      0.7988,      0.7998,      0.8008,      0.8018,      0.8028,      0.8038,      0.8048,     0.80581,     0.80681,     0.80781,     0.80881,     0.80981,     0.81081,     0.81181,     0.81281,     0.81381,     0.81481,     0.81582,\n",
      "           0.81682,     0.81782,     0.81882,     0.81982,     0.82082,     0.82182,     0.82282,     0.82382,     0.82482,     0.82583,     0.82683,     0.82783,     0.82883,     0.82983,     0.83083,     0.83183,     0.83283,     0.83383,     0.83483,     0.83584,     0.83684,     0.83784,     0.83884,     0.83984,\n",
      "           0.84084,     0.84184,     0.84284,     0.84384,     0.84484,     0.84585,     0.84685,     0.84785,     0.84885,     0.84985,     0.85085,     0.85185,     0.85285,     0.85385,     0.85485,     0.85586,     0.85686,     0.85786,     0.85886,     0.85986,     0.86086,     0.86186,     0.86286,     0.86386,\n",
      "           0.86486,     0.86587,     0.86687,     0.86787,     0.86887,     0.86987,     0.87087,     0.87187,     0.87287,     0.87387,     0.87487,     0.87588,     0.87688,     0.87788,     0.87888,     0.87988,     0.88088,     0.88188,     0.88288,     0.88388,     0.88488,     0.88589,     0.88689,     0.88789,\n",
      "           0.88889,     0.88989,     0.89089,     0.89189,     0.89289,     0.89389,     0.89489,      0.8959,      0.8969,      0.8979,      0.8989,      0.8999,      0.9009,      0.9019,      0.9029,      0.9039,      0.9049,     0.90591,     0.90691,     0.90791,     0.90891,     0.90991,     0.91091,     0.91191,\n",
      "           0.91291,     0.91391,     0.91491,     0.91592,     0.91692,     0.91792,     0.91892,     0.91992,     0.92092,     0.92192,     0.92292,     0.92392,     0.92492,     0.92593,     0.92693,     0.92793,     0.92893,     0.92993,     0.93093,     0.93193,     0.93293,     0.93393,     0.93493,     0.93594,\n",
      "           0.93694,     0.93794,     0.93894,     0.93994,     0.94094,     0.94194,     0.94294,     0.94394,     0.94494,     0.94595,     0.94695,     0.94795,     0.94895,     0.94995,     0.95095,     0.95195,     0.95295,     0.95395,     0.95495,     0.95596,     0.95696,     0.95796,     0.95896,     0.95996,\n",
      "           0.96096,     0.96196,     0.96296,     0.96396,     0.96496,     0.96597,     0.96697,     0.96797,     0.96897,     0.96997,     0.97097,     0.97197,     0.97297,     0.97397,     0.97497,     0.97598,     0.97698,     0.97798,     0.97898,     0.97998,     0.98098,     0.98198,     0.98298,     0.98398,\n",
      "           0.98498,     0.98599,     0.98699,     0.98799,     0.98899,     0.98999,     0.99099,     0.99199,     0.99299,     0.99399,     0.99499,       0.996,       0.997,       0.998,       0.999,           1]), array([[    0.77992,     0.77992,     0.76834,     0.74903,     0.73102,     0.71686,     0.70785,     0.69369,     0.68229,     0.67181,     0.66667,     0.65894,     0.65122,      0.6435,     0.63449,     0.62806,      0.6242,     0.62291,     0.61905,     0.61519,     0.61004,     0.60618,     0.59846,\n",
      "            0.58945,      0.5843,     0.58044,     0.57915,     0.57915,       0.574,     0.57143,     0.57014,     0.56757,     0.56242,     0.55341,     0.54955,     0.54826,     0.54698,     0.54311,     0.54183,     0.53797,     0.53797,     0.53668,     0.53539,     0.53411,     0.53153,     0.52638,\n",
      "            0.52252,     0.52124,     0.51866,     0.51737,     0.51737,     0.51351,     0.50826,     0.50579,      0.5045,     0.50064,     0.49807,     0.49421,     0.49292,     0.49091,     0.49035,     0.49035,      0.4896,     0.48777,     0.48649,      0.4852,      0.4852,      0.4852,     0.48263,\n",
      "            0.48263,     0.48263,     0.48263,     0.48263,     0.48263,     0.48263,     0.48005,     0.47876,     0.47748,     0.47362,     0.47233,     0.47104,     0.46976,     0.46976,     0.46976,     0.46976,     0.46762,     0.46203,     0.46203,     0.46107,     0.46075,     0.46075,     0.45946,\n",
      "             0.4556,      0.4556,     0.45431,     0.45337,     0.45174,     0.45174,     0.45045,     0.44916,     0.44659,     0.44278,     0.44144,     0.43944,     0.43841,     0.43629,     0.43629,     0.43501,     0.43501,     0.43501,     0.43309,     0.43243,     0.43243,     0.43243,     0.43115,\n",
      "            0.42986,     0.42857,     0.42857,     0.42664,     0.42471,     0.42471,     0.42342,     0.42342,     0.42214,     0.42085,     0.42061,     0.41828,     0.41576,      0.4157,     0.41441,     0.41441,     0.41441,     0.41441,     0.41313,     0.41244,     0.41184,     0.41088,     0.41001,\n",
      "            0.40927,     0.40927,     0.40927,     0.40865,     0.40798,     0.40798,     0.40669,     0.40669,     0.40669,     0.40541,     0.40412,     0.40283,     0.40154,     0.40026,     0.39862,     0.39765,     0.39511,     0.39392,     0.39382,     0.39382,     0.39382,     0.39382,     0.38996,\n",
      "            0.38739,     0.38739,     0.38618,      0.3861,      0.3861,      0.3861,      0.3861,     0.38481,     0.38481,     0.38376,      0.3831,     0.38256,     0.38224,     0.38095,     0.38095,     0.38095,     0.38095,     0.38027,     0.37945,     0.37838,     0.37685,     0.37452,     0.37441,\n",
      "            0.37323,     0.37323,     0.37194,     0.37066,     0.37066,     0.36959,     0.36422,     0.36315,     0.36202,     0.36036,     0.35992,      0.3556,     0.35357,     0.35264,     0.35264,     0.35264,     0.35264,     0.35264,     0.35033,     0.35006,     0.35006,     0.35006,     0.35006,\n",
      "            0.34706,      0.3462,      0.3462,     0.34447,     0.34234,     0.34234,     0.34234,     0.34106,     0.34106,     0.34083,     0.34038,     0.33993,     0.33848,     0.33614,     0.33462,     0.33462,     0.33462,     0.33333,     0.33333,     0.33333,     0.33333,     0.33333,     0.33333,\n",
      "            0.33333,     0.33333,     0.33333,     0.33205,     0.33205,     0.33205,     0.33076,     0.32947,      0.3287,     0.32745,     0.32561,     0.32561,     0.32561,     0.32561,     0.32421,     0.32304,     0.32004,     0.31894,     0.31837,     0.31789,      0.3166,     0.31532,     0.31518,\n",
      "            0.31449,     0.31356,     0.31274,     0.31274,     0.31274,     0.31274,     0.31242,     0.31145,     0.31145,     0.31145,     0.31145,     0.31145,     0.31145,     0.31145,     0.31145,        0.31,     0.30774,     0.30759,     0.30759,     0.30759,     0.30654,     0.30521,     0.30362,\n",
      "            0.30274,     0.30245,     0.30245,     0.30245,     0.30245,     0.29944,     0.29854,      0.2973,     0.29574,     0.29344,     0.29344,     0.29344,     0.29344,     0.29215,     0.29082,     0.28958,     0.28664,     0.28571,     0.28571,     0.28557,     0.28353,     0.28295,     0.28057,\n",
      "            0.28057,     0.28057,     0.28057,     0.28025,     0.27865,     0.27799,     0.27799,     0.27622,     0.27497,     0.27418,     0.27413,     0.27413,     0.27284,     0.27156,     0.27078,     0.27027,     0.26898,     0.26791,     0.26716,     0.26658,      0.2654,     0.26462,     0.26235,\n",
      "            0.25997,     0.25864,     0.25719,     0.25611,     0.25611,      0.2534,     0.25255,      0.2518,     0.25109,     0.25097,     0.25097,     0.25097,     0.25097,     0.25097,     0.25097,     0.25097,     0.25041,     0.24945,     0.24894,     0.24844,     0.24819,     0.24756,     0.24453,\n",
      "            0.24453,     0.24378,     0.24298,     0.24232,     0.24196,     0.24196,     0.24003,     0.23843,     0.23661,     0.23579,     0.23405,     0.23346,     0.23295,     0.23101,     0.22995,     0.22925,     0.22909,     0.22909,     0.22909,     0.22909,     0.22909,     0.22709,     0.22626,\n",
      "            0.22594,     0.22562,     0.22529,     0.22468,       0.224,     0.22244,     0.22107,     0.22074,     0.22041,     0.22006,     0.21879,     0.21879,     0.21786,      0.2175,      0.2168,     0.21601,     0.21515,     0.21421,     0.21333,     0.21254,     0.21236,     0.21236,     0.21236,\n",
      "            0.21236,     0.21193,     0.21095,     0.21061,     0.21028,     0.20995,     0.20978,     0.20978,     0.20924,     0.20842,     0.20717,     0.20679,     0.20642,     0.20605,     0.20592,     0.20592,     0.20566,     0.20463,     0.20335,     0.20335,     0.20335,     0.20183,     0.20136,\n",
      "            0.20088,     0.19896,     0.19814,     0.19777,      0.1974,     0.19704,     0.19654,     0.19598,     0.19562,     0.19562,     0.19514,     0.19434,     0.19434,     0.19434,     0.19397,     0.19305,     0.19164,     0.19079,     0.18989,     0.18919,     0.18908,     0.18883,     0.18858,\n",
      "            0.18833,     0.18808,     0.18727,     0.18613,     0.18546,     0.18533,     0.18503,     0.18405,     0.18404,     0.18404,     0.18404,     0.18404,     0.18404,     0.18404,     0.18276,     0.18275,     0.18275,     0.18221,     0.18164,     0.18028,     0.17939,     0.17761,     0.17761,\n",
      "            0.17761,     0.17761,     0.17761,     0.17761,     0.17632,     0.17632,     0.17632,     0.17632,     0.17632,     0.17632,     0.17486,     0.17283,     0.17117,     0.17117,     0.17117,     0.17117,     0.17117,     0.17117,     0.17117,     0.16988,     0.16956,     0.16924,     0.16892,\n",
      "            0.16859,     0.16806,     0.16753,     0.16602,     0.16592,     0.16565,     0.16539,     0.16513,     0.16486,     0.16474,      0.1644,     0.16345,     0.16216,     0.16216,     0.16193,     0.16131,     0.16088,     0.16009,     0.15876,      0.1583,      0.1583,      0.1583,      0.1583,\n",
      "            0.15766,     0.15686,     0.15646,     0.15606,     0.15573,     0.15573,     0.15573,     0.15573,     0.15573,     0.15432,     0.15326,     0.15187,     0.15187,     0.15187,     0.15187,     0.15058,     0.15058,     0.15058,     0.14994,     0.14906,     0.14732,     0.14672,     0.14607,\n",
      "            0.14528,     0.14414,     0.14414,     0.14414,     0.14414,     0.14343,     0.14277,     0.14243,     0.14209,     0.14176,     0.14127,     0.14058,     0.13934,       0.139,       0.139,     0.13642,     0.13642,     0.13642,     0.13642,     0.13642,     0.13642,     0.13603,     0.13514,\n",
      "            0.13514,     0.13514,     0.13514,     0.13514,     0.13514,     0.13514,     0.13514,     0.13514,     0.13514,     0.13514,     0.13514,     0.13514,     0.13476,     0.13388,     0.13373,      0.1336,     0.13347,     0.13334,     0.13321,     0.13308,     0.13294,     0.13281,     0.13268,\n",
      "             0.1323,      0.1308,      0.1302,     0.12986,     0.12966,     0.12946,     0.12926,     0.12906,     0.12886,     0.12851,     0.12751,     0.12674,     0.12613,     0.12613,     0.12613,     0.12613,     0.12591,     0.12547,     0.12504,     0.12484,     0.12484,     0.12484,     0.12484,\n",
      "            0.12484,     0.12484,     0.12469,     0.12418,     0.12367,     0.12355,     0.12352,     0.12309,     0.12266,     0.12227,     0.12098,     0.12098,     0.12098,     0.12098,     0.12098,     0.12075,     0.12047,     0.12018,      0.1199,     0.11774,     0.11693,     0.11669,     0.11644,\n",
      "             0.1162,     0.11595,     0.11446,     0.11372,     0.11318,     0.11295,     0.11273,     0.11251,     0.11229,     0.11207,     0.11102,     0.11049,     0.11024,     0.10999,     0.10975,      0.1095,     0.10917,     0.10876,     0.10835,     0.10793,     0.10749,     0.10706,     0.10644,\n",
      "             0.1056,     0.10413,     0.10381,     0.10349,     0.10318,      0.1018,     0.10167,     0.10167,     0.10167,     0.10167,     0.10167,     0.10167,     0.10167,     0.10125,     0.10041,     0.10039,     0.10039,     0.10039,     0.10029,    0.099924,    0.099553,    0.099182,    0.098149,\n",
      "           0.097812,    0.097812,    0.097812,    0.097812,    0.097406,    0.096874,    0.095003,    0.094092,    0.092444,    0.091615,    0.091377,    0.091377,    0.090726,    0.090038,    0.089453,    0.088869,    0.088803,    0.088152,    0.087516,    0.087516,    0.087516,    0.087262,    0.086229,\n",
      "           0.086229,    0.085771,     0.08481,    0.084457,    0.084104,    0.083751,    0.083371,    0.082981,     0.08259,    0.082097,    0.081467,    0.080769,    0.079962,    0.079622,    0.079404,    0.079187,    0.078969,    0.078752,    0.078534,    0.076305,    0.075816,    0.075685,    0.075553,\n",
      "           0.075422,     0.07529,    0.075158,    0.075027,    0.074895,    0.074763,    0.074549,    0.073652,    0.072381,    0.070874,    0.069734,    0.069145,    0.068697,    0.068249,    0.066874,    0.066578,    0.066281,    0.065985,    0.065689,    0.064952,     0.06435,     0.06435,     0.06435,\n",
      "            0.06435,    0.064156,    0.063961,    0.063766,    0.063571,    0.063376,    0.063181,    0.062979,    0.062767,    0.062555,    0.062343,    0.062131,    0.061918,    0.061714,    0.060987,     0.06039,    0.060075,     0.05976,    0.059445,    0.059182,    0.059094,    0.059006,    0.058919,\n",
      "           0.058831,    0.058743,    0.058655,    0.058567,     0.05848,    0.058392,    0.058304,    0.058216,    0.058128,    0.058041,    0.057953,    0.057669,    0.057236,    0.056803,    0.055339,    0.055106,    0.054873,    0.054639,    0.054406,    0.054173,    0.053777,    0.053212,    0.051829,\n",
      "           0.051337,    0.051182,    0.051027,    0.050872,    0.050717,    0.050562,    0.050406,    0.050251,    0.050079,    0.049896,    0.049713,     0.04953,    0.049348,    0.049165,    0.048982,     0.04867,    0.048267,    0.047864,    0.047359,    0.046697,    0.046332,    0.046332,    0.046332,\n",
      "           0.046332,     0.04609,    0.045666,    0.045241,    0.044933,    0.044726,    0.044519,    0.044311,    0.044104,    0.043896,    0.043284,    0.042186,    0.041522,     0.04109,    0.040899,    0.040707,    0.040516,    0.040325,    0.040133,    0.039942,    0.039417,     0.03879,    0.037243,\n",
      "           0.037034,    0.036826,    0.036617,    0.036409,      0.0362,    0.036009,    0.035884,     0.03576,    0.035635,     0.03551,    0.035385,     0.03526,    0.035135,     0.03501,    0.034885,     0.03476,    0.034185,    0.033566,    0.032414,    0.030779,    0.030137,     0.02951,    0.028963,\n",
      "           0.028416,    0.027478,     0.02551,    0.025093,    0.024676,    0.024271,     0.02388,    0.023489,    0.023065,    0.022485,    0.021906,    0.021067,     0.02033,    0.019736,    0.019208,    0.018854,    0.018501,    0.018147,    0.016879,     0.01579,    0.014729,    0.014054,    0.013835,\n",
      "           0.013615,    0.013396,    0.013176,    0.012957,    0.012285,    0.011384,    0.010661,    0.010154,   0.0098678,   0.0095813,   0.0092949,   0.0090087,   0.0088716,   0.0087345,   0.0085974,   0.0084603,   0.0083232,   0.0081861,    0.008049,   0.0079119,   0.0077748,   0.0074812,   0.0070895,\n",
      "          0.0066977,   0.0063455,   0.0060736,   0.0058017,   0.0055299,    0.005258,   0.0051115,   0.0050502,   0.0049889,   0.0049276,   0.0048663,    0.004805,   0.0047437,   0.0046824,   0.0046211,   0.0045598,   0.0044985,   0.0044372,   0.0043759,   0.0043146,   0.0042533,    0.004192,   0.0041307,\n",
      "          0.0040694,   0.0040081,   0.0039468,   0.0038855,   0.0036885,   0.0034014,   0.0031144,   0.0028273,   0.0025507,   0.0023524,   0.0021541,   0.0019558,   0.0017575,   0.0015593,    0.001361,           0,           0,           0,           0,           0,           0,           0,           0,\n",
      "                  0,           0,           0,           0,           0,           0,           0,           0,           0,           0,           0,           0,           0,           0,           0,           0,           0,           0,           0,           0,           0,           0,           0,\n",
      "                  0,           0,           0,           0,           0,           0,           0,           0,           0,           0,           0,           0,           0,           0,           0,           0,           0,           0,           0,           0,           0,           0,           0,\n",
      "                  0,           0,           0,           0,           0,           0,           0,           0,           0,           0,           0]]), 'Confidence', 'Recall']]\n",
      "fitness: 0.19985025164787557\n",
      "keys: ['metrics/precision(B)', 'metrics/recall(B)', 'metrics/mAP50(B)', 'metrics/mAP50-95(B)']\n",
      "maps: array([    0.17789])\n",
      "names: {0: 'Pothole'}\n",
      "plot: True\n",
      "results_dict: {'metrics/precision(B)': 0.5129902904775028, 'metrics/recall(B)': 0.4066924066924067, 'metrics/mAP50(B)': 0.3974949566502799, 'metrics/mAP50-95(B)': 0.17788972886983062, 'fitness': 0.19985025164787557}\n",
      "save_dir: PosixPath('runs/detect/train3')\n",
      "speed: {'preprocess': 1.1117517948150635, 'inference': 6.754928827285767, 'loss': 0.0018268823623657227, 'postprocess': 6.936579942703247}\n",
      "task: 'detect'\n"
     ]
    }
   ],
   "source": [
    "metrics = model.val()\n",
    "print(metrics)"
   ]
  },
  {
   "cell_type": "markdown",
   "metadata": {
    "id": "lnzmCbEsm76m"
   },
   "source": [
    "## Fine-Tune the Model"
   ]
  },
  {
   "cell_type": "code",
   "execution_count": null,
   "metadata": {
    "colab": {
     "base_uri": "https://localhost:8080/"
    },
    "executionInfo": {
     "elapsed": 320659,
     "status": "ok",
     "timestamp": 1736107289384,
     "user": {
      "displayName": "Tharushi Liyana Arachchi",
      "userId": "18072524777631496934"
     },
     "user_tz": -330
    },
    "id": "PS0eTlz4tpZR",
    "outputId": "a2e8e3b3-4e47-46b5-825d-24686144353f"
   },
   "outputs": [
    {
     "name": "stdout",
     "output_type": "stream",
     "text": [
      "Ultralytics 8.3.58 🚀 Python-3.10.12 torch-2.5.1+cu121 CUDA:0 (Tesla T4, 15102MiB)\n",
      "\u001b[34m\u001b[1mengine/trainer: \u001b[0mtask=detect, mode=train, model=yolov8n.pt, data=/content/drive/MyDrive/Colab Notebooks/ComputerVisionProject/Pothole_Dataset/data.yaml, epochs=25, time=None, patience=100, batch=16, imgsz=640, save=True, save_period=-1, cache=False, device=None, workers=2, project=None, name=train4, exist_ok=False, pretrained=True, optimizer=auto, verbose=True, seed=0, deterministic=True, single_cls=False, rect=False, cos_lr=False, close_mosaic=10, resume=False, amp=True, fraction=1.0, profile=False, freeze=None, multi_scale=False, overlap_mask=True, mask_ratio=4, dropout=0.0, val=True, split=val, save_json=False, save_hybrid=False, conf=None, iou=0.7, max_det=300, half=False, dnn=False, plots=True, source=None, vid_stride=1, stream_buffer=False, visualize=False, augment=False, agnostic_nms=False, classes=None, retina_masks=False, embed=None, show=False, save_frames=False, save_txt=False, save_conf=False, save_crop=False, show_labels=True, show_conf=True, show_boxes=True, line_width=None, format=torchscript, keras=False, optimize=False, int8=False, dynamic=False, simplify=True, opset=None, workspace=None, nms=False, lr0=0.01, lrf=0.01, momentum=0.937, weight_decay=0.0005, warmup_epochs=3.0, warmup_momentum=0.8, warmup_bias_lr=0.0, box=7.5, cls=0.5, dfl=1.5, pose=12.0, kobj=1.0, nbs=64, hsv_h=0.015, hsv_s=0.7, hsv_v=0.4, degrees=0.0, translate=0.1, scale=0.5, shear=0.0, perspective=0.0, flipud=0.0, fliplr=0.5, bgr=0.0, mosaic=1.0, mixup=0.0, copy_paste=0.0, copy_paste_mode=flip, auto_augment=randaugment, erasing=0.4, crop_fraction=1.0, cfg=None, tracker=botsort.yaml, save_dir=runs/detect/train4\n",
      "\n",
      "                   from  n    params  module                                       arguments                     \n",
      "  0                  -1  1       464  ultralytics.nn.modules.conv.Conv             [3, 16, 3, 2]                 \n",
      "  1                  -1  1      4672  ultralytics.nn.modules.conv.Conv             [16, 32, 3, 2]                \n",
      "  2                  -1  1      7360  ultralytics.nn.modules.block.C2f             [32, 32, 1, True]             \n",
      "  3                  -1  1     18560  ultralytics.nn.modules.conv.Conv             [32, 64, 3, 2]                \n",
      "  4                  -1  2     49664  ultralytics.nn.modules.block.C2f             [64, 64, 2, True]             \n",
      "  5                  -1  1     73984  ultralytics.nn.modules.conv.Conv             [64, 128, 3, 2]               \n",
      "  6                  -1  2    197632  ultralytics.nn.modules.block.C2f             [128, 128, 2, True]           \n",
      "  7                  -1  1    295424  ultralytics.nn.modules.conv.Conv             [128, 256, 3, 2]              \n",
      "  8                  -1  1    460288  ultralytics.nn.modules.block.C2f             [256, 256, 1, True]           \n",
      "  9                  -1  1    164608  ultralytics.nn.modules.block.SPPF            [256, 256, 5]                 \n",
      " 10                  -1  1         0  torch.nn.modules.upsampling.Upsample         [None, 2, 'nearest']          \n",
      " 11             [-1, 6]  1         0  ultralytics.nn.modules.conv.Concat           [1]                           \n",
      " 12                  -1  1    148224  ultralytics.nn.modules.block.C2f             [384, 128, 1]                 \n",
      " 13                  -1  1         0  torch.nn.modules.upsampling.Upsample         [None, 2, 'nearest']          \n",
      " 14             [-1, 4]  1         0  ultralytics.nn.modules.conv.Concat           [1]                           \n",
      " 15                  -1  1     37248  ultralytics.nn.modules.block.C2f             [192, 64, 1]                  \n",
      " 16                  -1  1     36992  ultralytics.nn.modules.conv.Conv             [64, 64, 3, 2]                \n",
      " 17            [-1, 12]  1         0  ultralytics.nn.modules.conv.Concat           [1]                           \n",
      " 18                  -1  1    123648  ultralytics.nn.modules.block.C2f             [192, 128, 1]                 \n",
      " 19                  -1  1    147712  ultralytics.nn.modules.conv.Conv             [128, 128, 3, 2]              \n",
      " 20             [-1, 9]  1         0  ultralytics.nn.modules.conv.Concat           [1]                           \n",
      " 21                  -1  1    493056  ultralytics.nn.modules.block.C2f             [384, 256, 1]                 \n",
      " 22        [15, 18, 21]  1    751507  ultralytics.nn.modules.head.Detect           [1, [64, 128, 256]]           \n",
      "Model summary: 225 layers, 3,011,043 parameters, 3,011,027 gradients, 8.2 GFLOPs\n",
      "\n",
      "Transferred 70/355 items from pretrained weights\n",
      "\u001b[34m\u001b[1mTensorBoard: \u001b[0mStart with 'tensorboard --logdir runs/detect/train4', view at http://localhost:6006/\n",
      "Freezing layer 'model.22.dfl.conv.weight'\n",
      "\u001b[34m\u001b[1mAMP: \u001b[0mrunning Automatic Mixed Precision (AMP) checks...\n",
      "\u001b[34m\u001b[1mAMP: \u001b[0mchecks passed ✅\n"
     ]
    },
    {
     "name": "stderr",
     "output_type": "stream",
     "text": [
      "\u001b[34m\u001b[1mtrain: \u001b[0mScanning /content/drive/MyDrive/Colab Notebooks/ComputerVisionProject/Pothole_Dataset/train/labels.cache... 347 images, 0 backgrounds, 0 corrupt: 100%|██████████| 347/347 [00:00<?, ?it/s]"
     ]
    },
    {
     "name": "stdout",
     "output_type": "stream",
     "text": [
      "WARNING ⚠️ Box and segment counts should be equal, but got len(segments) = 1878, len(boxes) = 2177. To resolve this only boxes will be used and all segments will be removed. To avoid this please supply either a detect or segment dataset, not a detect-segment mixed dataset.\n",
      "\u001b[34m\u001b[1malbumentations: \u001b[0mBlur(p=0.01, blur_limit=(3, 7)), MedianBlur(p=0.01, blur_limit=(3, 7)), ToGray(p=0.01, num_output_channels=3, method='weighted_average'), CLAHE(p=0.01, clip_limit=(1.0, 4.0), tile_grid_size=(8, 8))\n"
     ]
    },
    {
     "name": "stderr",
     "output_type": "stream",
     "text": [
      "\n",
      "\u001b[34m\u001b[1mval: \u001b[0mScanning /content/drive/MyDrive/Colab Notebooks/ComputerVisionProject/Pothole_Dataset/valid/labels.cache... 80 images, 0 backgrounds, 0 corrupt: 100%|██████████| 80/80 [00:00<?, ?it/s]"
     ]
    },
    {
     "name": "stdout",
     "output_type": "stream",
     "text": [
      "WARNING ⚠️ Box and segment counts should be equal, but got len(segments) = 673, len(boxes) = 777. To resolve this only boxes will be used and all segments will be removed. To avoid this please supply either a detect or segment dataset, not a detect-segment mixed dataset.\n"
     ]
    },
    {
     "name": "stderr",
     "output_type": "stream",
     "text": [
      "\n"
     ]
    },
    {
     "name": "stdout",
     "output_type": "stream",
     "text": [
      "Plotting labels to runs/detect/train4/labels.jpg... \n",
      "\u001b[34m\u001b[1moptimizer:\u001b[0m 'optimizer=auto' found, ignoring 'lr0=0.01' and 'momentum=0.937' and determining best 'optimizer', 'lr0' and 'momentum' automatically... \n",
      "\u001b[34m\u001b[1moptimizer:\u001b[0m AdamW(lr=0.002, momentum=0.9) with parameter groups 57 weight(decay=0.0), 64 weight(decay=0.0005), 63 bias(decay=0.0)\n",
      "\u001b[34m\u001b[1mTensorBoard: \u001b[0mmodel graph visualization added ✅\n",
      "Image sizes 640 train, 640 val\n",
      "Using 2 dataloader workers\n",
      "Logging results to \u001b[1mruns/detect/train4\u001b[0m\n",
      "Starting training for 25 epochs...\n",
      "\n",
      "      Epoch    GPU_mem   box_loss   cls_loss   dfl_loss  Instances       Size\n"
     ]
    },
    {
     "name": "stderr",
     "output_type": "stream",
     "text": [
      "       1/25      2.45G      2.701      2.459      2.453        114        640: 100%|██████████| 22/22 [00:10<00:00,  2.07it/s]\n",
      "                 Class     Images  Instances      Box(P          R      mAP50  mAP50-95): 100%|██████████| 3/3 [00:02<00:00,  1.33it/s]"
     ]
    },
    {
     "name": "stdout",
     "output_type": "stream",
     "text": [
      "                   all         80        777      0.354     0.0232     0.0327     0.0126\n"
     ]
    },
    {
     "name": "stderr",
     "output_type": "stream",
     "text": [
      "\n"
     ]
    },
    {
     "name": "stdout",
     "output_type": "stream",
     "text": [
      "\n",
      "      Epoch    GPU_mem   box_loss   cls_loss   dfl_loss  Instances       Size\n"
     ]
    },
    {
     "name": "stderr",
     "output_type": "stream",
     "text": [
      "       2/25      2.84G      2.228      2.001       2.08        103        640: 100%|██████████| 22/22 [00:09<00:00,  2.26it/s]\n",
      "                 Class     Images  Instances      Box(P          R      mAP50  mAP50-95): 100%|██████████| 3/3 [00:01<00:00,  1.50it/s]"
     ]
    },
    {
     "name": "stdout",
     "output_type": "stream",
     "text": [
      "                   all         80        777      0.398      0.108      0.111     0.0438\n"
     ]
    },
    {
     "name": "stderr",
     "output_type": "stream",
     "text": [
      "\n"
     ]
    },
    {
     "name": "stdout",
     "output_type": "stream",
     "text": [
      "\n",
      "      Epoch    GPU_mem   box_loss   cls_loss   dfl_loss  Instances       Size\n"
     ]
    },
    {
     "name": "stderr",
     "output_type": "stream",
     "text": [
      "       3/25      2.48G      1.978      1.827      1.883        126        640: 100%|██████████| 22/22 [00:06<00:00,  3.40it/s]\n",
      "                 Class     Images  Instances      Box(P          R      mAP50  mAP50-95): 100%|██████████| 3/3 [00:01<00:00,  2.21it/s]"
     ]
    },
    {
     "name": "stdout",
     "output_type": "stream",
     "text": [
      "                   all         80        777      0.404      0.208      0.194     0.0784\n"
     ]
    },
    {
     "name": "stderr",
     "output_type": "stream",
     "text": [
      "\n"
     ]
    },
    {
     "name": "stdout",
     "output_type": "stream",
     "text": [
      "\n",
      "      Epoch    GPU_mem   box_loss   cls_loss   dfl_loss  Instances       Size\n"
     ]
    },
    {
     "name": "stderr",
     "output_type": "stream",
     "text": [
      "       4/25       2.5G      1.907      1.788      1.843        114        640: 100%|██████████| 22/22 [00:11<00:00,  1.95it/s]\n",
      "                 Class     Images  Instances      Box(P          R      mAP50  mAP50-95): 100%|██████████| 3/3 [00:02<00:00,  1.41it/s]"
     ]
    },
    {
     "name": "stdout",
     "output_type": "stream",
     "text": [
      "                   all         80        777      0.392      0.277      0.236     0.0965\n"
     ]
    },
    {
     "name": "stderr",
     "output_type": "stream",
     "text": [
      "\n"
     ]
    },
    {
     "name": "stdout",
     "output_type": "stream",
     "text": [
      "\n",
      "      Epoch    GPU_mem   box_loss   cls_loss   dfl_loss  Instances       Size\n"
     ]
    },
    {
     "name": "stderr",
     "output_type": "stream",
     "text": [
      "       5/25      2.39G      1.845      1.759      1.823        106        640: 100%|██████████| 22/22 [00:06<00:00,  3.28it/s]\n",
      "                 Class     Images  Instances      Box(P          R      mAP50  mAP50-95): 100%|██████████| 3/3 [00:00<00:00,  3.04it/s]\n"
     ]
    },
    {
     "name": "stdout",
     "output_type": "stream",
     "text": [
      "                   all         80        777      0.398      0.369      0.305      0.126\n",
      "\n",
      "      Epoch    GPU_mem   box_loss   cls_loss   dfl_loss  Instances       Size\n"
     ]
    },
    {
     "name": "stderr",
     "output_type": "stream",
     "text": [
      "       6/25      2.53G      1.867      1.745        1.8         90        640: 100%|██████████| 22/22 [00:10<00:00,  2.03it/s]\n",
      "                 Class     Images  Instances      Box(P          R      mAP50  mAP50-95): 100%|██████████| 3/3 [00:02<00:00,  1.21it/s]"
     ]
    },
    {
     "name": "stdout",
     "output_type": "stream",
     "text": [
      "                   all         80        777      0.426      0.331      0.302      0.118\n"
     ]
    },
    {
     "name": "stderr",
     "output_type": "stream",
     "text": [
      "\n"
     ]
    },
    {
     "name": "stdout",
     "output_type": "stream",
     "text": [
      "\n",
      "      Epoch    GPU_mem   box_loss   cls_loss   dfl_loss  Instances       Size\n"
     ]
    },
    {
     "name": "stderr",
     "output_type": "stream",
     "text": [
      "       7/25      2.69G      1.794      1.691      1.754        106        640: 100%|██████████| 22/22 [00:06<00:00,  3.43it/s]\n",
      "                 Class     Images  Instances      Box(P          R      mAP50  mAP50-95): 100%|██████████| 3/3 [00:01<00:00,  2.38it/s]"
     ]
    },
    {
     "name": "stdout",
     "output_type": "stream",
     "text": [
      "                   all         80        777      0.439      0.342       0.33      0.138\n"
     ]
    },
    {
     "name": "stderr",
     "output_type": "stream",
     "text": [
      "\n"
     ]
    },
    {
     "name": "stdout",
     "output_type": "stream",
     "text": [
      "\n",
      "      Epoch    GPU_mem   box_loss   cls_loss   dfl_loss  Instances       Size\n"
     ]
    },
    {
     "name": "stderr",
     "output_type": "stream",
     "text": [
      "       8/25      2.85G      1.761      1.673      1.713        174        640: 100%|██████████| 22/22 [00:10<00:00,  2.06it/s]\n",
      "                 Class     Images  Instances      Box(P          R      mAP50  mAP50-95): 100%|██████████| 3/3 [00:01<00:00,  1.83it/s]"
     ]
    },
    {
     "name": "stdout",
     "output_type": "stream",
     "text": [
      "                   all         80        777      0.491      0.404      0.371      0.153\n"
     ]
    },
    {
     "name": "stderr",
     "output_type": "stream",
     "text": [
      "\n"
     ]
    },
    {
     "name": "stdout",
     "output_type": "stream",
     "text": [
      "\n",
      "      Epoch    GPU_mem   box_loss   cls_loss   dfl_loss  Instances       Size\n"
     ]
    },
    {
     "name": "stderr",
     "output_type": "stream",
     "text": [
      "       9/25      2.65G      1.749      1.663      1.723        109        640: 100%|██████████| 22/22 [00:06<00:00,  3.19it/s]\n",
      "                 Class     Images  Instances      Box(P          R      mAP50  mAP50-95): 100%|██████████| 3/3 [00:01<00:00,  2.13it/s]"
     ]
    },
    {
     "name": "stdout",
     "output_type": "stream",
     "text": [
      "                   all         80        777      0.407      0.385      0.336      0.143\n"
     ]
    },
    {
     "name": "stderr",
     "output_type": "stream",
     "text": [
      "\n"
     ]
    },
    {
     "name": "stdout",
     "output_type": "stream",
     "text": [
      "\n",
      "      Epoch    GPU_mem   box_loss   cls_loss   dfl_loss  Instances       Size\n"
     ]
    },
    {
     "name": "stderr",
     "output_type": "stream",
     "text": [
      "      10/25      2.34G      1.754      1.644      1.713         92        640: 100%|██████████| 22/22 [00:10<00:00,  2.07it/s]\n",
      "                 Class     Images  Instances      Box(P          R      mAP50  mAP50-95): 100%|██████████| 3/3 [00:01<00:00,  2.44it/s]"
     ]
    },
    {
     "name": "stdout",
     "output_type": "stream",
     "text": [
      "                   all         80        777      0.404      0.371      0.337      0.142\n"
     ]
    },
    {
     "name": "stderr",
     "output_type": "stream",
     "text": [
      "\n"
     ]
    },
    {
     "name": "stdout",
     "output_type": "stream",
     "text": [
      "\n",
      "      Epoch    GPU_mem   box_loss   cls_loss   dfl_loss  Instances       Size\n"
     ]
    },
    {
     "name": "stderr",
     "output_type": "stream",
     "text": [
      "      11/25      2.34G      1.632      1.589       1.66        106        640: 100%|██████████| 22/22 [00:06<00:00,  3.42it/s]\n",
      "                 Class     Images  Instances      Box(P          R      mAP50  mAP50-95): 100%|██████████| 3/3 [00:01<00:00,  1.85it/s]"
     ]
    },
    {
     "name": "stdout",
     "output_type": "stream",
     "text": [
      "                   all         80        777      0.416       0.36      0.332      0.143\n"
     ]
    },
    {
     "name": "stderr",
     "output_type": "stream",
     "text": [
      "\n"
     ]
    },
    {
     "name": "stdout",
     "output_type": "stream",
     "text": [
      "\n",
      "      Epoch    GPU_mem   box_loss   cls_loss   dfl_loss  Instances       Size\n"
     ]
    },
    {
     "name": "stderr",
     "output_type": "stream",
     "text": [
      "      12/25      2.54G       1.65      1.582      1.641        100        640: 100%|██████████| 22/22 [00:10<00:00,  2.14it/s]\n",
      "                 Class     Images  Instances      Box(P          R      mAP50  mAP50-95): 100%|██████████| 3/3 [00:01<00:00,  2.20it/s]"
     ]
    },
    {
     "name": "stdout",
     "output_type": "stream",
     "text": [
      "                   all         80        777       0.48      0.368      0.363      0.151\n"
     ]
    },
    {
     "name": "stderr",
     "output_type": "stream",
     "text": [
      "\n"
     ]
    },
    {
     "name": "stdout",
     "output_type": "stream",
     "text": [
      "\n",
      "      Epoch    GPU_mem   box_loss   cls_loss   dfl_loss  Instances       Size\n"
     ]
    },
    {
     "name": "stderr",
     "output_type": "stream",
     "text": [
      "      13/25      2.73G      1.627      1.524      1.637        113        640: 100%|██████████| 22/22 [00:06<00:00,  3.38it/s]\n",
      "                 Class     Images  Instances      Box(P          R      mAP50  mAP50-95): 100%|██████████| 3/3 [00:01<00:00,  1.84it/s]"
     ]
    },
    {
     "name": "stdout",
     "output_type": "stream",
     "text": [
      "                   all         80        777      0.487      0.407      0.397       0.17\n"
     ]
    },
    {
     "name": "stderr",
     "output_type": "stream",
     "text": [
      "\n"
     ]
    },
    {
     "name": "stdout",
     "output_type": "stream",
     "text": [
      "\n",
      "      Epoch    GPU_mem   box_loss   cls_loss   dfl_loss  Instances       Size\n"
     ]
    },
    {
     "name": "stderr",
     "output_type": "stream",
     "text": [
      "      14/25      2.55G      1.603      1.526      1.637         60        640: 100%|██████████| 22/22 [00:10<00:00,  2.07it/s]\n",
      "                 Class     Images  Instances      Box(P          R      mAP50  mAP50-95): 100%|██████████| 3/3 [00:01<00:00,  2.33it/s]"
     ]
    },
    {
     "name": "stdout",
     "output_type": "stream",
     "text": [
      "                   all         80        777      0.501      0.362      0.363      0.163\n"
     ]
    },
    {
     "name": "stderr",
     "output_type": "stream",
     "text": [
      "\n"
     ]
    },
    {
     "name": "stdout",
     "output_type": "stream",
     "text": [
      "\n",
      "      Epoch    GPU_mem   box_loss   cls_loss   dfl_loss  Instances       Size\n"
     ]
    },
    {
     "name": "stderr",
     "output_type": "stream",
     "text": [
      "      15/25      2.67G      1.646      1.528      1.647        112        640: 100%|██████████| 22/22 [00:06<00:00,  3.30it/s]\n",
      "                 Class     Images  Instances      Box(P          R      mAP50  mAP50-95): 100%|██████████| 3/3 [00:02<00:00,  1.38it/s]"
     ]
    },
    {
     "name": "stdout",
     "output_type": "stream",
     "text": [
      "                   all         80        777      0.512      0.376      0.386       0.17\n"
     ]
    },
    {
     "name": "stderr",
     "output_type": "stream",
     "text": [
      "\n"
     ]
    },
    {
     "name": "stdout",
     "output_type": "stream",
     "text": [
      "Closing dataloader mosaic\n",
      "\u001b[34m\u001b[1malbumentations: \u001b[0mBlur(p=0.01, blur_limit=(3, 7)), MedianBlur(p=0.01, blur_limit=(3, 7)), ToGray(p=0.01, num_output_channels=3, method='weighted_average'), CLAHE(p=0.01, clip_limit=(1.0, 4.0), tile_grid_size=(8, 8))\n",
      "\n",
      "      Epoch    GPU_mem   box_loss   cls_loss   dfl_loss  Instances       Size\n"
     ]
    },
    {
     "name": "stderr",
     "output_type": "stream",
     "text": [
      "      16/25      2.51G      1.657      1.554      1.652         56        640: 100%|██████████| 22/22 [00:11<00:00,  1.96it/s]\n",
      "                 Class     Images  Instances      Box(P          R      mAP50  mAP50-95): 100%|██████████| 3/3 [00:01<00:00,  2.92it/s]"
     ]
    },
    {
     "name": "stdout",
     "output_type": "stream",
     "text": [
      "                   all         80        777       0.38       0.32        0.3      0.131\n"
     ]
    },
    {
     "name": "stderr",
     "output_type": "stream",
     "text": [
      "\n"
     ]
    },
    {
     "name": "stdout",
     "output_type": "stream",
     "text": [
      "\n",
      "      Epoch    GPU_mem   box_loss   cls_loss   dfl_loss  Instances       Size\n"
     ]
    },
    {
     "name": "stderr",
     "output_type": "stream",
     "text": [
      "      17/25       2.5G      1.624      1.473      1.651         54        640: 100%|██████████| 22/22 [00:08<00:00,  2.50it/s]\n",
      "                 Class     Images  Instances      Box(P          R      mAP50  mAP50-95): 100%|██████████| 3/3 [00:02<00:00,  1.21it/s]"
     ]
    },
    {
     "name": "stdout",
     "output_type": "stream",
     "text": [
      "                   all         80        777      0.471      0.376      0.375      0.164\n"
     ]
    },
    {
     "name": "stderr",
     "output_type": "stream",
     "text": [
      "\n"
     ]
    },
    {
     "name": "stdout",
     "output_type": "stream",
     "text": [
      "\n",
      "      Epoch    GPU_mem   box_loss   cls_loss   dfl_loss  Instances       Size\n"
     ]
    },
    {
     "name": "stderr",
     "output_type": "stream",
     "text": [
      "      18/25      2.38G       1.58      1.417      1.639         78        640: 100%|██████████| 22/22 [00:07<00:00,  2.97it/s]\n",
      "                 Class     Images  Instances      Box(P          R      mAP50  mAP50-95): 100%|██████████| 3/3 [00:01<00:00,  2.19it/s]"
     ]
    },
    {
     "name": "stdout",
     "output_type": "stream",
     "text": [
      "                   all         80        777      0.468      0.386      0.368      0.162\n"
     ]
    },
    {
     "name": "stderr",
     "output_type": "stream",
     "text": [
      "\n"
     ]
    },
    {
     "name": "stdout",
     "output_type": "stream",
     "text": [
      "\n",
      "      Epoch    GPU_mem   box_loss   cls_loss   dfl_loss  Instances       Size\n"
     ]
    },
    {
     "name": "stderr",
     "output_type": "stream",
     "text": [
      "      19/25      2.39G      1.564      1.404      1.607         48        640: 100%|██████████| 22/22 [00:07<00:00,  2.78it/s]\n",
      "                 Class     Images  Instances      Box(P          R      mAP50  mAP50-95): 100%|██████████| 3/3 [00:02<00:00,  1.22it/s]"
     ]
    },
    {
     "name": "stdout",
     "output_type": "stream",
     "text": [
      "                   all         80        777      0.447      0.367      0.358      0.156\n"
     ]
    },
    {
     "name": "stderr",
     "output_type": "stream",
     "text": [
      "\n"
     ]
    },
    {
     "name": "stdout",
     "output_type": "stream",
     "text": [
      "\n",
      "      Epoch    GPU_mem   box_loss   cls_loss   dfl_loss  Instances       Size\n"
     ]
    },
    {
     "name": "stderr",
     "output_type": "stream",
     "text": [
      "      20/25      2.37G      1.557        1.4      1.599         91        640: 100%|██████████| 22/22 [00:08<00:00,  2.56it/s]\n",
      "                 Class     Images  Instances      Box(P          R      mAP50  mAP50-95): 100%|██████████| 3/3 [00:01<00:00,  2.45it/s]\n"
     ]
    },
    {
     "name": "stdout",
     "output_type": "stream",
     "text": [
      "                   all         80        777      0.539      0.387      0.394      0.169\n",
      "\n",
      "      Epoch    GPU_mem   box_loss   cls_loss   dfl_loss  Instances       Size\n"
     ]
    },
    {
     "name": "stderr",
     "output_type": "stream",
     "text": [
      "      21/25       2.5G       1.56      1.375      1.609         55        640: 100%|██████████| 22/22 [00:07<00:00,  2.89it/s]\n",
      "                 Class     Images  Instances      Box(P          R      mAP50  mAP50-95): 100%|██████████| 3/3 [00:02<00:00,  1.45it/s]"
     ]
    },
    {
     "name": "stdout",
     "output_type": "stream",
     "text": [
      "                   all         80        777      0.509      0.403      0.401      0.173\n"
     ]
    },
    {
     "name": "stderr",
     "output_type": "stream",
     "text": [
      "\n"
     ]
    },
    {
     "name": "stdout",
     "output_type": "stream",
     "text": [
      "\n",
      "      Epoch    GPU_mem   box_loss   cls_loss   dfl_loss  Instances       Size\n"
     ]
    },
    {
     "name": "stderr",
     "output_type": "stream",
     "text": [
      "      22/25      2.45G      1.552      1.393      1.626         39        640: 100%|██████████| 22/22 [00:08<00:00,  2.61it/s]\n",
      "                 Class     Images  Instances      Box(P          R      mAP50  mAP50-95): 100%|██████████| 3/3 [00:01<00:00,  2.58it/s]\n"
     ]
    },
    {
     "name": "stdout",
     "output_type": "stream",
     "text": [
      "                   all         80        777      0.468       0.38      0.366      0.161\n",
      "\n",
      "      Epoch    GPU_mem   box_loss   cls_loss   dfl_loss  Instances       Size\n"
     ]
    },
    {
     "name": "stderr",
     "output_type": "stream",
     "text": [
      "      23/25      2.48G      1.544       1.34      1.579         49        640: 100%|██████████| 22/22 [00:07<00:00,  2.90it/s]\n",
      "                 Class     Images  Instances      Box(P          R      mAP50  mAP50-95): 100%|██████████| 3/3 [00:02<00:00,  1.26it/s]"
     ]
    },
    {
     "name": "stdout",
     "output_type": "stream",
     "text": [
      "                   all         80        777      0.492      0.391      0.384      0.167\n"
     ]
    },
    {
     "name": "stderr",
     "output_type": "stream",
     "text": [
      "\n"
     ]
    },
    {
     "name": "stdout",
     "output_type": "stream",
     "text": [
      "\n",
      "      Epoch    GPU_mem   box_loss   cls_loss   dfl_loss  Instances       Size\n"
     ]
    },
    {
     "name": "stderr",
     "output_type": "stream",
     "text": [
      "      24/25      2.54G      1.521      1.318      1.573         33        640: 100%|██████████| 22/22 [00:07<00:00,  2.77it/s]\n",
      "                 Class     Images  Instances      Box(P          R      mAP50  mAP50-95): 100%|██████████| 3/3 [00:01<00:00,  2.31it/s]\n"
     ]
    },
    {
     "name": "stdout",
     "output_type": "stream",
     "text": [
      "                   all         80        777      0.506      0.426      0.406      0.176\n",
      "\n",
      "      Epoch    GPU_mem   box_loss   cls_loss   dfl_loss  Instances       Size\n"
     ]
    },
    {
     "name": "stderr",
     "output_type": "stream",
     "text": [
      "      25/25      2.51G      1.507        1.3      1.543         61        640: 100%|██████████| 22/22 [00:07<00:00,  2.79it/s]\n",
      "                 Class     Images  Instances      Box(P          R      mAP50  mAP50-95): 100%|██████████| 3/3 [00:02<00:00,  1.22it/s]"
     ]
    },
    {
     "name": "stdout",
     "output_type": "stream",
     "text": [
      "                   all         80        777      0.499      0.416      0.401      0.176\n"
     ]
    },
    {
     "name": "stderr",
     "output_type": "stream",
     "text": [
      "\n"
     ]
    },
    {
     "name": "stdout",
     "output_type": "stream",
     "text": [
      "\n",
      "25 epochs completed in 0.083 hours.\n",
      "Optimizer stripped from runs/detect/train4/weights/last.pt, 6.2MB\n",
      "Optimizer stripped from runs/detect/train4/weights/best.pt, 6.2MB\n",
      "\n",
      "Validating runs/detect/train4/weights/best.pt...\n",
      "Ultralytics 8.3.58 🚀 Python-3.10.12 torch-2.5.1+cu121 CUDA:0 (Tesla T4, 15102MiB)\n",
      "Model summary (fused): 168 layers, 3,005,843 parameters, 0 gradients, 8.1 GFLOPs\n"
     ]
    },
    {
     "name": "stderr",
     "output_type": "stream",
     "text": [
      "                 Class     Images  Instances      Box(P          R      mAP50  mAP50-95): 100%|██████████| 3/3 [00:02<00:00,  1.07it/s]\n"
     ]
    },
    {
     "name": "stdout",
     "output_type": "stream",
     "text": [
      "                   all         80        777      0.504      0.426      0.406      0.176\n",
      "Speed: 0.3ms preprocess, 3.5ms inference, 0.0ms loss, 4.2ms postprocess per image\n",
      "Results saved to \u001b[1mruns/detect/train4\u001b[0m\n"
     ]
    },
    {
     "data": {
      "text/plain": [
       "ultralytics.utils.metrics.DetMetrics object with attributes:\n",
       "\n",
       "ap_class_index: array([0])\n",
       "box: ultralytics.utils.metrics.Metric object\n",
       "confusion_matrix: <ultralytics.utils.metrics.ConfusionMatrix object at 0x7cd7c7930f10>\n",
       "curves: ['Precision-Recall(B)', 'F1-Confidence(B)', 'Precision-Confidence(B)', 'Recall-Confidence(B)']\n",
       "curves_results: [[array([          0,    0.001001,    0.002002,    0.003003,    0.004004,    0.005005,    0.006006,    0.007007,    0.008008,    0.009009,     0.01001,    0.011011,    0.012012,    0.013013,    0.014014,    0.015015,    0.016016,    0.017017,    0.018018,    0.019019,     0.02002,    0.021021,    0.022022,    0.023023,\n",
       "          0.024024,    0.025025,    0.026026,    0.027027,    0.028028,    0.029029,     0.03003,    0.031031,    0.032032,    0.033033,    0.034034,    0.035035,    0.036036,    0.037037,    0.038038,    0.039039,     0.04004,    0.041041,    0.042042,    0.043043,    0.044044,    0.045045,    0.046046,    0.047047,\n",
       "          0.048048,    0.049049,     0.05005,    0.051051,    0.052052,    0.053053,    0.054054,    0.055055,    0.056056,    0.057057,    0.058058,    0.059059,     0.06006,    0.061061,    0.062062,    0.063063,    0.064064,    0.065065,    0.066066,    0.067067,    0.068068,    0.069069,     0.07007,    0.071071,\n",
       "          0.072072,    0.073073,    0.074074,    0.075075,    0.076076,    0.077077,    0.078078,    0.079079,     0.08008,    0.081081,    0.082082,    0.083083,    0.084084,    0.085085,    0.086086,    0.087087,    0.088088,    0.089089,     0.09009,    0.091091,    0.092092,    0.093093,    0.094094,    0.095095,\n",
       "          0.096096,    0.097097,    0.098098,    0.099099,      0.1001,      0.1011,      0.1021,      0.1031,      0.1041,     0.10511,     0.10611,     0.10711,     0.10811,     0.10911,     0.11011,     0.11111,     0.11211,     0.11311,     0.11411,     0.11512,     0.11612,     0.11712,     0.11812,     0.11912,\n",
       "           0.12012,     0.12112,     0.12212,     0.12312,     0.12412,     0.12513,     0.12613,     0.12713,     0.12813,     0.12913,     0.13013,     0.13113,     0.13213,     0.13313,     0.13413,     0.13514,     0.13614,     0.13714,     0.13814,     0.13914,     0.14014,     0.14114,     0.14214,     0.14314,\n",
       "           0.14414,     0.14515,     0.14615,     0.14715,     0.14815,     0.14915,     0.15015,     0.15115,     0.15215,     0.15315,     0.15415,     0.15516,     0.15616,     0.15716,     0.15816,     0.15916,     0.16016,     0.16116,     0.16216,     0.16316,     0.16416,     0.16517,     0.16617,     0.16717,\n",
       "           0.16817,     0.16917,     0.17017,     0.17117,     0.17217,     0.17317,     0.17417,     0.17518,     0.17618,     0.17718,     0.17818,     0.17918,     0.18018,     0.18118,     0.18218,     0.18318,     0.18418,     0.18519,     0.18619,     0.18719,     0.18819,     0.18919,     0.19019,     0.19119,\n",
       "           0.19219,     0.19319,     0.19419,      0.1952,      0.1962,      0.1972,      0.1982,      0.1992,      0.2002,      0.2012,      0.2022,      0.2032,      0.2042,     0.20521,     0.20621,     0.20721,     0.20821,     0.20921,     0.21021,     0.21121,     0.21221,     0.21321,     0.21421,     0.21522,\n",
       "           0.21622,     0.21722,     0.21822,     0.21922,     0.22022,     0.22122,     0.22222,     0.22322,     0.22422,     0.22523,     0.22623,     0.22723,     0.22823,     0.22923,     0.23023,     0.23123,     0.23223,     0.23323,     0.23423,     0.23524,     0.23624,     0.23724,     0.23824,     0.23924,\n",
       "           0.24024,     0.24124,     0.24224,     0.24324,     0.24424,     0.24525,     0.24625,     0.24725,     0.24825,     0.24925,     0.25025,     0.25125,     0.25225,     0.25325,     0.25425,     0.25526,     0.25626,     0.25726,     0.25826,     0.25926,     0.26026,     0.26126,     0.26226,     0.26326,\n",
       "           0.26426,     0.26527,     0.26627,     0.26727,     0.26827,     0.26927,     0.27027,     0.27127,     0.27227,     0.27327,     0.27427,     0.27528,     0.27628,     0.27728,     0.27828,     0.27928,     0.28028,     0.28128,     0.28228,     0.28328,     0.28428,     0.28529,     0.28629,     0.28729,\n",
       "           0.28829,     0.28929,     0.29029,     0.29129,     0.29229,     0.29329,     0.29429,      0.2953,      0.2963,      0.2973,      0.2983,      0.2993,      0.3003,      0.3013,      0.3023,      0.3033,      0.3043,     0.30531,     0.30631,     0.30731,     0.30831,     0.30931,     0.31031,     0.31131,\n",
       "           0.31231,     0.31331,     0.31431,     0.31532,     0.31632,     0.31732,     0.31832,     0.31932,     0.32032,     0.32132,     0.32232,     0.32332,     0.32432,     0.32533,     0.32633,     0.32733,     0.32833,     0.32933,     0.33033,     0.33133,     0.33233,     0.33333,     0.33433,     0.33534,\n",
       "           0.33634,     0.33734,     0.33834,     0.33934,     0.34034,     0.34134,     0.34234,     0.34334,     0.34434,     0.34535,     0.34635,     0.34735,     0.34835,     0.34935,     0.35035,     0.35135,     0.35235,     0.35335,     0.35435,     0.35536,     0.35636,     0.35736,     0.35836,     0.35936,\n",
       "           0.36036,     0.36136,     0.36236,     0.36336,     0.36436,     0.36537,     0.36637,     0.36737,     0.36837,     0.36937,     0.37037,     0.37137,     0.37237,     0.37337,     0.37437,     0.37538,     0.37638,     0.37738,     0.37838,     0.37938,     0.38038,     0.38138,     0.38238,     0.38338,\n",
       "           0.38438,     0.38539,     0.38639,     0.38739,     0.38839,     0.38939,     0.39039,     0.39139,     0.39239,     0.39339,     0.39439,      0.3954,      0.3964,      0.3974,      0.3984,      0.3994,      0.4004,      0.4014,      0.4024,      0.4034,      0.4044,     0.40541,     0.40641,     0.40741,\n",
       "           0.40841,     0.40941,     0.41041,     0.41141,     0.41241,     0.41341,     0.41441,     0.41542,     0.41642,     0.41742,     0.41842,     0.41942,     0.42042,     0.42142,     0.42242,     0.42342,     0.42442,     0.42543,     0.42643,     0.42743,     0.42843,     0.42943,     0.43043,     0.43143,\n",
       "           0.43243,     0.43343,     0.43443,     0.43544,     0.43644,     0.43744,     0.43844,     0.43944,     0.44044,     0.44144,     0.44244,     0.44344,     0.44444,     0.44545,     0.44645,     0.44745,     0.44845,     0.44945,     0.45045,     0.45145,     0.45245,     0.45345,     0.45445,     0.45546,\n",
       "           0.45646,     0.45746,     0.45846,     0.45946,     0.46046,     0.46146,     0.46246,     0.46346,     0.46446,     0.46547,     0.46647,     0.46747,     0.46847,     0.46947,     0.47047,     0.47147,     0.47247,     0.47347,     0.47447,     0.47548,     0.47648,     0.47748,     0.47848,     0.47948,\n",
       "           0.48048,     0.48148,     0.48248,     0.48348,     0.48448,     0.48549,     0.48649,     0.48749,     0.48849,     0.48949,     0.49049,     0.49149,     0.49249,     0.49349,     0.49449,      0.4955,      0.4965,      0.4975,      0.4985,      0.4995,      0.5005,      0.5015,      0.5025,      0.5035,\n",
       "            0.5045,     0.50551,     0.50651,     0.50751,     0.50851,     0.50951,     0.51051,     0.51151,     0.51251,     0.51351,     0.51451,     0.51552,     0.51652,     0.51752,     0.51852,     0.51952,     0.52052,     0.52152,     0.52252,     0.52352,     0.52452,     0.52553,     0.52653,     0.52753,\n",
       "           0.52853,     0.52953,     0.53053,     0.53153,     0.53253,     0.53353,     0.53453,     0.53554,     0.53654,     0.53754,     0.53854,     0.53954,     0.54054,     0.54154,     0.54254,     0.54354,     0.54454,     0.54555,     0.54655,     0.54755,     0.54855,     0.54955,     0.55055,     0.55155,\n",
       "           0.55255,     0.55355,     0.55455,     0.55556,     0.55656,     0.55756,     0.55856,     0.55956,     0.56056,     0.56156,     0.56256,     0.56356,     0.56456,     0.56557,     0.56657,     0.56757,     0.56857,     0.56957,     0.57057,     0.57157,     0.57257,     0.57357,     0.57457,     0.57558,\n",
       "           0.57658,     0.57758,     0.57858,     0.57958,     0.58058,     0.58158,     0.58258,     0.58358,     0.58458,     0.58559,     0.58659,     0.58759,     0.58859,     0.58959,     0.59059,     0.59159,     0.59259,     0.59359,     0.59459,      0.5956,      0.5966,      0.5976,      0.5986,      0.5996,\n",
       "            0.6006,      0.6016,      0.6026,      0.6036,      0.6046,     0.60561,     0.60661,     0.60761,     0.60861,     0.60961,     0.61061,     0.61161,     0.61261,     0.61361,     0.61461,     0.61562,     0.61662,     0.61762,     0.61862,     0.61962,     0.62062,     0.62162,     0.62262,     0.62362,\n",
       "           0.62462,     0.62563,     0.62663,     0.62763,     0.62863,     0.62963,     0.63063,     0.63163,     0.63263,     0.63363,     0.63463,     0.63564,     0.63664,     0.63764,     0.63864,     0.63964,     0.64064,     0.64164,     0.64264,     0.64364,     0.64464,     0.64565,     0.64665,     0.64765,\n",
       "           0.64865,     0.64965,     0.65065,     0.65165,     0.65265,     0.65365,     0.65465,     0.65566,     0.65666,     0.65766,     0.65866,     0.65966,     0.66066,     0.66166,     0.66266,     0.66366,     0.66466,     0.66567,     0.66667,     0.66767,     0.66867,     0.66967,     0.67067,     0.67167,\n",
       "           0.67267,     0.67367,     0.67467,     0.67568,     0.67668,     0.67768,     0.67868,     0.67968,     0.68068,     0.68168,     0.68268,     0.68368,     0.68468,     0.68569,     0.68669,     0.68769,     0.68869,     0.68969,     0.69069,     0.69169,     0.69269,     0.69369,     0.69469,      0.6957,\n",
       "            0.6967,      0.6977,      0.6987,      0.6997,      0.7007,      0.7017,      0.7027,      0.7037,      0.7047,     0.70571,     0.70671,     0.70771,     0.70871,     0.70971,     0.71071,     0.71171,     0.71271,     0.71371,     0.71471,     0.71572,     0.71672,     0.71772,     0.71872,     0.71972,\n",
       "           0.72072,     0.72172,     0.72272,     0.72372,     0.72472,     0.72573,     0.72673,     0.72773,     0.72873,     0.72973,     0.73073,     0.73173,     0.73273,     0.73373,     0.73473,     0.73574,     0.73674,     0.73774,     0.73874,     0.73974,     0.74074,     0.74174,     0.74274,     0.74374,\n",
       "           0.74474,     0.74575,     0.74675,     0.74775,     0.74875,     0.74975,     0.75075,     0.75175,     0.75275,     0.75375,     0.75475,     0.75576,     0.75676,     0.75776,     0.75876,     0.75976,     0.76076,     0.76176,     0.76276,     0.76376,     0.76476,     0.76577,     0.76677,     0.76777,\n",
       "           0.76877,     0.76977,     0.77077,     0.77177,     0.77277,     0.77377,     0.77477,     0.77578,     0.77678,     0.77778,     0.77878,     0.77978,     0.78078,     0.78178,     0.78278,     0.78378,     0.78478,     0.78579,     0.78679,     0.78779,     0.78879,     0.78979,     0.79079,     0.79179,\n",
       "           0.79279,     0.79379,     0.79479,      0.7958,      0.7968,      0.7978,      0.7988,      0.7998,      0.8008,      0.8018,      0.8028,      0.8038,      0.8048,     0.80581,     0.80681,     0.80781,     0.80881,     0.80981,     0.81081,     0.81181,     0.81281,     0.81381,     0.81481,     0.81582,\n",
       "           0.81682,     0.81782,     0.81882,     0.81982,     0.82082,     0.82182,     0.82282,     0.82382,     0.82482,     0.82583,     0.82683,     0.82783,     0.82883,     0.82983,     0.83083,     0.83183,     0.83283,     0.83383,     0.83483,     0.83584,     0.83684,     0.83784,     0.83884,     0.83984,\n",
       "           0.84084,     0.84184,     0.84284,     0.84384,     0.84484,     0.84585,     0.84685,     0.84785,     0.84885,     0.84985,     0.85085,     0.85185,     0.85285,     0.85385,     0.85485,     0.85586,     0.85686,     0.85786,     0.85886,     0.85986,     0.86086,     0.86186,     0.86286,     0.86386,\n",
       "           0.86486,     0.86587,     0.86687,     0.86787,     0.86887,     0.86987,     0.87087,     0.87187,     0.87287,     0.87387,     0.87487,     0.87588,     0.87688,     0.87788,     0.87888,     0.87988,     0.88088,     0.88188,     0.88288,     0.88388,     0.88488,     0.88589,     0.88689,     0.88789,\n",
       "           0.88889,     0.88989,     0.89089,     0.89189,     0.89289,     0.89389,     0.89489,      0.8959,      0.8969,      0.8979,      0.8989,      0.8999,      0.9009,      0.9019,      0.9029,      0.9039,      0.9049,     0.90591,     0.90691,     0.90791,     0.90891,     0.90991,     0.91091,     0.91191,\n",
       "           0.91291,     0.91391,     0.91491,     0.91592,     0.91692,     0.91792,     0.91892,     0.91992,     0.92092,     0.92192,     0.92292,     0.92392,     0.92492,     0.92593,     0.92693,     0.92793,     0.92893,     0.92993,     0.93093,     0.93193,     0.93293,     0.93393,     0.93493,     0.93594,\n",
       "           0.93694,     0.93794,     0.93894,     0.93994,     0.94094,     0.94194,     0.94294,     0.94394,     0.94494,     0.94595,     0.94695,     0.94795,     0.94895,     0.94995,     0.95095,     0.95195,     0.95295,     0.95395,     0.95495,     0.95596,     0.95696,     0.95796,     0.95896,     0.95996,\n",
       "           0.96096,     0.96196,     0.96296,     0.96396,     0.96496,     0.96597,     0.96697,     0.96797,     0.96897,     0.96997,     0.97097,     0.97197,     0.97297,     0.97397,     0.97497,     0.97598,     0.97698,     0.97798,     0.97898,     0.97998,     0.98098,     0.98198,     0.98298,     0.98398,\n",
       "           0.98498,     0.98599,     0.98699,     0.98799,     0.98899,     0.98999,     0.99099,     0.99199,     0.99299,     0.99399,     0.99499,       0.996,       0.997,       0.998,       0.999,           1]), array([[          1,           1,           1,           1,           1,           1,           1,           1,           1,           1,           1,           1,           1,           1,           1,           1,           1,           1,           1,           1,           1,        0.96,        0.96,\n",
       "               0.96,        0.96,        0.96,        0.96,        0.96,        0.96,        0.96,        0.96,        0.95,        0.95,        0.95,        0.95,        0.95,        0.95,        0.95,        0.95,        0.95,        0.95,        0.95,        0.95,        0.95,        0.95,        0.95,\n",
       "               0.95,        0.95,        0.95,        0.95,        0.95,        0.95,        0.95,        0.95,        0.95,        0.95,        0.95,        0.95,        0.95,        0.95,        0.95,        0.95,        0.95,        0.95,        0.95,        0.95,        0.95,        0.95,        0.95,\n",
       "               0.95,        0.95,        0.95,        0.95,        0.95,     0.91045,     0.91045,     0.91045,     0.91045,     0.91045,     0.89189,     0.89189,     0.89189,     0.89189,     0.89189,     0.89189,     0.88462,     0.88462,     0.88462,     0.88462,     0.88095,     0.88095,     0.88095,\n",
       "            0.88095,     0.88095,     0.88095,     0.88095,     0.87209,     0.86957,     0.86957,     0.86957,     0.86957,     0.86957,     0.86957,     0.86458,     0.86458,     0.86458,     0.86458,     0.85859,     0.85859,     0.85859,     0.85437,     0.85437,     0.85437,     0.85437,     0.85185,\n",
       "            0.85185,     0.85185,     0.85185,     0.85185,     0.84685,     0.84685,     0.84127,     0.84127,     0.84127,     0.84127,     0.84127,     0.84127,     0.84127,     0.84127,     0.84127,     0.84127,     0.84127,     0.84127,     0.84127,     0.84127,     0.84127,     0.84127,     0.83846,\n",
       "            0.83846,     0.83846,     0.83846,     0.83688,     0.83688,     0.83688,     0.83688,     0.83688,     0.83688,     0.83688,     0.83688,     0.83688,     0.83688,     0.83688,     0.83221,     0.83221,     0.83221,     0.83221,     0.83221,     0.83221,     0.83221,     0.83221,     0.82781,\n",
       "            0.81935,     0.81935,     0.81935,     0.81098,     0.81098,     0.81098,     0.81098,     0.81098,     0.81098,     0.81098,     0.80357,     0.80357,     0.80357,         0.8,     0.79191,     0.79191,     0.77966,      0.7766,      0.7766,      0.7766,      0.7766,      0.7766,      0.7766,\n",
       "             0.7766,      0.7766,      0.7766,      0.7766,     0.76684,     0.76684,     0.76684,      0.7665,      0.7665,      0.7665,      0.7665,     0.76382,     0.74757,     0.74757,     0.74641,     0.74641,     0.74641,     0.74324,     0.74324,     0.74324,     0.74324,     0.74324,     0.74324,\n",
       "            0.74324,     0.74324,     0.74324,     0.74324,     0.74324,     0.74324,     0.74222,     0.74222,     0.74009,     0.72881,     0.72881,     0.72881,     0.72881,     0.72881,     0.72881,       0.725,       0.725,     0.72112,     0.72112,     0.72112,     0.72112,     0.72112,     0.72112,\n",
       "            0.72112,     0.72112,     0.72112,     0.71654,     0.70833,     0.70833,     0.70833,     0.70833,     0.70833,     0.70833,     0.70833,     0.70412,      0.7037,      0.7037,      0.7037,     0.70251,     0.70251,     0.70251,     0.70251,     0.70251,     0.70251,     0.70251,     0.70107,\n",
       "            0.70107,      0.7007,      0.7007,     0.70035,     0.70035,     0.70035,     0.69637,     0.69637,     0.69637,     0.69637,     0.69637,     0.69637,     0.69637,     0.69637,     0.69637,     0.69637,     0.69637,     0.69637,     0.69637,     0.68387,     0.68269,     0.68153,     0.68153,\n",
       "            0.67188,     0.66975,     0.66975,      0.6597,      0.6597,      0.6597,      0.6597,      0.6597,      0.6597,      0.6568,     0.65015,     0.64738,     0.64738,     0.64738,     0.64738,     0.64738,     0.64738,     0.64738,     0.64738,     0.64738,     0.64738,     0.64738,     0.64738,\n",
       "            0.64738,     0.64738,     0.64738,     0.64738,     0.64658,     0.64228,     0.64171,     0.64171,     0.64171,     0.64171,     0.64096,     0.64021,     0.64021,     0.63613,     0.63212,     0.63038,     0.63038,     0.63038,     0.63038,     0.63038,     0.63038,     0.63038,     0.61779,\n",
       "            0.61779,     0.61779,     0.61779,     0.61779,     0.61779,     0.61779,     0.61779,     0.61779,     0.61779,     0.61667,     0.61667,     0.61647,     0.61647,     0.61647,     0.61647,     0.61021,     0.61021,      0.6097,      0.6087,      0.6087,     0.60544,     0.60544,      0.6036,\n",
       "            0.59778,     0.59211,     0.59211,     0.58785,     0.58369,     0.58351,     0.58351,     0.58351,     0.58351,     0.58351,     0.58316,     0.58316,     0.58159,     0.57407,     0.56883,     0.56883,     0.56883,     0.56287,     0.56126,     0.56126,     0.56126,     0.55992,     0.55837,\n",
       "            0.55837,     0.55491,     0.55491,      0.5547,     0.55133,     0.55009,     0.55009,     0.54991,     0.54972,     0.54935,     0.54935,     0.54935,     0.54917,     0.54579,     0.54579,     0.54579,     0.54562,     0.53534,     0.53534,     0.53534,     0.53534,     0.53534,      0.5338,\n",
       "             0.5338,      0.5338,      0.5338,      0.5338,      0.5338,     0.53333,     0.53333,     0.53333,     0.53333,     0.53333,     0.53333,     0.53051,     0.52381,     0.52381,     0.52381,     0.52381,     0.52381,     0.52381,     0.52381,     0.52381,     0.52033,     0.51942,     0.51603,\n",
       "            0.51515,     0.51515,      0.5151,      0.5109,      0.5109,      0.5109,      0.5109,      0.5109,      0.5085,     0.50769,     0.50769,     0.50612,     0.50531,     0.50531,     0.50531,     0.50075,     0.49486,     0.49486,     0.49486,     0.49486,     0.49415,     0.49202,      0.4907,\n",
       "             0.4907,      0.4907,      0.4907,      0.4907,     0.48252,     0.48252,     0.48252,     0.48061,     0.48061,     0.48061,     0.47678,     0.47678,     0.47554,     0.47376,     0.47376,     0.47376,     0.46817,     0.46579,     0.46579,     0.46345,     0.46294,     0.46005,     0.46005,\n",
       "             0.4578,     0.45443,     0.45169,     0.44789,     0.44789,     0.44472,     0.44268,     0.44068,     0.43885,     0.43885,     0.43885,     0.42923,     0.42923,     0.42923,     0.42923,     0.42923,     0.42824,     0.42824,     0.42824,     0.42824,     0.42809,     0.42809,     0.42809,\n",
       "            0.42809,     0.42809,     0.42809,     0.42809,     0.41712,     0.41712,     0.41549,     0.41477,     0.41477,     0.41183,     0.40294,     0.40062,     0.39753,     0.39753,      0.3945,     0.39271,     0.38978,     0.38978,     0.38652,     0.37998,      0.3762,     0.37393,     0.37393,\n",
       "             0.3724,     0.35811,      0.3558,      0.3558,     0.35573,     0.35524,     0.35524,     0.35524,     0.35524,     0.35362,     0.34685,     0.34622,     0.34622,     0.34208,     0.32873,     0.32402,     0.31922,     0.31922,     0.31628,     0.31413,     0.31394,     0.31394,     0.31231,\n",
       "            0.30473,     0.30435,     0.30197,     0.30197,     0.29964,     0.29778,      0.2973,      0.2973,      0.2973,     0.29716,     0.29648,     0.29648,     0.29648,     0.29531,     0.29457,     0.28942,     0.28942,     0.28658,     0.28343,     0.27908,     0.27828,     0.27828,     0.27731,\n",
       "            0.27336,      0.2733,      0.2733,     0.27204,     0.26978,     0.26952,     0.26952,     0.26952,     0.26646,     0.26646,     0.26449,     0.26449,     0.26426,     0.26426,     0.26391,     0.26357,     0.26357,     0.26322,     0.26319,      0.2611,      0.2611,      0.2611,      0.2611,\n",
       "            0.26107,     0.25969,     0.25969,      0.2521,      0.2521,      0.2462,      0.2462,      0.2462,     0.24594,     0.24555,     0.24544,     0.24544,     0.24544,     0.24492,     0.24337,     0.24337,     0.24084,     0.23556,     0.23158,     0.23073,     0.23073,     0.23073,     0.22772,\n",
       "            0.22023,     0.22023,     0.21894,     0.21798,     0.21613,     0.21613,     0.21609,     0.21606,       0.213,     0.21239,     0.21239,     0.21048,     0.20806,     0.20633,      0.2035,      0.2035,     0.20186,     0.20017,     0.19745,     0.19745,     0.19649,     0.19538,     0.19359,\n",
       "            0.19283,     0.19283,     0.19162,     0.18888,     0.18588,     0.18588,     0.18202,     0.18058,     0.17929,      0.1792,      0.1792,     0.17496,     0.17476,     0.17183,     0.17183,      0.1714,     0.17098,     0.17008,     0.17008,     0.17008,     0.16562,     0.16556,     0.16341,\n",
       "            0.16341,     0.16341,     0.16263,     0.15939,     0.15649,     0.15649,     0.15385,     0.15094,     0.15043,     0.15043,     0.15032,      0.1499,      0.1499,      0.1499,     0.14012,     0.13884,     0.13817,     0.13814,     0.13814,     0.13575,     0.13132,     0.13002,      0.1253,\n",
       "             0.1253,      0.1253,     0.12509,     0.12509,     0.12509,     0.12441,      0.1228,     0.12258,     0.12258,     0.12258,     0.12101,      0.1208,     0.11888,     0.11888,     0.11708,     0.11551,     0.11543,     0.11326,     0.11326,     0.11326,     0.11216,     0.11104,     0.11104,\n",
       "            0.10729,      0.1057,     0.10486,      0.1048,      0.1048,      0.1048,     0.10429,     0.10323,     0.10323,     0.10311,     0.10172,     0.10145,     0.10145,     0.10145,    0.099024,    0.098088,    0.097847,    0.097847,    0.091664,    0.091664,    0.090849,    0.090716,    0.090716,\n",
       "           0.088025,    0.086081,    0.083696,    0.083696,    0.083621,    0.082913,    0.081514,    0.080148,    0.080148,    0.080148,    0.080028,    0.077185,    0.077185,    0.077185,    0.077185,    0.074674,    0.074035,    0.074035,    0.072429,    0.071402,    0.070165,    0.070165,    0.069705,\n",
       "            0.06832,    0.067737,    0.067504,    0.067504,    0.065889,    0.064701,    0.064358,    0.064358,    0.064077,    0.063078,    0.062995,    0.060068,    0.060068,    0.060047,    0.060033,    0.057869,    0.057869,     0.05664,     0.05582,    0.055419,    0.054806,    0.054806,    0.054114,\n",
       "           0.053948,    0.053948,    0.053948,    0.053948,    0.052538,    0.052525,    0.047037,    0.047037,     0.04484,    0.044482,    0.044482,    0.044482,    0.044297,    0.043741,    0.043381,    0.043316,    0.043316,    0.038594,    0.037566,    0.037039,    0.037039,    0.035464,    0.033008,\n",
       "           0.030676,    0.030535,    0.030393,    0.030252,    0.030111,    0.029969,    0.029828,    0.029686,    0.029545,    0.029404,    0.029262,    0.029121,     0.02898,    0.028838,    0.028697,    0.028556,    0.028414,    0.028273,    0.028131,     0.02799,    0.027849,    0.027707,    0.027566,\n",
       "           0.027425,    0.027283,    0.027142,    0.027001,    0.026859,    0.026718,    0.026576,    0.026435,    0.026294,    0.026152,    0.026011,     0.02587,    0.025728,    0.025587,    0.025446,    0.025304,    0.025163,    0.025021,     0.02488,    0.024739,    0.024597,    0.024456,    0.024315,\n",
       "           0.024173,    0.024032,    0.023891,    0.023749,    0.023608,    0.023466,    0.023325,    0.023184,    0.023042,    0.022901,     0.02276,    0.022618,    0.022477,    0.022336,    0.022194,    0.022053,    0.021911,     0.02177,    0.021629,    0.021487,    0.021346,    0.021205,    0.021063,\n",
       "           0.020922,    0.020781,    0.020639,    0.020498,    0.020356,    0.020215,    0.020074,    0.019932,    0.019791,     0.01965,    0.019508,    0.019367,    0.019226,    0.019084,    0.018943,    0.018801,     0.01866,    0.018519,    0.018377,    0.018236,    0.018095,    0.017953,    0.017812,\n",
       "           0.017671,    0.017529,    0.017388,    0.017246,    0.017105,    0.016964,    0.016822,    0.016681,     0.01654,    0.016398,    0.016257,    0.016115,    0.015974,    0.015833,    0.015691,     0.01555,    0.015409,    0.015267,    0.015126,    0.014985,    0.014843,    0.014702,     0.01456,\n",
       "           0.014419,    0.014278,    0.014136,    0.013995,    0.013854,    0.013712,    0.013571,     0.01343,    0.013288,    0.013147,    0.013005,    0.012864,    0.012723,    0.012581,     0.01244,    0.012299,    0.012157,    0.012016,    0.011875,    0.011733,    0.011592,     0.01145,    0.011309,\n",
       "           0.011168,    0.011026,    0.010885,    0.010744,    0.010602,    0.010461,     0.01032,    0.010178,    0.010037,   0.0098955,   0.0097541,   0.0096128,   0.0094714,     0.00933,   0.0091887,   0.0090473,   0.0089059,   0.0087646,   0.0086232,   0.0084818,   0.0083405,   0.0081991,   0.0080577,\n",
       "          0.0079164,    0.007775,   0.0076337,   0.0074923,   0.0073509,   0.0072096,   0.0070682,   0.0069268,   0.0067855,   0.0066441,   0.0065027,   0.0063614,     0.00622,   0.0060787,   0.0059373,   0.0057959,   0.0056546,   0.0055132,   0.0053718,   0.0052305,   0.0050891,   0.0049477,   0.0048064,\n",
       "           0.004665,   0.0045236,   0.0043823,   0.0042409,   0.0040996,   0.0039582,   0.0038168,   0.0036755,   0.0035341,   0.0033927,   0.0032514,     0.00311,   0.0029686,   0.0028273,   0.0026859,   0.0025446,   0.0024032,   0.0022618,   0.0021205,   0.0019791,   0.0018377,   0.0016964,    0.001555,\n",
       "          0.0014136,   0.0012723,   0.0011309,  0.00098955,  0.00084818,  0.00070682,  0.00056546,  0.00042409,  0.00028273,  0.00014136,           0]]), 'Recall', 'Precision'], [array([          0,    0.001001,    0.002002,    0.003003,    0.004004,    0.005005,    0.006006,    0.007007,    0.008008,    0.009009,     0.01001,    0.011011,    0.012012,    0.013013,    0.014014,    0.015015,    0.016016,    0.017017,    0.018018,    0.019019,     0.02002,    0.021021,    0.022022,    0.023023,\n",
       "          0.024024,    0.025025,    0.026026,    0.027027,    0.028028,    0.029029,     0.03003,    0.031031,    0.032032,    0.033033,    0.034034,    0.035035,    0.036036,    0.037037,    0.038038,    0.039039,     0.04004,    0.041041,    0.042042,    0.043043,    0.044044,    0.045045,    0.046046,    0.047047,\n",
       "          0.048048,    0.049049,     0.05005,    0.051051,    0.052052,    0.053053,    0.054054,    0.055055,    0.056056,    0.057057,    0.058058,    0.059059,     0.06006,    0.061061,    0.062062,    0.063063,    0.064064,    0.065065,    0.066066,    0.067067,    0.068068,    0.069069,     0.07007,    0.071071,\n",
       "          0.072072,    0.073073,    0.074074,    0.075075,    0.076076,    0.077077,    0.078078,    0.079079,     0.08008,    0.081081,    0.082082,    0.083083,    0.084084,    0.085085,    0.086086,    0.087087,    0.088088,    0.089089,     0.09009,    0.091091,    0.092092,    0.093093,    0.094094,    0.095095,\n",
       "          0.096096,    0.097097,    0.098098,    0.099099,      0.1001,      0.1011,      0.1021,      0.1031,      0.1041,     0.10511,     0.10611,     0.10711,     0.10811,     0.10911,     0.11011,     0.11111,     0.11211,     0.11311,     0.11411,     0.11512,     0.11612,     0.11712,     0.11812,     0.11912,\n",
       "           0.12012,     0.12112,     0.12212,     0.12312,     0.12412,     0.12513,     0.12613,     0.12713,     0.12813,     0.12913,     0.13013,     0.13113,     0.13213,     0.13313,     0.13413,     0.13514,     0.13614,     0.13714,     0.13814,     0.13914,     0.14014,     0.14114,     0.14214,     0.14314,\n",
       "           0.14414,     0.14515,     0.14615,     0.14715,     0.14815,     0.14915,     0.15015,     0.15115,     0.15215,     0.15315,     0.15415,     0.15516,     0.15616,     0.15716,     0.15816,     0.15916,     0.16016,     0.16116,     0.16216,     0.16316,     0.16416,     0.16517,     0.16617,     0.16717,\n",
       "           0.16817,     0.16917,     0.17017,     0.17117,     0.17217,     0.17317,     0.17417,     0.17518,     0.17618,     0.17718,     0.17818,     0.17918,     0.18018,     0.18118,     0.18218,     0.18318,     0.18418,     0.18519,     0.18619,     0.18719,     0.18819,     0.18919,     0.19019,     0.19119,\n",
       "           0.19219,     0.19319,     0.19419,      0.1952,      0.1962,      0.1972,      0.1982,      0.1992,      0.2002,      0.2012,      0.2022,      0.2032,      0.2042,     0.20521,     0.20621,     0.20721,     0.20821,     0.20921,     0.21021,     0.21121,     0.21221,     0.21321,     0.21421,     0.21522,\n",
       "           0.21622,     0.21722,     0.21822,     0.21922,     0.22022,     0.22122,     0.22222,     0.22322,     0.22422,     0.22523,     0.22623,     0.22723,     0.22823,     0.22923,     0.23023,     0.23123,     0.23223,     0.23323,     0.23423,     0.23524,     0.23624,     0.23724,     0.23824,     0.23924,\n",
       "           0.24024,     0.24124,     0.24224,     0.24324,     0.24424,     0.24525,     0.24625,     0.24725,     0.24825,     0.24925,     0.25025,     0.25125,     0.25225,     0.25325,     0.25425,     0.25526,     0.25626,     0.25726,     0.25826,     0.25926,     0.26026,     0.26126,     0.26226,     0.26326,\n",
       "           0.26426,     0.26527,     0.26627,     0.26727,     0.26827,     0.26927,     0.27027,     0.27127,     0.27227,     0.27327,     0.27427,     0.27528,     0.27628,     0.27728,     0.27828,     0.27928,     0.28028,     0.28128,     0.28228,     0.28328,     0.28428,     0.28529,     0.28629,     0.28729,\n",
       "           0.28829,     0.28929,     0.29029,     0.29129,     0.29229,     0.29329,     0.29429,      0.2953,      0.2963,      0.2973,      0.2983,      0.2993,      0.3003,      0.3013,      0.3023,      0.3033,      0.3043,     0.30531,     0.30631,     0.30731,     0.30831,     0.30931,     0.31031,     0.31131,\n",
       "           0.31231,     0.31331,     0.31431,     0.31532,     0.31632,     0.31732,     0.31832,     0.31932,     0.32032,     0.32132,     0.32232,     0.32332,     0.32432,     0.32533,     0.32633,     0.32733,     0.32833,     0.32933,     0.33033,     0.33133,     0.33233,     0.33333,     0.33433,     0.33534,\n",
       "           0.33634,     0.33734,     0.33834,     0.33934,     0.34034,     0.34134,     0.34234,     0.34334,     0.34434,     0.34535,     0.34635,     0.34735,     0.34835,     0.34935,     0.35035,     0.35135,     0.35235,     0.35335,     0.35435,     0.35536,     0.35636,     0.35736,     0.35836,     0.35936,\n",
       "           0.36036,     0.36136,     0.36236,     0.36336,     0.36436,     0.36537,     0.36637,     0.36737,     0.36837,     0.36937,     0.37037,     0.37137,     0.37237,     0.37337,     0.37437,     0.37538,     0.37638,     0.37738,     0.37838,     0.37938,     0.38038,     0.38138,     0.38238,     0.38338,\n",
       "           0.38438,     0.38539,     0.38639,     0.38739,     0.38839,     0.38939,     0.39039,     0.39139,     0.39239,     0.39339,     0.39439,      0.3954,      0.3964,      0.3974,      0.3984,      0.3994,      0.4004,      0.4014,      0.4024,      0.4034,      0.4044,     0.40541,     0.40641,     0.40741,\n",
       "           0.40841,     0.40941,     0.41041,     0.41141,     0.41241,     0.41341,     0.41441,     0.41542,     0.41642,     0.41742,     0.41842,     0.41942,     0.42042,     0.42142,     0.42242,     0.42342,     0.42442,     0.42543,     0.42643,     0.42743,     0.42843,     0.42943,     0.43043,     0.43143,\n",
       "           0.43243,     0.43343,     0.43443,     0.43544,     0.43644,     0.43744,     0.43844,     0.43944,     0.44044,     0.44144,     0.44244,     0.44344,     0.44444,     0.44545,     0.44645,     0.44745,     0.44845,     0.44945,     0.45045,     0.45145,     0.45245,     0.45345,     0.45445,     0.45546,\n",
       "           0.45646,     0.45746,     0.45846,     0.45946,     0.46046,     0.46146,     0.46246,     0.46346,     0.46446,     0.46547,     0.46647,     0.46747,     0.46847,     0.46947,     0.47047,     0.47147,     0.47247,     0.47347,     0.47447,     0.47548,     0.47648,     0.47748,     0.47848,     0.47948,\n",
       "           0.48048,     0.48148,     0.48248,     0.48348,     0.48448,     0.48549,     0.48649,     0.48749,     0.48849,     0.48949,     0.49049,     0.49149,     0.49249,     0.49349,     0.49449,      0.4955,      0.4965,      0.4975,      0.4985,      0.4995,      0.5005,      0.5015,      0.5025,      0.5035,\n",
       "            0.5045,     0.50551,     0.50651,     0.50751,     0.50851,     0.50951,     0.51051,     0.51151,     0.51251,     0.51351,     0.51451,     0.51552,     0.51652,     0.51752,     0.51852,     0.51952,     0.52052,     0.52152,     0.52252,     0.52352,     0.52452,     0.52553,     0.52653,     0.52753,\n",
       "           0.52853,     0.52953,     0.53053,     0.53153,     0.53253,     0.53353,     0.53453,     0.53554,     0.53654,     0.53754,     0.53854,     0.53954,     0.54054,     0.54154,     0.54254,     0.54354,     0.54454,     0.54555,     0.54655,     0.54755,     0.54855,     0.54955,     0.55055,     0.55155,\n",
       "           0.55255,     0.55355,     0.55455,     0.55556,     0.55656,     0.55756,     0.55856,     0.55956,     0.56056,     0.56156,     0.56256,     0.56356,     0.56456,     0.56557,     0.56657,     0.56757,     0.56857,     0.56957,     0.57057,     0.57157,     0.57257,     0.57357,     0.57457,     0.57558,\n",
       "           0.57658,     0.57758,     0.57858,     0.57958,     0.58058,     0.58158,     0.58258,     0.58358,     0.58458,     0.58559,     0.58659,     0.58759,     0.58859,     0.58959,     0.59059,     0.59159,     0.59259,     0.59359,     0.59459,      0.5956,      0.5966,      0.5976,      0.5986,      0.5996,\n",
       "            0.6006,      0.6016,      0.6026,      0.6036,      0.6046,     0.60561,     0.60661,     0.60761,     0.60861,     0.60961,     0.61061,     0.61161,     0.61261,     0.61361,     0.61461,     0.61562,     0.61662,     0.61762,     0.61862,     0.61962,     0.62062,     0.62162,     0.62262,     0.62362,\n",
       "           0.62462,     0.62563,     0.62663,     0.62763,     0.62863,     0.62963,     0.63063,     0.63163,     0.63263,     0.63363,     0.63463,     0.63564,     0.63664,     0.63764,     0.63864,     0.63964,     0.64064,     0.64164,     0.64264,     0.64364,     0.64464,     0.64565,     0.64665,     0.64765,\n",
       "           0.64865,     0.64965,     0.65065,     0.65165,     0.65265,     0.65365,     0.65465,     0.65566,     0.65666,     0.65766,     0.65866,     0.65966,     0.66066,     0.66166,     0.66266,     0.66366,     0.66466,     0.66567,     0.66667,     0.66767,     0.66867,     0.66967,     0.67067,     0.67167,\n",
       "           0.67267,     0.67367,     0.67467,     0.67568,     0.67668,     0.67768,     0.67868,     0.67968,     0.68068,     0.68168,     0.68268,     0.68368,     0.68468,     0.68569,     0.68669,     0.68769,     0.68869,     0.68969,     0.69069,     0.69169,     0.69269,     0.69369,     0.69469,      0.6957,\n",
       "            0.6967,      0.6977,      0.6987,      0.6997,      0.7007,      0.7017,      0.7027,      0.7037,      0.7047,     0.70571,     0.70671,     0.70771,     0.70871,     0.70971,     0.71071,     0.71171,     0.71271,     0.71371,     0.71471,     0.71572,     0.71672,     0.71772,     0.71872,     0.71972,\n",
       "           0.72072,     0.72172,     0.72272,     0.72372,     0.72472,     0.72573,     0.72673,     0.72773,     0.72873,     0.72973,     0.73073,     0.73173,     0.73273,     0.73373,     0.73473,     0.73574,     0.73674,     0.73774,     0.73874,     0.73974,     0.74074,     0.74174,     0.74274,     0.74374,\n",
       "           0.74474,     0.74575,     0.74675,     0.74775,     0.74875,     0.74975,     0.75075,     0.75175,     0.75275,     0.75375,     0.75475,     0.75576,     0.75676,     0.75776,     0.75876,     0.75976,     0.76076,     0.76176,     0.76276,     0.76376,     0.76476,     0.76577,     0.76677,     0.76777,\n",
       "           0.76877,     0.76977,     0.77077,     0.77177,     0.77277,     0.77377,     0.77477,     0.77578,     0.77678,     0.77778,     0.77878,     0.77978,     0.78078,     0.78178,     0.78278,     0.78378,     0.78478,     0.78579,     0.78679,     0.78779,     0.78879,     0.78979,     0.79079,     0.79179,\n",
       "           0.79279,     0.79379,     0.79479,      0.7958,      0.7968,      0.7978,      0.7988,      0.7998,      0.8008,      0.8018,      0.8028,      0.8038,      0.8048,     0.80581,     0.80681,     0.80781,     0.80881,     0.80981,     0.81081,     0.81181,     0.81281,     0.81381,     0.81481,     0.81582,\n",
       "           0.81682,     0.81782,     0.81882,     0.81982,     0.82082,     0.82182,     0.82282,     0.82382,     0.82482,     0.82583,     0.82683,     0.82783,     0.82883,     0.82983,     0.83083,     0.83183,     0.83283,     0.83383,     0.83483,     0.83584,     0.83684,     0.83784,     0.83884,     0.83984,\n",
       "           0.84084,     0.84184,     0.84284,     0.84384,     0.84484,     0.84585,     0.84685,     0.84785,     0.84885,     0.84985,     0.85085,     0.85185,     0.85285,     0.85385,     0.85485,     0.85586,     0.85686,     0.85786,     0.85886,     0.85986,     0.86086,     0.86186,     0.86286,     0.86386,\n",
       "           0.86486,     0.86587,     0.86687,     0.86787,     0.86887,     0.86987,     0.87087,     0.87187,     0.87287,     0.87387,     0.87487,     0.87588,     0.87688,     0.87788,     0.87888,     0.87988,     0.88088,     0.88188,     0.88288,     0.88388,     0.88488,     0.88589,     0.88689,     0.88789,\n",
       "           0.88889,     0.88989,     0.89089,     0.89189,     0.89289,     0.89389,     0.89489,      0.8959,      0.8969,      0.8979,      0.8989,      0.8999,      0.9009,      0.9019,      0.9029,      0.9039,      0.9049,     0.90591,     0.90691,     0.90791,     0.90891,     0.90991,     0.91091,     0.91191,\n",
       "           0.91291,     0.91391,     0.91491,     0.91592,     0.91692,     0.91792,     0.91892,     0.91992,     0.92092,     0.92192,     0.92292,     0.92392,     0.92492,     0.92593,     0.92693,     0.92793,     0.92893,     0.92993,     0.93093,     0.93193,     0.93293,     0.93393,     0.93493,     0.93594,\n",
       "           0.93694,     0.93794,     0.93894,     0.93994,     0.94094,     0.94194,     0.94294,     0.94394,     0.94494,     0.94595,     0.94695,     0.94795,     0.94895,     0.94995,     0.95095,     0.95195,     0.95295,     0.95395,     0.95495,     0.95596,     0.95696,     0.95796,     0.95896,     0.95996,\n",
       "           0.96096,     0.96196,     0.96296,     0.96396,     0.96496,     0.96597,     0.96697,     0.96797,     0.96897,     0.96997,     0.97097,     0.97197,     0.97297,     0.97397,     0.97497,     0.97598,     0.97698,     0.97798,     0.97898,     0.97998,     0.98098,     0.98198,     0.98298,     0.98398,\n",
       "           0.98498,     0.98599,     0.98699,     0.98799,     0.98899,     0.98999,     0.99099,     0.99199,     0.99299,     0.99399,     0.99499,       0.996,       0.997,       0.998,       0.999,           1]), array([[   0.059112,    0.059112,    0.084087,     0.10202,     0.11783,      0.1339,      0.1474,     0.16072,     0.17247,     0.18346,     0.19452,     0.20388,     0.21106,     0.21915,      0.2285,     0.23674,     0.24446,     0.25041,     0.25827,     0.26326,     0.26876,     0.27366,     0.27957,\n",
       "            0.28571,      0.2901,     0.29577,     0.29969,     0.30424,     0.30857,     0.31282,       0.317,     0.32087,     0.32527,     0.32981,     0.33203,     0.33718,     0.34213,      0.3459,      0.3468,     0.35121,     0.35391,     0.35794,     0.36029,     0.35991,     0.36073,     0.36285,\n",
       "            0.36528,     0.36632,     0.36963,     0.37125,     0.37379,     0.37619,     0.37753,     0.38112,     0.38257,     0.38232,     0.38514,     0.38706,     0.39001,     0.39264,     0.39399,     0.39637,     0.39878,      0.4022,     0.40348,     0.40634,     0.41009,     0.41247,     0.41505,\n",
       "            0.41493,     0.41815,     0.41888,      0.4182,     0.41858,     0.41987,     0.42166,     0.42374,     0.42639,     0.42805,      0.4294,     0.43086,     0.43216,     0.43236,     0.43508,     0.43644,     0.43748,     0.43755,     0.43882,     0.44055,     0.44099,     0.44304,      0.4441,\n",
       "            0.44617,     0.44794,       0.449,     0.44896,     0.44945,     0.45004,     0.45243,     0.45429,     0.45187,     0.45016,     0.44946,     0.44969,     0.45238,     0.45419,     0.45364,     0.45388,     0.45467,     0.45429,     0.45567,     0.45574,     0.45616,     0.45711,     0.45738,\n",
       "            0.45735,     0.45892,     0.45957,     0.45996,     0.46058,     0.46179,     0.46249,     0.46217,     0.46158,     0.46211,     0.46125,     0.46239,     0.46203,     0.46214,     0.46178,     0.46341,     0.46465,     0.46157,     0.46227,     0.46188,      0.4619,     0.46054,     0.46041,\n",
       "            0.46122,     0.46226,     0.46298,     0.46192,     0.46224,     0.46226,     0.46171,     0.46207,     0.46117,     0.46224,     0.46004,     0.45834,     0.45929,     0.46033,     0.45988,     0.45949,     0.45861,     0.45897,     0.45913,     0.45919,     0.46029,     0.45814,     0.45673,\n",
       "            0.45562,     0.45475,     0.45567,     0.45614,     0.45788,      0.4559,     0.45566,     0.45419,     0.45087,      0.4506,     0.45075,     0.44915,     0.44823,     0.44837,     0.45006,       0.451,     0.45028,     0.44837,     0.44861,      0.4489,     0.44902,     0.44914,     0.44882,\n",
       "            0.44785,     0.44716,     0.44595,     0.44499,     0.44503,     0.44508,     0.44358,     0.44355,     0.44401,     0.44446,     0.44248,     0.44274,     0.44268,     0.44123,     0.44042,      0.4406,     0.44104,     0.44046,     0.44102,     0.44162,      0.4418,     0.43986,     0.44037,\n",
       "            0.44102,     0.44061,     0.44182,     0.44191,     0.44148,     0.43997,     0.43948,     0.43889,     0.43796,     0.43739,     0.43706,      0.4375,     0.43777,     0.43701,     0.43755,     0.43784,     0.43676,     0.43715,     0.43799,     0.43727,     0.43887,     0.43828,     0.43791,\n",
       "            0.43825,     0.43746,     0.43748,     0.43773,     0.43814,     0.43746,     0.43624,     0.43538,      0.4345,     0.43479,     0.43565,     0.43502,     0.43339,      0.4332,     0.43249,     0.43121,     0.43032,     0.43081,     0.42933,     0.42835,     0.42485,     0.42414,     0.42378,\n",
       "            0.42342,     0.42305,     0.42254,     0.42194,     0.42082,     0.42042,     0.42067,     0.42096,     0.42115,     0.42242,     0.42291,      0.4234,     0.42368,     0.42395,     0.42445,     0.42329,     0.42098,     0.42032,     0.42007,     0.41991,     0.41891,      0.4192,      0.4187,\n",
       "            0.41805,     0.41826,     0.41776,     0.41791,     0.41748,     0.41687,      0.4156,     0.41466,     0.41449,     0.41356,       0.412,     0.41214,      0.4118,     0.41147,     0.41113,     0.40896,     0.40765,     0.40682,     0.40556,     0.40473,     0.40021,     0.39985,     0.39948,\n",
       "            0.39912,     0.39619,      0.3964,     0.39661,     0.39684,     0.39763,     0.39794,     0.39814,     0.39691,     0.39733,      0.3976,     0.39795,     0.39816,     0.39714,     0.39735,     0.39719,     0.39634,     0.39509,     0.39492,     0.39416,     0.39316,     0.39212,     0.39243,\n",
       "            0.39303,     0.39377,     0.39241,     0.39172,     0.39101,     0.39171,      0.3922,     0.39144,     0.39097,     0.38901,     0.38925,     0.38945,     0.38963,     0.38977,     0.38991,     0.39008,     0.39056,     0.38969,     0.38897,     0.38842,     0.38786,      0.3844,     0.38396,\n",
       "            0.38352,      0.3834,     0.38324,     0.38236,     0.37925,     0.37711,     0.37747,      0.3776,     0.37773,     0.37751,     0.37661,       0.375,     0.37253,     0.37099,     0.36972,     0.36657,     0.36678,     0.36644,     0.36467,     0.36402,     0.36366,     0.36286,     0.36291,\n",
       "            0.36144,     0.35959,       0.359,     0.35863,     0.35881,     0.35908,     0.35831,     0.35669,     0.35507,     0.35149,     0.35146,     0.35158,      0.3517,     0.35247,      0.3519,      0.3516,      0.3486,     0.34765,     0.34625,     0.34515,     0.34432,     0.34209,     0.34054,\n",
       "            0.33892,     0.33901,      0.3391,     0.33919,     0.33938,     0.33891,     0.33394,     0.33382,     0.33404,     0.33413,     0.33422,     0.33431,     0.33461,     0.33314,     0.33331,     0.33278,     0.33216,     0.33149,     0.33064,     0.33009,     0.33009,     0.32923,     0.32851,\n",
       "            0.32805,     0.32759,     0.32713,     0.32641,     0.32554,       0.323,     0.32213,      0.3206,     0.31887,     0.31774,     0.31666,     0.31516,      0.3152,     0.31525,      0.3153,     0.31534,     0.31539,     0.31544,     0.31552,     0.31568,     0.31591,     0.31555,     0.31444,\n",
       "              0.314,     0.31356,     0.31312,     0.31325,     0.30997,     0.31008,     0.31019,     0.31079,     0.31098,     0.31114,     0.31146,     0.30985,     0.30995,     0.31004,     0.30826,     0.30648,     0.30486,     0.30504,     0.30493,     0.30433,     0.30373,      0.3018,       0.302,\n",
       "            0.30208,     0.30216,     0.30224,     0.30246,     0.30151,     0.29794,     0.29613,     0.29431,     0.29333,     0.29272,     0.29211,     0.29127,     0.29036,     0.29032,     0.29047,     0.29056,     0.29064,     0.29071,     0.29079,     0.29021,     0.28959,     0.28901,     0.28917,\n",
       "            0.28752,     0.28758,     0.28764,      0.2877,     0.28777,     0.28829,     0.28768,     0.28706,      0.2867,     0.28694,     0.28601,     0.28539,     0.28445,     0.28365,     0.28303,      0.2824,     0.28252,     0.28244,     0.28198,     0.28151,     0.28104,      0.2779,     0.27601,\n",
       "            0.27357,     0.27367,     0.27377,     0.27243,     0.27217,      0.2723,     0.27237,     0.27245,     0.27252,     0.27088,     0.26924,     0.26939,      0.2688,     0.26816,     0.26753,     0.26763,     0.26773,     0.26765,     0.26584,     0.26488,     0.26376,     0.25852,     0.25755,\n",
       "            0.25682,     0.25692,     0.25701,     0.25693,     0.25645,     0.25596,     0.25547,     0.25439,     0.25286,     0.25188,      0.2509,     0.24992,     0.24842,     0.24645,     0.24448,      0.2425,     0.24145,     0.24095,     0.24046,     0.23996,     0.23987,     0.23994,     0.24001,\n",
       "            0.24008,     0.24031,     0.23979,     0.23913,     0.23847,     0.23561,     0.23463,     0.23186,     0.22984,     0.22836,     0.22735,     0.22675,     0.22646,     0.22617,     0.22589,      0.2256,     0.22531,     0.22502,     0.22464,     0.22424,     0.22383,     0.22343,     0.22302,\n",
       "            0.22081,     0.22062,     0.22043,     0.22023,     0.22004,     0.21984,     0.21965,     0.21946,     0.21926,     0.21907,     0.21573,     0.21474,     0.21433,     0.21392,     0.21351,      0.2131,     0.21142,     0.21105,     0.21111,     0.21117,     0.21123,     0.21132,     0.21142,\n",
       "            0.21158,     0.21072,     0.20866,     0.20771,     0.20777,     0.20783,     0.20789,     0.20458,     0.20046,     0.19988,     0.19978,     0.19873,     0.19777,     0.19707,     0.19637,     0.19581,     0.19553,     0.19524,     0.19496,     0.19468,      0.1944,     0.19412,     0.19384,\n",
       "            0.19388,     0.19393,     0.19397,     0.19401,     0.19405,     0.19361,      0.1929,      0.1922,     0.19009,     0.18951,     0.18866,     0.18785,     0.18714,     0.18643,     0.18518,     0.18393,     0.18398,     0.18402,     0.18407,      0.1841,     0.18303,     0.18189,     0.17955,\n",
       "            0.17718,      0.1761,     0.17525,     0.17453,     0.17381,     0.17364,     0.17368,     0.17372,     0.17377,     0.17381,     0.17187,     0.17155,     0.17115,     0.17076,     0.17036,     0.16996,     0.16534,     0.16503,     0.16472,      0.1644,     0.16409,     0.16378,     0.16346,\n",
       "            0.16262,     0.16152,     0.16131,     0.15896,     0.15786,     0.15641,     0.15505,     0.15323,       0.151,     0.15048,     0.15016,     0.14984,     0.14952,      0.1492,     0.14888,     0.14844,     0.14635,     0.14579,     0.14523,     0.14466,     0.14421,     0.14424,     0.14426,\n",
       "            0.14429,     0.14431,     0.14434,     0.14436,     0.14439,     0.14444,     0.14448,     0.14453,     0.14426,     0.14361,     0.14297,     0.14231,     0.14141,      0.1405,     0.13996,     0.13966,     0.13936,     0.13905,     0.13875,     0.13845,     0.13815,     0.13728,     0.13573,\n",
       "            0.13579,     0.13584,     0.13608,     0.13619,     0.13515,     0.13401,     0.13249,     0.13096,     0.12948,     0.12906,     0.12864,     0.12822,     0.12781,     0.12739,     0.12461,     0.12403,     0.12345,     0.12287,     0.12256,     0.12231,     0.12207,     0.12182,     0.12158,\n",
       "            0.12134,     0.12109,     0.12085,      0.1206,     0.11989,     0.11873,     0.11789,     0.11731,     0.11673,     0.11614,      0.1156,     0.11509,     0.11457,     0.11405,     0.11357,     0.11321,     0.11285,     0.11249,     0.11213,     0.11177,     0.11141,     0.10994,     0.10882,\n",
       "            0.10823,     0.10765,     0.10706,     0.10647,     0.10588,     0.10529,      0.1047,     0.10388,     0.10293,     0.10118,    0.099706,    0.099469,    0.099231,    0.098994,    0.098756,    0.098519,    0.098281,    0.098044,    0.097806,    0.097568,    0.094882,    0.094515,    0.094148,\n",
       "           0.093781,    0.093413,    0.093046,    0.092408,    0.091611,    0.090813,    0.090155,    0.089555,    0.088956,    0.088355,    0.087274,    0.086072,    0.085306,    0.084617,    0.083928,    0.082839,    0.081228,    0.080241,    0.079272,    0.078583,    0.078142,    0.077701,    0.077259,\n",
       "           0.076817,     0.07409,    0.073236,    0.071633,     0.07142,    0.071207,    0.070994,    0.070781,    0.070568,    0.070355,    0.070142,    0.069929,    0.069716,    0.069503,    0.069054,    0.068353,    0.067651,    0.066885,    0.065244,    0.064099,    0.063276,    0.062454,    0.059787,\n",
       "           0.059802,    0.059817,    0.059833,    0.059847,    0.057863,    0.054177,    0.053179,      0.0516,    0.048066,    0.045027,    0.044569,    0.044111,    0.043653,    0.043194,    0.042738,    0.042317,    0.041897,    0.041475,    0.041054,    0.040633,     0.04031,    0.040345,     0.03959,\n",
       "           0.038576,    0.036285,    0.035075,    0.034683,    0.034291,    0.033899,    0.033506,    0.033114,    0.032808,    0.032596,    0.032383,     0.03217,    0.031957,    0.031744,    0.031531,    0.031318,    0.031105,    0.030892,    0.030679,    0.030466,    0.029091,    0.027597,     0.02657,\n",
       "           0.025542,    0.024913,    0.024341,    0.023769,    0.023196,    0.022801,    0.022594,    0.022388,    0.022182,    0.021975,    0.021769,    0.021562,    0.021356,    0.021149,    0.020942,    0.020736,    0.020529,    0.020007,    0.018713,    0.017506,    0.016468,     0.01543,    0.014806,\n",
       "           0.014228,     0.01365,    0.013071,    0.011902,    0.010122,    0.007689,   0.0076418,   0.0075946,   0.0075474,   0.0075003,   0.0074531,   0.0074059,   0.0073587,   0.0073115,   0.0072643,   0.0072171,   0.0071699,   0.0071227,   0.0070755,   0.0070283,   0.0069811,   0.0069339,   0.0068867,\n",
       "          0.0068395,   0.0067923,    0.006745,   0.0066978,   0.0066506,   0.0066034,   0.0065561,   0.0065089,   0.0064617,   0.0064144,   0.0063672,     0.00632,   0.0062727,   0.0062255,   0.0061782,    0.006131,   0.0060838,   0.0060365,   0.0059892,    0.005942,   0.0058947,   0.0058475,   0.0058002,\n",
       "          0.0057529,   0.0057057,   0.0056584,   0.0056111,   0.0055639,   0.0055166,   0.0054693,    0.005422,   0.0053747,   0.0053275,   0.0052802,   0.0052329,   0.0051856,   0.0051383,   0.0047609,   0.0043568,   0.0039526,   0.0035482,   0.0031436,   0.0027389,           0,           0,           0,\n",
       "                  0,           0,           0,           0,           0,           0,           0,           0,           0,           0,           0,           0,           0,           0,           0,           0,           0,           0,           0,           0,           0,           0,           0,\n",
       "                  0,           0,           0,           0,           0,           0,           0,           0,           0,           0,           0]]), 'Confidence', 'F1'], [array([          0,    0.001001,    0.002002,    0.003003,    0.004004,    0.005005,    0.006006,    0.007007,    0.008008,    0.009009,     0.01001,    0.011011,    0.012012,    0.013013,    0.014014,    0.015015,    0.016016,    0.017017,    0.018018,    0.019019,     0.02002,    0.021021,    0.022022,    0.023023,\n",
       "          0.024024,    0.025025,    0.026026,    0.027027,    0.028028,    0.029029,     0.03003,    0.031031,    0.032032,    0.033033,    0.034034,    0.035035,    0.036036,    0.037037,    0.038038,    0.039039,     0.04004,    0.041041,    0.042042,    0.043043,    0.044044,    0.045045,    0.046046,    0.047047,\n",
       "          0.048048,    0.049049,     0.05005,    0.051051,    0.052052,    0.053053,    0.054054,    0.055055,    0.056056,    0.057057,    0.058058,    0.059059,     0.06006,    0.061061,    0.062062,    0.063063,    0.064064,    0.065065,    0.066066,    0.067067,    0.068068,    0.069069,     0.07007,    0.071071,\n",
       "          0.072072,    0.073073,    0.074074,    0.075075,    0.076076,    0.077077,    0.078078,    0.079079,     0.08008,    0.081081,    0.082082,    0.083083,    0.084084,    0.085085,    0.086086,    0.087087,    0.088088,    0.089089,     0.09009,    0.091091,    0.092092,    0.093093,    0.094094,    0.095095,\n",
       "          0.096096,    0.097097,    0.098098,    0.099099,      0.1001,      0.1011,      0.1021,      0.1031,      0.1041,     0.10511,     0.10611,     0.10711,     0.10811,     0.10911,     0.11011,     0.11111,     0.11211,     0.11311,     0.11411,     0.11512,     0.11612,     0.11712,     0.11812,     0.11912,\n",
       "           0.12012,     0.12112,     0.12212,     0.12312,     0.12412,     0.12513,     0.12613,     0.12713,     0.12813,     0.12913,     0.13013,     0.13113,     0.13213,     0.13313,     0.13413,     0.13514,     0.13614,     0.13714,     0.13814,     0.13914,     0.14014,     0.14114,     0.14214,     0.14314,\n",
       "           0.14414,     0.14515,     0.14615,     0.14715,     0.14815,     0.14915,     0.15015,     0.15115,     0.15215,     0.15315,     0.15415,     0.15516,     0.15616,     0.15716,     0.15816,     0.15916,     0.16016,     0.16116,     0.16216,     0.16316,     0.16416,     0.16517,     0.16617,     0.16717,\n",
       "           0.16817,     0.16917,     0.17017,     0.17117,     0.17217,     0.17317,     0.17417,     0.17518,     0.17618,     0.17718,     0.17818,     0.17918,     0.18018,     0.18118,     0.18218,     0.18318,     0.18418,     0.18519,     0.18619,     0.18719,     0.18819,     0.18919,     0.19019,     0.19119,\n",
       "           0.19219,     0.19319,     0.19419,      0.1952,      0.1962,      0.1972,      0.1982,      0.1992,      0.2002,      0.2012,      0.2022,      0.2032,      0.2042,     0.20521,     0.20621,     0.20721,     0.20821,     0.20921,     0.21021,     0.21121,     0.21221,     0.21321,     0.21421,     0.21522,\n",
       "           0.21622,     0.21722,     0.21822,     0.21922,     0.22022,     0.22122,     0.22222,     0.22322,     0.22422,     0.22523,     0.22623,     0.22723,     0.22823,     0.22923,     0.23023,     0.23123,     0.23223,     0.23323,     0.23423,     0.23524,     0.23624,     0.23724,     0.23824,     0.23924,\n",
       "           0.24024,     0.24124,     0.24224,     0.24324,     0.24424,     0.24525,     0.24625,     0.24725,     0.24825,     0.24925,     0.25025,     0.25125,     0.25225,     0.25325,     0.25425,     0.25526,     0.25626,     0.25726,     0.25826,     0.25926,     0.26026,     0.26126,     0.26226,     0.26326,\n",
       "           0.26426,     0.26527,     0.26627,     0.26727,     0.26827,     0.26927,     0.27027,     0.27127,     0.27227,     0.27327,     0.27427,     0.27528,     0.27628,     0.27728,     0.27828,     0.27928,     0.28028,     0.28128,     0.28228,     0.28328,     0.28428,     0.28529,     0.28629,     0.28729,\n",
       "           0.28829,     0.28929,     0.29029,     0.29129,     0.29229,     0.29329,     0.29429,      0.2953,      0.2963,      0.2973,      0.2983,      0.2993,      0.3003,      0.3013,      0.3023,      0.3033,      0.3043,     0.30531,     0.30631,     0.30731,     0.30831,     0.30931,     0.31031,     0.31131,\n",
       "           0.31231,     0.31331,     0.31431,     0.31532,     0.31632,     0.31732,     0.31832,     0.31932,     0.32032,     0.32132,     0.32232,     0.32332,     0.32432,     0.32533,     0.32633,     0.32733,     0.32833,     0.32933,     0.33033,     0.33133,     0.33233,     0.33333,     0.33433,     0.33534,\n",
       "           0.33634,     0.33734,     0.33834,     0.33934,     0.34034,     0.34134,     0.34234,     0.34334,     0.34434,     0.34535,     0.34635,     0.34735,     0.34835,     0.34935,     0.35035,     0.35135,     0.35235,     0.35335,     0.35435,     0.35536,     0.35636,     0.35736,     0.35836,     0.35936,\n",
       "           0.36036,     0.36136,     0.36236,     0.36336,     0.36436,     0.36537,     0.36637,     0.36737,     0.36837,     0.36937,     0.37037,     0.37137,     0.37237,     0.37337,     0.37437,     0.37538,     0.37638,     0.37738,     0.37838,     0.37938,     0.38038,     0.38138,     0.38238,     0.38338,\n",
       "           0.38438,     0.38539,     0.38639,     0.38739,     0.38839,     0.38939,     0.39039,     0.39139,     0.39239,     0.39339,     0.39439,      0.3954,      0.3964,      0.3974,      0.3984,      0.3994,      0.4004,      0.4014,      0.4024,      0.4034,      0.4044,     0.40541,     0.40641,     0.40741,\n",
       "           0.40841,     0.40941,     0.41041,     0.41141,     0.41241,     0.41341,     0.41441,     0.41542,     0.41642,     0.41742,     0.41842,     0.41942,     0.42042,     0.42142,     0.42242,     0.42342,     0.42442,     0.42543,     0.42643,     0.42743,     0.42843,     0.42943,     0.43043,     0.43143,\n",
       "           0.43243,     0.43343,     0.43443,     0.43544,     0.43644,     0.43744,     0.43844,     0.43944,     0.44044,     0.44144,     0.44244,     0.44344,     0.44444,     0.44545,     0.44645,     0.44745,     0.44845,     0.44945,     0.45045,     0.45145,     0.45245,     0.45345,     0.45445,     0.45546,\n",
       "           0.45646,     0.45746,     0.45846,     0.45946,     0.46046,     0.46146,     0.46246,     0.46346,     0.46446,     0.46547,     0.46647,     0.46747,     0.46847,     0.46947,     0.47047,     0.47147,     0.47247,     0.47347,     0.47447,     0.47548,     0.47648,     0.47748,     0.47848,     0.47948,\n",
       "           0.48048,     0.48148,     0.48248,     0.48348,     0.48448,     0.48549,     0.48649,     0.48749,     0.48849,     0.48949,     0.49049,     0.49149,     0.49249,     0.49349,     0.49449,      0.4955,      0.4965,      0.4975,      0.4985,      0.4995,      0.5005,      0.5015,      0.5025,      0.5035,\n",
       "            0.5045,     0.50551,     0.50651,     0.50751,     0.50851,     0.50951,     0.51051,     0.51151,     0.51251,     0.51351,     0.51451,     0.51552,     0.51652,     0.51752,     0.51852,     0.51952,     0.52052,     0.52152,     0.52252,     0.52352,     0.52452,     0.52553,     0.52653,     0.52753,\n",
       "           0.52853,     0.52953,     0.53053,     0.53153,     0.53253,     0.53353,     0.53453,     0.53554,     0.53654,     0.53754,     0.53854,     0.53954,     0.54054,     0.54154,     0.54254,     0.54354,     0.54454,     0.54555,     0.54655,     0.54755,     0.54855,     0.54955,     0.55055,     0.55155,\n",
       "           0.55255,     0.55355,     0.55455,     0.55556,     0.55656,     0.55756,     0.55856,     0.55956,     0.56056,     0.56156,     0.56256,     0.56356,     0.56456,     0.56557,     0.56657,     0.56757,     0.56857,     0.56957,     0.57057,     0.57157,     0.57257,     0.57357,     0.57457,     0.57558,\n",
       "           0.57658,     0.57758,     0.57858,     0.57958,     0.58058,     0.58158,     0.58258,     0.58358,     0.58458,     0.58559,     0.58659,     0.58759,     0.58859,     0.58959,     0.59059,     0.59159,     0.59259,     0.59359,     0.59459,      0.5956,      0.5966,      0.5976,      0.5986,      0.5996,\n",
       "            0.6006,      0.6016,      0.6026,      0.6036,      0.6046,     0.60561,     0.60661,     0.60761,     0.60861,     0.60961,     0.61061,     0.61161,     0.61261,     0.61361,     0.61461,     0.61562,     0.61662,     0.61762,     0.61862,     0.61962,     0.62062,     0.62162,     0.62262,     0.62362,\n",
       "           0.62462,     0.62563,     0.62663,     0.62763,     0.62863,     0.62963,     0.63063,     0.63163,     0.63263,     0.63363,     0.63463,     0.63564,     0.63664,     0.63764,     0.63864,     0.63964,     0.64064,     0.64164,     0.64264,     0.64364,     0.64464,     0.64565,     0.64665,     0.64765,\n",
       "           0.64865,     0.64965,     0.65065,     0.65165,     0.65265,     0.65365,     0.65465,     0.65566,     0.65666,     0.65766,     0.65866,     0.65966,     0.66066,     0.66166,     0.66266,     0.66366,     0.66466,     0.66567,     0.66667,     0.66767,     0.66867,     0.66967,     0.67067,     0.67167,\n",
       "           0.67267,     0.67367,     0.67467,     0.67568,     0.67668,     0.67768,     0.67868,     0.67968,     0.68068,     0.68168,     0.68268,     0.68368,     0.68468,     0.68569,     0.68669,     0.68769,     0.68869,     0.68969,     0.69069,     0.69169,     0.69269,     0.69369,     0.69469,      0.6957,\n",
       "            0.6967,      0.6977,      0.6987,      0.6997,      0.7007,      0.7017,      0.7027,      0.7037,      0.7047,     0.70571,     0.70671,     0.70771,     0.70871,     0.70971,     0.71071,     0.71171,     0.71271,     0.71371,     0.71471,     0.71572,     0.71672,     0.71772,     0.71872,     0.71972,\n",
       "           0.72072,     0.72172,     0.72272,     0.72372,     0.72472,     0.72573,     0.72673,     0.72773,     0.72873,     0.72973,     0.73073,     0.73173,     0.73273,     0.73373,     0.73473,     0.73574,     0.73674,     0.73774,     0.73874,     0.73974,     0.74074,     0.74174,     0.74274,     0.74374,\n",
       "           0.74474,     0.74575,     0.74675,     0.74775,     0.74875,     0.74975,     0.75075,     0.75175,     0.75275,     0.75375,     0.75475,     0.75576,     0.75676,     0.75776,     0.75876,     0.75976,     0.76076,     0.76176,     0.76276,     0.76376,     0.76476,     0.76577,     0.76677,     0.76777,\n",
       "           0.76877,     0.76977,     0.77077,     0.77177,     0.77277,     0.77377,     0.77477,     0.77578,     0.77678,     0.77778,     0.77878,     0.77978,     0.78078,     0.78178,     0.78278,     0.78378,     0.78478,     0.78579,     0.78679,     0.78779,     0.78879,     0.78979,     0.79079,     0.79179,\n",
       "           0.79279,     0.79379,     0.79479,      0.7958,      0.7968,      0.7978,      0.7988,      0.7998,      0.8008,      0.8018,      0.8028,      0.8038,      0.8048,     0.80581,     0.80681,     0.80781,     0.80881,     0.80981,     0.81081,     0.81181,     0.81281,     0.81381,     0.81481,     0.81582,\n",
       "           0.81682,     0.81782,     0.81882,     0.81982,     0.82082,     0.82182,     0.82282,     0.82382,     0.82482,     0.82583,     0.82683,     0.82783,     0.82883,     0.82983,     0.83083,     0.83183,     0.83283,     0.83383,     0.83483,     0.83584,     0.83684,     0.83784,     0.83884,     0.83984,\n",
       "           0.84084,     0.84184,     0.84284,     0.84384,     0.84484,     0.84585,     0.84685,     0.84785,     0.84885,     0.84985,     0.85085,     0.85185,     0.85285,     0.85385,     0.85485,     0.85586,     0.85686,     0.85786,     0.85886,     0.85986,     0.86086,     0.86186,     0.86286,     0.86386,\n",
       "           0.86486,     0.86587,     0.86687,     0.86787,     0.86887,     0.86987,     0.87087,     0.87187,     0.87287,     0.87387,     0.87487,     0.87588,     0.87688,     0.87788,     0.87888,     0.87988,     0.88088,     0.88188,     0.88288,     0.88388,     0.88488,     0.88589,     0.88689,     0.88789,\n",
       "           0.88889,     0.88989,     0.89089,     0.89189,     0.89289,     0.89389,     0.89489,      0.8959,      0.8969,      0.8979,      0.8989,      0.8999,      0.9009,      0.9019,      0.9029,      0.9039,      0.9049,     0.90591,     0.90691,     0.90791,     0.90891,     0.90991,     0.91091,     0.91191,\n",
       "           0.91291,     0.91391,     0.91491,     0.91592,     0.91692,     0.91792,     0.91892,     0.91992,     0.92092,     0.92192,     0.92292,     0.92392,     0.92492,     0.92593,     0.92693,     0.92793,     0.92893,     0.92993,     0.93093,     0.93193,     0.93293,     0.93393,     0.93493,     0.93594,\n",
       "           0.93694,     0.93794,     0.93894,     0.93994,     0.94094,     0.94194,     0.94294,     0.94394,     0.94494,     0.94595,     0.94695,     0.94795,     0.94895,     0.94995,     0.95095,     0.95195,     0.95295,     0.95395,     0.95495,     0.95596,     0.95696,     0.95796,     0.95896,     0.95996,\n",
       "           0.96096,     0.96196,     0.96296,     0.96396,     0.96496,     0.96597,     0.96697,     0.96797,     0.96897,     0.96997,     0.97097,     0.97197,     0.97297,     0.97397,     0.97497,     0.97598,     0.97698,     0.97798,     0.97898,     0.97998,     0.98098,     0.98198,     0.98298,     0.98398,\n",
       "           0.98498,     0.98599,     0.98699,     0.98799,     0.98899,     0.98999,     0.99099,     0.99199,     0.99299,     0.99399,     0.99499,       0.996,       0.997,       0.998,       0.999,           1]), array([[   0.030716,    0.030716,    0.044469,    0.054688,     0.06398,    0.073701,     0.08211,    0.090565,    0.098246,     0.10577,     0.11336,     0.11993,     0.12529,     0.13118,      0.1381,     0.14435,     0.15034,     0.15508,     0.16132,     0.16558,     0.17021,     0.17455,      0.1797,\n",
       "            0.18503,     0.18885,     0.19417,     0.19797,     0.20223,     0.20637,     0.21049,     0.21462,     0.21888,     0.22332,     0.22763,     0.23032,     0.23572,     0.24067,     0.24476,     0.24727,     0.25178,     0.25506,     0.25943,     0.26308,     0.26434,     0.26609,       0.269,\n",
       "            0.27229,     0.27408,     0.27813,     0.28065,      0.2839,     0.28703,     0.28895,     0.29319,     0.29605,     0.29752,     0.30156,     0.30434,     0.30887,     0.31263,     0.31527,       0.319,     0.32243,     0.32742,     0.32964,     0.33347,     0.33856,     0.34237,     0.34594,\n",
       "            0.34693,     0.35145,     0.35309,     0.35395,     0.35574,     0.35788,     0.36087,     0.36393,     0.36785,     0.37033,     0.37305,     0.37669,     0.37869,     0.37973,     0.38395,     0.38606,     0.38847,     0.38936,     0.39213,     0.39575,     0.39729,     0.40147,     0.40407,\n",
       "            0.40752,     0.41138,     0.41318,     0.41494,      0.4167,     0.41867,     0.42284,      0.4261,      0.4265,     0.42683,     0.42871,     0.43019,     0.43513,     0.43851,      0.4386,     0.44049,     0.44444,     0.44443,     0.44706,      0.4484,     0.44922,     0.45106,     0.45283,\n",
       "            0.45383,     0.45711,     0.46097,     0.46441,     0.46778,     0.47091,     0.47237,     0.47306,     0.47327,     0.47583,     0.47691,     0.47936,     0.47995,     0.48229,     0.48409,     0.48768,     0.49043,     0.48996,     0.49187,     0.49229,     0.49359,     0.49364,     0.49563,\n",
       "            0.49751,     0.49994,     0.50341,       0.504,     0.50523,     0.50752,     0.50713,      0.5085,     0.50816,     0.51086,     0.50931,      0.5088,     0.51114,     0.51372,     0.51457,     0.51556,     0.51533,     0.51625,     0.51869,     0.52091,     0.52373,     0.52227,     0.52191,\n",
       "            0.52216,     0.52202,     0.52447,     0.52571,     0.53261,     0.53179,     0.53225,      0.5317,      0.5309,     0.53356,     0.53399,     0.53456,     0.53419,     0.53707,     0.54195,     0.54469,     0.54488,     0.54428,     0.54549,     0.54635,     0.54671,     0.54707,     0.54921,\n",
       "            0.54852,     0.54922,     0.54953,     0.54963,     0.55105,     0.55403,     0.55429,     0.55501,     0.55646,     0.55826,     0.55684,     0.55957,     0.56124,      0.5602,     0.55999,     0.56056,     0.56198,     0.56318,     0.56504,     0.56701,     0.56759,     0.56754,     0.56924,\n",
       "            0.57142,     0.57332,     0.57745,     0.58114,     0.58308,     0.58236,     0.58201,     0.58159,     0.58093,     0.58275,     0.58517,     0.58677,     0.58772,     0.58867,     0.59061,     0.59169,     0.59148,     0.59291,     0.59602,     0.59716,     0.60318,     0.60311,     0.60348,\n",
       "            0.60476,     0.60477,     0.60583,      0.6068,     0.60838,     0.60817,     0.60731,     0.61018,     0.60956,     0.61188,     0.61533,     0.61583,     0.61487,     0.61577,     0.61527,     0.61559,     0.61563,     0.61765,     0.61673,     0.61604,     0.61357,     0.61307,     0.61281,\n",
       "            0.61255,     0.61229,     0.61193,      0.6115,      0.6107,       0.611,     0.61207,     0.61331,     0.61408,     0.61952,     0.62163,     0.62376,     0.62498,     0.62614,     0.62836,     0.62925,     0.62805,     0.62851,     0.62905,     0.62959,     0.62897,      0.6303,     0.63325,\n",
       "            0.63556,     0.63654,     0.63931,     0.64037,     0.64057,     0.64097,     0.64071,     0.64005,     0.64083,       0.642,     0.64598,     0.64728,     0.64705,     0.64681,     0.64658,     0.64506,     0.64413,     0.64355,      0.6442,     0.64361,     0.64194,     0.64168,     0.64142,\n",
       "            0.64116,      0.6395,     0.64058,     0.64166,     0.64286,     0.64705,     0.64867,     0.64978,     0.64921,     0.65207,     0.65354,     0.65543,     0.65656,      0.6578,     0.65895,     0.65949,      0.6589,     0.65801,     0.65946,     0.65908,     0.65837,     0.65799,     0.65971,\n",
       "            0.66309,     0.66735,     0.66851,     0.67169,     0.67382,       0.678,      0.6809,     0.68093,      0.6814,     0.68549,     0.68701,     0.68823,     0.68938,     0.69027,     0.69111,     0.69222,     0.69625,     0.69566,     0.69518,      0.6948,     0.69442,     0.69206,     0.69176,\n",
       "            0.69146,     0.69223,     0.69335,     0.69274,     0.69158,     0.69552,     0.69795,     0.69885,     0.69976,     0.70013,     0.69952,     0.69987,     0.69892,     0.70009,     0.70147,     0.69929,     0.70078,     0.70148,     0.70024,      0.7012,     0.70186,     0.70129,     0.70348,\n",
       "            0.70265,     0.70372,     0.70331,     0.70338,     0.70474,     0.70685,     0.70766,     0.70652,     0.70536,      0.7028,     0.70357,      0.7045,     0.70546,     0.71173,     0.71914,     0.72074,     0.71864,     0.71798,     0.71699,      0.7162,     0.71561,      0.7242,     0.72384,\n",
       "            0.72272,     0.72355,     0.72438,     0.72522,     0.72692,     0.72834,     0.72481,      0.7319,     0.73404,     0.73492,      0.7358,     0.73668,     0.73955,     0.74035,     0.74203,     0.74184,     0.74141,     0.74095,     0.74035,     0.74078,     0.74308,     0.74248,     0.74198,\n",
       "            0.74166,     0.74134,     0.74102,      0.7405,      0.7399,     0.73809,     0.73747,     0.73637,     0.73512,     0.73429,     0.73351,     0.73246,     0.73297,     0.73347,     0.73398,     0.73448,     0.73499,      0.7355,     0.73639,     0.73818,     0.74061,     0.74578,     0.74499,\n",
       "            0.74467,     0.74436,     0.74404,     0.74671,     0.74606,     0.74731,     0.74857,      0.7557,     0.75789,     0.75983,     0.76358,     0.76387,     0.76519,     0.76648,     0.76526,     0.76403,     0.76308,      0.7654,     0.76668,     0.76627,     0.76585,     0.76625,     0.76892,\n",
       "            0.76996,       0.771,     0.77204,      0.7749,     0.77587,     0.77342,     0.77216,     0.77088,     0.77019,     0.76976,     0.76933,     0.76873,     0.76808,     0.76974,     0.77193,     0.77318,     0.77428,     0.77539,      0.7765,     0.77612,     0.77569,     0.77536,     0.77761,\n",
       "            0.77849,      0.7794,     0.78031,     0.78122,     0.78213,     0.79182,     0.79141,       0.791,     0.79203,     0.79982,     0.79921,     0.80336,     0.80276,     0.80223,     0.80182,     0.80142,     0.80846,     0.81083,     0.81053,     0.81023,     0.80994,     0.80791,     0.80669,\n",
       "            0.80616,      0.8079,     0.80964,     0.80923,     0.81287,     0.81514,     0.81648,     0.81783,     0.81917,     0.81831,     0.82485,     0.82765,     0.82745,     0.82705,     0.82669,     0.82859,     0.83048,     0.83211,     0.83102,     0.83043,     0.82974,     0.83206,     0.83145,\n",
       "            0.83145,     0.83347,     0.83548,     0.83679,     0.83649,     0.83619,     0.83589,     0.83523,     0.83427,     0.83365,     0.83304,     0.83241,     0.83145,     0.83018,     0.82888,     0.82757,     0.82686,     0.82652,     0.82619,     0.82585,     0.82692,     0.82854,     0.83015,\n",
       "            0.83177,     0.83743,      0.8381,     0.83767,     0.83725,     0.83537,     0.83772,     0.83937,     0.83804,     0.83704,     0.83636,     0.83595,     0.83575,     0.83555,     0.83536,     0.83516,     0.83496,     0.83476,      0.8345,     0.83422,     0.83394,     0.83365,     0.83337,\n",
       "            0.83181,     0.83167,     0.83153,      0.8314,     0.83126,     0.83112,     0.83098,     0.83084,      0.8307,     0.83056,     0.82812,     0.82739,     0.82708,     0.82677,     0.82646,     0.82616,     0.82488,     0.82605,     0.82792,     0.82979,     0.83166,     0.83458,     0.83762,\n",
       "             0.8428,     0.84616,     0.84472,     0.84509,     0.84709,      0.8491,      0.8511,     0.84956,     0.84664,     0.84993,     0.85422,     0.85348,     0.85281,     0.85231,     0.85182,     0.85142,     0.85121,     0.85101,     0.85081,     0.85061,      0.8504,      0.8502,     0.85002,\n",
       "            0.85162,     0.85322,     0.85482,     0.85642,     0.85802,     0.85827,     0.85777,     0.85728,     0.86227,     0.86415,     0.86356,       0.863,     0.86251,     0.86201,     0.86112,     0.86108,     0.86321,     0.86534,     0.86747,     0.86955,     0.86882,     0.86804,     0.86639,\n",
       "             0.8647,     0.86391,     0.86329,     0.86275,     0.86222,     0.86356,     0.86561,     0.86766,     0.86972,     0.87177,     0.87957,     0.88072,     0.88045,     0.88019,     0.87992,     0.87965,     0.87643,      0.8762,     0.87598,     0.87575,     0.87553,      0.8753,     0.87507,\n",
       "            0.87445,     0.87364,     0.87895,     0.88291,     0.88212,     0.88108,     0.88813,     0.89061,     0.88905,     0.88868,     0.88845,     0.88823,       0.888,     0.88777,     0.88754,     0.88722,     0.88568,     0.88525,     0.88483,      0.8844,     0.88441,     0.88632,     0.88822,\n",
       "            0.89013,     0.89203,     0.89393,     0.89584,     0.89829,     0.90172,     0.90515,     0.90858,     0.91027,     0.90987,     0.90947,     0.90907,     0.90849,     0.90792,     0.90757,     0.90738,     0.90718,     0.90698,     0.90679,     0.90659,     0.90639,     0.90581,     0.90631,\n",
       "            0.91129,     0.91628,     0.93851,     0.94915,      0.9496,     0.94917,     0.94857,     0.94796,     0.94736,     0.94719,     0.94701,     0.94684,     0.94666,     0.94649,     0.94528,     0.94502,     0.94476,      0.9445,     0.94436,     0.94424,     0.94413,     0.94402,      0.9439,\n",
       "            0.94379,     0.94368,     0.94357,     0.94345,     0.94311,     0.94256,     0.94215,     0.94186,     0.94157,     0.94128,       0.941,     0.94073,     0.94047,      0.9402,     0.93995,     0.93976,     0.93956,     0.93937,     0.93918,     0.93898,     0.93879,     0.93797,     0.93734,\n",
       "              0.937,     0.93666,     0.93632,     0.93597,     0.93562,     0.93526,     0.93491,     0.93439,      0.9338,     0.93267,      0.9317,     0.93154,     0.93138,     0.93121,     0.93105,     0.93089,     0.93072,     0.93056,      0.9304,     0.93024,      0.9283,     0.92803,     0.92776,\n",
       "            0.92748,     0.92721,     0.92693,     0.92644,     0.92581,     0.92519,     0.92465,     0.92416,     0.92367,     0.92318,     0.92225,     0.92121,     0.92052,      0.9199,     0.91927,     0.91825,     0.91671,     0.91572,     0.91474,     0.91404,     0.91357,      0.9131,     0.91263,\n",
       "            0.91216,     0.91393,     0.93671,     0.93535,     0.93516,     0.93497,     0.93477,     0.93458,     0.93439,      0.9342,     0.93401,     0.93382,     0.93362,     0.93343,     0.93301,     0.93233,     0.93166,     0.93092,     0.92924,     0.92802,     0.92712,     0.92622,     0.92821,\n",
       "            0.93578,     0.94335,     0.95092,     0.95849,     0.95863,     0.95585,     0.95504,     0.95369,     0.95038,     0.94713,     0.94659,     0.94604,      0.9455,     0.94495,     0.94441,     0.94385,     0.94329,     0.94273,     0.94217,     0.94161,     0.94985,     0.99005,           1,\n",
       "                  1,           1,           1,           1,           1,           1,           1,           1,           1,           1,           1,           1,           1,           1,           1,           1,           1,           1,           1,           1,           1,           1,           1,\n",
       "                  1,           1,           1,           1,           1,           1,           1,           1,           1,           1,           1,           1,           1,           1,           1,           1,           1,           1,           1,           1,           1,           1,           1,\n",
       "                  1,           1,           1,           1,           1,           1,           1,           1,           1,           1,           1,           1,           1,           1,           1,           1,           1,           1,           1,           1,           1,           1,           1,\n",
       "                  1,           1,           1,           1,           1,           1,           1,           1,           1,           1,           1,           1,           1,           1,           1,           1,           1,           1,           1,           1,           1,           1,           1,\n",
       "                  1,           1,           1,           1,           1,           1,           1,           1,           1,           1,           1,           1,           1,           1,           1,           1,           1,           1,           1,           1,           1,           1,           1,\n",
       "                  1,           1,           1,           1,           1,           1,           1,           1,           1,           1,           1,           1,           1,           1,           1,           1,           1,           1,           1,           1,           1,           1,           1,\n",
       "                  1,           1,           1,           1,           1,           1,           1,           1,           1,           1,           1]]), 'Confidence', 'Precision'], [array([          0,    0.001001,    0.002002,    0.003003,    0.004004,    0.005005,    0.006006,    0.007007,    0.008008,    0.009009,     0.01001,    0.011011,    0.012012,    0.013013,    0.014014,    0.015015,    0.016016,    0.017017,    0.018018,    0.019019,     0.02002,    0.021021,    0.022022,    0.023023,\n",
       "          0.024024,    0.025025,    0.026026,    0.027027,    0.028028,    0.029029,     0.03003,    0.031031,    0.032032,    0.033033,    0.034034,    0.035035,    0.036036,    0.037037,    0.038038,    0.039039,     0.04004,    0.041041,    0.042042,    0.043043,    0.044044,    0.045045,    0.046046,    0.047047,\n",
       "          0.048048,    0.049049,     0.05005,    0.051051,    0.052052,    0.053053,    0.054054,    0.055055,    0.056056,    0.057057,    0.058058,    0.059059,     0.06006,    0.061061,    0.062062,    0.063063,    0.064064,    0.065065,    0.066066,    0.067067,    0.068068,    0.069069,     0.07007,    0.071071,\n",
       "          0.072072,    0.073073,    0.074074,    0.075075,    0.076076,    0.077077,    0.078078,    0.079079,     0.08008,    0.081081,    0.082082,    0.083083,    0.084084,    0.085085,    0.086086,    0.087087,    0.088088,    0.089089,     0.09009,    0.091091,    0.092092,    0.093093,    0.094094,    0.095095,\n",
       "          0.096096,    0.097097,    0.098098,    0.099099,      0.1001,      0.1011,      0.1021,      0.1031,      0.1041,     0.10511,     0.10611,     0.10711,     0.10811,     0.10911,     0.11011,     0.11111,     0.11211,     0.11311,     0.11411,     0.11512,     0.11612,     0.11712,     0.11812,     0.11912,\n",
       "           0.12012,     0.12112,     0.12212,     0.12312,     0.12412,     0.12513,     0.12613,     0.12713,     0.12813,     0.12913,     0.13013,     0.13113,     0.13213,     0.13313,     0.13413,     0.13514,     0.13614,     0.13714,     0.13814,     0.13914,     0.14014,     0.14114,     0.14214,     0.14314,\n",
       "           0.14414,     0.14515,     0.14615,     0.14715,     0.14815,     0.14915,     0.15015,     0.15115,     0.15215,     0.15315,     0.15415,     0.15516,     0.15616,     0.15716,     0.15816,     0.15916,     0.16016,     0.16116,     0.16216,     0.16316,     0.16416,     0.16517,     0.16617,     0.16717,\n",
       "           0.16817,     0.16917,     0.17017,     0.17117,     0.17217,     0.17317,     0.17417,     0.17518,     0.17618,     0.17718,     0.17818,     0.17918,     0.18018,     0.18118,     0.18218,     0.18318,     0.18418,     0.18519,     0.18619,     0.18719,     0.18819,     0.18919,     0.19019,     0.19119,\n",
       "           0.19219,     0.19319,     0.19419,      0.1952,      0.1962,      0.1972,      0.1982,      0.1992,      0.2002,      0.2012,      0.2022,      0.2032,      0.2042,     0.20521,     0.20621,     0.20721,     0.20821,     0.20921,     0.21021,     0.21121,     0.21221,     0.21321,     0.21421,     0.21522,\n",
       "           0.21622,     0.21722,     0.21822,     0.21922,     0.22022,     0.22122,     0.22222,     0.22322,     0.22422,     0.22523,     0.22623,     0.22723,     0.22823,     0.22923,     0.23023,     0.23123,     0.23223,     0.23323,     0.23423,     0.23524,     0.23624,     0.23724,     0.23824,     0.23924,\n",
       "           0.24024,     0.24124,     0.24224,     0.24324,     0.24424,     0.24525,     0.24625,     0.24725,     0.24825,     0.24925,     0.25025,     0.25125,     0.25225,     0.25325,     0.25425,     0.25526,     0.25626,     0.25726,     0.25826,     0.25926,     0.26026,     0.26126,     0.26226,     0.26326,\n",
       "           0.26426,     0.26527,     0.26627,     0.26727,     0.26827,     0.26927,     0.27027,     0.27127,     0.27227,     0.27327,     0.27427,     0.27528,     0.27628,     0.27728,     0.27828,     0.27928,     0.28028,     0.28128,     0.28228,     0.28328,     0.28428,     0.28529,     0.28629,     0.28729,\n",
       "           0.28829,     0.28929,     0.29029,     0.29129,     0.29229,     0.29329,     0.29429,      0.2953,      0.2963,      0.2973,      0.2983,      0.2993,      0.3003,      0.3013,      0.3023,      0.3033,      0.3043,     0.30531,     0.30631,     0.30731,     0.30831,     0.30931,     0.31031,     0.31131,\n",
       "           0.31231,     0.31331,     0.31431,     0.31532,     0.31632,     0.31732,     0.31832,     0.31932,     0.32032,     0.32132,     0.32232,     0.32332,     0.32432,     0.32533,     0.32633,     0.32733,     0.32833,     0.32933,     0.33033,     0.33133,     0.33233,     0.33333,     0.33433,     0.33534,\n",
       "           0.33634,     0.33734,     0.33834,     0.33934,     0.34034,     0.34134,     0.34234,     0.34334,     0.34434,     0.34535,     0.34635,     0.34735,     0.34835,     0.34935,     0.35035,     0.35135,     0.35235,     0.35335,     0.35435,     0.35536,     0.35636,     0.35736,     0.35836,     0.35936,\n",
       "           0.36036,     0.36136,     0.36236,     0.36336,     0.36436,     0.36537,     0.36637,     0.36737,     0.36837,     0.36937,     0.37037,     0.37137,     0.37237,     0.37337,     0.37437,     0.37538,     0.37638,     0.37738,     0.37838,     0.37938,     0.38038,     0.38138,     0.38238,     0.38338,\n",
       "           0.38438,     0.38539,     0.38639,     0.38739,     0.38839,     0.38939,     0.39039,     0.39139,     0.39239,     0.39339,     0.39439,      0.3954,      0.3964,      0.3974,      0.3984,      0.3994,      0.4004,      0.4014,      0.4024,      0.4034,      0.4044,     0.40541,     0.40641,     0.40741,\n",
       "           0.40841,     0.40941,     0.41041,     0.41141,     0.41241,     0.41341,     0.41441,     0.41542,     0.41642,     0.41742,     0.41842,     0.41942,     0.42042,     0.42142,     0.42242,     0.42342,     0.42442,     0.42543,     0.42643,     0.42743,     0.42843,     0.42943,     0.43043,     0.43143,\n",
       "           0.43243,     0.43343,     0.43443,     0.43544,     0.43644,     0.43744,     0.43844,     0.43944,     0.44044,     0.44144,     0.44244,     0.44344,     0.44444,     0.44545,     0.44645,     0.44745,     0.44845,     0.44945,     0.45045,     0.45145,     0.45245,     0.45345,     0.45445,     0.45546,\n",
       "           0.45646,     0.45746,     0.45846,     0.45946,     0.46046,     0.46146,     0.46246,     0.46346,     0.46446,     0.46547,     0.46647,     0.46747,     0.46847,     0.46947,     0.47047,     0.47147,     0.47247,     0.47347,     0.47447,     0.47548,     0.47648,     0.47748,     0.47848,     0.47948,\n",
       "           0.48048,     0.48148,     0.48248,     0.48348,     0.48448,     0.48549,     0.48649,     0.48749,     0.48849,     0.48949,     0.49049,     0.49149,     0.49249,     0.49349,     0.49449,      0.4955,      0.4965,      0.4975,      0.4985,      0.4995,      0.5005,      0.5015,      0.5025,      0.5035,\n",
       "            0.5045,     0.50551,     0.50651,     0.50751,     0.50851,     0.50951,     0.51051,     0.51151,     0.51251,     0.51351,     0.51451,     0.51552,     0.51652,     0.51752,     0.51852,     0.51952,     0.52052,     0.52152,     0.52252,     0.52352,     0.52452,     0.52553,     0.52653,     0.52753,\n",
       "           0.52853,     0.52953,     0.53053,     0.53153,     0.53253,     0.53353,     0.53453,     0.53554,     0.53654,     0.53754,     0.53854,     0.53954,     0.54054,     0.54154,     0.54254,     0.54354,     0.54454,     0.54555,     0.54655,     0.54755,     0.54855,     0.54955,     0.55055,     0.55155,\n",
       "           0.55255,     0.55355,     0.55455,     0.55556,     0.55656,     0.55756,     0.55856,     0.55956,     0.56056,     0.56156,     0.56256,     0.56356,     0.56456,     0.56557,     0.56657,     0.56757,     0.56857,     0.56957,     0.57057,     0.57157,     0.57257,     0.57357,     0.57457,     0.57558,\n",
       "           0.57658,     0.57758,     0.57858,     0.57958,     0.58058,     0.58158,     0.58258,     0.58358,     0.58458,     0.58559,     0.58659,     0.58759,     0.58859,     0.58959,     0.59059,     0.59159,     0.59259,     0.59359,     0.59459,      0.5956,      0.5966,      0.5976,      0.5986,      0.5996,\n",
       "            0.6006,      0.6016,      0.6026,      0.6036,      0.6046,     0.60561,     0.60661,     0.60761,     0.60861,     0.60961,     0.61061,     0.61161,     0.61261,     0.61361,     0.61461,     0.61562,     0.61662,     0.61762,     0.61862,     0.61962,     0.62062,     0.62162,     0.62262,     0.62362,\n",
       "           0.62462,     0.62563,     0.62663,     0.62763,     0.62863,     0.62963,     0.63063,     0.63163,     0.63263,     0.63363,     0.63463,     0.63564,     0.63664,     0.63764,     0.63864,     0.63964,     0.64064,     0.64164,     0.64264,     0.64364,     0.64464,     0.64565,     0.64665,     0.64765,\n",
       "           0.64865,     0.64965,     0.65065,     0.65165,     0.65265,     0.65365,     0.65465,     0.65566,     0.65666,     0.65766,     0.65866,     0.65966,     0.66066,     0.66166,     0.66266,     0.66366,     0.66466,     0.66567,     0.66667,     0.66767,     0.66867,     0.66967,     0.67067,     0.67167,\n",
       "           0.67267,     0.67367,     0.67467,     0.67568,     0.67668,     0.67768,     0.67868,     0.67968,     0.68068,     0.68168,     0.68268,     0.68368,     0.68468,     0.68569,     0.68669,     0.68769,     0.68869,     0.68969,     0.69069,     0.69169,     0.69269,     0.69369,     0.69469,      0.6957,\n",
       "            0.6967,      0.6977,      0.6987,      0.6997,      0.7007,      0.7017,      0.7027,      0.7037,      0.7047,     0.70571,     0.70671,     0.70771,     0.70871,     0.70971,     0.71071,     0.71171,     0.71271,     0.71371,     0.71471,     0.71572,     0.71672,     0.71772,     0.71872,     0.71972,\n",
       "           0.72072,     0.72172,     0.72272,     0.72372,     0.72472,     0.72573,     0.72673,     0.72773,     0.72873,     0.72973,     0.73073,     0.73173,     0.73273,     0.73373,     0.73473,     0.73574,     0.73674,     0.73774,     0.73874,     0.73974,     0.74074,     0.74174,     0.74274,     0.74374,\n",
       "           0.74474,     0.74575,     0.74675,     0.74775,     0.74875,     0.74975,     0.75075,     0.75175,     0.75275,     0.75375,     0.75475,     0.75576,     0.75676,     0.75776,     0.75876,     0.75976,     0.76076,     0.76176,     0.76276,     0.76376,     0.76476,     0.76577,     0.76677,     0.76777,\n",
       "           0.76877,     0.76977,     0.77077,     0.77177,     0.77277,     0.77377,     0.77477,     0.77578,     0.77678,     0.77778,     0.77878,     0.77978,     0.78078,     0.78178,     0.78278,     0.78378,     0.78478,     0.78579,     0.78679,     0.78779,     0.78879,     0.78979,     0.79079,     0.79179,\n",
       "           0.79279,     0.79379,     0.79479,      0.7958,      0.7968,      0.7978,      0.7988,      0.7998,      0.8008,      0.8018,      0.8028,      0.8038,      0.8048,     0.80581,     0.80681,     0.80781,     0.80881,     0.80981,     0.81081,     0.81181,     0.81281,     0.81381,     0.81481,     0.81582,\n",
       "           0.81682,     0.81782,     0.81882,     0.81982,     0.82082,     0.82182,     0.82282,     0.82382,     0.82482,     0.82583,     0.82683,     0.82783,     0.82883,     0.82983,     0.83083,     0.83183,     0.83283,     0.83383,     0.83483,     0.83584,     0.83684,     0.83784,     0.83884,     0.83984,\n",
       "           0.84084,     0.84184,     0.84284,     0.84384,     0.84484,     0.84585,     0.84685,     0.84785,     0.84885,     0.84985,     0.85085,     0.85185,     0.85285,     0.85385,     0.85485,     0.85586,     0.85686,     0.85786,     0.85886,     0.85986,     0.86086,     0.86186,     0.86286,     0.86386,\n",
       "           0.86486,     0.86587,     0.86687,     0.86787,     0.86887,     0.86987,     0.87087,     0.87187,     0.87287,     0.87387,     0.87487,     0.87588,     0.87688,     0.87788,     0.87888,     0.87988,     0.88088,     0.88188,     0.88288,     0.88388,     0.88488,     0.88589,     0.88689,     0.88789,\n",
       "           0.88889,     0.88989,     0.89089,     0.89189,     0.89289,     0.89389,     0.89489,      0.8959,      0.8969,      0.8979,      0.8989,      0.8999,      0.9009,      0.9019,      0.9029,      0.9039,      0.9049,     0.90591,     0.90691,     0.90791,     0.90891,     0.90991,     0.91091,     0.91191,\n",
       "           0.91291,     0.91391,     0.91491,     0.91592,     0.91692,     0.91792,     0.91892,     0.91992,     0.92092,     0.92192,     0.92292,     0.92392,     0.92492,     0.92593,     0.92693,     0.92793,     0.92893,     0.92993,     0.93093,     0.93193,     0.93293,     0.93393,     0.93493,     0.93594,\n",
       "           0.93694,     0.93794,     0.93894,     0.93994,     0.94094,     0.94194,     0.94294,     0.94394,     0.94494,     0.94595,     0.94695,     0.94795,     0.94895,     0.94995,     0.95095,     0.95195,     0.95295,     0.95395,     0.95495,     0.95596,     0.95696,     0.95796,     0.95896,     0.95996,\n",
       "           0.96096,     0.96196,     0.96296,     0.96396,     0.96496,     0.96597,     0.96697,     0.96797,     0.96897,     0.96997,     0.97097,     0.97197,     0.97297,     0.97397,     0.97497,     0.97598,     0.97698,     0.97798,     0.97898,     0.97998,     0.98098,     0.98198,     0.98298,     0.98398,\n",
       "           0.98498,     0.98599,     0.98699,     0.98799,     0.98899,     0.98999,     0.99099,     0.99199,     0.99299,     0.99399,     0.99499,       0.996,       0.997,       0.998,       0.999,           1]), array([[     0.7825,      0.7825,     0.77091,     0.75804,     0.74389,     0.73102,     0.71943,       0.713,     0.70528,     0.69112,     0.68468,     0.67954,     0.66915,     0.66538,     0.66152,     0.65766,      0.6538,     0.64994,     0.64736,     0.64203,     0.63835,      0.6332,     0.62934,\n",
       "            0.62677,     0.62548,     0.62033,     0.61647,      0.6139,     0.61133,     0.60875,     0.60618,     0.60082,     0.59846,     0.59846,     0.59459,     0.59202,     0.59149,     0.58945,     0.58044,     0.58044,     0.57786,     0.57708,     0.57143,     0.56371,     0.55985,     0.55727,\n",
       "             0.5547,     0.55212,     0.55084,     0.54826,     0.54698,     0.54569,      0.5444,      0.5444,     0.54054,     0.53473,     0.53282,     0.53153,     0.52896,     0.52767,      0.5251,     0.52329,     0.52252,     0.52124,     0.51995,     0.51995,     0.51995,     0.51866,     0.51866,\n",
       "            0.51609,     0.51609,      0.5148,     0.51094,     0.50837,     0.50784,     0.50708,     0.50708,     0.50708,     0.50708,     0.50579,     0.50322,     0.50322,     0.50193,     0.50193,     0.50193,     0.50064,     0.49936,     0.49814,     0.49678,      0.4955,     0.49421,     0.49292,\n",
       "            0.49292,     0.49163,     0.49163,     0.48906,     0.48777,     0.48649,     0.48649,     0.48649,     0.48046,     0.47619,     0.47233,     0.47104,     0.47104,     0.47104,     0.46976,     0.46811,     0.46538,     0.46461,     0.46461,     0.46332,     0.46332,     0.46332,     0.46203,\n",
       "            0.46092,     0.46075,     0.45817,      0.4556,      0.4536,     0.45302,     0.45302,     0.45177,     0.45045,     0.44916,     0.44659,     0.44659,     0.44541,     0.44361,     0.44144,     0.44144,     0.44144,     0.43629,     0.43603,     0.43501,     0.43403,      0.4316,     0.42986,\n",
       "            0.42986,     0.42986,     0.42857,     0.42633,       0.426,     0.42442,     0.42376,     0.42341,     0.42214,     0.42207,     0.41946,     0.41699,     0.41699,     0.41699,      0.4157,     0.41441,     0.41313,     0.41313,     0.41184,     0.41055,     0.41055,     0.40803,     0.40603,\n",
       "            0.40412,     0.40283,     0.40283,     0.40283,     0.40154,     0.39897,     0.39834,      0.3964,     0.39181,     0.38996,     0.38996,     0.38728,      0.3861,     0.38481,     0.38481,     0.38481,     0.38367,      0.3812,     0.38095,     0.38095,     0.38095,     0.38095,     0.37945,\n",
       "             0.3784,     0.37709,     0.37523,     0.37382,     0.37323,     0.37194,     0.36973,     0.36937,     0.36937,      0.3692,     0.36709,     0.36627,     0.36547,     0.36394,     0.36293,     0.36293,     0.36293,     0.36165,     0.36165,     0.36165,     0.36165,     0.35907,     0.35907,\n",
       "            0.35907,     0.35779,     0.35779,      0.3565,     0.35521,     0.35353,     0.35303,     0.35242,     0.35146,     0.35006,     0.34878,     0.34878,     0.34878,     0.34749,     0.34749,     0.34749,      0.3462,      0.3462,      0.3462,     0.34492,     0.34492,      0.3442,     0.34363,\n",
       "            0.34363,     0.34267,     0.34234,     0.34234,     0.34234,     0.34159,     0.34036,     0.33843,     0.33755,     0.33719,     0.33719,     0.33628,     0.33462,     0.33414,     0.33343,     0.33182,     0.33076,     0.33076,     0.32928,     0.32832,     0.32491,     0.32423,     0.32388,\n",
       "            0.32352,     0.32317,     0.32268,     0.32209,     0.32101,     0.32046,     0.32046,     0.32046,     0.32046,     0.32046,     0.32046,     0.32046,     0.32046,     0.32046,     0.32046,     0.31891,      0.3166,     0.31573,     0.31532,       0.315,     0.31403,     0.31403,     0.31274,\n",
       "            0.31145,     0.31145,     0.31024,     0.31017,     0.30965,     0.30888,     0.30754,     0.30666,     0.30631,     0.30502,     0.30245,     0.30231,       0.302,     0.30169,     0.30138,     0.29939,     0.29817,     0.29742,     0.29593,     0.29518,     0.29073,      0.2904,     0.29007,\n",
       "            0.28974,       0.287,       0.287,       0.287,       0.287,       0.287,       0.287,       0.287,     0.28583,     0.28571,     0.28571,     0.28571,     0.28571,     0.28443,     0.28443,     0.28416,     0.28341,     0.28229,     0.28185,     0.28115,     0.28027,     0.27928,     0.27928,\n",
       "            0.27928,     0.27928,     0.27771,     0.27648,     0.27542,     0.27542,     0.27542,     0.27466,     0.27413,     0.27156,     0.27156,     0.27156,     0.27156,     0.27156,     0.27156,     0.27156,      0.2714,     0.27065,     0.27003,     0.26955,     0.26907,      0.2661,     0.26573,\n",
       "            0.26535,     0.26512,      0.2648,     0.26405,     0.26126,     0.25869,     0.25869,     0.25869,     0.25869,     0.25842,     0.25767,     0.25611,     0.25395,     0.25236,     0.25101,     0.24839,     0.24839,     0.24799,     0.24653,     0.24582,     0.24541,     0.24475,     0.24453,\n",
       "             0.2433,      0.2415,     0.24102,     0.24067,     0.24067,     0.24067,     0.23988,     0.23857,     0.23725,     0.23435,     0.23423,     0.23423,     0.23423,     0.23423,     0.23295,     0.23252,     0.23011,     0.22935,     0.22824,     0.22736,      0.2267,     0.22394,     0.22264,\n",
       "            0.22136,     0.22136,     0.22136,     0.22136,     0.22136,     0.22084,     0.21694,     0.21622,     0.21622,     0.21622,     0.21622,     0.21622,     0.21622,     0.21493,     0.21493,      0.2145,     0.21402,     0.21351,     0.21285,     0.21236,     0.21217,     0.21151,     0.21095,\n",
       "             0.2106,     0.21025,      0.2099,     0.20934,     0.20868,     0.20673,     0.20607,     0.20491,     0.20359,     0.20273,     0.20192,     0.20077,     0.20077,     0.20077,     0.20077,     0.20077,     0.20077,     0.20077,     0.20077,     0.20077,     0.20077,     0.20011,     0.19927,\n",
       "            0.19894,     0.19861,     0.19828,      0.1982,     0.19562,     0.19562,     0.19562,     0.19562,     0.19562,     0.19562,     0.19562,     0.19434,     0.19434,     0.19432,       0.193,     0.19168,     0.19048,     0.19048,     0.19031,     0.18987,     0.18943,      0.1879,      0.1879,\n",
       "             0.1879,      0.1879,      0.1879,      0.1879,     0.18712,     0.18451,     0.18319,     0.18187,     0.18116,     0.18072,     0.18028,     0.17967,     0.17901,     0.17889,     0.17889,     0.17889,     0.17889,     0.17889,     0.17889,     0.17847,     0.17803,     0.17761,     0.17761,\n",
       "            0.17632,     0.17632,     0.17632,     0.17632,     0.17632,     0.17623,     0.17579,     0.17535,     0.17503,     0.17483,     0.17417,     0.17351,     0.17285,     0.17228,     0.17184,      0.1714,     0.17117,     0.17101,     0.17068,     0.17035,     0.17002,     0.16781,     0.16649,\n",
       "            0.16474,     0.16474,     0.16474,     0.16379,     0.16345,     0.16345,     0.16345,     0.16345,     0.16345,     0.16231,     0.16088,     0.16088,     0.16046,     0.16002,     0.15959,     0.15959,     0.15959,     0.15947,     0.15823,     0.15757,      0.1568,     0.15303,     0.15237,\n",
       "            0.15187,     0.15187,     0.15187,     0.15177,     0.15144,     0.15111,     0.15078,     0.15005,     0.14901,     0.14835,     0.14769,     0.14703,     0.14603,     0.14471,     0.14339,     0.14207,     0.14136,     0.14103,     0.14071,     0.14038,     0.14028,     0.14028,     0.14028,\n",
       "            0.14028,     0.14028,     0.13991,     0.13947,     0.13903,     0.13714,     0.13642,     0.13451,     0.13319,     0.13221,     0.13155,     0.13117,     0.13098,     0.13079,      0.1306,     0.13041,     0.13022,     0.13004,     0.12979,     0.12953,     0.12926,       0.129,     0.12874,\n",
       "             0.1273,     0.12718,     0.12705,     0.12693,      0.1268,     0.12668,     0.12655,     0.12642,      0.1263,     0.12617,     0.12402,     0.12338,     0.12312,     0.12285,     0.12259,     0.12233,     0.12125,     0.12098,     0.12098,     0.12098,     0.12098,     0.12098,     0.12098,\n",
       "            0.12098,     0.12035,     0.11903,      0.1184,      0.1184,      0.1184,      0.1184,     0.11629,     0.11369,     0.11326,     0.11312,     0.11246,     0.11186,     0.11142,     0.11098,     0.11062,     0.11045,     0.11027,      0.1101,     0.10992,     0.10974,     0.10957,      0.1094,\n",
       "             0.1094,      0.1094,      0.1094,      0.1094,      0.1094,     0.10911,     0.10867,     0.10823,     0.10682,     0.10643,      0.1059,      0.1054,     0.10496,     0.10452,     0.10374,     0.10296,     0.10296,     0.10296,     0.10296,     0.10295,     0.10229,     0.10159,     0.10015,\n",
       "           0.098703,    0.098043,    0.097526,    0.097087,    0.096647,    0.096525,    0.096525,    0.096525,    0.096525,    0.096525,    0.095238,     0.09503,     0.09479,     0.09455,     0.09431,     0.09407,    0.091282,    0.091094,    0.090905,    0.090717,    0.090528,     0.09034,    0.090151,\n",
       "           0.089645,    0.088985,    0.088803,    0.087344,    0.086685,    0.085821,    0.084942,    0.083826,    0.082507,      0.0822,    0.082011,    0.081823,    0.081634,    0.081446,    0.081257,    0.080995,    0.079764,    0.079435,    0.079105,    0.078775,    0.078507,    0.078507,    0.078507,\n",
       "           0.078507,    0.078507,    0.078507,    0.078507,    0.078507,    0.078507,    0.078507,    0.078507,    0.078335,    0.077958,    0.077581,    0.077198,     0.07667,    0.076143,    0.075827,    0.075651,    0.075475,    0.075299,    0.075124,    0.074948,    0.074772,    0.074269,    0.073359,\n",
       "           0.073359,    0.073359,    0.073359,    0.073359,    0.072752,    0.072093,     0.07122,    0.070341,    0.069488,    0.069248,    0.069008,    0.068768,    0.068529,    0.068289,    0.066701,    0.066371,    0.066041,    0.065712,     0.06553,    0.065391,    0.065252,    0.065113,    0.064974,\n",
       "           0.064835,    0.064696,    0.064558,    0.064419,    0.064016,    0.063357,     0.06288,     0.06255,    0.062221,    0.061891,    0.061585,    0.061292,    0.060999,    0.060705,    0.060436,    0.060233,     0.06003,    0.059827,    0.059624,    0.059421,    0.059218,    0.058392,    0.057764,\n",
       "           0.057434,    0.057105,    0.056775,    0.056445,    0.056115,    0.055785,    0.055456,    0.054997,    0.054469,     0.05349,    0.052671,    0.052539,    0.052407,    0.052276,    0.052144,    0.052012,     0.05188,    0.051748,    0.051616,    0.051484,    0.049996,    0.049793,     0.04959,\n",
       "           0.049387,    0.049184,    0.048981,    0.048629,     0.04819,     0.04775,    0.047387,    0.047058,    0.046728,    0.046398,    0.045804,    0.045145,    0.044725,    0.044348,    0.043971,    0.043376,    0.042497,    0.041959,    0.041431,    0.041057,    0.040817,    0.040577,    0.040337,\n",
       "           0.040097,     0.03861,    0.038108,    0.037242,    0.037128,    0.037013,    0.036898,    0.036784,    0.036669,    0.036554,    0.036439,    0.036325,     0.03621,    0.036095,    0.035854,    0.035477,      0.0351,    0.034688,    0.033809,    0.033196,    0.032756,    0.032316,    0.030888,\n",
       "           0.030888,    0.030888,    0.030888,    0.030888,    0.029832,    0.027879,    0.027351,    0.026518,    0.024657,    0.023062,    0.022822,    0.022582,    0.022342,    0.022102,    0.021864,    0.021644,    0.021424,    0.021204,    0.020984,    0.020764,    0.020592,    0.020592,    0.020195,\n",
       "           0.019667,    0.018478,     0.01785,    0.017647,    0.017445,    0.017242,    0.017039,    0.016836,    0.016678,    0.016568,    0.016458,    0.016348,    0.016238,    0.016128,    0.016018,    0.015908,    0.015798,    0.015688,    0.015578,    0.015468,     0.01476,    0.013991,    0.013464,\n",
       "           0.012936,    0.012614,     0.01232,    0.012027,    0.011734,    0.011532,    0.011426,    0.011321,    0.011215,     0.01111,    0.011004,    0.010899,    0.010793,    0.010688,    0.010582,    0.010476,    0.010371,    0.010105,   0.0094451,   0.0088302,   0.0083025,   0.0077748,   0.0074582,\n",
       "           0.007165,   0.0068719,   0.0065787,   0.0059867,   0.0050868,   0.0038593,   0.0038356,   0.0038118,    0.003788,   0.0037642,   0.0037405,   0.0037167,   0.0036929,   0.0036692,   0.0036454,   0.0036216,   0.0035979,   0.0035741,   0.0035503,   0.0035265,   0.0035028,    0.003479,   0.0034552,\n",
       "          0.0034315,   0.0034077,   0.0033839,   0.0033602,   0.0033364,   0.0033126,   0.0032889,   0.0032651,   0.0032413,   0.0032175,   0.0031938,     0.00317,   0.0031462,   0.0031225,   0.0030987,   0.0030749,   0.0030512,   0.0030274,   0.0030036,   0.0029798,   0.0029561,   0.0029323,   0.0029085,\n",
       "          0.0028848,    0.002861,   0.0028372,   0.0028135,   0.0027897,   0.0027659,   0.0027422,   0.0027184,   0.0026946,   0.0026708,   0.0026471,   0.0026233,   0.0025995,   0.0025758,   0.0023861,   0.0021832,   0.0019802,   0.0017772,   0.0015743,   0.0013713,           0,           0,           0,\n",
       "                  0,           0,           0,           0,           0,           0,           0,           0,           0,           0,           0,           0,           0,           0,           0,           0,           0,           0,           0,           0,           0,           0,           0,\n",
       "                  0,           0,           0,           0,           0,           0,           0,           0,           0,           0,           0]]), 'Confidence', 'Recall']]\n",
       "fitness: 0.1987064761747836\n",
       "keys: ['metrics/precision(B)', 'metrics/recall(B)', 'metrics/mAP50(B)', 'metrics/mAP50-95(B)']\n",
       "maps: array([    0.17568])\n",
       "names: {0: 'Pothole'}\n",
       "plot: True\n",
       "results_dict: {'metrics/precision(B)': 0.5039991715726033, 'metrics/recall(B)': 0.4263285164186065, 'metrics/mAP50(B)': 0.405928365447062, 'metrics/mAP50-95(B)': 0.1756818218111971, 'fitness': 0.1987064761747836}\n",
       "save_dir: PosixPath('runs/detect/train4')\n",
       "speed: {'preprocess': 0.26333630084991455, 'inference': 3.462502360343933, 'loss': 0.001087784767150879, 'postprocess': 4.235979914665222}\n",
       "task: 'detect'"
      ]
     },
     "execution_count": 8,
     "metadata": {},
     "output_type": "execute_result"
    }
   ],
   "source": [
    "model.train(\n",
    "    data='/content/drive/MyDrive/Colab Notebooks/ComputerVisionProject/Pothole_Dataset/data.yaml',\n",
    "    epochs=25,\n",
    "    batch=16\n",
    ")"
   ]
  },
  {
   "cell_type": "markdown",
   "metadata": {
    "id": "iR2r8h9StqTP"
   },
   "source": [
    "## Deploy the Model"
   ]
  },
  {
   "cell_type": "code",
   "execution_count": null,
   "metadata": {
    "colab": {
     "base_uri": "https://localhost:8080/",
     "height": 851
    },
    "executionInfo": {
     "elapsed": 21089,
     "status": "ok",
     "timestamp": 1736107310462,
     "user": {
      "displayName": "Tharushi Liyana Arachchi",
      "userId": "18072524777631496934"
     },
     "user_tz": -330
    },
    "id": "t33kN1Fzm9HH",
    "outputId": "a58caa0e-7771-4287-90d1-f5f2babcbccf"
   },
   "outputs": [
    {
     "name": "stdout",
     "output_type": "stream",
     "text": [
      "Ultralytics 8.3.58 🚀 Python-3.10.12 torch-2.5.1+cu121 CPU (Intel Xeon 2.00GHz)\n",
      "Model summary (fused): 168 layers, 3,005,843 parameters, 0 gradients, 8.1 GFLOPs\n",
      "\n",
      "\u001b[34m\u001b[1mPyTorch:\u001b[0m starting from 'runs/detect/train4/weights/best.pt' with input shape (1, 3, 640, 640) BCHW and output shape(s) (1, 5, 8400) (6.0 MB)\n",
      "\u001b[31m\u001b[1mrequirements:\u001b[0m Ultralytics requirements ['onnx>=1.12.0', 'onnxslim', 'onnxruntime-gpu'] not found, attempting AutoUpdate...\n",
      "Collecting onnx>=1.12.0\n",
      "  Downloading onnx-1.17.0-cp310-cp310-manylinux_2_17_x86_64.manylinux2014_x86_64.whl.metadata (16 kB)\n",
      "Collecting onnxslim\n",
      "  Downloading onnxslim-0.1.46-py3-none-any.whl.metadata (4.4 kB)\n",
      "Collecting onnxruntime-gpu\n",
      "  Downloading onnxruntime_gpu-1.20.1-cp310-cp310-manylinux_2_27_x86_64.manylinux_2_28_x86_64.whl.metadata (4.5 kB)\n",
      "Requirement already satisfied: numpy>=1.20 in /usr/local/lib/python3.10/dist-packages (from onnx>=1.12.0) (1.26.4)\n",
      "Requirement already satisfied: protobuf>=3.20.2 in /usr/local/lib/python3.10/dist-packages (from onnx>=1.12.0) (4.25.5)\n",
      "Requirement already satisfied: sympy in /usr/local/lib/python3.10/dist-packages (from onnxslim) (1.13.1)\n",
      "Requirement already satisfied: packaging in /usr/local/lib/python3.10/dist-packages (from onnxslim) (24.2)\n",
      "Collecting coloredlogs (from onnxruntime-gpu)\n",
      "  Downloading coloredlogs-15.0.1-py2.py3-none-any.whl.metadata (12 kB)\n",
      "Requirement already satisfied: flatbuffers in /usr/local/lib/python3.10/dist-packages (from onnxruntime-gpu) (24.3.25)\n",
      "Collecting humanfriendly>=9.1 (from coloredlogs->onnxruntime-gpu)\n",
      "  Downloading humanfriendly-10.0-py2.py3-none-any.whl.metadata (9.2 kB)\n",
      "Requirement already satisfied: mpmath<1.4,>=1.1.0 in /usr/local/lib/python3.10/dist-packages (from sympy->onnxslim) (1.3.0)\n",
      "Downloading onnx-1.17.0-cp310-cp310-manylinux_2_17_x86_64.manylinux2014_x86_64.whl (16.0 MB)\n",
      "   ━━━━━━━━━━━━━━━━━━━━━━━━━━━━━━━━━━━━━━━━ 16.0/16.0 MB 249.5 MB/s eta 0:00:00\n",
      "Downloading onnxslim-0.1.46-py3-none-any.whl (142 kB)\n",
      "   ━━━━━━━━━━━━━━━━━━━━━━━━━━━━━━━━━━━━━━━━ 142.6/142.6 kB 303.5 MB/s eta 0:00:00\n",
      "Downloading onnxruntime_gpu-1.20.1-cp310-cp310-manylinux_2_27_x86_64.manylinux_2_28_x86_64.whl (291.5 MB)\n",
      "   ━━━━━━━━━━━━━━━━━━━━━━━━━━━━━━━━━━━━━━━━ 291.5/291.5 MB 177.6 MB/s eta 0:00:00\n",
      "Downloading coloredlogs-15.0.1-py2.py3-none-any.whl (46 kB)\n",
      "   ━━━━━━━━━━━━━━━━━━━━━━━━━━━━━━━━━━━━━━━━ 46.0/46.0 kB 157.7 MB/s eta 0:00:00\n",
      "Downloading humanfriendly-10.0-py2.py3-none-any.whl (86 kB)\n",
      "   ━━━━━━━━━━━━━━━━━━━━━━━━━━━━━━━━━━━━━━━━ 86.8/86.8 kB 180.3 MB/s eta 0:00:00\n",
      "Installing collected packages: onnx, humanfriendly, onnxslim, coloredlogs, onnxruntime-gpu\n",
      "Successfully installed coloredlogs-15.0.1 humanfriendly-10.0 onnx-1.17.0 onnxruntime-gpu-1.20.1 onnxslim-0.1.46\n",
      "\n",
      "\u001b[31m\u001b[1mrequirements:\u001b[0m AutoUpdate success ✅ 18.9s, installed 3 packages: ['onnx>=1.12.0', 'onnxslim', 'onnxruntime-gpu']\n",
      "\u001b[31m\u001b[1mrequirements:\u001b[0m ⚠️ \u001b[1mRestart runtime or rerun command for updates to take effect\u001b[0m\n",
      "\n",
      "\n",
      "\u001b[34m\u001b[1mONNX:\u001b[0m starting export with onnx 1.17.0 opset 19...\n",
      "\u001b[34m\u001b[1mONNX:\u001b[0m slimming with onnxslim 0.1.46...\n",
      "\u001b[34m\u001b[1mONNX:\u001b[0m export success ✅ 20.2s, saved as 'runs/detect/train4/weights/best.onnx' (11.7 MB)\n",
      "\n",
      "Export complete (22.0s)\n",
      "Results saved to \u001b[1m/content/drive/MyDrive/Colab Notebooks/ComputerVisionProject/Pothole_Dataset/runs/detect/train4/weights\u001b[0m\n",
      "Predict:         yolo predict task=detect model=runs/detect/train4/weights/best.onnx imgsz=640  \n",
      "Validate:        yolo val task=detect model=runs/detect/train4/weights/best.onnx imgsz=640 data=/content/drive/MyDrive/Colab Notebooks/ComputerVisionProject/Pothole_Dataset/data.yaml  \n",
      "Visualize:       https://netron.app\n"
     ]
    },
    {
     "data": {
      "application/vnd.google.colaboratory.intrinsic+json": {
       "type": "string"
      },
      "text/plain": [
       "'runs/detect/train4/weights/best.onnx'"
      ]
     },
     "execution_count": 9,
     "metadata": {},
     "output_type": "execute_result"
    }
   ],
   "source": [
    "model.export(format='onnx')"
   ]
  },
  {
   "cell_type": "code",
   "execution_count": null,
   "metadata": {
    "colab": {
     "base_uri": "https://localhost:8080/"
    },
    "executionInfo": {
     "elapsed": 15800,
     "status": "ok",
     "timestamp": 1736138673207,
     "user": {
      "displayName": "Tharushi Liyana Arachchi",
      "userId": "18072524777631496934"
     },
     "user_tz": -330
    },
    "id": "RhEOqxJ_7JkF",
    "outputId": "5c31bc55-bbff-420f-97d0-626256dc3766"
   },
   "outputs": [
    {
     "name": "stdout",
     "output_type": "stream",
     "text": [
      "Collecting onnxruntime\n",
      "  Downloading onnxruntime-1.20.1-cp310-cp310-manylinux_2_27_x86_64.manylinux_2_28_x86_64.whl.metadata (4.5 kB)\n",
      "Collecting coloredlogs (from onnxruntime)\n",
      "  Downloading coloredlogs-15.0.1-py2.py3-none-any.whl.metadata (12 kB)\n",
      "Requirement already satisfied: flatbuffers in /usr/local/lib/python3.10/dist-packages (from onnxruntime) (24.3.25)\n",
      "Requirement already satisfied: numpy>=1.21.6 in /usr/local/lib/python3.10/dist-packages (from onnxruntime) (1.26.4)\n",
      "Requirement already satisfied: packaging in /usr/local/lib/python3.10/dist-packages (from onnxruntime) (24.2)\n",
      "Requirement already satisfied: protobuf in /usr/local/lib/python3.10/dist-packages (from onnxruntime) (4.25.5)\n",
      "Requirement already satisfied: sympy in /usr/local/lib/python3.10/dist-packages (from onnxruntime) (1.13.1)\n",
      "Collecting humanfriendly>=9.1 (from coloredlogs->onnxruntime)\n",
      "  Downloading humanfriendly-10.0-py2.py3-none-any.whl.metadata (9.2 kB)\n",
      "Requirement already satisfied: mpmath<1.4,>=1.1.0 in /usr/local/lib/python3.10/dist-packages (from sympy->onnxruntime) (1.3.0)\n",
      "Downloading onnxruntime-1.20.1-cp310-cp310-manylinux_2_27_x86_64.manylinux_2_28_x86_64.whl (13.3 MB)\n",
      "\u001b[2K   \u001b[90m━━━━━━━━━━━━━━━━━━━━━━━━━━━━━━━━━━━━━━━━\u001b[0m \u001b[32m13.3/13.3 MB\u001b[0m \u001b[31m20.1 MB/s\u001b[0m eta \u001b[36m0:00:00\u001b[0m\n",
      "\u001b[?25hDownloading coloredlogs-15.0.1-py2.py3-none-any.whl (46 kB)\n",
      "\u001b[2K   \u001b[90m━━━━━━━━━━━━━━━━━━━━━━━━━━━━━━━━━━━━━━━━\u001b[0m \u001b[32m46.0/46.0 kB\u001b[0m \u001b[31m1.5 MB/s\u001b[0m eta \u001b[36m0:00:00\u001b[0m\n",
      "\u001b[?25hDownloading humanfriendly-10.0-py2.py3-none-any.whl (86 kB)\n",
      "\u001b[2K   \u001b[90m━━━━━━━━━━━━━━━━━━━━━━━━━━━━━━━━━━━━━━━━\u001b[0m \u001b[32m86.8/86.8 kB\u001b[0m \u001b[31m4.9 MB/s\u001b[0m eta \u001b[36m0:00:00\u001b[0m\n",
      "\u001b[?25hInstalling collected packages: humanfriendly, coloredlogs, onnxruntime\n",
      "Successfully installed coloredlogs-15.0.1 humanfriendly-10.0 onnxruntime-1.20.1\n"
     ]
    }
   ],
   "source": [
    "pip install onnxruntime"
   ]
  },
  {
   "cell_type": "markdown",
   "metadata": {
    "id": "IWi8oDHt767m"
   },
   "source": [
    "## Test the ONNX Model"
   ]
  },
  {
   "cell_type": "code",
   "execution_count": null,
   "metadata": {
    "colab": {
     "base_uri": "https://localhost:8080/"
    },
    "executionInfo": {
     "elapsed": 2855,
     "status": "ok",
     "timestamp": 1736139003318,
     "user": {
      "displayName": "Tharushi Liyana Arachchi",
      "userId": "18072524777631496934"
     },
     "user_tz": -330
    },
    "id": "y6ViVbm978zU",
    "outputId": "422d5fd2-e0c9-4139-9feb-c6e898527aa6"
   },
   "outputs": [
    {
     "name": "stdout",
     "output_type": "stream",
     "text": [
      "[array([[[7.10077095e+00, 1.27044077e+01, 2.77499218e+01, ...,\n",
      "         5.43945190e+02, 5.77663208e+02, 6.21884766e+02],\n",
      "        [4.22258806e+00, 5.23410988e+00, 1.57469797e+01, ...,\n",
      "         6.24039795e+02, 6.28625732e+02, 6.27892029e+02],\n",
      "        [1.44993420e+01, 2.49795437e+01, 5.76849403e+01, ...,\n",
      "         2.03851746e+02, 1.98930267e+02, 2.00800842e+02],\n",
      "        [1.04928236e+01, 1.15192719e+01, 3.38495941e+01, ...,\n",
      "         2.00577332e+02, 2.18184998e+02, 2.35045044e+02],\n",
      "        [1.66893005e-04, 1.01059675e-04, 1.49756670e-04, ...,\n",
      "         5.82665205e-04, 6.58035278e-04, 9.06288624e-04]]], dtype=float32)]\n"
     ]
    }
   ],
   "source": [
    "import onnxruntime as ort\n",
    "import cv2\n",
    "import numpy as np\n",
    "\n",
    "# Path to the ONNX model\n",
    "onnx_path = '/content/drive/MyDrive/Colab Notebooks/ComputerVisionProject/Pothole_Dataset/runs/detect/train4/weights/best.onnx'\n",
    "ort_session = ort.InferenceSession(onnx_path)\n",
    "\n",
    "# Path to the test image\n",
    "img_path = '/content/drive/MyDrive/Colab Notebooks/ComputerVisionProject/Pothole_Dataset/test/images/438_jpg.rf.a285aa02fc3f286de8b11b8704967079.jpg'\n",
    "image = cv2.imread(img_path)\n",
    "\n",
    "# Preprocess the image\n",
    "resized = cv2.resize(image, (640, 640))  # Resize to model input size\n",
    "input_image = resized.transpose(2, 0, 1).astype(np.float32) / 255.0  # Normalize and rearrange to CHW\n",
    "input_image = np.expand_dims(input_image, axis=0)  # Add batch dimension\n",
    "\n",
    "# Run inference\n",
    "outputs = ort_session.run(None, {'images': input_image})\n",
    "\n",
    "# Print the outputs\n",
    "print(outputs)"
   ]
  }
 ],
 "metadata": {
  "accelerator": "GPU",
  "colab": {
   "gpuType": "T4",
   "provenance": []
  },
  "kernelspec": {
   "display_name": "Python 3",
   "name": "python3"
  },
  "language_info": {
   "name": "python"
  }
 },
 "nbformat": 4,
 "nbformat_minor": 0
}
